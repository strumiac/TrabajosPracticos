{
  "nbformat": 4,
  "nbformat_minor": 0,
  "metadata": {
    "colab": {
      "name": "AMIA Guía 4 Problema 5.ipynb",
      "provenance": []
    },
    "kernelspec": {
      "name": "python3",
      "display_name": "Python 3"
    },
    "language_info": {
      "name": "python"
    }
  },
  "cells": [
    {
      "cell_type": "code",
      "execution_count": 1,
      "metadata": {
        "colab": {
          "base_uri": "https://localhost:8080/"
        },
        "id": "ZWz2MUq8HYUl",
        "outputId": "14a61fc1-414c-4989-c112-5557b2441b6d"
      },
      "outputs": [
        {
          "output_type": "stream",
          "name": "stdout",
          "text": [
            "dJ/dW2:\n",
            " [[-0.91934997]\n",
            " [-0.99759983]\n",
            " [-0.93925616]]\n",
            "dJ/dW1:\n",
            " [[ 0.15619246 -0.2950302 ]\n",
            " [-0.07563349  0.14286327]\n",
            " [ 0.19369761 -0.36587325]]\n",
            "dJ/db2:\n",
            " [[-1.04628392]]\n",
            "dJ/db1:\n",
            " [[ 0.08677359]\n",
            " [-0.04201861]\n",
            " [ 0.10760978]]\n"
          ]
        }
      ],
      "source": [
        "import numpy as np\n",
        "\n",
        "#sigmoide\n",
        "def sigmoide(t):\n",
        "    sig = 1 / (1 + np.exp(-t))\n",
        "    return sig\n",
        "\n",
        "def deriv_sigmoide(t):\n",
        "    der_sig = sigmoide(t) * (1 - sigmoide(t))\n",
        "    return der_sig\n",
        "\n",
        "#datos del problema\n",
        "W1=np.array([[0.1,-0.5],[-0.3,-0.9],[0.8,0.02]])\n",
        "b1=np.array([[0.1],[0.5],[0.8]])\n",
        "W2=np.array([[-0.4,0.2,-0.5]])\n",
        "b2=np.array([[0.7]])\n",
        "x=np.array([[1.8],[-3.4]])\n",
        "y=np.array([[5]])\n",
        "\n",
        "#salidas de cada capa\n",
        "y1 = sigmoide (W1 @ x + b1)\n",
        "y2 = sigmoide (W2 @ y1 + b2)\n",
        "#derivada del error\n",
        "dY = y2 - y\n",
        "#derivada respecto a los parámetros W y b\n",
        "dW2 = dY * deriv_sigmoide(y2) * y1\n",
        "dW1 = dY * deriv_sigmoide(y2) * W2.T * deriv_sigmoide(y1) @ x.T\n",
        "db2 = dY * deriv_sigmoide(y2)\n",
        "db1 = dY * deriv_sigmoide(y2) * W2.T * deriv_sigmoide(y1)\n",
        "\n",
        "#imprimo resultados\n",
        "print (\"dJ/dW2:\\n\",dW2)\n",
        "print (\"dJ/dW1:\\n\",dW1)\n",
        "print (\"dJ/db2:\\n\",db2)\n",
        "print (\"dJ/db1:\\n\",db1)\n",
        "\n"
      ]
    }
  ]
}