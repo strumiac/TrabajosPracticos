{
  "nbformat": 4,
  "nbformat_minor": 0,
  "metadata": {
    "colab": {
      "name": "Examen PEIA Carlos Strumia.ipynb",
      "provenance": [],
      "collapsed_sections": []
    },
    "kernelspec": {
      "name": "python3",
      "display_name": "Python 3"
    },
    "language_info": {
      "name": "python"
    }
  },
  "cells": [
    {
      "cell_type": "markdown",
      "metadata": {
        "id": "BqE6QeRd0Ho2"
      },
      "source": [
        "Problema 1)c)"
      ]
    },
    {
      "cell_type": "code",
      "metadata": {
        "id": "NKNI2vqf0BZU",
        "colab": {
          "base_uri": "https://localhost:8080/",
          "height": 269
        },
        "outputId": "b2966a62-5c18-4071-ebe4-4c2d07ad472b"
      },
      "source": [
        "import numpy as np\n",
        "import seaborn as sns\n",
        "import matplotlib.pyplot as plt\n",
        "\n",
        "u = np.random.rand(500) # Uniforme(0,1)\n",
        "x = np.sqrt(u)*3 # x=h(u)\n",
        "\n",
        "#verificación\n",
        "t = np.linspace(0,3,100) # pongo el nombre t al vector para evitar confusión\n",
        "F = np.power(t,2)/9\n",
        "sns.ecdfplot(x)\n",
        "sns.lineplot(x=t,y=F)\n",
        "plt.show()"
      ],
      "execution_count": 14,
      "outputs": [
        {
          "output_type": "display_data",
          "data": {
            "image/png": "[encoded data removed]",
            "text/plain": [
              "<Figure size 432x288 with 1 Axes>"
            ]
          },
          "metadata": {
            "needs_background": "light"
          }
        }
      ]
    },
    {
      "cell_type": "markdown",
      "metadata": {
        "id": "QrNgeAF8OD6E"
      },
      "source": [
        "Problema 1)d)"
      ]
    },
    {
      "cell_type": "code",
      "metadata": {
        "id": "RumEjgDIOJ0u",
        "colab": {
          "base_uri": "https://localhost:8080/",
          "height": 264
        },
        "outputId": "9bf6ef38-c06e-43c7-b1b7-11b6f4831ca1"
      },
      "source": [
        "sns.histplot(x,kde=True,stat='density')\n",
        "plt.show()"
      ],
      "execution_count": null,
      "outputs": [
        {
          "output_type": "display_data",
          "data": {
            "image/png": "[encoded data removed]",
            "text/plain": [
              "<Figure size 432x288 with 1 Axes>"
            ]
          },
          "metadata": {
            "needs_background": "light"
          }
        }
      ]
    },
    {
      "cell_type": "markdown",
      "metadata": {
        "id": "UbKxWoMrvwbN"
      },
      "source": [
        "Problema 2) (Bonus)"
      ]
    },
    {
      "cell_type": "code",
      "metadata": {
        "colab": {
          "base_uri": "https://localhost:8080/"
        },
        "id": "zNhGbq3Mv1Re",
        "outputId": "6b3f13ef-2b0a-4a24-dc98-f5baa497d8f6"
      },
      "source": [
        "import numpy as np\n",
        "import scipy.stats as stats\n",
        "\n",
        "#p_1 indica la proba de emitir un 1 y recibir un 1\n",
        "#p_0 indica la proba de emitir un 1 y recibir un 0\n",
        "p_1=2089/2090\n",
        "p_0=1/2090\n",
        "envio_1=95\n",
        "nsimu=5000\n",
        "lee_1=0\n",
        "\n",
        "teorico=p_0 #0.95*p_0\n",
        "\n",
        "for i in range(nsimu):\n",
        "  np.random.seed()\n",
        "  simu = stats.binom.rvs(n=1,p=p_1,size=envio_1)\n",
        "  #print (simu)\n",
        "  lee_1=lee_1+np.count_nonzero(simu == 1)\n",
        "\n",
        "proba=lee_1/(envio_1*nsimu)\n",
        "print (\"Proba simulada: \", 1-proba)\n",
        "print (\"Proba teórica: \", teorico)"
      ],
      "execution_count": 13,
      "outputs": [
        {
          "output_type": "stream",
          "name": "stdout",
          "text": [
            "Proba simulada:  0.00048631578947366805\n",
            "Proba teórica:  0.0004784688995215311\n"
          ]
        }
      ]
    },
    {
      "cell_type": "markdown",
      "metadata": {
        "id": "3DrkL-CeoE5C"
      },
      "source": [
        "Problema 3)"
      ]
    },
    {
      "cell_type": "code",
      "metadata": {
        "id": "OC8hFeaYoFeZ",
        "colab": {
          "base_uri": "https://localhost:8080/"
        },
        "outputId": "34eae374-b9bb-4dee-f104-de3c4dd6e841"
      },
      "source": [
        "import numpy as np\n",
        "import scipy.stats as stats\n",
        "\n",
        "print ('X: tiempo en reposo por fractura de cadera (días)')\n",
        "# datos\n",
        "x_promedio=33\n",
        "s=8.5\n",
        "n=36\n",
        "z_0975=stats.norm.ppf(0.975)\n",
        "#print (z_0975) # z_0975=1.96\n",
        "\n",
        "\n",
        "IC0=-z_0975*s*(1/np.sqrt(n)) + x_promedio\n",
        "IC1= z_0975*s*(1/np.sqrt(n)) + x_promedio\n",
        "print('IC (95%) =(',IC0,', ', IC1,')')\n",
        "\n",
        "print ('Con un nivel de confianza del 95%, el promedio de tiempo en reposo por fractura de cadera estuvo entre 30.22 y 35.77 días')"
      ],
      "execution_count": null,
      "outputs": [
        {
          "output_type": "stream",
          "name": "stdout",
          "text": [
            "X: tiempo en reposo por fractura de cadera (días)\n",
            "1.959963984540054\n",
            "IC (95%) =( 30.223384355234924 ,  35.77661564476507 )\n",
            "Con un nivel de confianza del 95%, el promedio de tiempo en reposo por fractura de cadera estuvo entre 30.22 y 35.77 días\n"
          ]
        }
      ]
    },
    {
      "cell_type": "markdown",
      "metadata": {
        "id": "qyeNzraa6HV2"
      },
      "source": [
        "Problema 4)\n",
        "\n",
        "$\\mu$ = tiempo medio de sueño (horas)\n",
        "\n",
        "$H_{1} = $ el nuevo fármaco produce más horas de sueño $(\\mu > 8)$\n",
        "\n",
        "$H_{0} = $ si no $(\\mu \\leq 8)$"
      ]
    },
    {
      "cell_type": "code",
      "metadata": {
        "colab": {
          "base_uri": "https://localhost:8080/"
        },
        "id": "TONeMz2b6M8C",
        "outputId": "c8b67f2c-c7d0-42a5-aff3-39b50fc63388"
      },
      "source": [
        "import numpy as np\n",
        "import scipy.stats as stats\n",
        "\n",
        "x_promedio=9\n",
        "n=81\n",
        "mu=8\n",
        "sigma2=4\n",
        "alfa=0.05 # nivel de significancia\n",
        "\n",
        "Z=(x_promedio-mu)/(np.sqrt(sigma2/n))\n",
        "z_095=stats.norm.ppf(1-alfa)\n",
        "\n",
        "if (Z > z_095):\n",
        "  print (\"Debido a que el valor observado de Z se encuentra en la región de rechazo (Z = \",Z,\"es mayor a z_095 = \",z_095,\") rechazo la H0 y valido H1.\")\n",
        "  print (\"Con un nivel de significancia de \",alfa,\" la evidencia es suficiente para indicar que el nuevo fármaco produce más horas de sueño.\")\n",
        "else:\n",
        "  print (\"No hay evidencia suficiente para rechazar la H0.\")\n",
        "\n",
        "# p-valor: P(Z > 4.5) = 1 - P(Z < 4.5)\n",
        "p_valor = 1 - stats.norm.cdf(Z)\n",
        "\n",
        "if (p_valor < alfa):\n",
        "  print (\"Como p-valor (\",p_valor,\") es menor a alfa (\",alfa,\") se rechaza H0.\")\n",
        "else:\n",
        "  print (\"Como p-valor (\",p_valor,\") es mayor a alfa (\",alfa,\"), NO hay evidencia suficiente para rechazar la H0.\")"
      ],
      "execution_count": 12,
      "outputs": [
        {
          "output_type": "stream",
          "name": "stdout",
          "text": [
            "Debido a que el valor observado de Z se encuentra en la región de rechazo (Z =  4.5 es mayor a z_095 =  1.6448536269514722 ) rechazo la H0 y valido H1.\n",
            "Con un nivel de significancia de  0.05  la evidencia es suficiente para indicar que el nuevo fármaco produce más horas de sueño.\n",
            "Como p-valor ( 3.3976731247387093e-06 ) es menor a alfa ( 0.05 ) se rechaza H0.\n"
          ]
        }
      ]
    }
  ]
}