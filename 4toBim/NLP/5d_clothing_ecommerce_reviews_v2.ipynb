{
  "nbformat": 4,
  "nbformat_minor": 0,
  "metadata": {
    "colab": {
      "name": "5d_clothing_ecommerce_reviews_v2.ipynb",
      "provenance": [],
      "collapsed_sections": []
    },
    "kernelspec": {
      "name": "python3",
      "display_name": "Python 3"
    },
    "language_info": {
      "name": "python"
    },
    "gpuClass": "standard"
  },
  "cells": [
    {
      "cell_type": "markdown",
      "metadata": {
        "id": "kBLpTr7plguX"
      },
      "source": [
        "<img src=\"https://github.com/hernancontigiani/ceia_memorias_especializacion/raw/master/Figures/logoFIUBA.jpg\" width=\"500\" align=\"center\">\n",
        "\n",
        "\n",
        "# Procesamiento de lenguaje natural\n",
        "## Sentiment analysis con Embeddings + LSTM"
      ]
    },
    {
      "cell_type": "markdown",
      "metadata": {
        "id": "9W6nuajhlqZD"
      },
      "source": [
        "### Objetivo\n",
        "El objetivo es utilizar las críticas de compradores de ropa para que el sistema determine la evaluación del comprador y su crítica (cuantas estrellas le asigna al producto)."
      ]
    },
    {
      "cell_type": "code",
      "source": [
        "!pip install --upgrade --no-cache-dir gdown --quiet"
      ],
      "metadata": {
        "id": "i6zvzv3qZ6xS",
        "colab": {
          "base_uri": "https://localhost:8080/"
        },
        "outputId": "3312e0d8-ec4a-45a8-a354-5b0d9a051c6b"
      },
      "execution_count": null,
      "outputs": [
        {
          "output_type": "stream",
          "name": "stdout",
          "text": [
            "  Installing build dependencies ... \u001b[?25l\u001b[?25hdone\n",
            "  Getting requirements to build wheel ... \u001b[?25l\u001b[?25hdone\n",
            "    Preparing wheel metadata ... \u001b[?25l\u001b[?25hdone\n",
            "  Building wheel for gdown (PEP 517) ... \u001b[?25l\u001b[?25hdone\n"
          ]
        }
      ]
    },
    {
      "cell_type": "code",
      "metadata": {
        "id": "hCpOVzJdl8_p"
      },
      "source": [
        "import numpy as np\n",
        "import random\n",
        "import io\n",
        "import pickle\n",
        "import pandas as pd\n",
        "\n",
        "import matplotlib.pyplot as plt\n",
        "import seaborn as sns\n",
        "\n",
        "from tensorflow import keras\n",
        "from tensorflow.keras import layers\n",
        "\n",
        "from keras.utils.np_utils import to_categorical\n",
        "from keras.preprocessing.sequence import pad_sequences\n",
        "from keras.models import Sequential\n",
        "from keras.layers import Dense\n",
        "from keras.layers import LSTM\n",
        "from keras.layers import Embedding"
      ],
      "execution_count": null,
      "outputs": []
    },
    {
      "cell_type": "markdown",
      "metadata": {
        "id": "8UPeRkrAmbF3"
      },
      "source": [
        "### Datos\n",
        "Utilizaremos como dataset críticas de compradores de ropa (eCommerce) los cuales puntuaron a cada prenda con un puntaje de 1 a 5 estrellas.\\\n",
        "Referencia del dataset: [LINK](https://www.kaggle.com/nicapotato/womens-ecommerce-clothing-reviews/version/1)"
      ]
    },
    {
      "cell_type": "code",
      "metadata": {
        "id": "C7jLvTU3lSyL",
        "colab": {
          "base_uri": "https://localhost:8080/"
        },
        "outputId": "16407b87-1427-4fd8-c0f9-a62ddfb01f68"
      },
      "source": [
        "# Descargar la carpeta de dataset\n",
        "import os\n",
        "import gdown\n",
        "if os.access('clothing_ecommerce_reviews.csv', os.F_OK) is False:\n",
        "    url = 'https://drive.google.com/uc?id=1k2Dz4oY5uxI3JEaT6m-L2T2HvLkECYIP'\n",
        "    output = 'clothing_ecommerce_reviews.csv'\n",
        "    gdown.download(url, output, quiet=False)\n",
        "else:\n",
        "    print(\"El dataset ya se encuentra descargado\")"
      ],
      "execution_count": null,
      "outputs": [
        {
          "output_type": "stream",
          "name": "stderr",
          "text": [
            "Downloading...\n",
            "From: https://drive.google.com/uc?id=1k2Dz4oY5uxI3JEaT6m-L2T2HvLkECYIP\n",
            "To: /content/clothing_ecommerce_reviews.csv\n",
            "100%|██████████| 8.48M/8.48M [00:00<00:00, 31.1MB/s]\n"
          ]
        }
      ]
    },
    {
      "cell_type": "code",
      "metadata": {
        "id": "o-SV1P3dnD1J",
        "colab": {
          "base_uri": "https://localhost:8080/",
          "height": 206
        },
        "outputId": "bd50c383-a0be-4bf3-e29e-9605cd90bf1d"
      },
      "source": [
        "# Armar el dataset\n",
        "df = pd.read_csv('clothing_ecommerce_reviews.csv')\n",
        "df.drop(columns = ['Unnamed: 0'], inplace = True)\n",
        "df.head()"
      ],
      "execution_count": null,
      "outputs": [
        {
          "output_type": "execute_result",
          "data": {
            "text/plain": [
              "   Clothing ID  Age                    Title  \\\n",
              "0          767   33                      NaN   \n",
              "1         1080   34                      NaN   \n",
              "2         1077   60  Some major design flaws   \n",
              "3         1049   50         My favorite buy!   \n",
              "4          847   47         Flattering shirt   \n",
              "\n",
              "                                         Review Text  Rating  Recommended IND  \\\n",
              "0  Absolutely wonderful - silky and sexy and comf...       4                1   \n",
              "1  Love this dress!  it's sooo pretty.  i happene...       5                1   \n",
              "2  I had such high hopes for this dress and reall...       3                0   \n",
              "3  I love, love, love this jumpsuit. it's fun, fl...       5                1   \n",
              "4  This shirt is very flattering to all due to th...       5                1   \n",
              "\n",
              "   Positive Feedback Count   Division Name Department Name Class Name  \n",
              "0                        0       Initmates        Intimate  Intimates  \n",
              "1                        4         General         Dresses    Dresses  \n",
              "2                        0         General         Dresses    Dresses  \n",
              "3                        0  General Petite         Bottoms      Pants  \n",
              "4                        6         General            Tops    Blouses  "
            ],
            "text/html": [
              "\n",
              "  <div id=\"df-e29b9c7c-c274-43cb-81f0-58e99afe511f\">\n",
              "    <div class=\"colab-df-container\">\n",
              "      <div>\n",
              "<style scoped>\n",
              "    .dataframe tbody tr th:only-of-type {\n",
              "        vertical-align: middle;\n",
              "    }\n",
              "\n",
              "    .dataframe tbody tr th {\n",
              "        vertical-align: top;\n",
              "    }\n",
              "\n",
              "    .dataframe thead th {\n",
              "        text-align: right;\n",
              "    }\n",
              "</style>\n",
              "<table border=\"1\" class=\"dataframe\">\n",
              "  <thead>\n",
              "    <tr style=\"text-align: right;\">\n",
              "      <th></th>\n",
              "      <th>Clothing ID</th>\n",
              "      <th>Age</th>\n",
              "      <th>Title</th>\n",
              "      <th>Review Text</th>\n",
              "      <th>Rating</th>\n",
              "      <th>Recommended IND</th>\n",
              "      <th>Positive Feedback Count</th>\n",
              "      <th>Division Name</th>\n",
              "      <th>Department Name</th>\n",
              "      <th>Class Name</th>\n",
              "    </tr>\n",
              "  </thead>\n",
              "  <tbody>\n",
              "    <tr>\n",
              "      <th>0</th>\n",
              "      <td>767</td>\n",
              "      <td>33</td>\n",
              "      <td>NaN</td>\n",
              "      <td>Absolutely wonderful - silky and sexy and comf...</td>\n",
              "      <td>4</td>\n",
              "      <td>1</td>\n",
              "      <td>0</td>\n",
              "      <td>Initmates</td>\n",
              "      <td>Intimate</td>\n",
              "      <td>Intimates</td>\n",
              "    </tr>\n",
              "    <tr>\n",
              "      <th>1</th>\n",
              "      <td>1080</td>\n",
              "      <td>34</td>\n",
              "      <td>NaN</td>\n",
              "      <td>Love this dress!  it's sooo pretty.  i happene...</td>\n",
              "      <td>5</td>\n",
              "      <td>1</td>\n",
              "      <td>4</td>\n",
              "      <td>General</td>\n",
              "      <td>Dresses</td>\n",
              "      <td>Dresses</td>\n",
              "    </tr>\n",
              "    <tr>\n",
              "      <th>2</th>\n",
              "      <td>1077</td>\n",
              "      <td>60</td>\n",
              "      <td>Some major design flaws</td>\n",
              "      <td>I had such high hopes for this dress and reall...</td>\n",
              "      <td>3</td>\n",
              "      <td>0</td>\n",
              "      <td>0</td>\n",
              "      <td>General</td>\n",
              "      <td>Dresses</td>\n",
              "      <td>Dresses</td>\n",
              "    </tr>\n",
              "    <tr>\n",
              "      <th>3</th>\n",
              "      <td>1049</td>\n",
              "      <td>50</td>\n",
              "      <td>My favorite buy!</td>\n",
              "      <td>I love, love, love this jumpsuit. it's fun, fl...</td>\n",
              "      <td>5</td>\n",
              "      <td>1</td>\n",
              "      <td>0</td>\n",
              "      <td>General Petite</td>\n",
              "      <td>Bottoms</td>\n",
              "      <td>Pants</td>\n",
              "    </tr>\n",
              "    <tr>\n",
              "      <th>4</th>\n",
              "      <td>847</td>\n",
              "      <td>47</td>\n",
              "      <td>Flattering shirt</td>\n",
              "      <td>This shirt is very flattering to all due to th...</td>\n",
              "      <td>5</td>\n",
              "      <td>1</td>\n",
              "      <td>6</td>\n",
              "      <td>General</td>\n",
              "      <td>Tops</td>\n",
              "      <td>Blouses</td>\n",
              "    </tr>\n",
              "  </tbody>\n",
              "</table>\n",
              "</div>\n",
              "      <button class=\"colab-df-convert\" onclick=\"convertToInteractive('df-e29b9c7c-c274-43cb-81f0-58e99afe511f')\"\n",
              "              title=\"Convert this dataframe to an interactive table.\"\n",
              "              style=\"display:none;\">\n",
              "        \n",
              "  <svg xmlns=\"http://www.w3.org/2000/svg\" height=\"24px\"viewBox=\"0 0 24 24\"\n",
              "       width=\"24px\">\n",
              "    <path d=\"M0 0h24v24H0V0z\" fill=\"none\"/>\n",
              "    <path d=\"M18.56 5.44l.94 2.06.94-2.06 2.06-.94-2.06-.94-.94-2.06-.94 2.06-2.06.94zm-11 1L8.5 8.5l.94-2.06 2.06-.94-2.06-.94L8.5 2.5l-.94 2.06-2.06.94zm10 10l.94 2.06.94-2.06 2.06-.94-2.06-.94-.94-2.06-.94 2.06-2.06.94z\"/><path d=\"M17.41 7.96l-1.37-1.37c-.4-.4-.92-.59-1.43-.59-.52 0-1.04.2-1.43.59L10.3 9.45l-7.72 7.72c-.78.78-.78 2.05 0 2.83L4 21.41c.39.39.9.59 1.41.59.51 0 1.02-.2 1.41-.59l7.78-7.78 2.81-2.81c.8-.78.8-2.07 0-2.86zM5.41 20L4 18.59l7.72-7.72 1.47 1.35L5.41 20z\"/>\n",
              "  </svg>\n",
              "      </button>\n",
              "      \n",
              "  <style>\n",
              "    .colab-df-container {\n",
              "      display:flex;\n",
              "      flex-wrap:wrap;\n",
              "      gap: 12px;\n",
              "    }\n",
              "\n",
              "    .colab-df-convert {\n",
              "      background-color: #E8F0FE;\n",
              "      border: none;\n",
              "      border-radius: 50%;\n",
              "      cursor: pointer;\n",
              "      display: none;\n",
              "      fill: #1967D2;\n",
              "      height: 32px;\n",
              "      padding: 0 0 0 0;\n",
              "      width: 32px;\n",
              "    }\n",
              "\n",
              "    .colab-df-convert:hover {\n",
              "      background-color: #E2EBFA;\n",
              "      box-shadow: 0px 1px 2px rgba(60, 64, 67, 0.3), 0px 1px 3px 1px rgba(60, 64, 67, 0.15);\n",
              "      fill: #174EA6;\n",
              "    }\n",
              "\n",
              "    [theme=dark] .colab-df-convert {\n",
              "      background-color: #3B4455;\n",
              "      fill: #D2E3FC;\n",
              "    }\n",
              "\n",
              "    [theme=dark] .colab-df-convert:hover {\n",
              "      background-color: #434B5C;\n",
              "      box-shadow: 0px 1px 3px 1px rgba(0, 0, 0, 0.15);\n",
              "      filter: drop-shadow(0px 1px 2px rgba(0, 0, 0, 0.3));\n",
              "      fill: #FFFFFF;\n",
              "    }\n",
              "  </style>\n",
              "\n",
              "      <script>\n",
              "        const buttonEl =\n",
              "          document.querySelector('#df-e29b9c7c-c274-43cb-81f0-58e99afe511f button.colab-df-convert');\n",
              "        buttonEl.style.display =\n",
              "          google.colab.kernel.accessAllowed ? 'block' : 'none';\n",
              "\n",
              "        async function convertToInteractive(key) {\n",
              "          const element = document.querySelector('#df-e29b9c7c-c274-43cb-81f0-58e99afe511f');\n",
              "          const dataTable =\n",
              "            await google.colab.kernel.invokeFunction('convertToInteractive',\n",
              "                                                     [key], {});\n",
              "          if (!dataTable) return;\n",
              "\n",
              "          const docLinkHtml = 'Like what you see? Visit the ' +\n",
              "            '<a target=\"_blank\" href=https://colab.research.google.com/notebooks/data_table.ipynb>data table notebook</a>'\n",
              "            + ' to learn more about interactive tables.';\n",
              "          element.innerHTML = '';\n",
              "          dataTable['output_type'] = 'display_data';\n",
              "          await google.colab.output.renderOutput(dataTable, element);\n",
              "          const docLink = document.createElement('div');\n",
              "          docLink.innerHTML = docLinkHtml;\n",
              "          element.appendChild(docLink);\n",
              "        }\n",
              "      </script>\n",
              "    </div>\n",
              "  </div>\n",
              "  "
            ]
          },
          "metadata": {},
          "execution_count": 4
        }
      ]
    },
    {
      "cell_type": "markdown",
      "metadata": {
        "id": "q-OwSePKm-FK"
      },
      "source": [
        "### 1 - Limpieza de datos\n",
        "Alumno:\n",
        "- Del dataset unicamente utilizar las columnas \"Review Text\" y \"Rating.\n",
        "- Tranformar el rating 1-5 a una escala numérica de 0 a 4.\n",
        "\n"
      ]
    },
    {
      "cell_type": "code",
      "metadata": {
        "id": "-hc7-AmYnPC3",
        "colab": {
          "base_uri": "https://localhost:8080/",
          "height": 206
        },
        "outputId": "de270023-cef7-45a6-856f-f874ea48da94"
      },
      "source": [
        "df_reviews = df.loc[:, ['Review Text', 'Rating']].dropna()\n",
        "df_reviews['Rating'] = df_reviews['Rating'] - 1\n",
        "df_reviews.head()"
      ],
      "execution_count": null,
      "outputs": [
        {
          "output_type": "execute_result",
          "data": {
            "text/plain": [
              "                                         Review Text  Rating\n",
              "0  Absolutely wonderful - silky and sexy and comf...       3\n",
              "1  Love this dress!  it's sooo pretty.  i happene...       4\n",
              "2  I had such high hopes for this dress and reall...       2\n",
              "3  I love, love, love this jumpsuit. it's fun, fl...       4\n",
              "4  This shirt is very flattering to all due to th...       4"
            ],
            "text/html": [
              "\n",
              "  <div id=\"df-5684963c-8827-46a4-81db-a0e757f37d0a\">\n",
              "    <div class=\"colab-df-container\">\n",
              "      <div>\n",
              "<style scoped>\n",
              "    .dataframe tbody tr th:only-of-type {\n",
              "        vertical-align: middle;\n",
              "    }\n",
              "\n",
              "    .dataframe tbody tr th {\n",
              "        vertical-align: top;\n",
              "    }\n",
              "\n",
              "    .dataframe thead th {\n",
              "        text-align: right;\n",
              "    }\n",
              "</style>\n",
              "<table border=\"1\" class=\"dataframe\">\n",
              "  <thead>\n",
              "    <tr style=\"text-align: right;\">\n",
              "      <th></th>\n",
              "      <th>Review Text</th>\n",
              "      <th>Rating</th>\n",
              "    </tr>\n",
              "  </thead>\n",
              "  <tbody>\n",
              "    <tr>\n",
              "      <th>0</th>\n",
              "      <td>Absolutely wonderful - silky and sexy and comf...</td>\n",
              "      <td>3</td>\n",
              "    </tr>\n",
              "    <tr>\n",
              "      <th>1</th>\n",
              "      <td>Love this dress!  it's sooo pretty.  i happene...</td>\n",
              "      <td>4</td>\n",
              "    </tr>\n",
              "    <tr>\n",
              "      <th>2</th>\n",
              "      <td>I had such high hopes for this dress and reall...</td>\n",
              "      <td>2</td>\n",
              "    </tr>\n",
              "    <tr>\n",
              "      <th>3</th>\n",
              "      <td>I love, love, love this jumpsuit. it's fun, fl...</td>\n",
              "      <td>4</td>\n",
              "    </tr>\n",
              "    <tr>\n",
              "      <th>4</th>\n",
              "      <td>This shirt is very flattering to all due to th...</td>\n",
              "      <td>4</td>\n",
              "    </tr>\n",
              "  </tbody>\n",
              "</table>\n",
              "</div>\n",
              "      <button class=\"colab-df-convert\" onclick=\"convertToInteractive('df-5684963c-8827-46a4-81db-a0e757f37d0a')\"\n",
              "              title=\"Convert this dataframe to an interactive table.\"\n",
              "              style=\"display:none;\">\n",
              "        \n",
              "  <svg xmlns=\"http://www.w3.org/2000/svg\" height=\"24px\"viewBox=\"0 0 24 24\"\n",
              "       width=\"24px\">\n",
              "    <path d=\"M0 0h24v24H0V0z\" fill=\"none\"/>\n",
              "    <path d=\"M18.56 5.44l.94 2.06.94-2.06 2.06-.94-2.06-.94-.94-2.06-.94 2.06-2.06.94zm-11 1L8.5 8.5l.94-2.06 2.06-.94-2.06-.94L8.5 2.5l-.94 2.06-2.06.94zm10 10l.94 2.06.94-2.06 2.06-.94-2.06-.94-.94-2.06-.94 2.06-2.06.94z\"/><path d=\"M17.41 7.96l-1.37-1.37c-.4-.4-.92-.59-1.43-.59-.52 0-1.04.2-1.43.59L10.3 9.45l-7.72 7.72c-.78.78-.78 2.05 0 2.83L4 21.41c.39.39.9.59 1.41.59.51 0 1.02-.2 1.41-.59l7.78-7.78 2.81-2.81c.8-.78.8-2.07 0-2.86zM5.41 20L4 18.59l7.72-7.72 1.47 1.35L5.41 20z\"/>\n",
              "  </svg>\n",
              "      </button>\n",
              "      \n",
              "  <style>\n",
              "    .colab-df-container {\n",
              "      display:flex;\n",
              "      flex-wrap:wrap;\n",
              "      gap: 12px;\n",
              "    }\n",
              "\n",
              "    .colab-df-convert {\n",
              "      background-color: #E8F0FE;\n",
              "      border: none;\n",
              "      border-radius: 50%;\n",
              "      cursor: pointer;\n",
              "      display: none;\n",
              "      fill: #1967D2;\n",
              "      height: 32px;\n",
              "      padding: 0 0 0 0;\n",
              "      width: 32px;\n",
              "    }\n",
              "\n",
              "    .colab-df-convert:hover {\n",
              "      background-color: #E2EBFA;\n",
              "      box-shadow: 0px 1px 2px rgba(60, 64, 67, 0.3), 0px 1px 3px 1px rgba(60, 64, 67, 0.15);\n",
              "      fill: #174EA6;\n",
              "    }\n",
              "\n",
              "    [theme=dark] .colab-df-convert {\n",
              "      background-color: #3B4455;\n",
              "      fill: #D2E3FC;\n",
              "    }\n",
              "\n",
              "    [theme=dark] .colab-df-convert:hover {\n",
              "      background-color: #434B5C;\n",
              "      box-shadow: 0px 1px 3px 1px rgba(0, 0, 0, 0.15);\n",
              "      filter: drop-shadow(0px 1px 2px rgba(0, 0, 0, 0.3));\n",
              "      fill: #FFFFFF;\n",
              "    }\n",
              "  </style>\n",
              "\n",
              "      <script>\n",
              "        const buttonEl =\n",
              "          document.querySelector('#df-5684963c-8827-46a4-81db-a0e757f37d0a button.colab-df-convert');\n",
              "        buttonEl.style.display =\n",
              "          google.colab.kernel.accessAllowed ? 'block' : 'none';\n",
              "\n",
              "        async function convertToInteractive(key) {\n",
              "          const element = document.querySelector('#df-5684963c-8827-46a4-81db-a0e757f37d0a');\n",
              "          const dataTable =\n",
              "            await google.colab.kernel.invokeFunction('convertToInteractive',\n",
              "                                                     [key], {});\n",
              "          if (!dataTable) return;\n",
              "\n",
              "          const docLinkHtml = 'Like what you see? Visit the ' +\n",
              "            '<a target=\"_blank\" href=https://colab.research.google.com/notebooks/data_table.ipynb>data table notebook</a>'\n",
              "            + ' to learn more about interactive tables.';\n",
              "          element.innerHTML = '';\n",
              "          dataTable['output_type'] = 'display_data';\n",
              "          await google.colab.output.renderOutput(dataTable, element);\n",
              "          const docLink = document.createElement('div');\n",
              "          docLink.innerHTML = docLinkHtml;\n",
              "          element.appendChild(docLink);\n",
              "        }\n",
              "      </script>\n",
              "    </div>\n",
              "  </div>\n",
              "  "
            ]
          },
          "metadata": {},
          "execution_count": 5
        }
      ]
    },
    {
      "cell_type": "code",
      "source": [
        "# chequeo los clases que hay en Rating\n",
        "print(df_reviews.Rating.unique())"
      ],
      "metadata": {
        "colab": {
          "base_uri": "https://localhost:8080/"
        },
        "id": "I3B6TsmuAfGc",
        "outputId": "fa88ef1f-5a62-4d01-dc12-1c106c1cf012"
      },
      "execution_count": null,
      "outputs": [
        {
          "output_type": "stream",
          "name": "stdout",
          "text": [
            "[3 4 2 1 0]\n"
          ]
        }
      ]
    },
    {
      "cell_type": "code",
      "metadata": {
        "id": "sZtvASVOn3ty",
        "colab": {
          "base_uri": "https://localhost:8080/"
        },
        "outputId": "2bd0c004-780b-4b4c-a6bf-dcc97ec4ab5d"
      },
      "source": [
        "# Alumno: Observar como está distribuido el dataset respecto a la columna Rating\n",
        "# es decir, observar que tan balanceado se encuentra respecto a cada clase\n",
        "\n",
        "df_reviews['Rating'].value_counts()"
      ],
      "execution_count": null,
      "outputs": [
        {
          "output_type": "execute_result",
          "data": {
            "text/plain": [
              "4    12540\n",
              "3     4908\n",
              "2     2823\n",
              "1     1549\n",
              "0      821\n",
              "Name: Rating, dtype: int64"
            ]
          },
          "metadata": {},
          "execution_count": 7
        }
      ]
    },
    {
      "cell_type": "code",
      "source": [
        "sns.countplot(x = 'Rating', data = df_reviews)\n",
        "plt.show()"
      ],
      "metadata": {
        "colab": {
          "base_uri": "https://localhost:8080/",
          "height": 278
        },
        "id": "g1mhrHYN7vbc",
        "outputId": "b52da0ae-509a-4ab0-d11a-9443d01bb294"
      },
      "execution_count": null,
      "outputs": [
        {
          "output_type": "display_data",
          "data": {
            "text/plain": [
              "<Figure size 432x288 with 1 Axes>"
            ],
            "image/png": "[encoded data removed]"
          },
          "metadata": {
            "needs_background": "light"
          }
        }
      ]
    },
    {
      "cell_type": "code",
      "metadata": {
        "id": "gVJ_RVi4o1h3",
        "colab": {
          "base_uri": "https://localhost:8080/"
        },
        "outputId": "50e5882c-0109-413a-ac2a-6650779cc818"
      },
      "source": [
        "# Alumno: tomar la columna de las review y almacenarlo todo en un vector numpy de reviews\n",
        "\n",
        "text_sequences = df_reviews['Review Text'].values\n",
        "text_sequences.shape"
      ],
      "execution_count": null,
      "outputs": [
        {
          "output_type": "execute_result",
          "data": {
            "text/plain": [
              "(22641,)"
            ]
          },
          "metadata": {},
          "execution_count": 9
        }
      ]
    },
    {
      "cell_type": "code",
      "metadata": {
        "id": "4nT5Un_co65Q",
        "colab": {
          "base_uri": "https://localhost:8080/"
        },
        "outputId": "f40d37d5-97e9-49ca-a319-d533dd231d8f"
      },
      "source": [
        "# Alumno: Cuantas reviews (rows) hay para evaluar?\n",
        "\n",
        "len(text_sequences)"
      ],
      "execution_count": null,
      "outputs": [
        {
          "output_type": "execute_result",
          "data": {
            "text/plain": [
              "22641"
            ]
          },
          "metadata": {},
          "execution_count": 10
        }
      ]
    },
    {
      "cell_type": "code",
      "metadata": {
        "id": "HP5uN9tqpHu_"
      },
      "source": [
        "# Alumno: Concatenar todas las reviews para armar el corpus\n",
        "\n",
        "corpus = ' '.join(text_sequences)"
      ],
      "execution_count": null,
      "outputs": []
    },
    {
      "cell_type": "code",
      "metadata": {
        "id": "FEzmePgdpf74",
        "colab": {
          "base_uri": "https://localhost:8080/"
        },
        "outputId": "0d2da81d-e0db-4660-efe2-93cf576c77d5"
      },
      "source": [
        "# Alumno: ¿Cuál es la longitud de ese corpus?\n",
        "\n",
        "len(corpus)"
      ],
      "execution_count": null,
      "outputs": [
        {
          "output_type": "execute_result",
          "data": {
            "text/plain": [
              "7011643"
            ]
          },
          "metadata": {},
          "execution_count": 12
        }
      ]
    },
    {
      "cell_type": "code",
      "metadata": {
        "id": "MYeJLdDmpvOe"
      },
      "source": [
        "# Alumno: Utilizar \"text_to_word_sequence\" para separar las palabras en tokens\n",
        "# recordar que text_to_word_sequence automaticamente quita los signos de puntuacion y pasa el texto a lowercase\n",
        "from keras.preprocessing.text import text_to_word_sequence\n",
        "\n",
        "tokens = text_to_word_sequence(corpus)"
      ],
      "execution_count": null,
      "outputs": []
    },
    {
      "cell_type": "code",
      "metadata": {
        "id": "M6L-fnWAp_lA",
        "colab": {
          "base_uri": "https://localhost:8080/"
        },
        "outputId": "3b7de495-fe12-44c1-874b-0de86f2631ac"
      },
      "source": [
        "# Alumno: Dar un vistazo a los primeros 20 tokens/palabras\n",
        "\n",
        "tokens[:20]"
      ],
      "execution_count": null,
      "outputs": [
        {
          "output_type": "execute_result",
          "data": {
            "text/plain": [
              "['absolutely',\n",
              " 'wonderful',\n",
              " 'silky',\n",
              " 'and',\n",
              " 'sexy',\n",
              " 'and',\n",
              " 'comfortable',\n",
              " 'love',\n",
              " 'this',\n",
              " 'dress',\n",
              " \"it's\",\n",
              " 'sooo',\n",
              " 'pretty',\n",
              " 'i',\n",
              " 'happened',\n",
              " 'to',\n",
              " 'find',\n",
              " 'it',\n",
              " 'in',\n",
              " 'a']"
            ]
          },
          "metadata": {},
          "execution_count": 14
        }
      ]
    },
    {
      "cell_type": "code",
      "metadata": {
        "id": "-8QgwwMUqG0d",
        "colab": {
          "base_uri": "https://localhost:8080/"
        },
        "outputId": "1dfbd8bb-8750-40ec-9470-e4953f3bcfbb"
      },
      "source": [
        "# Alumno: ¿Cuántos tokens/palabras hay?\n",
        "\n",
        "len(tokens)"
      ],
      "execution_count": null,
      "outputs": [
        {
          "output_type": "execute_result",
          "data": {
            "text/plain": [
              "1372203"
            ]
          },
          "metadata": {},
          "execution_count": 17
        }
      ]
    },
    {
      "cell_type": "code",
      "metadata": {
        "id": "TFukNZdOsZ8_"
      },
      "source": [
        "# Alumno: Tokenizar las palabras con el Tokenizer de Keras\n",
        "# Definir una máxima cantidad de palabras a utilizar:\n",
        "# num_words --> the maximum number of words to keep, based on word frequency.\n",
        "# Only the most common num_words-1 words will be kept.\n",
        "from keras.preprocessing.text import Tokenizer\n",
        "#num_words = 2000\n",
        "num_words = 500\n",
        "vocab_size = num_words\n",
        "\n",
        "tok = Tokenizer(num_words) \n",
        "tok.fit_on_texts(tokens)"
      ],
      "execution_count": null,
      "outputs": []
    },
    {
      "cell_type": "code",
      "metadata": {
        "id": "JnR1tlqZy94X",
        "colab": {
          "base_uri": "https://localhost:8080/"
        },
        "outputId": "c45b514d-48a0-4727-dd28-33f626892292"
      },
      "source": [
        "# Alumno: Obtener el diccionario de palabra (word) a índice\n",
        "# y observar la cantidad total del vocabulario\n",
        "\n",
        "word_index = tok.word_index\n",
        "len(word_index)"
      ],
      "execution_count": null,
      "outputs": [
        {
          "output_type": "execute_result",
          "data": {
            "text/plain": [
              "14847"
            ]
          },
          "metadata": {},
          "execution_count": 19
        }
      ]
    },
    {
      "cell_type": "code",
      "metadata": {
        "id": "AvWzzSretQXf"
      },
      "source": [
        "# Alumno: Convertir las palabras/tokens a números\n",
        "\n",
        "sequences = tok.texts_to_sequences(text_sequences)"
      ],
      "execution_count": null,
      "outputs": []
    },
    {
      "cell_type": "code",
      "metadata": {
        "id": "za73M5SRtbrP",
        "colab": {
          "base_uri": "https://localhost:8080/"
        },
        "outputId": "dee2dafc-fa43-4cd4-d7d6-5b7d578bf099"
      },
      "source": [
        "# Alumno: Determinar cual es la oración más larga\n",
        "\n",
        "max(len(s) for s in sequences)"
      ],
      "execution_count": null,
      "outputs": [
        {
          "output_type": "execute_result",
          "data": {
            "text/plain": [
              "105"
            ]
          },
          "metadata": {},
          "execution_count": 21
        }
      ]
    },
    {
      "cell_type": "code",
      "metadata": {
        "id": "oCkO9Wc9tls1"
      },
      "source": [
        "# Alumno: Realizar padding de las sentencias al mismo tamaño\n",
        "# tomando de referencia la máxima sentencia\n",
        "from keras.preprocessing.sequence import pad_sequences\n",
        "maxlen = 115\n",
        "\n",
        "X = pad_sequences(sequences, padding='pre', maxlen=maxlen)"
      ],
      "execution_count": null,
      "outputs": []
    },
    {
      "cell_type": "code",
      "metadata": {
        "id": "kGHHabVdt_aa",
        "colab": {
          "base_uri": "https://localhost:8080/"
        },
        "outputId": "0445c959-7519-4496-ec0a-88b679fdebb3"
      },
      "source": [
        "# Alumno: Observar las dimensiones de la variable input\n",
        "\n",
        "X.shape"
      ],
      "execution_count": null,
      "outputs": [
        {
          "output_type": "execute_result",
          "data": {
            "text/plain": [
              "(22641, 115)"
            ]
          },
          "metadata": {},
          "execution_count": 23
        }
      ]
    },
    {
      "cell_type": "code",
      "metadata": {
        "id": "llVM-tzQo9_F",
        "colab": {
          "base_uri": "https://localhost:8080/"
        },
        "outputId": "81d493e5-1805-44c7-8351-b5e79a3edac6"
      },
      "source": [
        "# Alumno tomar la columna rating y alcemacenarla en una variable \"y\" transformada a oneHotEncoding\n",
        "# Su shape debe ser equivalente la cantidad de rows del corpus y a la cantidad\n",
        "# de clases que se deseen predecir (en este ejemplo son 5)\n",
        "\n",
        "y = to_categorical(df_reviews['Rating'].values, num_classes = len(df_reviews['Rating'].unique()))\n",
        "y.shape"
      ],
      "execution_count": null,
      "outputs": [
        {
          "output_type": "execute_result",
          "data": {
            "text/plain": [
              "(22641, 5)"
            ]
          },
          "metadata": {},
          "execution_count": 24
        }
      ]
    },
    {
      "cell_type": "code",
      "metadata": {
        "id": "Rmz9A6n4uK4V"
      },
      "source": [
        "# Alumno: Dividir los datos en train y test\n",
        "from sklearn.model_selection import train_test_split\n",
        "\n",
        "X_train, X_test, y_train, y_test = train_test_split(X, y, test_size = 0.2, random_state = 4321)"
      ],
      "execution_count": null,
      "outputs": []
    },
    {
      "cell_type": "code",
      "metadata": {
        "id": "EcDPlhEouQ9E",
        "colab": {
          "base_uri": "https://localhost:8080/"
        },
        "outputId": "5e83231c-b068-4dc9-cf36-4142215a1b2c"
      },
      "source": [
        "# Alumno: determinar la dimensiones de entrada y salida\n",
        "\n",
        "in_shape = X_train.shape[1]\n",
        "out_shape = y_train.shape[1]\n",
        "print(\"in_shape\", in_shape, \", out_shape\", out_shape)"
      ],
      "execution_count": null,
      "outputs": [
        {
          "output_type": "stream",
          "name": "stdout",
          "text": [
            "in_shape 115 , out_shape 5\n"
          ]
        }
      ]
    },
    {
      "cell_type": "markdown",
      "metadata": {
        "id": "NpbQHExL6OTu"
      },
      "source": [
        "### 2 - Entrenar el modelo con Embeddings + LSTM"
      ]
    },
    {
      "cell_type": "code",
      "metadata": {
        "id": "NUkuWBsM6cx3"
      },
      "source": [
        "# Alumno: Entrene su modelo con LSTM entrenando sus propios embeddings\n",
        "# o utilizando embeddings pre-entrenados.\n",
        "from keras.layers import LSTM\n",
        "from keras.layers import Embedding\n",
        "from keras.layers import Dropout\n",
        "\n",
        "model = Sequential()\n",
        "# input_dim = vocab_size (max n_words)\n",
        "# input_length = setencias con padding a 115\n",
        "# output_dim = 50 --> crear embeddings de tamaño 50\n",
        "model.add(Embedding(input_dim = vocab_size + 1, output_dim = 50, input_length = in_shape))\n",
        "model.add(LSTM(units = 64, return_sequences = True))\n",
        "model.add(Dropout(0.2))\n",
        "model.add(LSTM(units = 64)) # La última capa LSTM no lleva return_sequences\n",
        "\n",
        "model.add(Dense(units=128, activation='relu'))\n",
        "model.add(Dropout(rate=0.2))\n",
        "model.add(Dense(units=out_shape, activation='softmax'))\n",
        "\n",
        "model.compile(optimizer=\"adam\",\n",
        "              loss='categorical_crossentropy',\n",
        "              metrics=['accuracy'])\n",
        "\n",
        "#model.summary()"
      ],
      "execution_count": null,
      "outputs": []
    },
    {
      "cell_type": "code",
      "source": [
        "from keras.utils.vis_utils import plot_model\n",
        "plot_model(model, to_file='model_plot.png', show_shapes=True, show_layer_names=True)"
      ],
      "metadata": {
        "colab": {
          "base_uri": "https://localhost:8080/",
          "height": 864
        },
        "id": "YfHGNGLKuHJe",
        "outputId": "40eb7b72-781c-47d2-ca2d-11e1f3009802"
      },
      "execution_count": null,
      "outputs": [
        {
          "output_type": "execute_result",
          "data": {
            "text/plain": [
              "<IPython.core.display.Image object>"
            ],
            "image/png": "[encoded data removed]"
          },
          "metadata": {},
          "execution_count": 28
        }
      ]
    },
    {
      "cell_type": "code",
      "source": [
        "hist = model.fit(X_train, y_train, epochs = 35, validation_split = 0.2)"
      ],
      "metadata": {
        "colab": {
          "base_uri": "https://localhost:8080/"
        },
        "id": "6qBo-4YWuOVG",
        "outputId": "dc470656-d3c4-4b07-dc87-ad1f3116736c"
      },
      "execution_count": null,
      "outputs": [
        {
          "output_type": "stream",
          "name": "stdout",
          "text": [
            "Epoch 1/35\n",
            "453/453 [==============================] - 77s 158ms/step - loss: 1.0483 - accuracy: 0.5866 - val_loss: 0.9876 - val_accuracy: 0.5915\n",
            "Epoch 2/35\n",
            "453/453 [==============================] - 70s 154ms/step - loss: 0.9430 - accuracy: 0.6126 - val_loss: 0.9199 - val_accuracy: 0.6152\n",
            "Epoch 3/35\n",
            "453/453 [==============================] - 71s 156ms/step - loss: 0.9024 - accuracy: 0.6239 - val_loss: 0.9162 - val_accuracy: 0.6144\n",
            "Epoch 4/35\n",
            "453/453 [==============================] - 70s 154ms/step - loss: 0.8729 - accuracy: 0.6342 - val_loss: 0.8845 - val_accuracy: 0.6335\n",
            "Epoch 5/35\n",
            "453/453 [==============================] - 71s 156ms/step - loss: 0.8561 - accuracy: 0.6410 - val_loss: 0.9166 - val_accuracy: 0.6172\n",
            "Epoch 6/35\n",
            "453/453 [==============================] - 70s 154ms/step - loss: 0.8355 - accuracy: 0.6461 - val_loss: 0.9077 - val_accuracy: 0.6271\n",
            "Epoch 7/35\n",
            "453/453 [==============================] - 71s 157ms/step - loss: 0.8252 - accuracy: 0.6547 - val_loss: 0.8873 - val_accuracy: 0.6351\n",
            "Epoch 8/35\n",
            "453/453 [==============================] - 70s 154ms/step - loss: 0.8058 - accuracy: 0.6575 - val_loss: 0.8873 - val_accuracy: 0.6326\n",
            "Epoch 9/35\n",
            "453/453 [==============================] - 71s 157ms/step - loss: 0.7908 - accuracy: 0.6633 - val_loss: 0.9056 - val_accuracy: 0.6238\n",
            "Epoch 10/35\n",
            "453/453 [==============================] - 70s 154ms/step - loss: 0.7784 - accuracy: 0.6741 - val_loss: 0.9143 - val_accuracy: 0.6271\n",
            "Epoch 11/35\n",
            "453/453 [==============================] - 71s 156ms/step - loss: 0.7597 - accuracy: 0.6808 - val_loss: 0.8977 - val_accuracy: 0.6301\n",
            "Epoch 12/35\n",
            "453/453 [==============================] - 70s 154ms/step - loss: 0.7547 - accuracy: 0.6815 - val_loss: 0.9141 - val_accuracy: 0.6224\n",
            "Epoch 13/35\n",
            "453/453 [==============================] - 70s 155ms/step - loss: 0.7301 - accuracy: 0.6935 - val_loss: 0.9378 - val_accuracy: 0.6188\n",
            "Epoch 14/35\n",
            "453/453 [==============================] - 69s 153ms/step - loss: 0.7174 - accuracy: 0.6994 - val_loss: 0.9480 - val_accuracy: 0.6219\n",
            "Epoch 15/35\n",
            "453/453 [==============================] - 70s 155ms/step - loss: 0.7063 - accuracy: 0.7018 - val_loss: 0.9448 - val_accuracy: 0.6219\n",
            "Epoch 16/35\n",
            "453/453 [==============================] - 69s 153ms/step - loss: 0.6896 - accuracy: 0.7105 - val_loss: 0.9872 - val_accuracy: 0.6232\n",
            "Epoch 17/35\n",
            "453/453 [==============================] - 70s 155ms/step - loss: 0.6758 - accuracy: 0.7183 - val_loss: 1.0021 - val_accuracy: 0.6172\n",
            "Epoch 18/35\n",
            "453/453 [==============================] - 69s 153ms/step - loss: 0.6601 - accuracy: 0.7254 - val_loss: 1.0033 - val_accuracy: 0.6238\n",
            "Epoch 19/35\n",
            "453/453 [==============================] - 70s 155ms/step - loss: 0.6421 - accuracy: 0.7315 - val_loss: 1.0278 - val_accuracy: 0.6205\n",
            "Epoch 20/35\n",
            "453/453 [==============================] - 69s 153ms/step - loss: 0.6232 - accuracy: 0.7407 - val_loss: 1.0727 - val_accuracy: 0.6271\n",
            "Epoch 21/35\n",
            "453/453 [==============================] - 71s 157ms/step - loss: 0.6065 - accuracy: 0.7493 - val_loss: 1.0605 - val_accuracy: 0.6205\n",
            "Epoch 22/35\n",
            "453/453 [==============================] - 71s 156ms/step - loss: 0.6025 - accuracy: 0.7533 - val_loss: 1.1244 - val_accuracy: 0.6042\n",
            "Epoch 23/35\n",
            "453/453 [==============================] - 71s 156ms/step - loss: 0.5691 - accuracy: 0.7695 - val_loss: 1.1695 - val_accuracy: 0.6116\n",
            "Epoch 24/35\n",
            "453/453 [==============================] - 70s 154ms/step - loss: 0.5547 - accuracy: 0.7731 - val_loss: 1.3830 - val_accuracy: 0.6014\n",
            "Epoch 25/35\n",
            "453/453 [==============================] - 71s 156ms/step - loss: 0.5736 - accuracy: 0.7633 - val_loss: 1.2170 - val_accuracy: 0.6119\n",
            "Epoch 26/35\n",
            "453/453 [==============================] - 70s 154ms/step - loss: 0.5237 - accuracy: 0.7865 - val_loss: 1.2544 - val_accuracy: 0.5962\n",
            "Epoch 27/35\n",
            "453/453 [==============================] - 71s 156ms/step - loss: 0.4964 - accuracy: 0.7990 - val_loss: 1.3190 - val_accuracy: 0.6036\n",
            "Epoch 28/35\n",
            "453/453 [==============================] - 70s 154ms/step - loss: 0.4695 - accuracy: 0.8122 - val_loss: 1.3809 - val_accuracy: 0.5998\n",
            "Epoch 29/35\n",
            "453/453 [==============================] - 70s 155ms/step - loss: 0.4580 - accuracy: 0.8186 - val_loss: 1.4236 - val_accuracy: 0.5965\n",
            "Epoch 30/35\n",
            "453/453 [==============================] - 70s 155ms/step - loss: 0.4388 - accuracy: 0.8234 - val_loss: 1.4262 - val_accuracy: 0.5921\n",
            "Epoch 31/35\n",
            "453/453 [==============================] - 71s 156ms/step - loss: 0.4185 - accuracy: 0.8348 - val_loss: 1.5320 - val_accuracy: 0.5978\n",
            "Epoch 32/35\n",
            "453/453 [==============================] - 70s 154ms/step - loss: 0.4068 - accuracy: 0.8415 - val_loss: 1.5191 - val_accuracy: 0.6014\n",
            "Epoch 33/35\n",
            "453/453 [==============================] - 70s 155ms/step - loss: 0.3865 - accuracy: 0.8482 - val_loss: 1.7394 - val_accuracy: 0.5777\n",
            "Epoch 34/35\n",
            "453/453 [==============================] - 71s 156ms/step - loss: 0.3564 - accuracy: 0.8584 - val_loss: 1.7905 - val_accuracy: 0.5921\n",
            "Epoch 35/35\n",
            "453/453 [==============================] - 70s 155ms/step - loss: 0.3596 - accuracy: 0.8611 - val_loss: 1.7761 - val_accuracy: 0.5907\n"
          ]
        }
      ]
    },
    {
      "cell_type": "code",
      "source": [
        "epoch_count = range(1, len(hist.history['accuracy']) + 1)\n",
        "sns.lineplot(x=epoch_count,  y=hist.history['accuracy'], label='train')\n",
        "sns.lineplot(x=epoch_count,  y=hist.history['val_accuracy'], label='valid')\n",
        "plt.show()"
      ],
      "metadata": {
        "colab": {
          "base_uri": "https://localhost:8080/",
          "height": 264
        },
        "id": "wPLMNh3pO9py",
        "outputId": "4b1c1e9c-3233-4721-ed0e-852b133fc7cb"
      },
      "execution_count": null,
      "outputs": [
        {
          "output_type": "display_data",
          "data": {
            "text/plain": [
              "<Figure size 432x288 with 1 Axes>"
            ],
            "image/png": "[encoded data removed]"
          },
          "metadata": {
            "needs_background": "light"
          }
        }
      ]
    },
    {
      "cell_type": "markdown",
      "source": [
        "### 3 - Entrenar el modelo con Embeddings Fasttext + LSTM\n"
      ],
      "metadata": {
        "id": "SLJEneajPJkt"
      }
    },
    {
      "cell_type": "code",
      "source": [
        "# Descargar los embeddings desde un gogle drive (es la forma más rápida)\n",
        "# NOTA: No hay garantía de que estos links perduren, en caso de que no estén\n",
        "# disponibles descargar de la página oficial como se explica en el siguiente bloque\n",
        "import os\n",
        "import gdown\n",
        "if os.access('fasttext.pkl', os.F_OK) is False:\n",
        "    url = 'https://drive.google.com/uc?id=1KU5qmAYh3LATMvVgocFDfW-PK3prm1WU&export=download'\n",
        "    output = 'fasttext.pkl'\n",
        "    gdown.download(url, output, quiet=False)\n",
        "else:\n",
        "    print(\"Los embeddings fasttext.pkl ya están descargados\")"
      ],
      "metadata": {
        "colab": {
          "base_uri": "https://localhost:8080/"
        },
        "id": "b2gJ-1-wPRnc",
        "outputId": "37689b6a-f56e-4b2d-bb2e-3c86f2cef465"
      },
      "execution_count": null,
      "outputs": [
        {
          "output_type": "stream",
          "name": "stderr",
          "text": [
            "Downloading...\n",
            "From: https://drive.google.com/uc?id=1KU5qmAYh3LATMvVgocFDfW-PK3prm1WU&export=download\n",
            "To: /content/fasttext.pkl\n",
            "100%|██████████| 2.88G/2.88G [00:28<00:00, 102MB/s]\n"
          ]
        }
      ]
    },
    {
      "cell_type": "code",
      "source": [
        "import logging\n",
        "import os\n",
        "from pathlib import Path\n",
        "from io import StringIO\n",
        "import pickle\n",
        "\n",
        "class WordsEmbeddings(object):\n",
        "    logger = logging.getLogger(__name__)\n",
        "\n",
        "    def __init__(self):\n",
        "        # load the embeddings\n",
        "        words_embedding_pkl = Path(self.PKL_PATH)\n",
        "        if not words_embedding_pkl.is_file():\n",
        "            words_embedding_txt = Path(self.WORD_TO_VEC_MODEL_TXT_PATH)\n",
        "            assert words_embedding_txt.is_file(), 'Words embedding not available'\n",
        "            embeddings = self.convert_model_to_pickle()\n",
        "        else:\n",
        "            embeddings = self.load_model_from_pickle()\n",
        "        self.embeddings = embeddings\n",
        "        # build the vocabulary hashmap\n",
        "        index = np.arange(self.embeddings.shape[0])\n",
        "        # Dicctionarios para traducir de embedding a IDX de la palabra\n",
        "        self.word2idx = dict(zip(self.embeddings['word'], index))\n",
        "        self.idx2word = dict(zip(index, self.embeddings['word']))\n",
        "\n",
        "    def get_words_embeddings(self, words):\n",
        "        words_idxs = self.words2idxs(words)\n",
        "        return self.embeddings[words_idxs]['embedding']\n",
        "\n",
        "    def words2idxs(self, words):\n",
        "        return np.array([self.word2idx.get(word, -1) for word in words])\n",
        "\n",
        "    def idxs2words(self, idxs):\n",
        "        return np.array([self.idx2word.get(idx, '-1') for idx in idxs])\n",
        "\n",
        "    def load_model_from_pickle(self):\n",
        "        self.logger.debug(\n",
        "            'loading words embeddings from pickle {}'.format(\n",
        "                self.PKL_PATH\n",
        "            )\n",
        "        )\n",
        "        max_bytes = 2**28 - 1 # 256MB\n",
        "        bytes_in = bytearray(0)\n",
        "        input_size = os.path.getsize(self.PKL_PATH)\n",
        "        with open(self.PKL_PATH, 'rb') as f_in:\n",
        "            for _ in range(0, input_size, max_bytes):\n",
        "                bytes_in += f_in.read(max_bytes)\n",
        "        embeddings = pickle.loads(bytes_in)\n",
        "        self.logger.debug('words embeddings loaded')\n",
        "        return embeddings\n",
        "\n",
        "    def convert_model_to_pickle(self):\n",
        "        # create a numpy strctured array:\n",
        "        # word     embedding\n",
        "        # U50      np.float32[]\n",
        "        # word_1   a, b, c\n",
        "        # word_2   d, e, f\n",
        "        # ...\n",
        "        # word_n   g, h, i\n",
        "        self.logger.debug(\n",
        "            'converting and loading words embeddings from text file {}'.format(\n",
        "                self.WORD_TO_VEC_MODEL_TXT_PATH\n",
        "            )\n",
        "        )\n",
        "        structure = [('word', np.dtype('U' + str(self.WORD_MAX_SIZE))),\n",
        "                     ('embedding', np.float32, (self.N_FEATURES,))]\n",
        "        structure = np.dtype(structure)\n",
        "        # load numpy array from disk using a generator\n",
        "        with open(self.WORD_TO_VEC_MODEL_TXT_PATH, encoding=\"utf8\") as words_embeddings_txt:\n",
        "            embeddings_gen = (\n",
        "                (line.split()[0], line.split()[1:]) for line in words_embeddings_txt\n",
        "                if len(line.split()[1:]) == self.N_FEATURES\n",
        "            )\n",
        "            embeddings = np.fromiter(embeddings_gen, structure)\n",
        "        # add a null embedding\n",
        "        null_embedding = np.array(\n",
        "            [('null_embedding', np.zeros((self.N_FEATURES,), dtype=np.float32))],\n",
        "            dtype=structure\n",
        "        )\n",
        "        embeddings = np.concatenate([embeddings, null_embedding])\n",
        "        # dump numpy array to disk using pickle\n",
        "        max_bytes = 2**28 - 1 # # 256MB\n",
        "        bytes_out = pickle.dumps(embeddings, protocol=pickle.HIGHEST_PROTOCOL)\n",
        "        with open(self.PKL_PATH, 'wb') as f_out:\n",
        "            for idx in range(0, len(bytes_out), max_bytes):\n",
        "                f_out.write(bytes_out[idx:idx+max_bytes])\n",
        "        self.logger.debug('words embeddings loaded')\n",
        "        return embeddings\n",
        "\n",
        "\n",
        "class GloveEmbeddings(WordsEmbeddings):\n",
        "    WORD_TO_VEC_MODEL_TXT_PATH = 'glove.twitter.27B.50d.txt'\n",
        "    PKL_PATH = 'gloveembedding.pkl'\n",
        "    N_FEATURES = 50\n",
        "    WORD_MAX_SIZE = 60\n",
        "\n",
        "\n",
        "class FasttextEmbeddings(WordsEmbeddings):\n",
        "    WORD_TO_VEC_MODEL_TXT_PATH = 'cc.en.300.vec'\n",
        "    PKL_PATH = 'fasttext.pkl'\n",
        "    N_FEATURES = 50\n",
        "    #N_FEATURES = 300\n",
        "    WORD_MAX_SIZE = 60"
      ],
      "metadata": {
        "id": "8gOXu3eUPVlU"
      },
      "execution_count": null,
      "outputs": []
    },
    {
      "cell_type": "code",
      "source": [
        "model_fasttext = FasttextEmbeddings()\n",
        "#model_fasttext = GloveEmbeddings()"
      ],
      "metadata": {
        "id": "bjzY8AYHPevs"
      },
      "execution_count": null,
      "outputs": []
    },
    {
      "cell_type": "code",
      "source": [
        "# Crear la Embedding matrix\n",
        "\n",
        "print('preparing embedding matrix...')\n",
        "embed_dim = 300 # fasttext\n",
        "words_not_found = []\n",
        "\n",
        "# word_index provieen del tokenizer\n",
        "\n",
        "nb_words = min(num_words, len(word_index)) # vocab_size\n",
        "embedding_matrix = np.zeros((nb_words, embed_dim))\n",
        "for word, i in word_index.items():\n",
        "    if i >= nb_words:\n",
        "        continue\n",
        "    embedding_vector = model_fasttext.get_words_embeddings(word)[0]\n",
        "    if (embedding_vector is not None) and len(embedding_vector) > 0:\n",
        "        embedding_matrix[i] = embedding_vector\n",
        "    else:\n",
        "        # words not found in embedding index will be all-zeros.\n",
        "        words_not_found.append(word)\n",
        "        print(word)\n",
        "\n",
        "print('number of null word embeddings:', np.sum(np.sum(embedding_matrix, axis=1) == 0))"
      ],
      "metadata": {
        "colab": {
          "base_uri": "https://localhost:8080/"
        },
        "id": "M_LDF4e8PhcV",
        "outputId": "e9b172f6-3b2c-496f-cb6c-8f537f6a2ea5"
      },
      "execution_count": null,
      "outputs": [
        {
          "output_type": "stream",
          "name": "stdout",
          "text": [
            "preparing embedding matrix...\n",
            "number of null word embeddings: 2\n"
          ]
        }
      ]
    },
    {
      "cell_type": "code",
      "source": [
        "Embedding(input_dim = vocab_size,         # definido en el Tokenizador\n",
        "          output_dim = embed_dim,         # dimensión de los embeddings utilizados\n",
        "          input_length = in_shape,        # máxima sentencia de entrada\n",
        "          weights = [embedding_matrix],   # matrix de embeddings\n",
        "          trainable = False)              # marcar como layer no entrenable"
      ],
      "metadata": {
        "colab": {
          "base_uri": "https://localhost:8080/"
        },
        "id": "vbld6BJRPlD-",
        "outputId": "862f50a7-f69a-4204-8f41-c058408d72be"
      },
      "execution_count": null,
      "outputs": [
        {
          "output_type": "execute_result",
          "data": {
            "text/plain": [
              "<keras.layers.embeddings.Embedding at 0x7fe0cd6b7910>"
            ]
          },
          "metadata": {},
          "execution_count": 35
        }
      ]
    },
    {
      "cell_type": "code",
      "source": [
        "model2 = Sequential()\n",
        "# input_dim = vocab_size (max n_words)\n",
        "# input_length = setencias con padding a 200\n",
        "# output_dim = embed_dim (depende que embeddings pre entrenados utilizamos)\n",
        "model2.add(Embedding(input_dim=vocab_size, output_dim=embed_dim, input_length=in_shape,\n",
        "                     weights=[embedding_matrix], trainable=False))\n",
        "\n",
        "model2.add(LSTM(units=64, return_sequences=True))\n",
        "model2.add(Dropout(0.2))\n",
        "model2.add(LSTM(units=64)) # La última capa LSTM no lleva return_sequences\n",
        "\n",
        "model2.add(Dense(units=128, activation='relu'))\n",
        "model2.add(Dropout(rate=0.2))\n",
        "model2.add(Dense(units=out_shape, activation='softmax'))\n",
        "\n",
        "model2.compile(optimizer=\"adam\",\n",
        "              loss='categorical_crossentropy',\n",
        "              metrics=['accuracy'])\n",
        "\n",
        "model2.summary()"
      ],
      "metadata": {
        "colab": {
          "base_uri": "https://localhost:8080/"
        },
        "id": "HGikYzQtPoI9",
        "outputId": "46f93e04-011a-4c36-be59-193dbc6cdcf0"
      },
      "execution_count": null,
      "outputs": [
        {
          "output_type": "stream",
          "name": "stdout",
          "text": [
            "Model: \"sequential_1\"\n",
            "_________________________________________________________________\n",
            " Layer (type)                Output Shape              Param #   \n",
            "=================================================================\n",
            " embedding_2 (Embedding)     (None, 115, 300)          150000    \n",
            "                                                                 \n",
            " lstm_2 (LSTM)               (None, 115, 64)           93440     \n",
            "                                                                 \n",
            " dropout_2 (Dropout)         (None, 115, 64)           0         \n",
            "                                                                 \n",
            " lstm_3 (LSTM)               (None, 64)                33024     \n",
            "                                                                 \n",
            " dense_2 (Dense)             (None, 128)               8320      \n",
            "                                                                 \n",
            " dropout_3 (Dropout)         (None, 128)               0         \n",
            "                                                                 \n",
            " dense_3 (Dense)             (None, 5)                 645       \n",
            "                                                                 \n",
            "=================================================================\n",
            "Total params: 285,429\n",
            "Trainable params: 135,429\n",
            "Non-trainable params: 150,000\n",
            "_________________________________________________________________\n"
          ]
        }
      ]
    },
    {
      "cell_type": "code",
      "source": [
        "hist2 = model2.fit(X_train, y_train, epochs=35, validation_split=0.2)"
      ],
      "metadata": {
        "colab": {
          "base_uri": "https://localhost:8080/"
        },
        "id": "wOkvDMaIPr__",
        "outputId": "47e6c260-6149-4cd0-d758-108f9363034c"
      },
      "execution_count": null,
      "outputs": [
        {
          "output_type": "stream",
          "name": "stdout",
          "text": [
            "Epoch 1/35\n",
            "453/453 [==============================] - 93s 194ms/step - loss: 1.2298 - accuracy: 0.5520 - val_loss: 1.1925 - val_accuracy: 0.5471\n",
            "Epoch 2/35\n",
            "453/453 [==============================] - 86s 190ms/step - loss: 1.1806 - accuracy: 0.5533 - val_loss: 1.1571 - val_accuracy: 0.5471\n",
            "Epoch 3/35\n",
            "453/453 [==============================] - 88s 194ms/step - loss: 1.1475 - accuracy: 0.5550 - val_loss: 1.1554 - val_accuracy: 0.5501\n",
            "Epoch 4/35\n",
            "453/453 [==============================] - 86s 191ms/step - loss: 1.1259 - accuracy: 0.5607 - val_loss: 1.1189 - val_accuracy: 0.5573\n",
            "Epoch 5/35\n",
            "453/453 [==============================] - 90s 199ms/step - loss: 1.1038 - accuracy: 0.5670 - val_loss: 1.1073 - val_accuracy: 0.5603\n",
            "Epoch 6/35\n",
            "453/453 [==============================] - 101s 223ms/step - loss: 1.0814 - accuracy: 0.5700 - val_loss: 1.0980 - val_accuracy: 0.5611\n",
            "Epoch 7/35\n",
            "453/453 [==============================] - 93s 206ms/step - loss: 1.0606 - accuracy: 0.5755 - val_loss: 1.0851 - val_accuracy: 0.5653\n",
            "Epoch 8/35\n",
            "453/453 [==============================] - 91s 200ms/step - loss: 1.0372 - accuracy: 0.5827 - val_loss: 1.0964 - val_accuracy: 0.5482\n",
            "Epoch 9/35\n",
            "453/453 [==============================] - 90s 199ms/step - loss: 1.0126 - accuracy: 0.5904 - val_loss: 1.1031 - val_accuracy: 0.5700\n",
            "Epoch 10/35\n",
            "453/453 [==============================] - 95s 210ms/step - loss: 0.9923 - accuracy: 0.5955 - val_loss: 1.1024 - val_accuracy: 0.5592\n",
            "Epoch 11/35\n",
            "453/453 [==============================] - 89s 196ms/step - loss: 0.9672 - accuracy: 0.6037 - val_loss: 1.0848 - val_accuracy: 0.5520\n",
            "Epoch 12/35\n",
            "453/453 [==============================] - 89s 195ms/step - loss: 0.9403 - accuracy: 0.6160 - val_loss: 1.0882 - val_accuracy: 0.5636\n",
            "Epoch 13/35\n",
            "453/453 [==============================] - 87s 192ms/step - loss: 0.9160 - accuracy: 0.6219 - val_loss: 1.1204 - val_accuracy: 0.5570\n",
            "Epoch 14/35\n",
            "453/453 [==============================] - 92s 202ms/step - loss: 0.8844 - accuracy: 0.6343 - val_loss: 1.1442 - val_accuracy: 0.5333\n",
            "Epoch 15/35\n",
            "453/453 [==============================] - 87s 193ms/step - loss: 0.8663 - accuracy: 0.6432 - val_loss: 1.1444 - val_accuracy: 0.5518\n",
            "Epoch 16/35\n",
            "453/453 [==============================] - 89s 197ms/step - loss: 0.8312 - accuracy: 0.6507 - val_loss: 1.2044 - val_accuracy: 0.5280\n",
            "Epoch 17/35\n",
            "453/453 [==============================] - 89s 196ms/step - loss: 0.8067 - accuracy: 0.6657 - val_loss: 1.2061 - val_accuracy: 0.5418\n",
            "Epoch 18/35\n",
            "453/453 [==============================] - 88s 194ms/step - loss: 0.7796 - accuracy: 0.6756 - val_loss: 1.2747 - val_accuracy: 0.5454\n",
            "Epoch 19/35\n",
            "453/453 [==============================] - 90s 199ms/step - loss: 0.7484 - accuracy: 0.6873 - val_loss: 1.3179 - val_accuracy: 0.5115\n",
            "Epoch 20/35\n",
            "453/453 [==============================] - 97s 214ms/step - loss: 0.7189 - accuracy: 0.7009 - val_loss: 1.3294 - val_accuracy: 0.5437\n",
            "Epoch 21/35\n",
            "453/453 [==============================] - 90s 199ms/step - loss: 0.6924 - accuracy: 0.7139 - val_loss: 1.3914 - val_accuracy: 0.5399\n",
            "Epoch 22/35\n",
            "453/453 [==============================] - 90s 199ms/step - loss: 0.6712 - accuracy: 0.7216 - val_loss: 1.3868 - val_accuracy: 0.5275\n",
            "Epoch 23/35\n",
            "453/453 [==============================] - 90s 199ms/step - loss: 0.6419 - accuracy: 0.7338 - val_loss: 1.4598 - val_accuracy: 0.5164\n",
            "Epoch 24/35\n",
            "453/453 [==============================] - 90s 200ms/step - loss: 0.6173 - accuracy: 0.7464 - val_loss: 1.5745 - val_accuracy: 0.5297\n",
            "Epoch 25/35\n",
            "453/453 [==============================] - 90s 199ms/step - loss: 0.5924 - accuracy: 0.7533 - val_loss: 1.6187 - val_accuracy: 0.5396\n",
            "Epoch 26/35\n",
            "453/453 [==============================] - 90s 199ms/step - loss: 0.5744 - accuracy: 0.7630 - val_loss: 1.6080 - val_accuracy: 0.5228\n",
            "Epoch 27/35\n",
            "453/453 [==============================] - 91s 200ms/step - loss: 0.5419 - accuracy: 0.7747 - val_loss: 1.7275 - val_accuracy: 0.5134\n",
            "Epoch 28/35\n",
            "453/453 [==============================] - 91s 200ms/step - loss: 0.5188 - accuracy: 0.7836 - val_loss: 1.7622 - val_accuracy: 0.4935\n",
            "Epoch 29/35\n",
            "453/453 [==============================] - 91s 201ms/step - loss: 0.5057 - accuracy: 0.7909 - val_loss: 1.8139 - val_accuracy: 0.5021\n",
            "Epoch 30/35\n",
            "453/453 [==============================] - 92s 203ms/step - loss: 0.4849 - accuracy: 0.8025 - val_loss: 1.9090 - val_accuracy: 0.5054\n",
            "Epoch 31/35\n",
            "453/453 [==============================] - 93s 205ms/step - loss: 0.4659 - accuracy: 0.8113 - val_loss: 1.9362 - val_accuracy: 0.5230\n",
            "Epoch 32/35\n",
            "453/453 [==============================] - 91s 201ms/step - loss: 0.4481 - accuracy: 0.8179 - val_loss: 2.0068 - val_accuracy: 0.4910\n",
            "Epoch 33/35\n",
            "453/453 [==============================] - 92s 203ms/step - loss: 0.4376 - accuracy: 0.8197 - val_loss: 2.0693 - val_accuracy: 0.4971\n",
            "Epoch 34/35\n",
            "453/453 [==============================] - 92s 203ms/step - loss: 0.4201 - accuracy: 0.8290 - val_loss: 2.1082 - val_accuracy: 0.4927\n",
            "Epoch 35/35\n",
            "453/453 [==============================] - 91s 200ms/step - loss: 0.4054 - accuracy: 0.8370 - val_loss: 2.2071 - val_accuracy: 0.5247\n"
          ]
        }
      ]
    },
    {
      "cell_type": "code",
      "source": [
        "epoch_count = range(1, len(hist2.history['accuracy']) + 1)\n",
        "sns.lineplot(x=epoch_count,  y=hist2.history['accuracy'], label='train')\n",
        "sns.lineplot(x=epoch_count,  y=hist2.history['val_accuracy'], label='valid')\n",
        "plt.show()"
      ],
      "metadata": {
        "colab": {
          "base_uri": "https://localhost:8080/",
          "height": 266
        },
        "id": "iBnJQ4UjPwMY",
        "outputId": "463a1fd3-8540-40f0-ec37-598ae44f64e1"
      },
      "execution_count": null,
      "outputs": [
        {
          "output_type": "display_data",
          "data": {
            "text/plain": [
              "<Figure size 432x288 with 1 Axes>"
            ],
            "image/png": "[encoded data removed]"
          },
          "metadata": {
            "needs_background": "light"
          }
        }
      ]
    },
    {
      "cell_type": "markdown",
      "source": [
        "### 4 - Entrenar el modelo con Embeddings Fasttext + LSTM y class weight (balance de clases)"
      ],
      "metadata": {
        "id": "ZgjfFO2EJ5dF"
      }
    },
    {
      "cell_type": "code",
      "source": [
        "model3 = Sequential()\n",
        "\n",
        "model3.add(Embedding(input_dim=vocab_size, output_dim=embed_dim, input_length=in_shape,\n",
        "                     weights=[embedding_matrix], trainable=False))\n",
        "\n",
        "model3.add(LSTM(units=64, return_sequences=True))\n",
        "model3.add(Dropout(0.2))\n",
        "model3.add(LSTM(units=64)) # La última capa LSTM no lleva return_sequences\n",
        "\n",
        "model3.add(Dense(units=128, activation='relu'))\n",
        "model3.add(Dropout(rate=0.2))\n",
        "model3.add(Dense(units=out_shape, activation='softmax'))\n",
        "\n",
        "model3.compile(optimizer=\"adam\",\n",
        "              loss='categorical_crossentropy',\n",
        "              metrics=['accuracy'])\n",
        "\n",
        "model3.summary()"
      ],
      "metadata": {
        "colab": {
          "base_uri": "https://localhost:8080/"
        },
        "id": "DNH0i514KlOP",
        "outputId": "27953b7b-ba08-4543-91cc-cf5485b9454f"
      },
      "execution_count": null,
      "outputs": [
        {
          "output_type": "stream",
          "name": "stdout",
          "text": [
            "Model: \"sequential_2\"\n",
            "_________________________________________________________________\n",
            " Layer (type)                Output Shape              Param #   \n",
            "=================================================================\n",
            " embedding_3 (Embedding)     (None, 115, 300)          150000    \n",
            "                                                                 \n",
            " lstm_4 (LSTM)               (None, 115, 64)           93440     \n",
            "                                                                 \n",
            " dropout_4 (Dropout)         (None, 115, 64)           0         \n",
            "                                                                 \n",
            " lstm_5 (LSTM)               (None, 64)                33024     \n",
            "                                                                 \n",
            " dense_4 (Dense)             (None, 128)               8320      \n",
            "                                                                 \n",
            " dropout_5 (Dropout)         (None, 128)               0         \n",
            "                                                                 \n",
            " dense_5 (Dense)             (None, 5)                 645       \n",
            "                                                                 \n",
            "=================================================================\n",
            "Total params: 285,429\n",
            "Trainable params: 135,429\n",
            "Non-trainable params: 150,000\n",
            "_________________________________________________________________\n"
          ]
        }
      ]
    },
    {
      "cell_type": "code",
      "source": [
        "from sklearn.utils.class_weight import compute_class_weight\n",
        "\n",
        "y_integers = np.argmax(y, axis = 0)\n",
        "class_weights = compute_class_weight(class_weight = 'balanced', classes = np.unique(y_integers), y = y_integers)\n",
        "d_class_weights = dict(enumerate(class_weights))"
      ],
      "metadata": {
        "id": "BfgQlmXJaE4U"
      },
      "execution_count": null,
      "outputs": []
    },
    {
      "cell_type": "code",
      "source": [
        "hist3 = model3.fit(X_train, y_train, epochs = 35, validation_split = 0.2, class_weight = d_class_weights)"
      ],
      "metadata": {
        "colab": {
          "base_uri": "https://localhost:8080/"
        },
        "id": "TwmvJgiYJ-Xz",
        "outputId": "d58a1474-d890-4b72-94ec-5177e4f47be9"
      },
      "execution_count": null,
      "outputs": [
        {
          "output_type": "stream",
          "name": "stdout",
          "text": [
            "Epoch 1/35\n",
            "453/453 [==============================] - 97s 202ms/step - loss: 1.2276 - accuracy: 0.5532 - val_loss: 1.1942 - val_accuracy: 0.5471\n",
            "Epoch 2/35\n",
            "453/453 [==============================] - 91s 201ms/step - loss: 1.1778 - accuracy: 0.5551 - val_loss: 1.1590 - val_accuracy: 0.5506\n",
            "Epoch 3/35\n",
            "453/453 [==============================] - 93s 205ms/step - loss: 1.1455 - accuracy: 0.5573 - val_loss: 1.1336 - val_accuracy: 0.5542\n",
            "Epoch 4/35\n",
            "453/453 [==============================] - 92s 202ms/step - loss: 1.1173 - accuracy: 0.5647 - val_loss: 1.1267 - val_accuracy: 0.5551\n",
            "Epoch 5/35\n",
            "453/453 [==============================] - 92s 204ms/step - loss: 1.0925 - accuracy: 0.5694 - val_loss: 1.1011 - val_accuracy: 0.5595\n",
            "Epoch 6/35\n",
            "453/453 [==============================] - 92s 203ms/step - loss: 1.0693 - accuracy: 0.5729 - val_loss: 1.1010 - val_accuracy: 0.5622\n",
            "Epoch 7/35\n",
            "453/453 [==============================] - 90s 199ms/step - loss: 1.0451 - accuracy: 0.5801 - val_loss: 1.0845 - val_accuracy: 0.5675\n",
            "Epoch 8/35\n",
            "453/453 [==============================] - 92s 204ms/step - loss: 1.0263 - accuracy: 0.5847 - val_loss: 1.0839 - val_accuracy: 0.5642\n",
            "Epoch 9/35\n",
            "453/453 [==============================] - 92s 203ms/step - loss: 1.0011 - accuracy: 0.5940 - val_loss: 1.0961 - val_accuracy: 0.5656\n",
            "Epoch 10/35\n",
            "453/453 [==============================] - 91s 201ms/step - loss: 0.9780 - accuracy: 0.5985 - val_loss: 1.0846 - val_accuracy: 0.5647\n",
            "Epoch 11/35\n",
            "453/453 [==============================] - 93s 205ms/step - loss: 0.9487 - accuracy: 0.6109 - val_loss: 1.0944 - val_accuracy: 0.5653\n",
            "Epoch 12/35\n",
            "453/453 [==============================] - 92s 204ms/step - loss: 0.9251 - accuracy: 0.6177 - val_loss: 1.0922 - val_accuracy: 0.5564\n",
            "Epoch 13/35\n",
            "453/453 [==============================] - 92s 202ms/step - loss: 0.8986 - accuracy: 0.6247 - val_loss: 1.1117 - val_accuracy: 0.5363\n",
            "Epoch 14/35\n",
            "453/453 [==============================] - 92s 203ms/step - loss: 0.8765 - accuracy: 0.6353 - val_loss: 1.1327 - val_accuracy: 0.5523\n",
            "Epoch 15/35\n",
            "453/453 [==============================] - 92s 203ms/step - loss: 0.8396 - accuracy: 0.6486 - val_loss: 1.1821 - val_accuracy: 0.5473\n",
            "Epoch 16/35\n",
            "453/453 [==============================] - 91s 201ms/step - loss: 0.8161 - accuracy: 0.6579 - val_loss: 1.1807 - val_accuracy: 0.5551\n",
            "Epoch 17/35\n",
            "453/453 [==============================] - 92s 204ms/step - loss: 0.7835 - accuracy: 0.6754 - val_loss: 1.2199 - val_accuracy: 0.5457\n",
            "Epoch 18/35\n",
            "453/453 [==============================] - 93s 205ms/step - loss: 0.7468 - accuracy: 0.6893 - val_loss: 1.2412 - val_accuracy: 0.5509\n",
            "Epoch 19/35\n",
            "453/453 [==============================] - 91s 201ms/step - loss: 0.7153 - accuracy: 0.7017 - val_loss: 1.3554 - val_accuracy: 0.5126\n",
            "Epoch 20/35\n",
            "453/453 [==============================] - 93s 205ms/step - loss: 0.6882 - accuracy: 0.7131 - val_loss: 1.3675 - val_accuracy: 0.5424\n",
            "Epoch 21/35\n",
            "453/453 [==============================] - 92s 203ms/step - loss: 0.6597 - accuracy: 0.7256 - val_loss: 1.4182 - val_accuracy: 0.5311\n",
            "Epoch 22/35\n",
            "453/453 [==============================] - 91s 200ms/step - loss: 0.6276 - accuracy: 0.7401 - val_loss: 1.4831 - val_accuracy: 0.5159\n",
            "Epoch 23/35\n",
            "453/453 [==============================] - 92s 204ms/step - loss: 0.6036 - accuracy: 0.7468 - val_loss: 1.5596 - val_accuracy: 0.5330\n",
            "Epoch 24/35\n",
            "453/453 [==============================] - 93s 205ms/step - loss: 0.5735 - accuracy: 0.7596 - val_loss: 1.6327 - val_accuracy: 0.5316\n",
            "Epoch 25/35\n",
            "453/453 [==============================] - 92s 202ms/step - loss: 0.5529 - accuracy: 0.7690 - val_loss: 1.6943 - val_accuracy: 0.5156\n",
            "Epoch 26/35\n",
            "453/453 [==============================] - 92s 204ms/step - loss: 0.5228 - accuracy: 0.7843 - val_loss: 1.6827 - val_accuracy: 0.5161\n",
            "Epoch 27/35\n",
            "453/453 [==============================] - 92s 204ms/step - loss: 0.5064 - accuracy: 0.7924 - val_loss: 1.7422 - val_accuracy: 0.5026\n",
            "Epoch 28/35\n",
            "453/453 [==============================] - 91s 201ms/step - loss: 0.4879 - accuracy: 0.7979 - val_loss: 1.8246 - val_accuracy: 0.5184\n",
            "Epoch 29/35\n",
            "453/453 [==============================] - 92s 203ms/step - loss: 0.4669 - accuracy: 0.8098 - val_loss: 1.8296 - val_accuracy: 0.5137\n",
            "Epoch 30/35\n",
            "453/453 [==============================] - 92s 204ms/step - loss: 0.4447 - accuracy: 0.8203 - val_loss: 1.9696 - val_accuracy: 0.5043\n",
            "Epoch 31/35\n",
            "453/453 [==============================] - 91s 200ms/step - loss: 0.4207 - accuracy: 0.8283 - val_loss: 2.0517 - val_accuracy: 0.5104\n",
            "Epoch 32/35\n",
            "453/453 [==============================] - 92s 203ms/step - loss: 0.4135 - accuracy: 0.8315 - val_loss: 2.0960 - val_accuracy: 0.5112\n",
            "Epoch 33/35\n",
            "453/453 [==============================] - 93s 205ms/step - loss: 0.4041 - accuracy: 0.8386 - val_loss: 2.1997 - val_accuracy: 0.5126\n",
            "Epoch 34/35\n",
            "453/453 [==============================] - 93s 204ms/step - loss: 0.3903 - accuracy: 0.8422 - val_loss: 2.2324 - val_accuracy: 0.5098\n",
            "Epoch 35/35\n",
            "453/453 [==============================] - 93s 205ms/step - loss: 0.3650 - accuracy: 0.8513 - val_loss: 2.4096 - val_accuracy: 0.5057\n"
          ]
        }
      ]
    },
    {
      "cell_type": "code",
      "source": [
        "epoch_count = range(1, len(hist3.history['accuracy']) + 1)\n",
        "sns.lineplot(x=epoch_count,  y=hist3.history['accuracy'], label='train')\n",
        "sns.lineplot(x=epoch_count,  y=hist3.history['val_accuracy'], label='valid')\n",
        "plt.show()"
      ],
      "metadata": {
        "colab": {
          "base_uri": "https://localhost:8080/",
          "height": 264
        },
        "id": "MjStSem4rSyH",
        "outputId": "56f994f7-b4c0-4dba-9e24-740d8855eb1c"
      },
      "execution_count": null,
      "outputs": [
        {
          "output_type": "display_data",
          "data": {
            "text/plain": [
              "<Figure size 432x288 with 1 Axes>"
            ],
            "image/png": "[encoded data removed]"
          },
          "metadata": {
            "needs_background": "light"
          }
        }
      ]
    },
    {
      "cell_type": "markdown",
      "source": [
        "### 5 - Resumen\n",
        "\n",
        "num_words = 500\n",
        "En esta versión v2 del desafío del dataset **clothing ecommerce reviews** se entrenaron los mismos modelos que para la versión original, salvo que se modificó en el preprocesamiento el num_words a 500 el número minimo de aparación de palabras.\n",
        "\n",
        "Los resultados son similares a la versión anterior."
      ],
      "metadata": {
        "id": "ig1vbFD4P0xe"
      }
    }
  ]
}