{
  "nbformat": 4,
  "nbformat_minor": 0,
  "metadata": {
    "colab": {
      "name": "1a - word2vec.ipynb",
      "provenance": [],
      "collapsed_sections": []
    },
    "kernelspec": {
      "name": "python3",
      "display_name": "Python 3"
    },
    "language_info": {
      "name": "python"
    }
  },
  "cells": [
    {
      "cell_type": "markdown",
      "metadata": {
        "id": "Ue5hxxkdAQJg"
      },
      "source": [
        "<img src=\"https://github.com/FIUBA-Posgrado-Inteligencia-Artificial/procesamiento_lenguaje_natural/raw/main/logoFIUBA.jpg\" width=\"500\" align=\"center\">\n",
        "\n",
        "\n",
        "# Procesamiento de lenguaje natural\n",
        "## Word2vect\n"
      ]
    },
    {
      "cell_type": "code",
      "metadata": {
        "id": "kCED1hh-Ioyf"
      },
      "source": [
        "import numpy as np"
      ],
      "execution_count": 1,
      "outputs": []
    },
    {
      "cell_type": "code",
      "metadata": {
        "id": "PUbfVnzIIoMj"
      },
      "source": [
        "def cosine_similarity(a, b):\n",
        "    return np.dot(a, b) / (np.linalg.norm(a) * (np.linalg.norm(b)))"
      ],
      "execution_count": 2,
      "outputs": []
    },
    {
      "cell_type": "markdown",
      "metadata": {
        "id": "DMOa4JPSCJ29"
      },
      "source": [
        "### Datos"
      ]
    },
    {
      "cell_type": "code",
      "metadata": {
        "id": "RIO7b8GjAC17"
      },
      "source": [
        "corpus = np.array(['que dia es hoy', 'martes el dia de hoy es martes', 'martes muchas gracias'])"
      ],
      "execution_count": 3,
      "outputs": []
    },
    {
      "cell_type": "markdown",
      "metadata": {
        "id": "8WqdaTmO8P1r"
      },
      "source": [
        "Documento 1 --> que dia es hoy \\\n",
        "Documento 2 --> martes el dia de hoy es martes \\\n",
        "Documento 3 --> martes muchas gracias"
      ]
    },
    {
      "cell_type": "markdown",
      "metadata": {
        "id": "FVHxBRNzCMOS"
      },
      "source": [
        "### 1 - Obtener el vocabulario del corpus (los términos utilizados)\n",
        "- Cada documento transformarlo en una lista de términos\n",
        "- Armar un vector de términos no repetidos de todos los documentos"
      ]
    },
    {
      "cell_type": "code",
      "metadata": {
        "id": "3ZqTOZzDI7uv",
        "colab": {
          "base_uri": "https://localhost:8080/"
        },
        "outputId": "0bc10349-72d1-4639-a9b6-51d7e24d3f74"
      },
      "source": [
        "docum = []\n",
        "sum_words = []\n",
        "\n",
        "for doc in range(len(corpus)):\n",
        "  words = np.char.split(corpus[doc], ' ').item()\n",
        "  sum_words += words\n",
        "  docum.append(words)\n",
        "\n",
        "terminos = np.fromiter(set(sum_words), 'U10')\n",
        "\n",
        "print('Documentos como lista de términos:\\n')\n",
        "print(docum)\n",
        "\n",
        "print('\\nVector de términos:\\n')\n",
        "print(terminos)"
      ],
      "execution_count": 7,
      "outputs": [
        {
          "output_type": "stream",
          "name": "stdout",
          "text": [
            "Documentos como lista de términos:\n",
            "\n",
            "[['que', 'dia', 'es', 'hoy'], ['martes', 'el', 'dia', 'de', 'hoy', 'es', 'martes'], ['martes', 'muchas', 'gracias']]\n",
            "\n",
            "Vector de términos:\n",
            "\n",
            "['el' 'es' 'martes' 'muchas' 'de' 'gracias' 'hoy' 'que' 'dia']\n"
          ]
        }
      ]
    },
    {
      "cell_type": "markdown",
      "metadata": {
        "id": "RUhH983FI7It"
      },
      "source": [
        "### 2- OneHot encoding\n",
        "Data una lista de textos, devolver una matriz con la representación oneHotEncoding de estos"
      ]
    },
    {
      "cell_type": "code",
      "metadata": {
        "id": "Os0AAQo6I6Z1",
        "colab": {
          "base_uri": "https://localhost:8080/"
        },
        "outputId": "7497db09-a9f6-4edd-dd4e-e1151a1ed29d"
      },
      "source": [
        "ohe = np.zeros((len(corpus),len(terminos)))\n",
        "\n",
        "for doc in range(len(corpus)):\n",
        "  ohe_doc = np.zeros(len(terminos))\n",
        "  for word in docum[doc]:\n",
        "    ohe_doc[np.argwhere(word == terminos).item()] = 1\n",
        "  ohe[doc] = ohe_doc \n",
        "\n",
        "print('Matriz de OHE:\\n')\n",
        "print(ohe)"
      ],
      "execution_count": 8,
      "outputs": [
        {
          "output_type": "stream",
          "name": "stdout",
          "text": [
            "Matriz de OHE:\n",
            "\n",
            "[[0. 1. 0. 0. 0. 0. 1. 1. 1.]\n",
            " [1. 1. 1. 0. 1. 0. 1. 0. 1.]\n",
            " [0. 0. 1. 1. 0. 1. 0. 0. 0.]]\n"
          ]
        }
      ]
    },
    {
      "cell_type": "markdown",
      "metadata": {
        "id": "IIyWGmCpJVQL"
      },
      "source": [
        "### 3- Vectores de frecuencia\n",
        "Data una lista de textos, devolver una matriz con la representación de frecuencia de estos"
      ]
    },
    {
      "cell_type": "code",
      "metadata": {
        "id": "yqij_7eHJbUi",
        "colab": {
          "base_uri": "https://localhost:8080/"
        },
        "outputId": "e4c3248c-2180-4430-ba3a-e7557daf0ad4"
      },
      "source": [
        "frec = np.zeros((len(corpus), len(terminos)))\n",
        "\n",
        "for doc in range(len(corpus)):\n",
        "  frec_doc = np.zeros((len(docum[doc]), len(terminos)))\n",
        "  i = 0\n",
        "  for word in docum[doc]:\n",
        "    frec_doc[i, np.argwhere(word == terminos).item()] = 1\n",
        "    i += 1\n",
        "  frec[doc] = np.sum(frec_doc, axis = 0) \n",
        "\n",
        "print('Matriz de frecuencia:\\n')\n",
        "print(frec)"
      ],
      "execution_count": 9,
      "outputs": [
        {
          "output_type": "stream",
          "name": "stdout",
          "text": [
            "Matriz de frecuencia:\n",
            "\n",
            "[[0. 1. 0. 0. 0. 0. 1. 1. 1.]\n",
            " [1. 1. 2. 0. 1. 0. 1. 0. 1.]\n",
            " [0. 0. 1. 1. 0. 1. 0. 0. 0.]]\n"
          ]
        }
      ]
    },
    {
      "cell_type": "markdown",
      "metadata": {
        "id": "z_Ot8HvWJcBu"
      },
      "source": [
        "### 4- TF-IDF\n",
        "Data una lista de textos, devolver una matriz con la representacion TFIDF"
      ]
    },
    {
      "cell_type": "code",
      "metadata": {
        "id": "waG_oWtpJjRw",
        "colab": {
          "base_uri": "https://localhost:8080/"
        },
        "outputId": "e24b8611-0dd4-460c-bd3f-f8041988b4f5"
      },
      "source": [
        "idf = np.log10((len(corpus) * np.ones(len(terminos))) / np.sum(ohe, axis = 0))\n",
        "tf_idf = frec * idf\n",
        "\n",
        "print('Matriz TF-IDF:\\n')\n",
        "print(np.round(tf_idf, 3))"
      ],
      "execution_count": 14,
      "outputs": [
        {
          "output_type": "stream",
          "name": "stdout",
          "text": [
            "Matriz TF-IDF:\n",
            "\n",
            "[[0.    0.176 0.    0.    0.    0.    0.176 0.477 0.176]\n",
            " [0.477 0.176 0.352 0.    0.477 0.    0.176 0.    0.176]\n",
            " [0.    0.    0.176 0.477 0.    0.477 0.    0.    0.   ]]\n"
          ]
        }
      ]
    },
    {
      "cell_type": "markdown",
      "metadata": {
        "id": "xMcsfndWJjm_"
      },
      "source": [
        "### 5 - Comparación de documentos\n",
        "Realizar una funcion que reciba el corpus y el índice de un documento y devuelva los documentos ordenados por la similitud coseno"
      ]
    },
    {
      "cell_type": "code",
      "metadata": {
        "id": "CZdiop6IJpZN",
        "colab": {
          "base_uri": "https://localhost:8080/"
        },
        "outputId": "8e219541-e77f-438e-9447-79e6b50e25fb"
      },
      "source": [
        "def doc_compare(corpus, idx):\n",
        "  similarity = {}\n",
        "  for i in range(len(corpus)):\n",
        "    if i == idx:\n",
        "      continue\n",
        "    else:\n",
        "      similarity[corpus[i]] = cosine_similarity(tf_idf[idx], tf_idf[i])\n",
        "  list_sort = sorted(((value, key) for (key, value) in similarity.items()), reverse = True)\n",
        "  return list_sort\n",
        "\n",
        "doc_compare(corpus, 1)"
      ],
      "execution_count": 15,
      "outputs": [
        {
          "output_type": "execute_result",
          "data": {
            "text/plain": [
              "[(0.20034190268098703, 'que dia es hoy'),\n",
              " (0.10845711727883083, 'martes muchas gracias')]"
            ]
          },
          "metadata": {},
          "execution_count": 15
        }
      ]
    }
  ]
}