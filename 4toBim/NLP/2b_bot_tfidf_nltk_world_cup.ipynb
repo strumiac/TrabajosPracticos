{
  "nbformat": 4,
  "nbformat_minor": 0,
  "metadata": {
    "colab": {
      "name": "2b - bot_tfidf_nltk_world_cup.ipynb",
      "provenance": [],
      "collapsed_sections": []
    },
    "kernelspec": {
      "name": "python3",
      "display_name": "Python 3"
    },
    "language_info": {
      "name": "python"
    }
  },
  "cells": [
    {
      "cell_type": "markdown",
      "metadata": {
        "id": "Ue5hxxkdAQJg"
      },
      "source": [
        "<img src=\"https://github.com/hernancontigiani/ceia_memorias_especializacion/raw/master/Figures/logoFIUBA.jpg\" width=\"500\" align=\"center\">\n",
        "\n",
        "\n",
        "# Procesamiento de lenguaje natural\n",
        "## Bot con NLTK utilizando un corpus de wikipedia (FIFA World Cup)\n"
      ]
    },
    {
      "cell_type": "code",
      "metadata": {
        "id": "kCED1hh-Ioyf",
        "colab": {
          "base_uri": "https://localhost:8080/"
        },
        "outputId": "d895d9ca-9f56-407f-d8ad-d3eba50677a7"
      },
      "source": [
        "import json\n",
        "import string\n",
        "import random\n",
        "import re\n",
        "import urllib.request\n",
        "\n",
        "import numpy as np\n",
        "\n",
        "# Para leer y parsear el texto en HTML de wikipedia\n",
        "import bs4 as bs\n",
        "\n",
        "import nltk\n",
        "# Descargar el diccionario\n",
        "nltk.download(\"punkt\")\n",
        "nltk.download(\"wordnet\")\n",
        "nltk.download(\"stopwords\")\n",
        "nltk.download('omw-1.4')"
      ],
      "execution_count": 1,
      "outputs": [
        {
          "output_type": "stream",
          "name": "stderr",
          "text": [
            "[nltk_data] Downloading package punkt to /root/nltk_data...\n",
            "[nltk_data]   Unzipping tokenizers/punkt.zip.\n",
            "[nltk_data] Downloading package wordnet to /root/nltk_data...\n",
            "[nltk_data] Downloading package stopwords to /root/nltk_data...\n",
            "[nltk_data]   Unzipping corpora/stopwords.zip.\n",
            "[nltk_data] Downloading package omw-1.4 to /root/nltk_data...\n"
          ]
        },
        {
          "output_type": "execute_result",
          "data": {
            "text/plain": [
              "True"
            ]
          },
          "metadata": {},
          "execution_count": 1
        }
      ]
    },
    {
      "cell_type": "markdown",
      "metadata": {
        "id": "DMOa4JPSCJ29"
      },
      "source": [
        "### Datos\n",
        "Se consumira los datos del artículo de wikipedia sobre la \"historia de los mundiales de futbol\" en ingles."
      ]
    },
    {
      "cell_type": "code",
      "metadata": {
        "id": "RIO7b8GjAC17"
      },
      "source": [
        "raw_html = urllib.request.urlopen('https://en.wikipedia.org/wiki/FIFA_World_Cup')\n",
        "raw_html = raw_html.read()\n",
        "\n",
        "article_html = bs.BeautifulSoup(raw_html, 'lxml')\n",
        "\n",
        "article_paragraphs = article_html.find_all('p')\n",
        "\n",
        "article_text = ''\n",
        "\n",
        "for para in article_paragraphs:\n",
        "    article_text += para.text\n",
        "\n",
        "# paso todo a minúscula\n",
        "article_text = article_text.lower()"
      ],
      "execution_count": 2,
      "outputs": []
    },
    {
      "cell_type": "code",
      "metadata": {
        "id": "pUH30a1_rOkS",
        "colab": {
          "base_uri": "https://localhost:8080/",
          "height": 123
        },
        "outputId": "639a1ad5-d5e6-4b8a-e9ad-c91123334421"
      },
      "source": [
        "article_text"
      ],
      "execution_count": 3,
      "outputs": [
        {
          "output_type": "execute_result",
          "data": {
            "text/plain": [
              "'\\nthe fifa world cup, often simply called the world cup, is an international association football competition contested by the senior men\\'s national teams of the members of the fédération internationale de football association (fifa), the sport\\'s global governing body. the championship has been awarded every four years since the inaugural tournament in 1930, except in 1942 and 1946 when it was not held because of the second world war. the current champion is france, which won its second title at the 2018 tournament in russia.\\nthe current format involves a qualification phase, which takes place over the preceding three years, to determine which teams qualify for the tournament phase. in the tournament phase, 32 teams, including the automatically qualifying host nation(s), compete for the title at venues within the host nation(s) over about a month.\\nas of the 2018 fifa world cup, twenty-one final tournaments have been held and a total of 79 national teams have competed. the trophy has been won by eight national teams. brazil have won five times, and they are the only team to have played in every tournament. the other world cup winners are germany and italy, with four titles each; argentina, france, and inaugural winner uruguay, with two titles each; and england and spain, with one title each.\\nthe world cup is the most prestigious association football tournament in the world, as well as the most widely viewed and followed single sporting event in the world. the cumulative viewership of all matches of the 2006 world cup was estimated to be 26.29\\xa0billion with an estimated 715.1\\xa0million people watching the final match, a ninth of the entire population of the planet.[1][2][3][4]\\n17 countries have hosted the world cup. brazil, france, italy, germany, and mexico have each hosted twice, while uruguay, switzerland, sweden, chile, england, argentina, spain, the united states, japan and south korea (jointly), south africa, and russia have each hosted once. qatar will host the 2022 tournament, and 2026 will be jointly hosted by canada, the united states, and mexico, which will give mexico the distinction of being the first country to host games in three world cups.\\nthe world\\'s first international football match was a challenge match played in glasgow in 1872 between scotland and england,[5] which ended in a 0–0 draw. the first international tournament, the inaugural british home championship, took place in 1884.[6] as football grew in popularity in other parts of the world at the start of the 20th century, it was held as a demonstration sport with no medals awarded at the 1900 and 1904 summer olympics (however, the international olympic committee has retroactively upgraded their status to official events), and at the 1906 intercalated games.[7]\\nafter fifa was founded in 1904, it tried to arrange an international football tournament between nations outside the olympic framework in switzerland in 1906. these were very early days for international football, and the official history of fifa describes the competition as having been a failure.[8]\\nat the 1908 summer olympics in london, football became an official competition. planned by the football association (fa), england\\'s football governing body, the event was for amateur players only and was regarded suspiciously as a show rather than a competition. great britain (represented by the england national amateur football team) won the gold medals. they repeated the feat at the 1912 summer olympics in stockholm.[9]\\nwith the olympic event continuing to be contested only between amateur teams, sir thomas lipton organised the sir thomas lipton trophy tournament in turin in 1909. the lipton tournament was a championship between individual clubs (not national teams) from different nations, each one of which represented an entire nation. the competition is sometimes described as the first world cup,[10] and featured the most prestigious professional club sides from italy, germany and switzerland, but the fa of england refused to be associated with the competition and declined the offer to send a professional team. lipton invited west auckland, an amateur side from county durham, to represent england instead. west auckland won the tournament and returned in 1911 to successfully defend their title.[11]\\nin 1914, fifa agreed to recognise the olympic tournament as a \"world football championship for amateurs\", and took responsibility for managing the event.[12] this paved the way for the world\\'s first intercontinental football competition, at the 1920 summer olympics, contested by egypt and 13 european teams, and won by belgium.[13] uruguay won the next two olympic football tournaments in 1924 and 1928. those were also the first two open world championships, as 1924 was the start of fifa\\'s professional era.[14][15]\\ndue to the success of the olympic football tournaments, fifa, with president jules rimet as the driving force, again started looking at staging its own international tournament outside of the olympics. on 28 may 1928, the fifa congress in amsterdam decided to stage a world championship itself.[16] with uruguay now two-time official football world champions and to celebrate their centenary of independence in 1930, fifa named uruguay as the host country of the inaugural world cup tournament.[17]\\nthe national associations of selected nations were invited to send a team, but the choice of uruguay as a venue for the competition meant a long and costly trip across the atlantic ocean for european sides. indeed, no european country pledged to send a team until two months before the start of the competition. rimet eventually persuaded teams from belgium, france, romania, and yugoslavia to make the trip.[17] in total, 13 nations took part: seven from south america, four from europe, and two from north america.[18]\\nthe first two world cup matches took place simultaneously on 13 july 1930, and were won by france and the us, who defeated mexico 4–1 and belgium 3–0 respectively. the first goal in world cup history was scored by lucien laurent of france.[19] in the final, uruguay defeated argentina 4–2 in front of 93,000 people in montevideo, and became the first nation to win the world cup.[20] after the creation of the world cup, fifa and the ioc disagreed over the status of amateur players, and so football was dropped from the 1932 summer olympics.[21][22] after the ioc and fifa worked out their differences, olympic football returned at the 1936 summer olympics, but was now overshadowed by the more prestigious world cup.[21]\\nthe issues facing the early world cup tournaments were the difficulties of intercontinental travel, and war. few south american teams were willing to travel to europe for the 1934 world cup and all north and south american nations except brazil and cuba boycotted the 1938 tournament. brazil was the only south american team to compete in both. the 1942 and 1946 competitions, which germany and brazil sought to host,[23] were cancelled due to world war ii and its aftermath.[24]\\nthe 1950 world cup, held in brazil, was the first to include british participants. british teams withdrew from fifa in 1920, partly out of unwillingness to play against the countries they had been at war with, and partly as a protest against foreign influence on football,[25] but rejoined in 1946 following fifa\\'s invitation.[26] the tournament also saw the return of 1930 champions uruguay, who had boycotted the previous two world cups. uruguay won the tournament again after defeating the host nation brazil, in the match called \"maracanazo\" (portuguese: maracanaço).[27]\\nin the tournaments between 1934 and 1978, 16 teams competed in each tournament, except in 1938, when austria was absorbed into germany after qualifying, leaving the tournament with 15 teams, and in 1950, when india, scotland, and turkey withdrew, leaving the tournament with 13 teams.[28] most of the participating nations were from europe and south america, with a small minority from north america, africa, asia, and oceania. these teams were usually defeated easily by the european and south american teams. until 1982, the only teams from outside europe and south america to advance out of the first round were: usa, semi-finalists in 1930; cuba, quarter-finalists in 1938; north korea, quarter-finalists in 1966; and mexico, quarter-finalists in 1970.\\nthe tournament was expanded to 24 teams in 1982,[29] and then to 32 in 1998,[30] also allowing more teams from africa, asia and north america to take part. since then, teams from these regions have enjoyed more success, with several having reached the quarter-finals: mexico, quarter-finalists in 1986; cameroon, quarter-finalists in 1990; south korea, finishing in fourth place in 2002; senegal, along with usa, both quarter-finalists in 2002; ghana, quarter-finalists in 2010; and costa rica, quarter-finalists in 2014. nevertheless, european and south american teams continue to dominate, e.g., the quarter-finalists in 1994, 1998, 2006 and 2018 were all from europe or south america and so were the finalists of all tournaments so far.\\ntwo hundred teams entered the 2002 fifa world cup qualification rounds; 198 nations attempted to qualify for the 2006 fifa world cup, while a record 204 countries entered qualification for the 2010 fifa world cup.[31]\\nin october 2013, sepp blatter spoke of guaranteeing the caribbean football union\\'s region a position in the world cup.[32] in the edition of 25 october 2013 of the fifa weekly blatter wrote that: \"from a purely sporting perspective, i would like to see globalisation finally taken seriously, and the african and asian national associations accorded the status they deserve at the fifa world cup. it cannot be that the european and south american confederations lay claim to the majority of the berths at the world cup.\"[33] those two remarks suggested to commentators that blatter could be putting himself forward for re-election to the fifa presidency.[34]\\nfollowing the magazine\\'s publication, blatter\\'s would-be opponent for the fifa presidency, uefa president michel platini, responded that he intended to extend the world cup to 40 national associations, increasing the number of participants by eight. platini said that he would allocate an additional berth to uefa, two each to the asian football confederation and the confederation of african football, two shared between concacaf and conmebol, and a guaranteed place for the oceania football confederation.[35] platini was clear about why he wanted to expand the world cup. he said: \"[the world cup is] not based on the quality of the teams because you don\\'t have the best 32 at the world cup\\xa0... but it\\'s a good compromise.\\xa0... it\\'s a political matter so why not have more africans? the competition is to bring all the people of all the world. if you don\\'t give the possibility to participate, they don\\'t improve.\"[35]\\nin october 2016, fifa president gianni infantino stated his support for a 48-team world cup in 2026.[36] on 10 january 2017, fifa confirmed the 2026 world cup will have 48 finalist teams.[37]\\nby may 2015, the games were under a particularly dark cloud because of the 2015 fifa corruption case, allegations and criminal charges of bribery, fraud and money laundering to corrupt the issuing of media and marketing rights (rigged bids) for fifa games,[38] with fifa officials accused of taking bribes totaling more than $150\\xa0million over 24 years. in late may, the us department of justice announced a 47-count indictment with charges of racketeering, wire fraud and money laundering conspiracy against 14 people. arrests of over a dozen fifa officials were made since that time, particularly on 29 may and 3 december.[39] by the end of may 2015, a total of nine fifa officials and five executives of sports and broadcasting markets had already been charged on corruption. at the time, fifa president sepp blatter announced he would relinquish his position in february 2016.[40]\\non 4 june 2015 chuck blazer while co-operating with the fbi and the swiss authorities admitted that he and the other members of fifa\\'s then-executive committee were bribed in order to promote the 1998 and 2010 world cups.[41] on 10 june 2015, swiss authorities seized computer data from the offices of sepp blatter.[42] the same day, fifa postponed the bidding process for the 2026 fifa world cup in light of the allegations surrounding bribery in the awarding of the 2018 and 2022 tournaments. then-secretary general jérôme valcke stated, \"due to the situation, i think it\\'s nonsense to start any bidding process for the time being.\"[43] on 28 october 2015, blatter and fifa vp michel platini, a potential candidate for presidency, were suspended for 90 days; both maintained their innocence in statements made to the news media.[44]\\non 3 december 2015 two fifa vice-presidents were arrested on suspicion of bribery in the same zurich hotel where seven fifa officials had been arrested in may.[45] an additional 16 indictments by the us department of justice were announced on the same day.[46]\\na biennial world cup plan was first proposed by the saudi arabian football federation at the 71st fifa congress on 21 may 2021 and prominently backed by former arsenal manager arsène wenger and national federations in africa and asia. however, according to a fifa-commissioned poll and the fifa council discussion on 20 october 2021, the majority of football fans still support the four-year world cup cycle — and continental confederations such as uefa and conmebol are not on board with the plan.[47][48]\\nan equivalent tournament for women\\'s football, the fifa women\\'s world cup, was first held in 1991 in china.[49] the women\\'s tournament is smaller in scale and profile than the men\\'s, but is growing; the number of entrants for the 2007 tournament was 120, more than double that of 1991.[50]\\nmen\\'s football has been included in every summer olympic games except 1896 and 1932. unlike many other sports, the men\\'s football tournament at the olympics is not a top-level tournament, and since 1992, an under-23 tournament with each team allowed three over-age players.[51] women\\'s football made its olympic debut in 1996.\\nthe fifa confederations cup was a tournament held one year before the world cup at the world cup host nation(s) as a dress rehearsal for the upcoming world cup. it is contested by the winners of each of the six fifa confederation championships, along with the fifa world cup champion and the host country.[52] the first edition took place in 1992 and the last edition was played in 2017. in march 2019, fifa confirmed that the tournament would no longer be active owing to an expansion of the fifa club world cup in 2021.[53]\\nfifa also organises international tournaments for youth football (fifa u-20 world cup, fifa u-17 world cup, fifa u-20 women\\'s world cup, fifa u-17 women\\'s world cup), club football (fifa club world cup), and football variants such as futsal (fifa futsal world cup) and beach soccer (fifa beach soccer world cup). the latter three do not have a women\\'s version, although a fifa women\\'s club world cup has been proposed.[54]\\nthe fifa u-20 women\\'s world cup is held the year before each women\\'s world cup and both tournaments are awarded in a single bidding process. the u-20 tournament serves as a dress rehearsal for the larger competition.[55]\\nfrom 1930 to 1970, the jules rimet trophy was awarded to the world cup winning team. it was originally simply known as the world cup or coupe du monde, but in 1946 it was renamed after the fifa president jules rimet who set up the first tournament. in 1970, brazil\\'s third victory in the tournament entitled them to keep the trophy permanently. however, the trophy was stolen in 1983 and has never been recovered, apparently melted down by the thieves.[56]\\nafter 1970, a new trophy, known as the fifa world cup trophy, was designed. the experts of fifa, coming from seven countries, evaluated the 53 presented models, finally opting for the work of the italian designer silvio gazzaniga. the new trophy is 36\\xa0cm (14.2\\xa0in) high, made of solid 18 carat (75%) gold and weighs 6.175\\xa0kg (13.6\\xa0lb).[57] the base contains two layers of semi-precious malachite while the bottom side of the trophy bears the engraved year and name of each fifa world cup winner since 1974.[57] the description of the trophy by gazzaniga was: \"the lines spring out from the base, rising in spirals, stretching out to receive the world. from the remarkable dynamic tensions of the compact body of the sculpture rise the figures of two athletes at the stirring moment of victory.\"[58]\\nthis new trophy is not awarded to the winning nation permanently. world cup winners retain the trophy only until the post-match celebration is finished. they are awarded a gold-plated replica rather than the solid gold original immediately afterwards.[59]\\ncurrently, all members (players, coaches, and managers) of the top three teams receive medals with an insignia of the world cup trophy; winners\\' (gold), runners-up\\' (silver), and third-place (bronze). in the 2002 edition, fourth-place medals were awarded to hosts south korea. before the 1978 tournament, medals were only awarded to the eleven players on the pitch at the end of the final and the third-place match. in november 2007, fifa announced that all members of world cup-winning squads between 1930 and 1974 were to be retroactively awarded winners\\' medals.[60][61][62]\\nsince 2006, winners of the competition are also awarded the right to wear the fifa champions badge, up until the time at which the winner of the next competition is decided.[63]\\nsince the second world cup in 1934, qualifying tournaments have been held to thin the field for the final tournament.[64] they are held within the six fifa continental zones (africa, asia, north and central america and caribbean, south america, oceania, and europe), overseen by their respective confederations. for each tournament, fifa decides the number of places awarded to each of the continental zones beforehand, generally based on the relative strength of the confederations\\' teams.\\nthe qualification process can start as early as almost three years before the final tournament and last over a two-year period. the formats of the qualification tournaments differ between confederations. usually, one or two places are awarded to winners of intercontinental play-offs. for example, the winner of the oceanian zone and the fifth-placed team from the asian zone entered a play-off for a spot in the 2010 world cup.[65] from the 1938 world cup onwards, host nations receive automatic qualification to the final tournament. this right was also granted to the defending champions between 1938 and 2002, but was withdrawn from the 2006 fifa world cup onward, requiring the champions to qualify. brazil, winners in 2002, were the first defending champions to play qualifying matches.[66]\\nthe current final tournament has been used since 1998 and features 32 national teams competing over the course of a month in the host nations. there are two stages: the group stage followed by the knockout stage.[67]\\nin the group stage, teams compete within eight groups of four teams each. eight teams are seeded, including the hosts, with the other seeded teams selected using a formula based on the fifa world rankings or performances in recent world cups, and drawn to separate groups.[68] the other teams are assigned to different \"pots\", usually based on geographical criteria, and teams in each pot are drawn at random to the eight groups. since 1998, constraints have been applied to the draw to ensure that no group contains more than two european teams or more than one team from any other confederation.[69]\\neach group plays a round-robin tournament, in which each team is scheduled for three matches against other teams in the same group. this means that a total of six matches are played within a group. the last round of matches of each group is scheduled at the same time to preserve fairness among all four teams.[70] the top two teams from each group advance to the knockout stage. points are used to rank the teams within a group. since 1994, three points have been awarded for a win, one for a draw and none for a loss (before, winners received two points).\\nif one considers all possible outcomes (win, draw, loss) for all six matches in a group, there are 729 (= 36) outcome combinations possible. however, 207 of these combinations lead to ties between the second and third places. in such case, the ranking among these teams is determined as follows:[71]\\nthe knockout stage is a single-elimination tournament in which teams play each other in one-off matches, with extra time and penalty shootouts used to decide the winner if necessary. it begins with the round of 16 (or the second round) in which the winner of each group plays against the runner-up of another group. this is followed by the quarter-finals, the semi-finals, the third-place match (contested by the losing semi-finalists), and the final.[67]\\non 10 january 2017, fifa approved a new format, the 48-team world cup (to accommodate more teams), which consists of 16 groups of three teams each, with two teams qualifying from each group, to form a round of 32 knockout stage, to be implemented by 2026.[72]\\nearly world cups were given to countries at meetings of fifa\\'s congress. the locations were controversial because south america and europe were by far the two centres of strength in football and travel between them required three weeks by boat. the decision to hold the first world cup in uruguay, for example, led to only four european nations competing.[73] the next two world cups were both held in europe. the decision to hold the second of these in france was disputed, as the south american countries understood that the location would alternate between the two continents. both argentina and uruguay thus boycotted the 1938 fifa world cup.[74]\\nsince the 1958 fifa world cup, to avoid future boycotts or controversy, fifa began a pattern of alternating the hosts between the americas and europe, which continued until the 1998 fifa world cup. the 2002 fifa world cup, hosted jointly by south korea and japan, was the first one held in asia, and the first tournament with multiple hosts.[75] south africa became the first african nation to host the world cup in 2010. the 2014 fifa world cup was hosted by brazil, the first held in south america since argentina 1978,[76] and was the first occasion where consecutive world cups were held outside europe.[77]\\nthe host country is now chosen in a vote by fifa\\'s council. this is done under an exhaustive ballot system. the national football association of a country desiring to host the event receives a \"hosting agreement\" from fifa, which explains the steps and requirements that are expected from a strong bid. the bidding association also receives a form, the submission of which represents the official confirmation of the candidacy. after this, a fifa designated group of inspectors visit the country to identify that the country meets the requirements needed to host the event and a report on the country is produced. the decision on who will host the world cup is usually made six or seven years in advance of the tournament. however, there have been occasions where the hosts of multiple future tournaments were announced at the same time, as was the case for the 2018 and 2022 world cups, which were awarded to russia and qatar, with qatar becoming the first middle eastern country to host the tournament.[78][79]\\nfor the 2010 and 2014 world cups, the final tournament is rotated between confederations, allowing only countries from the chosen confederation (africa in 2010, south america in 2014) to bid to host the tournament. the rotation policy was introduced after the controversy surrounding germany\\'s victory over south africa in the vote to host the 2006 tournament. however, the policy of continental rotation did not continue beyond 2014, so any country, except those belonging to confederations that hosted the two preceding tournaments, can apply as hosts for world cups starting from 2018.[80] this is partly to avoid a similar scenario to the bidding process for the 2014 tournament, where brazil was the only official bidder.[81]\\nthe 2026 fifa world cup was chosen to be held in the united states, canada and mexico, marking the first time a world cup has been shared by three host nations.[82] the 2026 tournament will be the biggest world cup ever held, with 48 teams playing 80 matches. sixty matches will take place in the us, including all matches from the quarter-finals onward, while canada and mexico will host 10 games each.[82]\\nsix of the eight champions have won one of their titles while playing in their own homeland, the exceptions being brazil, who finished as runners-up after losing the deciding match on home soil in 1950 and lost their semi-final against germany in 2014, and spain, which reached the second round on home soil in 1982. england (1966) won its only title while playing as a host nation. uruguay (1930), italy (1934), argentina (1978), and \\nfrance (1998) won their first titles as host nations but have gone on to win again, while germany (1974) won their second title on home soil.[83]\\nother nations have also been successful when hosting the tournament. switzerland (quarter-finals 1954), sweden (runners-up in 1958), chile (third place in 1962), south korea (fourth place in 2002), and mexico (quarter-finals in 1970 and 1986) all have their best results when serving as hosts. so far, south africa (2010) has been the only host nation to fail to advance beyond the first round.[84]\\n source: fifa[86]\\n the best-attended single match, shown in the last three columns, has been the final in 11 of the 21 world cups as of 2018[update]. another match or matches drew more attendance than the final in 1930, 1938, 1958, 1962, 1970–1982, 1990, and 2006.\\nthe world cup was first televised in 1954 and is now the most widely viewed and followed sporting event in the world. the cumulative viewership of all matches of the 2006 world cup was estimated to be 26.29\\xa0billion.[1] 715.1\\xa0million individuals watched the final match of the tournament, almost a ninth of the entire population of the planet. the 2006 world cup draw, which decided the distribution of teams into groups, was watched by 300\\xa0million viewers.[87] the world cup attracts many sponsors such as coca-cola, mcdonald\\'s and adidas. for these companies and many more, being a sponsor strongly impacts their global brands. host countries typically experience a multimillion-dollar revenue increase from the month-long event.\\nthe governing body of the sport, fifa, generated $4.8\\xa0billion in revenue from the 2014 tournament,[88] and $6.1\\xa0billion from the 2018 tournament.[89]\\neach fifa world cup since 1966 has its own mascot or logo. world cup willie, the mascot for the 1966 competition, was the first world cup mascot.[90] world cups feature official match balls specially designed for each tournament. after slazenger produced the ball for the 1966 world cup adidas became the official supplier to fifa.[91] each world cup also has an official song, which have been performed by artists ranging from shakira to will smith.[92][93] other songs, such as “nessun dorma”, performed by the three tenors at four world cup concerts, have also become identified with the tournament.[94]\\n\\nforming a partnership with fifa in 1970, panini published its first sticker album for the 1970 world cup.[95] since then, collecting and trading stickers and cards has become part of the world cup experience, especially for the younger generation.[96] fifa has also licensed world cup video games since 1986, with electronic arts the current license holder.[95]in all, 79 nations have played in at least one world cup.[100] of these, eight national teams have won the world cup, and they have added stars to their badges, with each star representing a world cup victory. (uruguay, however, choose to display four stars on their badge, representing their two gold medals at the 1924 and 1928 summer olympics, which are recognised by fifa as world championships, and their two world cup titles in 1930 and 1950).\\nwith five titles, brazil are the most successful world cup team and also the only nation to have played in every world cup (21) to date.[101] brazil were also the first team to win the world cup for the third (1970), fourth (1994) and fifth (2002) time. italy (1934 and 1938) and brazil (1958 and 1962) are the only nations to have won consecutive titles. west germany (1982–1990) and brazil (1994–2002) are the only nations to appear in three consecutive world cup finals. germany has made the most top-four finishes (13), medals (12), as well as the most finals (8).\\nto date, the final of the world cup has only been contested by teams from the uefa (europe) and conmebol (south america) confederations. european nations have won twelve titles, while south american have won nine. only two teams from outside these two continents have ever reached the semi-finals of the competition: united states (north, central america and caribbean) in 1930 and south korea (asia) in 2002. the best result of an african team is reaching the quarter-finals: cameroon in 1990, senegal in 2002, and ghana in 2010. only one oceanian qualifier, australia in 2006, has advanced to the second round.[102]\\nbrazil, argentina, spain and germany are the only teams to win a world cup outside their continental confederation; brazil came out victorious in europe (1958), north america (1970 and 1994) and asia (2002). argentina won a world cup in north america in 1986, while spain won in africa in 2010. in 2014, germany became the first european team to win in the americas. only on five occasions have consecutive world cups been won by teams from the same continent. the current run of four champions from one continental confederation (italy, spain, germany, and france) has not happened before. italy and brazil successfully defended their titles in 1938 and 1962 respectively, while italy\\'s triumph in 2006 has been followed by wins for spain in 2010, germany in 2014 and france in 2018. currently, it is also the first time that one of the currently winning continents (europe) is ahead of the other (south america) by more than one championship.\\nat the end of each world cup, awards are presented to the players and teams for accomplishments other than their final team positions in the tournament. there are currently six awards:[103]\\nan all-star team consisting of the best players of the tournament has also been announced for each tournament since 1998.\\nthree players share the record for playing in the most world cups; mexico\\'s antonio carbajal (1950–1966) and rafael márquez (2002–2018); and germany\\'s lothar matthäus (1982–1998) all played in five tournaments.[108] matthäus has played the most world cup matches overall, with 25 appearances.[109] brazil\\'s djalma santos (1954–1962), west germany\\'s franz beckenbauer (1966–1974), and germany\\'s philipp lahm (2006–2014) are the only players to be named to three world cup all-star teams.[110]\\nmiroslav klose of germany (2002–2014) is the all-time top scorer at the world cup with 16 goals. he broke ronaldo of brazil\\'s record of 15 goals (1998–2006) during the 2014 semi-final match against brazil. west germany\\'s gerd müller (1970–1974) is third, with 14 goals.[111] the fourth-placed goalscorer, france\\'s just fontaine, holds the record for the most goals scored in a single world cup; all his 13 goals were scored in the 1958 tournament.[112]\\nin november 2007, fifa announced that all members of world cup-winning squads between 1930 and 1974 were to be retroactively awarded winners\\' medals.[60] this made brazil\\'s pelé the only player to have won three world cup winners\\' medals (1958, 1962, and 1970, although he did not play in the 1962 final due to injury),[113] with 20 other players who have won two winners\\' medals. seven players have collected all three types of world cup medals (winners\\', runner- ups\\', and third-place); five players were from west germany\\'s squad of 1966–1974: franz beckenbauer, jürgen grabowski, horst-dieter höttges, sepp maier, and wolfgang overath (1966–1974), italy\\'s franco baresi (1982, 1990, 1994) and the most recent has been miroslav klose of germany (2002–2014) with four consecutive medals.[114]\\nbrazil\\'s mário zagallo, west germany\\'s franz beckenbauer and france\\'s didier deschamps are the only people to date to win the world cup as both player and head coach. zagallo won in 1958 and 1962 as a player and in 1970 as head coach.[115] beckenbauer won in 1974 as captain and in 1990 as head coach,[116] and deschamps repeated the feat in 2018, after having won in 1998 as captain.[117] italy\\'s vittorio pozzo is the only head coach to ever win two world cups (1934 and 1938).[118] all world cup-winning head coaches were natives of the country they coached to victory.[119]\\namong the national teams, germany and brazil have played the most world cup matches (109), germany appeared in the most finals (8), semi-finals (13), and quarter-finals (16), while brazil has appeared in the most world cups (21), has the most wins (73) and has scored the most goals (229).[120][121] the two teams have played each other twice in the world cup, in the 2002 final and in the 2014 semi-final.[122]\\nthe system used in the world cup up to 1990 was 2 points for a win. in this ranking 3 points are awarded for a win, 1 for a draw and 0 for a loss. as per statistical convention in football, matches decided in extra time are counted as wins and losses, while matches decided by penalty shoot-outs are counted as draws. teams are ranked by total points, then by goal difference, then by goals scored.[123]\\n'"
            ],
            "application/vnd.google.colaboratory.intrinsic+json": {
              "type": "string"
            }
          },
          "metadata": {},
          "execution_count": 3
        }
      ]
    },
    {
      "cell_type": "code",
      "metadata": {
        "id": "BtGLJjt6rQhK",
        "colab": {
          "base_uri": "https://localhost:8080/"
        },
        "outputId": "3362ae8c-1461-40b3-a5f8-c3e8a96f165c"
      },
      "source": [
        "print(\"Cantidad de caracteres en la nota:\", len(article_text))"
      ],
      "execution_count": 4,
      "outputs": [
        {
          "output_type": "stream",
          "name": "stdout",
          "text": [
            "Cantidad de caracteres en la nota: 33869\n"
          ]
        }
      ]
    },
    {
      "cell_type": "markdown",
      "metadata": {
        "id": "FVHxBRNzCMOS"
      },
      "source": [
        "### 2 - Preprocesamiento\n",
        "- Remover caracteres especiales\n",
        "- Quitar espacios o saltos"
      ]
    },
    {
      "cell_type": "code",
      "metadata": {
        "id": "HnEUTD1Erl1N"
      },
      "source": [
        "text = re.sub(r'\\[[0-9]*\\]', ' ', article_text)\n",
        "text = re.sub(r'\\s+', ' ', text)"
      ],
      "execution_count": 5,
      "outputs": []
    },
    {
      "cell_type": "code",
      "metadata": {
        "id": "g7ycrAMYrn66",
        "colab": {
          "base_uri": "https://localhost:8080/",
          "height": 123
        },
        "outputId": "5ffc160b-460d-4e5b-f3fe-0924cf4285b6"
      },
      "source": [
        "text"
      ],
      "execution_count": 6,
      "outputs": [
        {
          "output_type": "execute_result",
          "data": {
            "text/plain": [
              "' the fifa world cup, often simply called the world cup, is an international association football competition contested by the senior men\\'s national teams of the members of the fédération internationale de football association (fifa), the sport\\'s global governing body. the championship has been awarded every four years since the inaugural tournament in 1930, except in 1942 and 1946 when it was not held because of the second world war. the current champion is france, which won its second title at the 2018 tournament in russia. the current format involves a qualification phase, which takes place over the preceding three years, to determine which teams qualify for the tournament phase. in the tournament phase, 32 teams, including the automatically qualifying host nation(s), compete for the title at venues within the host nation(s) over about a month. as of the 2018 fifa world cup, twenty-one final tournaments have been held and a total of 79 national teams have competed. the trophy has been won by eight national teams. brazil have won five times, and they are the only team to have played in every tournament. the other world cup winners are germany and italy, with four titles each; argentina, france, and inaugural winner uruguay, with two titles each; and england and spain, with one title each. the world cup is the most prestigious association football tournament in the world, as well as the most widely viewed and followed single sporting event in the world. the cumulative viewership of all matches of the 2006 world cup was estimated to be 26.29 billion with an estimated 715.1 million people watching the final match, a ninth of the entire population of the planet. 17 countries have hosted the world cup. brazil, france, italy, germany, and mexico have each hosted twice, while uruguay, switzerland, sweden, chile, england, argentina, spain, the united states, japan and south korea (jointly), south africa, and russia have each hosted once. qatar will host the 2022 tournament, and 2026 will be jointly hosted by canada, the united states, and mexico, which will give mexico the distinction of being the first country to host games in three world cups. the world\\'s first international football match was a challenge match played in glasgow in 1872 between scotland and england, which ended in a 0–0 draw. the first international tournament, the inaugural british home championship, took place in 1884. as football grew in popularity in other parts of the world at the start of the 20th century, it was held as a demonstration sport with no medals awarded at the 1900 and 1904 summer olympics (however, the international olympic committee has retroactively upgraded their status to official events), and at the 1906 intercalated games. after fifa was founded in 1904, it tried to arrange an international football tournament between nations outside the olympic framework in switzerland in 1906. these were very early days for international football, and the official history of fifa describes the competition as having been a failure. at the 1908 summer olympics in london, football became an official competition. planned by the football association (fa), england\\'s football governing body, the event was for amateur players only and was regarded suspiciously as a show rather than a competition. great britain (represented by the england national amateur football team) won the gold medals. they repeated the feat at the 1912 summer olympics in stockholm. with the olympic event continuing to be contested only between amateur teams, sir thomas lipton organised the sir thomas lipton trophy tournament in turin in 1909. the lipton tournament was a championship between individual clubs (not national teams) from different nations, each one of which represented an entire nation. the competition is sometimes described as the first world cup, and featured the most prestigious professional club sides from italy, germany and switzerland, but the fa of england refused to be associated with the competition and declined the offer to send a professional team. lipton invited west auckland, an amateur side from county durham, to represent england instead. west auckland won the tournament and returned in 1911 to successfully defend their title. in 1914, fifa agreed to recognise the olympic tournament as a \"world football championship for amateurs\", and took responsibility for managing the event. this paved the way for the world\\'s first intercontinental football competition, at the 1920 summer olympics, contested by egypt and 13 european teams, and won by belgium. uruguay won the next two olympic football tournaments in 1924 and 1928. those were also the first two open world championships, as 1924 was the start of fifa\\'s professional era. due to the success of the olympic football tournaments, fifa, with president jules rimet as the driving force, again started looking at staging its own international tournament outside of the olympics. on 28 may 1928, the fifa congress in amsterdam decided to stage a world championship itself. with uruguay now two-time official football world champions and to celebrate their centenary of independence in 1930, fifa named uruguay as the host country of the inaugural world cup tournament. the national associations of selected nations were invited to send a team, but the choice of uruguay as a venue for the competition meant a long and costly trip across the atlantic ocean for european sides. indeed, no european country pledged to send a team until two months before the start of the competition. rimet eventually persuaded teams from belgium, france, romania, and yugoslavia to make the trip. in total, 13 nations took part: seven from south america, four from europe, and two from north america. the first two world cup matches took place simultaneously on 13 july 1930, and were won by france and the us, who defeated mexico 4–1 and belgium 3–0 respectively. the first goal in world cup history was scored by lucien laurent of france. in the final, uruguay defeated argentina 4–2 in front of 93,000 people in montevideo, and became the first nation to win the world cup. after the creation of the world cup, fifa and the ioc disagreed over the status of amateur players, and so football was dropped from the 1932 summer olympics. after the ioc and fifa worked out their differences, olympic football returned at the 1936 summer olympics, but was now overshadowed by the more prestigious world cup. the issues facing the early world cup tournaments were the difficulties of intercontinental travel, and war. few south american teams were willing to travel to europe for the 1934 world cup and all north and south american nations except brazil and cuba boycotted the 1938 tournament. brazil was the only south american team to compete in both. the 1942 and 1946 competitions, which germany and brazil sought to host, were cancelled due to world war ii and its aftermath. the 1950 world cup, held in brazil, was the first to include british participants. british teams withdrew from fifa in 1920, partly out of unwillingness to play against the countries they had been at war with, and partly as a protest against foreign influence on football, but rejoined in 1946 following fifa\\'s invitation. the tournament also saw the return of 1930 champions uruguay, who had boycotted the previous two world cups. uruguay won the tournament again after defeating the host nation brazil, in the match called \"maracanazo\" (portuguese: maracanaço). in the tournaments between 1934 and 1978, 16 teams competed in each tournament, except in 1938, when austria was absorbed into germany after qualifying, leaving the tournament with 15 teams, and in 1950, when india, scotland, and turkey withdrew, leaving the tournament with 13 teams. most of the participating nations were from europe and south america, with a small minority from north america, africa, asia, and oceania. these teams were usually defeated easily by the european and south american teams. until 1982, the only teams from outside europe and south america to advance out of the first round were: usa, semi-finalists in 1930; cuba, quarter-finalists in 1938; north korea, quarter-finalists in 1966; and mexico, quarter-finalists in 1970. the tournament was expanded to 24 teams in 1982, and then to 32 in 1998, also allowing more teams from africa, asia and north america to take part. since then, teams from these regions have enjoyed more success, with several having reached the quarter-finals: mexico, quarter-finalists in 1986; cameroon, quarter-finalists in 1990; south korea, finishing in fourth place in 2002; senegal, along with usa, both quarter-finalists in 2002; ghana, quarter-finalists in 2010; and costa rica, quarter-finalists in 2014. nevertheless, european and south american teams continue to dominate, e.g., the quarter-finalists in 1994, 1998, 2006 and 2018 were all from europe or south america and so were the finalists of all tournaments so far. two hundred teams entered the 2002 fifa world cup qualification rounds; 198 nations attempted to qualify for the 2006 fifa world cup, while a record 204 countries entered qualification for the 2010 fifa world cup. in october 2013, sepp blatter spoke of guaranteeing the caribbean football union\\'s region a position in the world cup. in the edition of 25 october 2013 of the fifa weekly blatter wrote that: \"from a purely sporting perspective, i would like to see globalisation finally taken seriously, and the african and asian national associations accorded the status they deserve at the fifa world cup. it cannot be that the european and south american confederations lay claim to the majority of the berths at the world cup.\" those two remarks suggested to commentators that blatter could be putting himself forward for re-election to the fifa presidency. following the magazine\\'s publication, blatter\\'s would-be opponent for the fifa presidency, uefa president michel platini, responded that he intended to extend the world cup to 40 national associations, increasing the number of participants by eight. platini said that he would allocate an additional berth to uefa, two each to the asian football confederation and the confederation of african football, two shared between concacaf and conmebol, and a guaranteed place for the oceania football confederation. platini was clear about why he wanted to expand the world cup. he said: \"[the world cup is] not based on the quality of the teams because you don\\'t have the best 32 at the world cup ... but it\\'s a good compromise. ... it\\'s a political matter so why not have more africans? the competition is to bring all the people of all the world. if you don\\'t give the possibility to participate, they don\\'t improve.\" in october 2016, fifa president gianni infantino stated his support for a 48-team world cup in 2026. on 10 january 2017, fifa confirmed the 2026 world cup will have 48 finalist teams. by may 2015, the games were under a particularly dark cloud because of the 2015 fifa corruption case, allegations and criminal charges of bribery, fraud and money laundering to corrupt the issuing of media and marketing rights (rigged bids) for fifa games, with fifa officials accused of taking bribes totaling more than $150 million over 24 years. in late may, the us department of justice announced a 47-count indictment with charges of racketeering, wire fraud and money laundering conspiracy against 14 people. arrests of over a dozen fifa officials were made since that time, particularly on 29 may and 3 december. by the end of may 2015, a total of nine fifa officials and five executives of sports and broadcasting markets had already been charged on corruption. at the time, fifa president sepp blatter announced he would relinquish his position in february 2016. on 4 june 2015 chuck blazer while co-operating with the fbi and the swiss authorities admitted that he and the other members of fifa\\'s then-executive committee were bribed in order to promote the 1998 and 2010 world cups. on 10 june 2015, swiss authorities seized computer data from the offices of sepp blatter. the same day, fifa postponed the bidding process for the 2026 fifa world cup in light of the allegations surrounding bribery in the awarding of the 2018 and 2022 tournaments. then-secretary general jérôme valcke stated, \"due to the situation, i think it\\'s nonsense to start any bidding process for the time being.\" on 28 october 2015, blatter and fifa vp michel platini, a potential candidate for presidency, were suspended for 90 days; both maintained their innocence in statements made to the news media. on 3 december 2015 two fifa vice-presidents were arrested on suspicion of bribery in the same zurich hotel where seven fifa officials had been arrested in may. an additional 16 indictments by the us department of justice were announced on the same day. a biennial world cup plan was first proposed by the saudi arabian football federation at the 71st fifa congress on 21 may 2021 and prominently backed by former arsenal manager arsène wenger and national federations in africa and asia. however, according to a fifa-commissioned poll and the fifa council discussion on 20 october 2021, the majority of football fans still support the four-year world cup cycle — and continental confederations such as uefa and conmebol are not on board with the plan. an equivalent tournament for women\\'s football, the fifa women\\'s world cup, was first held in 1991 in china. the women\\'s tournament is smaller in scale and profile than the men\\'s, but is growing; the number of entrants for the 2007 tournament was 120, more than double that of 1991. men\\'s football has been included in every summer olympic games except 1896 and 1932. unlike many other sports, the men\\'s football tournament at the olympics is not a top-level tournament, and since 1992, an under-23 tournament with each team allowed three over-age players. women\\'s football made its olympic debut in 1996. the fifa confederations cup was a tournament held one year before the world cup at the world cup host nation(s) as a dress rehearsal for the upcoming world cup. it is contested by the winners of each of the six fifa confederation championships, along with the fifa world cup champion and the host country. the first edition took place in 1992 and the last edition was played in 2017. in march 2019, fifa confirmed that the tournament would no longer be active owing to an expansion of the fifa club world cup in 2021. fifa also organises international tournaments for youth football (fifa u-20 world cup, fifa u-17 world cup, fifa u-20 women\\'s world cup, fifa u-17 women\\'s world cup), club football (fifa club world cup), and football variants such as futsal (fifa futsal world cup) and beach soccer (fifa beach soccer world cup). the latter three do not have a women\\'s version, although a fifa women\\'s club world cup has been proposed. the fifa u-20 women\\'s world cup is held the year before each women\\'s world cup and both tournaments are awarded in a single bidding process. the u-20 tournament serves as a dress rehearsal for the larger competition. from 1930 to 1970, the jules rimet trophy was awarded to the world cup winning team. it was originally simply known as the world cup or coupe du monde, but in 1946 it was renamed after the fifa president jules rimet who set up the first tournament. in 1970, brazil\\'s third victory in the tournament entitled them to keep the trophy permanently. however, the trophy was stolen in 1983 and has never been recovered, apparently melted down by the thieves. after 1970, a new trophy, known as the fifa world cup trophy, was designed. the experts of fifa, coming from seven countries, evaluated the 53 presented models, finally opting for the work of the italian designer silvio gazzaniga. the new trophy is 36 cm (14.2 in) high, made of solid 18 carat (75%) gold and weighs 6.175 kg (13.6 lb). the base contains two layers of semi-precious malachite while the bottom side of the trophy bears the engraved year and name of each fifa world cup winner since 1974. the description of the trophy by gazzaniga was: \"the lines spring out from the base, rising in spirals, stretching out to receive the world. from the remarkable dynamic tensions of the compact body of the sculpture rise the figures of two athletes at the stirring moment of victory.\" this new trophy is not awarded to the winning nation permanently. world cup winners retain the trophy only until the post-match celebration is finished. they are awarded a gold-plated replica rather than the solid gold original immediately afterwards. currently, all members (players, coaches, and managers) of the top three teams receive medals with an insignia of the world cup trophy; winners\\' (gold), runners-up\\' (silver), and third-place (bronze). in the 2002 edition, fourth-place medals were awarded to hosts south korea. before the 1978 tournament, medals were only awarded to the eleven players on the pitch at the end of the final and the third-place match. in november 2007, fifa announced that all members of world cup-winning squads between 1930 and 1974 were to be retroactively awarded winners\\' medals. since 2006, winners of the competition are also awarded the right to wear the fifa champions badge, up until the time at which the winner of the next competition is decided. since the second world cup in 1934, qualifying tournaments have been held to thin the field for the final tournament. they are held within the six fifa continental zones (africa, asia, north and central america and caribbean, south america, oceania, and europe), overseen by their respective confederations. for each tournament, fifa decides the number of places awarded to each of the continental zones beforehand, generally based on the relative strength of the confederations\\' teams. the qualification process can start as early as almost three years before the final tournament and last over a two-year period. the formats of the qualification tournaments differ between confederations. usually, one or two places are awarded to winners of intercontinental play-offs. for example, the winner of the oceanian zone and the fifth-placed team from the asian zone entered a play-off for a spot in the 2010 world cup. from the 1938 world cup onwards, host nations receive automatic qualification to the final tournament. this right was also granted to the defending champions between 1938 and 2002, but was withdrawn from the 2006 fifa world cup onward, requiring the champions to qualify. brazil, winners in 2002, were the first defending champions to play qualifying matches. the current final tournament has been used since 1998 and features 32 national teams competing over the course of a month in the host nations. there are two stages: the group stage followed by the knockout stage. in the group stage, teams compete within eight groups of four teams each. eight teams are seeded, including the hosts, with the other seeded teams selected using a formula based on the fifa world rankings or performances in recent world cups, and drawn to separate groups. the other teams are assigned to different \"pots\", usually based on geographical criteria, and teams in each pot are drawn at random to the eight groups. since 1998, constraints have been applied to the draw to ensure that no group contains more than two european teams or more than one team from any other confederation. each group plays a round-robin tournament, in which each team is scheduled for three matches against other teams in the same group. this means that a total of six matches are played within a group. the last round of matches of each group is scheduled at the same time to preserve fairness among all four teams. the top two teams from each group advance to the knockout stage. points are used to rank the teams within a group. since 1994, three points have been awarded for a win, one for a draw and none for a loss (before, winners received two points). if one considers all possible outcomes (win, draw, loss) for all six matches in a group, there are 729 (= 36) outcome combinations possible. however, 207 of these combinations lead to ties between the second and third places. in such case, the ranking among these teams is determined as follows: the knockout stage is a single-elimination tournament in which teams play each other in one-off matches, with extra time and penalty shootouts used to decide the winner if necessary. it begins with the round of 16 (or the second round) in which the winner of each group plays against the runner-up of another group. this is followed by the quarter-finals, the semi-finals, the third-place match (contested by the losing semi-finalists), and the final. on 10 january 2017, fifa approved a new format, the 48-team world cup (to accommodate more teams), which consists of 16 groups of three teams each, with two teams qualifying from each group, to form a round of 32 knockout stage, to be implemented by 2026. early world cups were given to countries at meetings of fifa\\'s congress. the locations were controversial because south america and europe were by far the two centres of strength in football and travel between them required three weeks by boat. the decision to hold the first world cup in uruguay, for example, led to only four european nations competing. the next two world cups were both held in europe. the decision to hold the second of these in france was disputed, as the south american countries understood that the location would alternate between the two continents. both argentina and uruguay thus boycotted the 1938 fifa world cup. since the 1958 fifa world cup, to avoid future boycotts or controversy, fifa began a pattern of alternating the hosts between the americas and europe, which continued until the 1998 fifa world cup. the 2002 fifa world cup, hosted jointly by south korea and japan, was the first one held in asia, and the first tournament with multiple hosts. south africa became the first african nation to host the world cup in 2010. the 2014 fifa world cup was hosted by brazil, the first held in south america since argentina 1978, and was the first occasion where consecutive world cups were held outside europe. the host country is now chosen in a vote by fifa\\'s council. this is done under an exhaustive ballot system. the national football association of a country desiring to host the event receives a \"hosting agreement\" from fifa, which explains the steps and requirements that are expected from a strong bid. the bidding association also receives a form, the submission of which represents the official confirmation of the candidacy. after this, a fifa designated group of inspectors visit the country to identify that the country meets the requirements needed to host the event and a report on the country is produced. the decision on who will host the world cup is usually made six or seven years in advance of the tournament. however, there have been occasions where the hosts of multiple future tournaments were announced at the same time, as was the case for the 2018 and 2022 world cups, which were awarded to russia and qatar, with qatar becoming the first middle eastern country to host the tournament. for the 2010 and 2014 world cups, the final tournament is rotated between confederations, allowing only countries from the chosen confederation (africa in 2010, south america in 2014) to bid to host the tournament. the rotation policy was introduced after the controversy surrounding germany\\'s victory over south africa in the vote to host the 2006 tournament. however, the policy of continental rotation did not continue beyond 2014, so any country, except those belonging to confederations that hosted the two preceding tournaments, can apply as hosts for world cups starting from 2018. this is partly to avoid a similar scenario to the bidding process for the 2014 tournament, where brazil was the only official bidder. the 2026 fifa world cup was chosen to be held in the united states, canada and mexico, marking the first time a world cup has been shared by three host nations. the 2026 tournament will be the biggest world cup ever held, with 48 teams playing 80 matches. sixty matches will take place in the us, including all matches from the quarter-finals onward, while canada and mexico will host 10 games each. six of the eight champions have won one of their titles while playing in their own homeland, the exceptions being brazil, who finished as runners-up after losing the deciding match on home soil in 1950 and lost their semi-final against germany in 2014, and spain, which reached the second round on home soil in 1982. england (1966) won its only title while playing as a host nation. uruguay (1930), italy (1934), argentina (1978), and france (1998) won their first titles as host nations but have gone on to win again, while germany (1974) won their second title on home soil. other nations have also been successful when hosting the tournament. switzerland (quarter-finals 1954), sweden (runners-up in 1958), chile (third place in 1962), south korea (fourth place in 2002), and mexico (quarter-finals in 1970 and 1986) all have their best results when serving as hosts. so far, south africa (2010) has been the only host nation to fail to advance beyond the first round. source: fifa the best-attended single match, shown in the last three columns, has been the final in 11 of the 21 world cups as of 2018[update]. another match or matches drew more attendance than the final in 1930, 1938, 1958, 1962, 1970–1982, 1990, and 2006. the world cup was first televised in 1954 and is now the most widely viewed and followed sporting event in the world. the cumulative viewership of all matches of the 2006 world cup was estimated to be 26.29 billion. 715.1 million individuals watched the final match of the tournament, almost a ninth of the entire population of the planet. the 2006 world cup draw, which decided the distribution of teams into groups, was watched by 300 million viewers. the world cup attracts many sponsors such as coca-cola, mcdonald\\'s and adidas. for these companies and many more, being a sponsor strongly impacts their global brands. host countries typically experience a multimillion-dollar revenue increase from the month-long event. the governing body of the sport, fifa, generated $4.8 billion in revenue from the 2014 tournament, and $6.1 billion from the 2018 tournament. each fifa world cup since 1966 has its own mascot or logo. world cup willie, the mascot for the 1966 competition, was the first world cup mascot. world cups feature official match balls specially designed for each tournament. after slazenger produced the ball for the 1966 world cup adidas became the official supplier to fifa. each world cup also has an official song, which have been performed by artists ranging from shakira to will smith. other songs, such as “nessun dorma”, performed by the three tenors at four world cup concerts, have also become identified with the tournament. forming a partnership with fifa in 1970, panini published its first sticker album for the 1970 world cup. since then, collecting and trading stickers and cards has become part of the world cup experience, especially for the younger generation. fifa has also licensed world cup video games since 1986, with electronic arts the current license holder. in all, 79 nations have played in at least one world cup. of these, eight national teams have won the world cup, and they have added stars to their badges, with each star representing a world cup victory. (uruguay, however, choose to display four stars on their badge, representing their two gold medals at the 1924 and 1928 summer olympics, which are recognised by fifa as world championships, and their two world cup titles in 1930 and 1950). with five titles, brazil are the most successful world cup team and also the only nation to have played in every world cup (21) to date. brazil were also the first team to win the world cup for the third (1970), fourth (1994) and fifth (2002) time. italy (1934 and 1938) and brazil (1958 and 1962) are the only nations to have won consecutive titles. west germany (1982–1990) and brazil (1994–2002) are the only nations to appear in three consecutive world cup finals. germany has made the most top-four finishes (13), medals (12), as well as the most finals (8). to date, the final of the world cup has only been contested by teams from the uefa (europe) and conmebol (south america) confederations. european nations have won twelve titles, while south american have won nine. only two teams from outside these two continents have ever reached the semi-finals of the competition: united states (north, central america and caribbean) in 1930 and south korea (asia) in 2002. the best result of an african team is reaching the quarter-finals: cameroon in 1990, senegal in 2002, and ghana in 2010. only one oceanian qualifier, australia in 2006, has advanced to the second round. brazil, argentina, spain and germany are the only teams to win a world cup outside their continental confederation; brazil came out victorious in europe (1958), north america (1970 and 1994) and asia (2002). argentina won a world cup in north america in 1986, while spain won in africa in 2010. in 2014, germany became the first european team to win in the americas. only on five occasions have consecutive world cups been won by teams from the same continent. the current run of four champions from one continental confederation (italy, spain, germany, and france) has not happened before. italy and brazil successfully defended their titles in 1938 and 1962 respectively, while italy\\'s triumph in 2006 has been followed by wins for spain in 2010, germany in 2014 and france in 2018. currently, it is also the first time that one of the currently winning continents (europe) is ahead of the other (south america) by more than one championship. at the end of each world cup, awards are presented to the players and teams for accomplishments other than their final team positions in the tournament. there are currently six awards: an all-star team consisting of the best players of the tournament has also been announced for each tournament since 1998. three players share the record for playing in the most world cups; mexico\\'s antonio carbajal (1950–1966) and rafael márquez (2002–2018); and germany\\'s lothar matthäus (1982–1998) all played in five tournaments. matthäus has played the most world cup matches overall, with 25 appearances. brazil\\'s djalma santos (1954–1962), west germany\\'s franz beckenbauer (1966–1974), and germany\\'s philipp lahm (2006–2014) are the only players to be named to three world cup all-star teams. miroslav klose of germany (2002–2014) is the all-time top scorer at the world cup with 16 goals. he broke ronaldo of brazil\\'s record of 15 goals (1998–2006) during the 2014 semi-final match against brazil. west germany\\'s gerd müller (1970–1974) is third, with 14 goals. the fourth-placed goalscorer, france\\'s just fontaine, holds the record for the most goals scored in a single world cup; all his 13 goals were scored in the 1958 tournament. in november 2007, fifa announced that all members of world cup-winning squads between 1930 and 1974 were to be retroactively awarded winners\\' medals. this made brazil\\'s pelé the only player to have won three world cup winners\\' medals (1958, 1962, and 1970, although he did not play in the 1962 final due to injury), with 20 other players who have won two winners\\' medals. seven players have collected all three types of world cup medals (winners\\', runner- ups\\', and third-place); five players were from west germany\\'s squad of 1966–1974: franz beckenbauer, jürgen grabowski, horst-dieter höttges, sepp maier, and wolfgang overath (1966–1974), italy\\'s franco baresi (1982, 1990, 1994) and the most recent has been miroslav klose of germany (2002–2014) with four consecutive medals. brazil\\'s mário zagallo, west germany\\'s franz beckenbauer and france\\'s didier deschamps are the only people to date to win the world cup as both player and head coach. zagallo won in 1958 and 1962 as a player and in 1970 as head coach. beckenbauer won in 1974 as captain and in 1990 as head coach, and deschamps repeated the feat in 2018, after having won in 1998 as captain. italy\\'s vittorio pozzo is the only head coach to ever win two world cups (1934 and 1938). all world cup-winning head coaches were natives of the country they coached to victory. among the national teams, germany and brazil have played the most world cup matches (109), germany appeared in the most finals (8), semi-finals (13), and quarter-finals (16), while brazil has appeared in the most world cups (21), has the most wins (73) and has scored the most goals (229). the two teams have played each other twice in the world cup, in the 2002 final and in the 2014 semi-final. the system used in the world cup up to 1990 was 2 points for a win. in this ranking 3 points are awarded for a win, 1 for a draw and 0 for a loss. as per statistical convention in football, matches decided in extra time are counted as wins and losses, while matches decided by penalty shoot-outs are counted as draws. teams are ranked by total points, then by goal difference, then by goals scored. '"
            ],
            "application/vnd.google.colaboratory.intrinsic+json": {
              "type": "string"
            }
          },
          "metadata": {},
          "execution_count": 6
        }
      ]
    },
    {
      "cell_type": "code",
      "metadata": {
        "id": "PA5F0s4UsMpf",
        "colab": {
          "base_uri": "https://localhost:8080/"
        },
        "outputId": "ec3caefb-2177-486a-a676-3ab4955c4840"
      },
      "source": [
        "print(\"Cantidad de caracteres en el texto:\", len(text))"
      ],
      "execution_count": 7,
      "outputs": [
        {
          "output_type": "stream",
          "name": "stdout",
          "text": [
            "Cantidad de caracteres en el texto: 33360\n"
          ]
        }
      ]
    },
    {
      "cell_type": "markdown",
      "metadata": {
        "id": "DKNcDGcisajf"
      },
      "source": [
        "### 3 - Dividir el texto en sentencias y en palabras"
      ]
    },
    {
      "cell_type": "code",
      "metadata": {
        "id": "reXBOFQ7sdlB"
      },
      "source": [
        "corpus = nltk.sent_tokenize(text)\n",
        "words = nltk.word_tokenize(text)"
      ],
      "execution_count": 8,
      "outputs": []
    },
    {
      "cell_type": "code",
      "metadata": {
        "id": "J5GloV9fsi6o",
        "colab": {
          "base_uri": "https://localhost:8080/"
        },
        "outputId": "bb4d63fb-6f25-443f-e2e9-5a6a60b17c32"
      },
      "source": [
        "# Demos un vistazo\n",
        "corpus[:10]"
      ],
      "execution_count": 9,
      "outputs": [
        {
          "output_type": "execute_result",
          "data": {
            "text/plain": [
              "[\" the fifa world cup, often simply called the world cup, is an international association football competition contested by the senior men's national teams of the members of the fédération internationale de football association (fifa), the sport's global governing body.\",\n",
              " 'the championship has been awarded every four years since the inaugural tournament in 1930, except in 1942 and 1946 when it was not held because of the second world war.',\n",
              " 'the current champion is france, which won its second title at the 2018 tournament in russia.',\n",
              " 'the current format involves a qualification phase, which takes place over the preceding three years, to determine which teams qualify for the tournament phase.',\n",
              " 'in the tournament phase, 32 teams, including the automatically qualifying host nation(s), compete for the title at venues within the host nation(s) over about a month.',\n",
              " 'as of the 2018 fifa world cup, twenty-one final tournaments have been held and a total of 79 national teams have competed.',\n",
              " 'the trophy has been won by eight national teams.',\n",
              " 'brazil have won five times, and they are the only team to have played in every tournament.',\n",
              " 'the other world cup winners are germany and italy, with four titles each; argentina, france, and inaugural winner uruguay, with two titles each; and england and spain, with one title each.',\n",
              " 'the world cup is the most prestigious association football tournament in the world, as well as the most widely viewed and followed single sporting event in the world.']"
            ]
          },
          "metadata": {},
          "execution_count": 9
        }
      ]
    },
    {
      "cell_type": "code",
      "metadata": {
        "id": "hmQ7nkvvsi0i",
        "colab": {
          "base_uri": "https://localhost:8080/"
        },
        "outputId": "d364f95b-98d5-41b7-a700-9d8eed2267a0"
      },
      "source": [
        "# Demos un vistazo\n",
        "words[:20]"
      ],
      "execution_count": 10,
      "outputs": [
        {
          "output_type": "execute_result",
          "data": {
            "text/plain": [
              "['the',\n",
              " 'fifa',\n",
              " 'world',\n",
              " 'cup',\n",
              " ',',\n",
              " 'often',\n",
              " 'simply',\n",
              " 'called',\n",
              " 'the',\n",
              " 'world',\n",
              " 'cup',\n",
              " ',',\n",
              " 'is',\n",
              " 'an',\n",
              " 'international',\n",
              " 'association',\n",
              " 'football',\n",
              " 'competition',\n",
              " 'contested',\n",
              " 'by']"
            ]
          },
          "metadata": {},
          "execution_count": 10
        }
      ]
    },
    {
      "cell_type": "code",
      "metadata": {
        "id": "YXPWNkKfEvDZ",
        "colab": {
          "base_uri": "https://localhost:8080/"
        },
        "outputId": "d493e684-5d83-476d-c98e-bc484ee7851e"
      },
      "source": [
        "print(\"Vocabulario:\", len(words))"
      ],
      "execution_count": 11,
      "outputs": [
        {
          "output_type": "stream",
          "name": "stdout",
          "text": [
            "Vocabulario: 6407\n"
          ]
        }
      ]
    },
    {
      "cell_type": "markdown",
      "metadata": {
        "id": "NlYKyb3OtDse"
      },
      "source": [
        "### 4 - Funciones de ayuda para limpiar y procesar el input del usuario\n",
        "- Lematizar los tokens de la oración\n",
        "- Quitar símbolos de puntuación"
      ]
    },
    {
      "cell_type": "code",
      "metadata": {
        "id": "afPok8pstPOx"
      },
      "source": [
        "from nltk.stem import WordNetLemmatizer\n",
        "lemmatizer = WordNetLemmatizer()\n",
        "\n",
        "def perform_lemmatization(tokens):\n",
        "    return [lemmatizer.lemmatize(token) for token in tokens]\n",
        "\n",
        "punctuation_removal = dict((ord(punctuation), None) for punctuation in string.punctuation)\n",
        "\n",
        "def get_processed_text(document):\n",
        "    # 1 - reduce el texto a mínuscula\n",
        "    # 2 - quitar los simbolos de puntuacion\n",
        "    # 3 - realiza la tokenización\n",
        "    # 4 - realiza la lematización\n",
        "    return perform_lemmatization(nltk.word_tokenize(document.lower().translate(punctuation_removal)))"
      ],
      "execution_count": 12,
      "outputs": []
    },
    {
      "cell_type": "markdown",
      "metadata": {
        "id": "Jl8r6d9ZuyR9"
      },
      "source": [
        "### 5 - Utilizar vectores TF-IDF y la similitud coseno construido con el corpus de wikipedia"
      ]
    },
    {
      "cell_type": "code",
      "metadata": {
        "id": "IRYFHcBfk2Gt"
      },
      "source": [
        "from sklearn.feature_extraction.text import TfidfVectorizer\n",
        "from sklearn.metrics.pairwise import cosine_similarity\n",
        "\n",
        "def generate_response(user_input, corpus):\n",
        "    response = ''\n",
        "    # Sumar al corpus la pregunta del usuario para calcular\n",
        "    # su cercania con otros documentos/sentencias\n",
        "    corpus.append(user_input)\n",
        "\n",
        "    # Crear un vectorizar TFIDF que quite las \"stop words\" del ingles y utilice\n",
        "    # nuestra funcion para obtener los tokens lematizados \"get_processed_text\"\n",
        "    word_vectorizer = TfidfVectorizer(tokenizer=get_processed_text, stop_words='english')\n",
        "\n",
        "    # Crear los vectores a partir del corpus\n",
        "    all_word_vectors = word_vectorizer.fit_transform(corpus)\n",
        "\n",
        "    # Calcular la similitud coseno entre todas los documentos excepto el agregado (el útlimo \"-1\")\n",
        "    # NOTA: con los word embedings veremos más en detalle esta matriz de similitud\n",
        "    similar_vector_values = cosine_similarity(all_word_vectors[-1], all_word_vectors)\n",
        "\n",
        "    # Obtener el índice del vector más cercano a nuestra oración\n",
        "    # --> descartando la similitud contra nuestor vector propio\n",
        "    similar_sentence_number = similar_vector_values.argsort()[0][-2]\n",
        "    matched_vector = similar_vector_values.flatten()\n",
        "    matched_vector.sort()\n",
        "    vector_matched = matched_vector[-2]\n",
        "\n",
        "    if vector_matched == 0:\n",
        "        response = \"I am sorry, I could not understand you\"\n",
        "    else:\n",
        "        response = corpus[similar_sentence_number]\n",
        "    \n",
        "    corpus.remove(user_input)\n",
        "    return response"
      ],
      "execution_count": 13,
      "outputs": []
    },
    {
      "cell_type": "markdown",
      "metadata": {
        "id": "OK-BuXPBybSp"
      },
      "source": [
        "### 6 - Ensayar el sistema\n",
        "El sistema intentará encontrar la parte del artículo que más se relaciona con nuestro texto de entrada. Sugerencias ensayar:\n",
        "- brazil\n",
        "- 1986\n",
        "- klose\n",
        "- roland garros"
      ]
    },
    {
      "cell_type": "code",
      "metadata": {
        "id": "Z2X4j8XyydSb",
        "colab": {
          "base_uri": "https://localhost:8080/"
        },
        "outputId": "6dafea8e-1450-4c4f-fcf2-b9ba7c5f65f2"
      },
      "source": [
        "# Se utilizará gradio para ensayar el bot\n",
        "# Herramienta poderosa para crear interfaces rápidas para ensayar modelos\n",
        "# https://gradio.app/\n",
        "import sys\n",
        "!{sys.executable} -m pip install gradio --quiet"
      ],
      "execution_count": 14,
      "outputs": [
        {
          "output_type": "stream",
          "name": "stdout",
          "text": [
            "\u001b[K     |████████████████████████████████| 5.1 MB 17.4 MB/s \n",
            "\u001b[K     |████████████████████████████████| 272 kB 69.5 MB/s \n",
            "\u001b[K     |████████████████████████████████| 57 kB 4.3 MB/s \n",
            "\u001b[K     |████████████████████████████████| 1.1 MB 56.9 MB/s \n",
            "\u001b[K     |████████████████████████████████| 84 kB 3.0 MB/s \n",
            "\u001b[K     |████████████████████████████████| 2.3 MB 59.7 MB/s \n",
            "\u001b[K     |████████████████████████████████| 212 kB 66.4 MB/s \n",
            "\u001b[K     |████████████████████████████████| 54 kB 3.4 MB/s \n",
            "\u001b[K     |████████████████████████████████| 140 kB 73.0 MB/s \n",
            "\u001b[K     |████████████████████████████████| 84 kB 4.0 MB/s \n",
            "\u001b[K     |████████████████████████████████| 144 kB 62.7 MB/s \n",
            "\u001b[K     |████████████████████████████████| 94 kB 2.7 MB/s \n",
            "\u001b[K     |████████████████████████████████| 271 kB 64.8 MB/s \n",
            "\u001b[K     |████████████████████████████████| 63 kB 2.0 MB/s \n",
            "\u001b[K     |████████████████████████████████| 80 kB 3.8 MB/s \n",
            "\u001b[K     |████████████████████████████████| 68 kB 6.5 MB/s \n",
            "\u001b[K     |████████████████████████████████| 54 kB 3.3 MB/s \n",
            "\u001b[K     |████████████████████████████████| 43 kB 2.1 MB/s \n",
            "\u001b[K     |████████████████████████████████| 62 kB 1.0 MB/s \n",
            "\u001b[K     |████████████████████████████████| 856 kB 59.9 MB/s \n",
            "\u001b[K     |████████████████████████████████| 4.1 MB 45.6 MB/s \n",
            "\u001b[?25h  Building wheel for ffmpy (setup.py) ... \u001b[?25l\u001b[?25hdone\n",
            "  Building wheel for python-multipart (setup.py) ... \u001b[?25l\u001b[?25hdone\n"
          ]
        }
      ]
    },
    {
      "cell_type": "code",
      "metadata": {
        "id": "SZv5MiVzynG1",
        "colab": {
          "base_uri": "https://localhost:8080/",
          "height": 819
        },
        "outputId": "44a01609-23aa-4fc6-a2cb-a1d7de051b79"
      },
      "source": [
        "import gradio as gr\n",
        "\n",
        "def bot_response(human_text):\n",
        "    print(human_text)\n",
        "    return generate_response(human_text.lower(), corpus)\n",
        "\n",
        "iface = gr.Interface(\n",
        "    fn=bot_response,\n",
        "    inputs=[\"textbox\"],\n",
        "    outputs=\"text\",\n",
        "    layout=\"vertical\")\n",
        "\n",
        "iface.launch(debug=True)"
      ],
      "execution_count": 15,
      "outputs": [
        {
          "output_type": "stream",
          "name": "stderr",
          "text": [
            "/usr/local/lib/python3.7/dist-packages/gradio/deprecation.py:40: UserWarning: `layout` parameter is deprecated, and it has no effect\n",
            "  warnings.warn(value)\n"
          ]
        },
        {
          "output_type": "stream",
          "name": "stdout",
          "text": [
            "Colab notebook detected. This cell will run indefinitely so that you can see errors and logs. To turn off, set debug=False in launch().\n",
            "Running on public URL: https://32782.gradio.app\n",
            "\n",
            "This share link expires in 72 hours. For free permanent hosting, check out Spaces (https://huggingface.co/spaces)\n"
          ]
        },
        {
          "output_type": "display_data",
          "data": {
            "text/plain": [
              "<IPython.core.display.HTML object>"
            ],
            "text/html": [
              "<div><iframe src=\"https://32782.gradio.app\" width=\"900\" height=\"500\" allow=\"autoplay; camera; microphone;\" frameborder=\"0\" allowfullscreen></iframe></div>"
            ]
          },
          "metadata": {}
        },
        {
          "output_type": "stream",
          "name": "stdout",
          "text": [
            "brazil\n"
          ]
        },
        {
          "output_type": "stream",
          "name": "stderr",
          "text": [
            "/usr/local/lib/python3.7/dist-packages/sklearn/feature_extraction/text.py:401: UserWarning: Your stop_words may be inconsistent with your preprocessing. Tokenizing the stop words generated tokens ['ha', 'le', 'u', 'wa'] not in stop_words.\n",
            "  % sorted(inconsistent)\n"
          ]
        },
        {
          "output_type": "stream",
          "name": "stdout",
          "text": [
            "1986\n",
            "klose\n",
            "roland garros\n",
            "Keyboard interruption in main thread... closing server.\n"
          ]
        },
        {
          "output_type": "execute_result",
          "data": {
            "text/plain": [
              "(<gradio.routes.App at 0x7fa4b2b51f50>,\n",
              " 'http://127.0.0.1:7860/',\n",
              " 'https://32782.gradio.app')"
            ]
          },
          "metadata": {},
          "execution_count": 15
        }
      ]
    },
    {
      "cell_type": "markdown",
      "source": [
        "\n",
        "### 7 - Resumen\n",
        "\n",
        "Se analizó el bot desarrollado en clase con la librería NLTK. Como documento de entrada se utilizó el artículo de Wikipedia de [FIFA World Cup](https://en.wikipedia.org/wiki/FIFA_World_Cup).\n",
        "\n",
        "La primera tarea fue preprocesar el documento. Se utilizó la librería Sklearn para hacer TFIDF y la similitud coseno.\n",
        "\n",
        "Se ensayó con algunas palabras, el resultado a continuación:\n",
        "\n",
        "* *brazil*: brazil have won five times, and they are the only team to have played in every tournament.\n",
        "\n",
        "* *1986*: argentina won a world cup in north america in 1986, while spain won in africa in 2010. in 2014, germany became the first european team to win in the americas.\n",
        "\n",
        "* *klose*: miroslav klose of germany (2002–2014) is the all-time top scorer at the world cup with 16 goals.\n",
        "\n",
        "* *roland garros*: I am sorry, I could not understand you"
      ],
      "metadata": {
        "id": "dfiFIsbVmP2z"
      }
    }
  ]
}