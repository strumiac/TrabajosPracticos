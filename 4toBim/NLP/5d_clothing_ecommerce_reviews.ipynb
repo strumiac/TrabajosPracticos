{
  "nbformat": 4,
  "nbformat_minor": 0,
  "metadata": {
    "colab": {
      "name": "5d_clothing_ecommerce_reviews.ipynb",
      "provenance": [],
      "collapsed_sections": []
    },
    "kernelspec": {
      "name": "python3",
      "display_name": "Python 3"
    },
    "language_info": {
      "name": "python"
    },
    "gpuClass": "standard"
  },
  "cells": [
    {
      "cell_type": "markdown",
      "metadata": {
        "id": "kBLpTr7plguX"
      },
      "source": [
        "<img src=\"https://github.com/hernancontigiani/ceia_memorias_especializacion/raw/master/Figures/logoFIUBA.jpg\" width=\"500\" align=\"center\">\n",
        "\n",
        "\n",
        "# Procesamiento de lenguaje natural\n",
        "## Sentiment analysis con Embeddings + LSTM"
      ]
    },
    {
      "cell_type": "markdown",
      "metadata": {
        "id": "9W6nuajhlqZD"
      },
      "source": [
        "### Objetivo\n",
        "El objetivo es utilizar las críticas de compradores de ropa para que el sistema determine la evaluación del comprador y su crítica (cuantas estrellas le asigna al producto)."
      ]
    },
    {
      "cell_type": "code",
      "source": [
        "!pip install --upgrade --no-cache-dir gdown --quiet"
      ],
      "metadata": {
        "id": "i6zvzv3qZ6xS",
        "colab": {
          "base_uri": "https://localhost:8080/"
        },
        "outputId": "775784f5-8a9c-4a16-ca6a-973081d791a5"
      },
      "execution_count": null,
      "outputs": [
        {
          "output_type": "stream",
          "name": "stdout",
          "text": [
            "  Installing build dependencies ... \u001b[?25l\u001b[?25hdone\n",
            "  Getting requirements to build wheel ... \u001b[?25l\u001b[?25hdone\n",
            "    Preparing wheel metadata ... \u001b[?25l\u001b[?25hdone\n",
            "  Building wheel for gdown (PEP 517) ... \u001b[?25l\u001b[?25hdone\n"
          ]
        }
      ]
    },
    {
      "cell_type": "code",
      "metadata": {
        "id": "hCpOVzJdl8_p"
      },
      "source": [
        "import numpy as np\n",
        "import random\n",
        "import io\n",
        "import pickle\n",
        "import pandas as pd\n",
        "\n",
        "import matplotlib.pyplot as plt\n",
        "import seaborn as sns\n",
        "\n",
        "from tensorflow import keras\n",
        "from tensorflow.keras import layers\n",
        "\n",
        "from keras.utils.np_utils import to_categorical\n",
        "from keras.preprocessing.sequence import pad_sequences\n",
        "from keras.models import Sequential\n",
        "from keras.layers import Dense\n",
        "from keras.layers import LSTM\n",
        "from keras.layers import Embedding"
      ],
      "execution_count": null,
      "outputs": []
    },
    {
      "cell_type": "markdown",
      "metadata": {
        "id": "8UPeRkrAmbF3"
      },
      "source": [
        "### Datos\n",
        "Utilizaremos como dataset críticas de compradores de ropa (eCommerce) los cuales puntuaron a cada prenda con un puntaje de 1 a 5 estrellas.\\\n",
        "Referencia del dataset: [LINK](https://www.kaggle.com/nicapotato/womens-ecommerce-clothing-reviews/version/1)"
      ]
    },
    {
      "cell_type": "code",
      "metadata": {
        "id": "C7jLvTU3lSyL",
        "colab": {
          "base_uri": "https://localhost:8080/"
        },
        "outputId": "2e027556-0568-4177-95ae-7384cecb6258"
      },
      "source": [
        "# Descargar la carpeta de dataset\n",
        "import os\n",
        "import gdown\n",
        "if os.access('clothing_ecommerce_reviews.csv', os.F_OK) is False:\n",
        "    url = 'https://drive.google.com/uc?id=1k2Dz4oY5uxI3JEaT6m-L2T2HvLkECYIP'\n",
        "    output = 'clothing_ecommerce_reviews.csv'\n",
        "    gdown.download(url, output, quiet=False)\n",
        "else:\n",
        "    print(\"El dataset ya se encuentra descargado\")"
      ],
      "execution_count": null,
      "outputs": [
        {
          "output_type": "stream",
          "name": "stderr",
          "text": [
            "Downloading...\n",
            "From: https://drive.google.com/uc?id=1k2Dz4oY5uxI3JEaT6m-L2T2HvLkECYIP\n",
            "To: /content/clothing_ecommerce_reviews.csv\n",
            "100%|██████████| 8.48M/8.48M [00:00<00:00, 25.6MB/s]\n"
          ]
        }
      ]
    },
    {
      "cell_type": "code",
      "metadata": {
        "id": "o-SV1P3dnD1J",
        "colab": {
          "base_uri": "https://localhost:8080/",
          "height": 206
        },
        "outputId": "9b69646c-b2bf-48b0-b0da-7b2f40d87cb4"
      },
      "source": [
        "# Armar el dataset\n",
        "df = pd.read_csv('clothing_ecommerce_reviews.csv')\n",
        "df.drop(columns = ['Unnamed: 0'], inplace = True)\n",
        "df.head()"
      ],
      "execution_count": null,
      "outputs": [
        {
          "output_type": "execute_result",
          "data": {
            "text/plain": [
              "   Clothing ID  Age                    Title  \\\n",
              "0          767   33                      NaN   \n",
              "1         1080   34                      NaN   \n",
              "2         1077   60  Some major design flaws   \n",
              "3         1049   50         My favorite buy!   \n",
              "4          847   47         Flattering shirt   \n",
              "\n",
              "                                         Review Text  Rating  Recommended IND  \\\n",
              "0  Absolutely wonderful - silky and sexy and comf...       4                1   \n",
              "1  Love this dress!  it's sooo pretty.  i happene...       5                1   \n",
              "2  I had such high hopes for this dress and reall...       3                0   \n",
              "3  I love, love, love this jumpsuit. it's fun, fl...       5                1   \n",
              "4  This shirt is very flattering to all due to th...       5                1   \n",
              "\n",
              "   Positive Feedback Count   Division Name Department Name Class Name  \n",
              "0                        0       Initmates        Intimate  Intimates  \n",
              "1                        4         General         Dresses    Dresses  \n",
              "2                        0         General         Dresses    Dresses  \n",
              "3                        0  General Petite         Bottoms      Pants  \n",
              "4                        6         General            Tops    Blouses  "
            ],
            "text/html": [
              "\n",
              "  <div id=\"df-c391131c-05b3-48eb-8a4a-52186f430040\">\n",
              "    <div class=\"colab-df-container\">\n",
              "      <div>\n",
              "<style scoped>\n",
              "    .dataframe tbody tr th:only-of-type {\n",
              "        vertical-align: middle;\n",
              "    }\n",
              "\n",
              "    .dataframe tbody tr th {\n",
              "        vertical-align: top;\n",
              "    }\n",
              "\n",
              "    .dataframe thead th {\n",
              "        text-align: right;\n",
              "    }\n",
              "</style>\n",
              "<table border=\"1\" class=\"dataframe\">\n",
              "  <thead>\n",
              "    <tr style=\"text-align: right;\">\n",
              "      <th></th>\n",
              "      <th>Clothing ID</th>\n",
              "      <th>Age</th>\n",
              "      <th>Title</th>\n",
              "      <th>Review Text</th>\n",
              "      <th>Rating</th>\n",
              "      <th>Recommended IND</th>\n",
              "      <th>Positive Feedback Count</th>\n",
              "      <th>Division Name</th>\n",
              "      <th>Department Name</th>\n",
              "      <th>Class Name</th>\n",
              "    </tr>\n",
              "  </thead>\n",
              "  <tbody>\n",
              "    <tr>\n",
              "      <th>0</th>\n",
              "      <td>767</td>\n",
              "      <td>33</td>\n",
              "      <td>NaN</td>\n",
              "      <td>Absolutely wonderful - silky and sexy and comf...</td>\n",
              "      <td>4</td>\n",
              "      <td>1</td>\n",
              "      <td>0</td>\n",
              "      <td>Initmates</td>\n",
              "      <td>Intimate</td>\n",
              "      <td>Intimates</td>\n",
              "    </tr>\n",
              "    <tr>\n",
              "      <th>1</th>\n",
              "      <td>1080</td>\n",
              "      <td>34</td>\n",
              "      <td>NaN</td>\n",
              "      <td>Love this dress!  it's sooo pretty.  i happene...</td>\n",
              "      <td>5</td>\n",
              "      <td>1</td>\n",
              "      <td>4</td>\n",
              "      <td>General</td>\n",
              "      <td>Dresses</td>\n",
              "      <td>Dresses</td>\n",
              "    </tr>\n",
              "    <tr>\n",
              "      <th>2</th>\n",
              "      <td>1077</td>\n",
              "      <td>60</td>\n",
              "      <td>Some major design flaws</td>\n",
              "      <td>I had such high hopes for this dress and reall...</td>\n",
              "      <td>3</td>\n",
              "      <td>0</td>\n",
              "      <td>0</td>\n",
              "      <td>General</td>\n",
              "      <td>Dresses</td>\n",
              "      <td>Dresses</td>\n",
              "    </tr>\n",
              "    <tr>\n",
              "      <th>3</th>\n",
              "      <td>1049</td>\n",
              "      <td>50</td>\n",
              "      <td>My favorite buy!</td>\n",
              "      <td>I love, love, love this jumpsuit. it's fun, fl...</td>\n",
              "      <td>5</td>\n",
              "      <td>1</td>\n",
              "      <td>0</td>\n",
              "      <td>General Petite</td>\n",
              "      <td>Bottoms</td>\n",
              "      <td>Pants</td>\n",
              "    </tr>\n",
              "    <tr>\n",
              "      <th>4</th>\n",
              "      <td>847</td>\n",
              "      <td>47</td>\n",
              "      <td>Flattering shirt</td>\n",
              "      <td>This shirt is very flattering to all due to th...</td>\n",
              "      <td>5</td>\n",
              "      <td>1</td>\n",
              "      <td>6</td>\n",
              "      <td>General</td>\n",
              "      <td>Tops</td>\n",
              "      <td>Blouses</td>\n",
              "    </tr>\n",
              "  </tbody>\n",
              "</table>\n",
              "</div>\n",
              "      <button class=\"colab-df-convert\" onclick=\"convertToInteractive('df-c391131c-05b3-48eb-8a4a-52186f430040')\"\n",
              "              title=\"Convert this dataframe to an interactive table.\"\n",
              "              style=\"display:none;\">\n",
              "        \n",
              "  <svg xmlns=\"http://www.w3.org/2000/svg\" height=\"24px\"viewBox=\"0 0 24 24\"\n",
              "       width=\"24px\">\n",
              "    <path d=\"M0 0h24v24H0V0z\" fill=\"none\"/>\n",
              "    <path d=\"M18.56 5.44l.94 2.06.94-2.06 2.06-.94-2.06-.94-.94-2.06-.94 2.06-2.06.94zm-11 1L8.5 8.5l.94-2.06 2.06-.94-2.06-.94L8.5 2.5l-.94 2.06-2.06.94zm10 10l.94 2.06.94-2.06 2.06-.94-2.06-.94-.94-2.06-.94 2.06-2.06.94z\"/><path d=\"M17.41 7.96l-1.37-1.37c-.4-.4-.92-.59-1.43-.59-.52 0-1.04.2-1.43.59L10.3 9.45l-7.72 7.72c-.78.78-.78 2.05 0 2.83L4 21.41c.39.39.9.59 1.41.59.51 0 1.02-.2 1.41-.59l7.78-7.78 2.81-2.81c.8-.78.8-2.07 0-2.86zM5.41 20L4 18.59l7.72-7.72 1.47 1.35L5.41 20z\"/>\n",
              "  </svg>\n",
              "      </button>\n",
              "      \n",
              "  <style>\n",
              "    .colab-df-container {\n",
              "      display:flex;\n",
              "      flex-wrap:wrap;\n",
              "      gap: 12px;\n",
              "    }\n",
              "\n",
              "    .colab-df-convert {\n",
              "      background-color: #E8F0FE;\n",
              "      border: none;\n",
              "      border-radius: 50%;\n",
              "      cursor: pointer;\n",
              "      display: none;\n",
              "      fill: #1967D2;\n",
              "      height: 32px;\n",
              "      padding: 0 0 0 0;\n",
              "      width: 32px;\n",
              "    }\n",
              "\n",
              "    .colab-df-convert:hover {\n",
              "      background-color: #E2EBFA;\n",
              "      box-shadow: 0px 1px 2px rgba(60, 64, 67, 0.3), 0px 1px 3px 1px rgba(60, 64, 67, 0.15);\n",
              "      fill: #174EA6;\n",
              "    }\n",
              "\n",
              "    [theme=dark] .colab-df-convert {\n",
              "      background-color: #3B4455;\n",
              "      fill: #D2E3FC;\n",
              "    }\n",
              "\n",
              "    [theme=dark] .colab-df-convert:hover {\n",
              "      background-color: #434B5C;\n",
              "      box-shadow: 0px 1px 3px 1px rgba(0, 0, 0, 0.15);\n",
              "      filter: drop-shadow(0px 1px 2px rgba(0, 0, 0, 0.3));\n",
              "      fill: #FFFFFF;\n",
              "    }\n",
              "  </style>\n",
              "\n",
              "      <script>\n",
              "        const buttonEl =\n",
              "          document.querySelector('#df-c391131c-05b3-48eb-8a4a-52186f430040 button.colab-df-convert');\n",
              "        buttonEl.style.display =\n",
              "          google.colab.kernel.accessAllowed ? 'block' : 'none';\n",
              "\n",
              "        async function convertToInteractive(key) {\n",
              "          const element = document.querySelector('#df-c391131c-05b3-48eb-8a4a-52186f430040');\n",
              "          const dataTable =\n",
              "            await google.colab.kernel.invokeFunction('convertToInteractive',\n",
              "                                                     [key], {});\n",
              "          if (!dataTable) return;\n",
              "\n",
              "          const docLinkHtml = 'Like what you see? Visit the ' +\n",
              "            '<a target=\"_blank\" href=https://colab.research.google.com/notebooks/data_table.ipynb>data table notebook</a>'\n",
              "            + ' to learn more about interactive tables.';\n",
              "          element.innerHTML = '';\n",
              "          dataTable['output_type'] = 'display_data';\n",
              "          await google.colab.output.renderOutput(dataTable, element);\n",
              "          const docLink = document.createElement('div');\n",
              "          docLink.innerHTML = docLinkHtml;\n",
              "          element.appendChild(docLink);\n",
              "        }\n",
              "      </script>\n",
              "    </div>\n",
              "  </div>\n",
              "  "
            ]
          },
          "metadata": {},
          "execution_count": 4
        }
      ]
    },
    {
      "cell_type": "markdown",
      "metadata": {
        "id": "q-OwSePKm-FK"
      },
      "source": [
        "### 1 - Limpieza de datos\n",
        "Alumno:\n",
        "- Del dataset unicamente utilizar las columnas \"Review Text\" y \"Rating.\n",
        "- Tranformar el rating 1-5 a una escala numérica de 0 a 4.\n",
        "\n"
      ]
    },
    {
      "cell_type": "code",
      "metadata": {
        "id": "-hc7-AmYnPC3",
        "colab": {
          "base_uri": "https://localhost:8080/",
          "height": 206
        },
        "outputId": "e0b4b85c-7421-4449-bd1c-d8ac45927bbb"
      },
      "source": [
        "df_reviews = df.loc[:, ['Review Text', 'Rating']].dropna()\n",
        "df_reviews['Rating'] = df_reviews['Rating'] - 1\n",
        "df_reviews.head()"
      ],
      "execution_count": null,
      "outputs": [
        {
          "output_type": "execute_result",
          "data": {
            "text/plain": [
              "                                         Review Text  Rating\n",
              "0  Absolutely wonderful - silky and sexy and comf...       3\n",
              "1  Love this dress!  it's sooo pretty.  i happene...       4\n",
              "2  I had such high hopes for this dress and reall...       2\n",
              "3  I love, love, love this jumpsuit. it's fun, fl...       4\n",
              "4  This shirt is very flattering to all due to th...       4"
            ],
            "text/html": [
              "\n",
              "  <div id=\"df-a7c5d640-5a20-4ef3-9c0c-ff40b8cafd94\">\n",
              "    <div class=\"colab-df-container\">\n",
              "      <div>\n",
              "<style scoped>\n",
              "    .dataframe tbody tr th:only-of-type {\n",
              "        vertical-align: middle;\n",
              "    }\n",
              "\n",
              "    .dataframe tbody tr th {\n",
              "        vertical-align: top;\n",
              "    }\n",
              "\n",
              "    .dataframe thead th {\n",
              "        text-align: right;\n",
              "    }\n",
              "</style>\n",
              "<table border=\"1\" class=\"dataframe\">\n",
              "  <thead>\n",
              "    <tr style=\"text-align: right;\">\n",
              "      <th></th>\n",
              "      <th>Review Text</th>\n",
              "      <th>Rating</th>\n",
              "    </tr>\n",
              "  </thead>\n",
              "  <tbody>\n",
              "    <tr>\n",
              "      <th>0</th>\n",
              "      <td>Absolutely wonderful - silky and sexy and comf...</td>\n",
              "      <td>3</td>\n",
              "    </tr>\n",
              "    <tr>\n",
              "      <th>1</th>\n",
              "      <td>Love this dress!  it's sooo pretty.  i happene...</td>\n",
              "      <td>4</td>\n",
              "    </tr>\n",
              "    <tr>\n",
              "      <th>2</th>\n",
              "      <td>I had such high hopes for this dress and reall...</td>\n",
              "      <td>2</td>\n",
              "    </tr>\n",
              "    <tr>\n",
              "      <th>3</th>\n",
              "      <td>I love, love, love this jumpsuit. it's fun, fl...</td>\n",
              "      <td>4</td>\n",
              "    </tr>\n",
              "    <tr>\n",
              "      <th>4</th>\n",
              "      <td>This shirt is very flattering to all due to th...</td>\n",
              "      <td>4</td>\n",
              "    </tr>\n",
              "  </tbody>\n",
              "</table>\n",
              "</div>\n",
              "      <button class=\"colab-df-convert\" onclick=\"convertToInteractive('df-a7c5d640-5a20-4ef3-9c0c-ff40b8cafd94')\"\n",
              "              title=\"Convert this dataframe to an interactive table.\"\n",
              "              style=\"display:none;\">\n",
              "        \n",
              "  <svg xmlns=\"http://www.w3.org/2000/svg\" height=\"24px\"viewBox=\"0 0 24 24\"\n",
              "       width=\"24px\">\n",
              "    <path d=\"M0 0h24v24H0V0z\" fill=\"none\"/>\n",
              "    <path d=\"M18.56 5.44l.94 2.06.94-2.06 2.06-.94-2.06-.94-.94-2.06-.94 2.06-2.06.94zm-11 1L8.5 8.5l.94-2.06 2.06-.94-2.06-.94L8.5 2.5l-.94 2.06-2.06.94zm10 10l.94 2.06.94-2.06 2.06-.94-2.06-.94-.94-2.06-.94 2.06-2.06.94z\"/><path d=\"M17.41 7.96l-1.37-1.37c-.4-.4-.92-.59-1.43-.59-.52 0-1.04.2-1.43.59L10.3 9.45l-7.72 7.72c-.78.78-.78 2.05 0 2.83L4 21.41c.39.39.9.59 1.41.59.51 0 1.02-.2 1.41-.59l7.78-7.78 2.81-2.81c.8-.78.8-2.07 0-2.86zM5.41 20L4 18.59l7.72-7.72 1.47 1.35L5.41 20z\"/>\n",
              "  </svg>\n",
              "      </button>\n",
              "      \n",
              "  <style>\n",
              "    .colab-df-container {\n",
              "      display:flex;\n",
              "      flex-wrap:wrap;\n",
              "      gap: 12px;\n",
              "    }\n",
              "\n",
              "    .colab-df-convert {\n",
              "      background-color: #E8F0FE;\n",
              "      border: none;\n",
              "      border-radius: 50%;\n",
              "      cursor: pointer;\n",
              "      display: none;\n",
              "      fill: #1967D2;\n",
              "      height: 32px;\n",
              "      padding: 0 0 0 0;\n",
              "      width: 32px;\n",
              "    }\n",
              "\n",
              "    .colab-df-convert:hover {\n",
              "      background-color: #E2EBFA;\n",
              "      box-shadow: 0px 1px 2px rgba(60, 64, 67, 0.3), 0px 1px 3px 1px rgba(60, 64, 67, 0.15);\n",
              "      fill: #174EA6;\n",
              "    }\n",
              "\n",
              "    [theme=dark] .colab-df-convert {\n",
              "      background-color: #3B4455;\n",
              "      fill: #D2E3FC;\n",
              "    }\n",
              "\n",
              "    [theme=dark] .colab-df-convert:hover {\n",
              "      background-color: #434B5C;\n",
              "      box-shadow: 0px 1px 3px 1px rgba(0, 0, 0, 0.15);\n",
              "      filter: drop-shadow(0px 1px 2px rgba(0, 0, 0, 0.3));\n",
              "      fill: #FFFFFF;\n",
              "    }\n",
              "  </style>\n",
              "\n",
              "      <script>\n",
              "        const buttonEl =\n",
              "          document.querySelector('#df-a7c5d640-5a20-4ef3-9c0c-ff40b8cafd94 button.colab-df-convert');\n",
              "        buttonEl.style.display =\n",
              "          google.colab.kernel.accessAllowed ? 'block' : 'none';\n",
              "\n",
              "        async function convertToInteractive(key) {\n",
              "          const element = document.querySelector('#df-a7c5d640-5a20-4ef3-9c0c-ff40b8cafd94');\n",
              "          const dataTable =\n",
              "            await google.colab.kernel.invokeFunction('convertToInteractive',\n",
              "                                                     [key], {});\n",
              "          if (!dataTable) return;\n",
              "\n",
              "          const docLinkHtml = 'Like what you see? Visit the ' +\n",
              "            '<a target=\"_blank\" href=https://colab.research.google.com/notebooks/data_table.ipynb>data table notebook</a>'\n",
              "            + ' to learn more about interactive tables.';\n",
              "          element.innerHTML = '';\n",
              "          dataTable['output_type'] = 'display_data';\n",
              "          await google.colab.output.renderOutput(dataTable, element);\n",
              "          const docLink = document.createElement('div');\n",
              "          docLink.innerHTML = docLinkHtml;\n",
              "          element.appendChild(docLink);\n",
              "        }\n",
              "      </script>\n",
              "    </div>\n",
              "  </div>\n",
              "  "
            ]
          },
          "metadata": {},
          "execution_count": 5
        }
      ]
    },
    {
      "cell_type": "code",
      "source": [
        "# chequeo los clases que hay en Rating\n",
        "print(df_reviews.Rating.unique())"
      ],
      "metadata": {
        "colab": {
          "base_uri": "https://localhost:8080/"
        },
        "id": "I3B6TsmuAfGc",
        "outputId": "5af58285-ab88-4ec8-9640-9901f291197b"
      },
      "execution_count": null,
      "outputs": [
        {
          "output_type": "stream",
          "name": "stdout",
          "text": [
            "[3 4 2 1 0]\n"
          ]
        }
      ]
    },
    {
      "cell_type": "code",
      "metadata": {
        "id": "sZtvASVOn3ty",
        "colab": {
          "base_uri": "https://localhost:8080/"
        },
        "outputId": "7d88ec44-fc5e-42e1-cc5b-38b992dfcd85"
      },
      "source": [
        "# Alumno: Observar como está distribuido el dataset respecto a la columna Rating\n",
        "# es decir, observar que tan balanceado se encuentra respecto a cada clase\n",
        "\n",
        "df_reviews['Rating'].value_counts()"
      ],
      "execution_count": null,
      "outputs": [
        {
          "output_type": "execute_result",
          "data": {
            "text/plain": [
              "4    12540\n",
              "3     4908\n",
              "2     2823\n",
              "1     1549\n",
              "0      821\n",
              "Name: Rating, dtype: int64"
            ]
          },
          "metadata": {},
          "execution_count": 7
        }
      ]
    },
    {
      "cell_type": "code",
      "source": [
        "sns.countplot(x = 'Rating', data = df_reviews)\n",
        "plt.show()"
      ],
      "metadata": {
        "colab": {
          "base_uri": "https://localhost:8080/",
          "height": 278
        },
        "id": "g1mhrHYN7vbc",
        "outputId": "ad9b6b18-ffa5-4d56-d8a7-d98000efa395"
      },
      "execution_count": null,
      "outputs": [
        {
          "output_type": "display_data",
          "data": {
            "text/plain": [
              "<Figure size 432x288 with 1 Axes>"
            ],
            "image/png": "[encoded data removed]"
          },
          "metadata": {
            "needs_background": "light"
          }
        }
      ]
    },
    {
      "cell_type": "code",
      "metadata": {
        "id": "gVJ_RVi4o1h3",
        "colab": {
          "base_uri": "https://localhost:8080/"
        },
        "outputId": "944229d5-8e3d-4e70-db23-5a3f690d8ac4"
      },
      "source": [
        "# Alumno: tomar la columna de las review y almacenarlo todo en un vector numpy de reviews\n",
        "\n",
        "text_sequences = df_reviews['Review Text'].values\n",
        "text_sequences.shape"
      ],
      "execution_count": null,
      "outputs": [
        {
          "output_type": "execute_result",
          "data": {
            "text/plain": [
              "(22641,)"
            ]
          },
          "metadata": {},
          "execution_count": 9
        }
      ]
    },
    {
      "cell_type": "code",
      "metadata": {
        "id": "4nT5Un_co65Q",
        "colab": {
          "base_uri": "https://localhost:8080/"
        },
        "outputId": "5bcf8323-3474-4394-a4bf-5b36abfcd7dc"
      },
      "source": [
        "# Alumno: Cuantas reviews (rows) hay para evaluar?\n",
        "\n",
        "len(text_sequences)"
      ],
      "execution_count": null,
      "outputs": [
        {
          "output_type": "execute_result",
          "data": {
            "text/plain": [
              "22641"
            ]
          },
          "metadata": {},
          "execution_count": 10
        }
      ]
    },
    {
      "cell_type": "code",
      "metadata": {
        "id": "HP5uN9tqpHu_"
      },
      "source": [
        "# Alumno: Concatenar todas las reviews para armar el corpus\n",
        "\n",
        "corpus = ' '.join(text_sequences)"
      ],
      "execution_count": null,
      "outputs": []
    },
    {
      "cell_type": "code",
      "metadata": {
        "id": "FEzmePgdpf74",
        "colab": {
          "base_uri": "https://localhost:8080/"
        },
        "outputId": "961685d0-178f-464e-85d6-6c4748a5c032"
      },
      "source": [
        "# Alumno: ¿Cuál es la longitud de ese corpus?\n",
        "\n",
        "len(corpus)"
      ],
      "execution_count": null,
      "outputs": [
        {
          "output_type": "execute_result",
          "data": {
            "text/plain": [
              "7011643"
            ]
          },
          "metadata": {},
          "execution_count": 12
        }
      ]
    },
    {
      "cell_type": "code",
      "metadata": {
        "id": "MYeJLdDmpvOe"
      },
      "source": [
        "# Alumno: Utilizar \"text_to_word_sequence\" para separar las palabras en tokens\n",
        "# recordar que text_to_word_sequence automaticamente quita los signos de puntuacion y pasa el texto a lowercase\n",
        "from keras.preprocessing.text import text_to_word_sequence\n",
        "\n",
        "tokens = text_to_word_sequence(corpus)"
      ],
      "execution_count": null,
      "outputs": []
    },
    {
      "cell_type": "code",
      "metadata": {
        "id": "M6L-fnWAp_lA",
        "colab": {
          "base_uri": "https://localhost:8080/"
        },
        "outputId": "deb1cdb3-073f-4398-f19a-37eaa50788ba"
      },
      "source": [
        "# Alumno: Dar un vistazo a los primeros 20 tokens/palabras\n",
        "\n",
        "tokens[:20]"
      ],
      "execution_count": null,
      "outputs": [
        {
          "output_type": "execute_result",
          "data": {
            "text/plain": [
              "['absolutely',\n",
              " 'wonderful',\n",
              " 'silky',\n",
              " 'and',\n",
              " 'sexy',\n",
              " 'and',\n",
              " 'comfortable',\n",
              " 'love',\n",
              " 'this',\n",
              " 'dress',\n",
              " \"it's\",\n",
              " 'sooo',\n",
              " 'pretty',\n",
              " 'i',\n",
              " 'happened',\n",
              " 'to',\n",
              " 'find',\n",
              " 'it',\n",
              " 'in',\n",
              " 'a']"
            ]
          },
          "metadata": {},
          "execution_count": 14
        }
      ]
    },
    {
      "cell_type": "code",
      "metadata": {
        "id": "-8QgwwMUqG0d",
        "colab": {
          "base_uri": "https://localhost:8080/"
        },
        "outputId": "1f6221b0-0a50-407c-bcb5-fabde7c82e30"
      },
      "source": [
        "# Alumno: ¿Cuántos tokens/palabras hay?\n",
        "\n",
        "len(tokens)"
      ],
      "execution_count": null,
      "outputs": [
        {
          "output_type": "execute_result",
          "data": {
            "text/plain": [
              "1372203"
            ]
          },
          "metadata": {},
          "execution_count": 15
        }
      ]
    },
    {
      "cell_type": "code",
      "metadata": {
        "id": "TFukNZdOsZ8_"
      },
      "source": [
        "# Alumno: Tokenizar las palabras con el Tokenizer de Keras\n",
        "# Definir una máxima cantidad de palabras a utilizar:\n",
        "# num_words --> the maximum number of words to keep, based on word frequency.\n",
        "# Only the most common num_words-1 words will be kept.\n",
        "from keras.preprocessing.text import Tokenizer\n",
        "num_words = 2000\n",
        "vocab_size = num_words\n",
        "\n",
        "tok = Tokenizer(num_words) \n",
        "tok.fit_on_texts(tokens)"
      ],
      "execution_count": null,
      "outputs": []
    },
    {
      "cell_type": "code",
      "metadata": {
        "id": "JnR1tlqZy94X",
        "colab": {
          "base_uri": "https://localhost:8080/"
        },
        "outputId": "de88d506-db27-4637-c42c-0c556dc72ffc"
      },
      "source": [
        "# Alumno: Obtener el diccionario de palabra (word) a índice\n",
        "# y observar la cantidad total del vocabulario\n",
        "\n",
        "word_index = tok.word_index\n",
        "len(word_index)"
      ],
      "execution_count": null,
      "outputs": [
        {
          "output_type": "execute_result",
          "data": {
            "text/plain": [
              "14847"
            ]
          },
          "metadata": {},
          "execution_count": 17
        }
      ]
    },
    {
      "cell_type": "code",
      "metadata": {
        "id": "AvWzzSretQXf"
      },
      "source": [
        "# Alumno: Convertir las palabras/tokens a números\n",
        "\n",
        "sequences = tok.texts_to_sequences(text_sequences)"
      ],
      "execution_count": null,
      "outputs": []
    },
    {
      "cell_type": "code",
      "metadata": {
        "id": "za73M5SRtbrP",
        "colab": {
          "base_uri": "https://localhost:8080/"
        },
        "outputId": "c4dedc16-33e0-4dce-f7fa-32f04d3215df"
      },
      "source": [
        "# Alumno: Determinar cual es la oración más larga\n",
        "\n",
        "max(len(s) for s in sequences)"
      ],
      "execution_count": null,
      "outputs": [
        {
          "output_type": "execute_result",
          "data": {
            "text/plain": [
              "115"
            ]
          },
          "metadata": {},
          "execution_count": 19
        }
      ]
    },
    {
      "cell_type": "code",
      "metadata": {
        "id": "oCkO9Wc9tls1"
      },
      "source": [
        "# Alumno: Realizar padding de las sentencias al mismo tamaño\n",
        "# tomando de referencia la máxima sentencia\n",
        "from keras.preprocessing.sequence import pad_sequences\n",
        "maxlen = 115\n",
        "\n",
        "X = pad_sequences(sequences, padding='pre', maxlen=maxlen)"
      ],
      "execution_count": null,
      "outputs": []
    },
    {
      "cell_type": "code",
      "metadata": {
        "id": "kGHHabVdt_aa",
        "colab": {
          "base_uri": "https://localhost:8080/"
        },
        "outputId": "481591d4-e171-4a4f-97c3-7cb3072c3951"
      },
      "source": [
        "# Alumno: Observar las dimensiones de la variable input\n",
        "\n",
        "X.shape"
      ],
      "execution_count": null,
      "outputs": [
        {
          "output_type": "execute_result",
          "data": {
            "text/plain": [
              "(22641, 115)"
            ]
          },
          "metadata": {},
          "execution_count": 21
        }
      ]
    },
    {
      "cell_type": "code",
      "metadata": {
        "id": "llVM-tzQo9_F",
        "colab": {
          "base_uri": "https://localhost:8080/"
        },
        "outputId": "8331951c-ba5b-4ef2-b12a-18917e387c93"
      },
      "source": [
        "# Alumno tomar la columna rating y alcemacenarla en una variable \"y\" transformada a oneHotEncoding\n",
        "# Su shape debe ser equivalente la cantidad de rows del corpus y a la cantidad\n",
        "# de clases que se deseen predecir (en este ejemplo son 5)\n",
        "\n",
        "y = to_categorical(df_reviews['Rating'].values, num_classes = len(df_reviews['Rating'].unique()))\n",
        "y.shape"
      ],
      "execution_count": null,
      "outputs": [
        {
          "output_type": "execute_result",
          "data": {
            "text/plain": [
              "(22641, 5)"
            ]
          },
          "metadata": {},
          "execution_count": 22
        }
      ]
    },
    {
      "cell_type": "code",
      "metadata": {
        "id": "Rmz9A6n4uK4V"
      },
      "source": [
        "# Alumno: Dividir los datos en train y test\n",
        "from sklearn.model_selection import train_test_split\n",
        "\n",
        "X_train, X_test, y_train, y_test = train_test_split(X, y, test_size = 0.2, random_state = 4321)"
      ],
      "execution_count": null,
      "outputs": []
    },
    {
      "cell_type": "code",
      "metadata": {
        "id": "EcDPlhEouQ9E",
        "colab": {
          "base_uri": "https://localhost:8080/"
        },
        "outputId": "c5f3e3de-2807-4483-a61c-88992ea053d5"
      },
      "source": [
        "# Alumno: determinar la dimensiones de entrada y salida\n",
        "\n",
        "in_shape = X_train.shape[1]\n",
        "out_shape = y_train.shape[1]\n",
        "print(\"in_shape\", in_shape, \", out_shape\", out_shape)"
      ],
      "execution_count": null,
      "outputs": [
        {
          "output_type": "stream",
          "name": "stdout",
          "text": [
            "in_shape 115 , out_shape 5\n"
          ]
        }
      ]
    },
    {
      "cell_type": "markdown",
      "metadata": {
        "id": "NpbQHExL6OTu"
      },
      "source": [
        "### 2 - Entrenar el modelo con Embeddings + LSTM"
      ]
    },
    {
      "cell_type": "code",
      "metadata": {
        "id": "NUkuWBsM6cx3"
      },
      "source": [
        "# Alumno: Entrene su modelo con LSTM entrenando sus propios embeddings\n",
        "# o utilizando embeddings pre-entrenados.\n",
        "from keras.layers import LSTM\n",
        "from keras.layers import Embedding\n",
        "from keras.layers import Dropout\n",
        "\n",
        "model = Sequential()\n",
        "# input_dim = vocab_size (max n_words)\n",
        "# input_length = setencias con padding a 115\n",
        "# output_dim = 50 --> crear embeddings de tamaño 50\n",
        "model.add(Embedding(input_dim = vocab_size + 1, output_dim = 50, input_length = in_shape))\n",
        "model.add(LSTM(units = 64, return_sequences = True))\n",
        "model.add(Dropout(0.2))\n",
        "model.add(LSTM(units = 64)) # La última capa LSTM no lleva return_sequences\n",
        "\n",
        "model.add(Dense(units=128, activation='relu'))\n",
        "model.add(Dropout(rate=0.2))\n",
        "model.add(Dense(units=out_shape, activation='softmax'))\n",
        "\n",
        "model.compile(optimizer=\"adam\",\n",
        "              loss='categorical_crossentropy',\n",
        "              metrics=['accuracy'])\n",
        "\n",
        "#model.summary()"
      ],
      "execution_count": null,
      "outputs": []
    },
    {
      "cell_type": "code",
      "source": [
        "from keras.utils.vis_utils import plot_model\n",
        "plot_model(model, to_file='model_plot.png', show_shapes=True, show_layer_names=True)"
      ],
      "metadata": {
        "colab": {
          "base_uri": "https://localhost:8080/",
          "height": 864
        },
        "id": "YfHGNGLKuHJe",
        "outputId": "f3238fed-2df1-46d5-8bdd-9fecce6b1b49"
      },
      "execution_count": null,
      "outputs": [
        {
          "output_type": "execute_result",
          "data": {
            "text/plain": [
              "<IPython.core.display.Image object>"
            ],
            "image/png": "[encoded data removed]"
          },
          "metadata": {},
          "execution_count": 26
        }
      ]
    },
    {
      "cell_type": "code",
      "source": [
        "hist = model.fit(X_train, y_train, epochs = 50, validation_split = 0.2)"
      ],
      "metadata": {
        "colab": {
          "base_uri": "https://localhost:8080/"
        },
        "id": "6qBo-4YWuOVG",
        "outputId": "0247cf55-c1b6-4192-a38a-0a246b4e4543"
      },
      "execution_count": null,
      "outputs": [
        {
          "output_type": "stream",
          "name": "stdout",
          "text": [
            "Epoch 1/50\n",
            "453/453 [==============================] - 78s 162ms/step - loss: 1.0128 - accuracy: 0.5947 - val_loss: 0.9270 - val_accuracy: 0.6100\n",
            "Epoch 2/50\n",
            "453/453 [==============================] - 74s 163ms/step - loss: 0.8825 - accuracy: 0.6287 - val_loss: 0.9210 - val_accuracy: 0.6036\n",
            "Epoch 3/50\n",
            "453/453 [==============================] - 73s 161ms/step - loss: 0.8235 - accuracy: 0.6524 - val_loss: 0.8776 - val_accuracy: 0.6332\n",
            "Epoch 4/50\n",
            "453/453 [==============================] - 72s 159ms/step - loss: 0.7746 - accuracy: 0.6687 - val_loss: 0.8801 - val_accuracy: 0.6210\n",
            "Epoch 5/50\n",
            "453/453 [==============================] - 72s 160ms/step - loss: 0.7381 - accuracy: 0.6896 - val_loss: 0.9004 - val_accuracy: 0.6290\n",
            "Epoch 6/50\n",
            "453/453 [==============================] - 73s 162ms/step - loss: 0.7031 - accuracy: 0.7050 - val_loss: 0.9273 - val_accuracy: 0.6194\n",
            "Epoch 7/50\n",
            "453/453 [==============================] - 73s 160ms/step - loss: 0.6691 - accuracy: 0.7208 - val_loss: 0.9614 - val_accuracy: 0.6144\n",
            "Epoch 8/50\n",
            "453/453 [==============================] - 73s 162ms/step - loss: 0.6380 - accuracy: 0.7323 - val_loss: 1.0168 - val_accuracy: 0.6100\n",
            "Epoch 9/50\n",
            "453/453 [==============================] - 73s 161ms/step - loss: 0.6128 - accuracy: 0.7484 - val_loss: 1.0108 - val_accuracy: 0.6116\n",
            "Epoch 10/50\n",
            "453/453 [==============================] - 73s 161ms/step - loss: 0.5801 - accuracy: 0.7633 - val_loss: 1.1194 - val_accuracy: 0.5937\n",
            "Epoch 11/50\n",
            "453/453 [==============================] - 73s 161ms/step - loss: 0.5473 - accuracy: 0.7796 - val_loss: 1.1587 - val_accuracy: 0.5868\n",
            "Epoch 12/50\n",
            "453/453 [==============================] - 73s 161ms/step - loss: 0.5122 - accuracy: 0.7968 - val_loss: 1.2109 - val_accuracy: 0.6025\n",
            "Epoch 13/50\n",
            "453/453 [==============================] - 73s 161ms/step - loss: 0.4950 - accuracy: 0.8058 - val_loss: 1.2348 - val_accuracy: 0.5838\n",
            "Epoch 14/50\n",
            "453/453 [==============================] - 73s 161ms/step - loss: 0.4560 - accuracy: 0.8226 - val_loss: 1.3148 - val_accuracy: 0.5921\n",
            "Epoch 15/50\n",
            "453/453 [==============================] - 73s 161ms/step - loss: 0.4160 - accuracy: 0.8375 - val_loss: 1.4322 - val_accuracy: 0.5907\n",
            "Epoch 16/50\n",
            "453/453 [==============================] - 72s 160ms/step - loss: 0.3783 - accuracy: 0.8542 - val_loss: 1.5825 - val_accuracy: 0.5794\n",
            "Epoch 17/50\n",
            "453/453 [==============================] - 72s 159ms/step - loss: 0.3531 - accuracy: 0.8667 - val_loss: 1.5638 - val_accuracy: 0.5810\n",
            "Epoch 18/50\n",
            "453/453 [==============================] - 72s 159ms/step - loss: 0.3461 - accuracy: 0.8706 - val_loss: 1.5784 - val_accuracy: 0.5691\n",
            "Epoch 19/50\n",
            "453/453 [==============================] - 73s 160ms/step - loss: 0.3137 - accuracy: 0.8858 - val_loss: 1.7736 - val_accuracy: 0.5702\n",
            "Epoch 20/50\n",
            "453/453 [==============================] - 78s 171ms/step - loss: 0.2839 - accuracy: 0.8947 - val_loss: 1.8960 - val_accuracy: 0.5901\n",
            "Epoch 21/50\n",
            "453/453 [==============================] - 71s 157ms/step - loss: 0.2644 - accuracy: 0.9033 - val_loss: 1.9987 - val_accuracy: 0.5948\n",
            "Epoch 22/50\n",
            "453/453 [==============================] - 71s 157ms/step - loss: 0.2520 - accuracy: 0.9099 - val_loss: 2.0278 - val_accuracy: 0.5788\n",
            "Epoch 23/50\n",
            "453/453 [==============================] - 72s 160ms/step - loss: 0.2258 - accuracy: 0.9181 - val_loss: 2.1047 - val_accuracy: 0.5628\n",
            "Epoch 24/50\n",
            "453/453 [==============================] - 74s 163ms/step - loss: 0.2073 - accuracy: 0.9249 - val_loss: 2.2314 - val_accuracy: 0.5647\n",
            "Epoch 25/50\n",
            "453/453 [==============================] - 73s 161ms/step - loss: 0.1961 - accuracy: 0.9309 - val_loss: 2.3265 - val_accuracy: 0.5705\n",
            "Epoch 26/50\n",
            "453/453 [==============================] - 73s 161ms/step - loss: 0.1785 - accuracy: 0.9348 - val_loss: 2.3386 - val_accuracy: 0.5879\n",
            "Epoch 27/50\n",
            "453/453 [==============================] - 73s 160ms/step - loss: 0.1563 - accuracy: 0.9462 - val_loss: 2.5390 - val_accuracy: 0.5650\n",
            "Epoch 28/50\n",
            "453/453 [==============================] - 73s 162ms/step - loss: 0.1714 - accuracy: 0.9402 - val_loss: 2.4654 - val_accuracy: 0.5738\n",
            "Epoch 29/50\n",
            "453/453 [==============================] - 73s 162ms/step - loss: 0.1587 - accuracy: 0.9465 - val_loss: 2.4933 - val_accuracy: 0.5744\n",
            "Epoch 30/50\n",
            "453/453 [==============================] - 73s 161ms/step - loss: 0.1410 - accuracy: 0.9490 - val_loss: 2.5703 - val_accuracy: 0.5713\n",
            "Epoch 31/50\n",
            "453/453 [==============================] - 73s 160ms/step - loss: 0.1211 - accuracy: 0.9578 - val_loss: 2.7909 - val_accuracy: 0.5716\n",
            "Epoch 32/50\n",
            "453/453 [==============================] - 72s 160ms/step - loss: 0.1158 - accuracy: 0.9595 - val_loss: 2.7401 - val_accuracy: 0.5642\n",
            "Epoch 33/50\n",
            "453/453 [==============================] - 72s 159ms/step - loss: 0.1180 - accuracy: 0.9580 - val_loss: 2.8957 - val_accuracy: 0.5664\n",
            "Epoch 34/50\n",
            "453/453 [==============================] - 72s 159ms/step - loss: 0.1075 - accuracy: 0.9651 - val_loss: 2.8885 - val_accuracy: 0.5788\n",
            "Epoch 35/50\n",
            "453/453 [==============================] - 72s 158ms/step - loss: 0.0948 - accuracy: 0.9684 - val_loss: 2.8779 - val_accuracy: 0.5542\n",
            "Epoch 36/50\n",
            "453/453 [==============================] - 73s 161ms/step - loss: 0.1114 - accuracy: 0.9606 - val_loss: 3.0494 - val_accuracy: 0.5614\n",
            "Epoch 37/50\n",
            "453/453 [==============================] - 73s 161ms/step - loss: 0.0927 - accuracy: 0.9690 - val_loss: 3.0590 - val_accuracy: 0.5609\n",
            "Epoch 38/50\n",
            "453/453 [==============================] - 72s 159ms/step - loss: 0.0908 - accuracy: 0.9703 - val_loss: 2.9416 - val_accuracy: 0.5551\n",
            "Epoch 39/50\n",
            "453/453 [==============================] - 72s 159ms/step - loss: 0.0842 - accuracy: 0.9716 - val_loss: 3.0244 - val_accuracy: 0.5758\n",
            "Epoch 40/50\n",
            "453/453 [==============================] - 73s 161ms/step - loss: 0.0869 - accuracy: 0.9732 - val_loss: 2.9973 - val_accuracy: 0.5678\n",
            "Epoch 41/50\n",
            "453/453 [==============================] - 73s 162ms/step - loss: 0.0642 - accuracy: 0.9795 - val_loss: 3.3771 - val_accuracy: 0.5691\n",
            "Epoch 42/50\n",
            "453/453 [==============================] - 78s 171ms/step - loss: 0.0801 - accuracy: 0.9730 - val_loss: 3.1712 - val_accuracy: 0.5620\n",
            "Epoch 43/50\n",
            "453/453 [==============================] - 73s 162ms/step - loss: 0.0695 - accuracy: 0.9758 - val_loss: 2.9189 - val_accuracy: 0.5719\n",
            "Epoch 44/50\n",
            "453/453 [==============================] - 74s 162ms/step - loss: 0.0828 - accuracy: 0.9716 - val_loss: 3.0664 - val_accuracy: 0.5664\n",
            "Epoch 45/50\n",
            "453/453 [==============================] - 73s 162ms/step - loss: 0.0529 - accuracy: 0.9817 - val_loss: 3.5291 - val_accuracy: 0.5578\n",
            "Epoch 46/50\n",
            "453/453 [==============================] - 73s 161ms/step - loss: 0.0546 - accuracy: 0.9819 - val_loss: 3.4006 - val_accuracy: 0.5656\n",
            "Epoch 47/50\n",
            "453/453 [==============================] - 73s 161ms/step - loss: 0.0691 - accuracy: 0.9762 - val_loss: 3.4465 - val_accuracy: 0.5639\n",
            "Epoch 48/50\n",
            "453/453 [==============================] - 73s 161ms/step - loss: 0.0487 - accuracy: 0.9832 - val_loss: 3.6783 - val_accuracy: 0.5468\n",
            "Epoch 49/50\n",
            "453/453 [==============================] - 72s 160ms/step - loss: 0.0543 - accuracy: 0.9812 - val_loss: 3.6139 - val_accuracy: 0.5713\n",
            "Epoch 50/50\n",
            "453/453 [==============================] - 72s 159ms/step - loss: 0.0549 - accuracy: 0.9825 - val_loss: 3.5815 - val_accuracy: 0.5783\n"
          ]
        }
      ]
    },
    {
      "cell_type": "code",
      "source": [
        "epoch_count = range(1, len(hist.history['accuracy']) + 1)\n",
        "sns.lineplot(x=epoch_count,  y=hist.history['accuracy'], label='train')\n",
        "sns.lineplot(x=epoch_count,  y=hist.history['val_accuracy'], label='valid')\n",
        "plt.show()"
      ],
      "metadata": {
        "colab": {
          "base_uri": "https://localhost:8080/",
          "height": 266
        },
        "id": "wPLMNh3pO9py",
        "outputId": "27a2b74c-1603-4253-955a-b1d0ad2b92f1"
      },
      "execution_count": null,
      "outputs": [
        {
          "output_type": "display_data",
          "data": {
            "text/plain": [
              "<Figure size 432x288 with 1 Axes>"
            ],
            "image/png": "[encoded data removed]"
          },
          "metadata": {
            "needs_background": "light"
          }
        }
      ]
    },
    {
      "cell_type": "markdown",
      "source": [
        "### 3 - Entrenar el modelo con Embeddings Fasttext + LSTM\n"
      ],
      "metadata": {
        "id": "SLJEneajPJkt"
      }
    },
    {
      "cell_type": "code",
      "source": [
        "# Descargar los embeddings desde un gogle drive (es la forma más rápida)\n",
        "# NOTA: No hay garantía de que estos links perduren, en caso de que no estén\n",
        "# disponibles descargar de la página oficial como se explica en el siguiente bloque\n",
        "import os\n",
        "import gdown\n",
        "if os.access('fasttext.pkl', os.F_OK) is False:\n",
        "    url = 'https://drive.google.com/uc?id=1KU5qmAYh3LATMvVgocFDfW-PK3prm1WU&export=download'\n",
        "    output = 'fasttext.pkl'\n",
        "    gdown.download(url, output, quiet=False)\n",
        "else:\n",
        "    print(\"Los embeddings fasttext.pkl ya están descargados\")"
      ],
      "metadata": {
        "colab": {
          "base_uri": "https://localhost:8080/"
        },
        "id": "b2gJ-1-wPRnc",
        "outputId": "7ca98a52-792a-4d0d-f620-01c91a34a0d7"
      },
      "execution_count": null,
      "outputs": [
        {
          "output_type": "stream",
          "name": "stderr",
          "text": [
            "Downloading...\n",
            "From: https://drive.google.com/uc?id=1KU5qmAYh3LATMvVgocFDfW-PK3prm1WU&export=download\n",
            "To: /content/fasttext.pkl\n",
            "100%|██████████| 2.88G/2.88G [00:32<00:00, 88.1MB/s]\n"
          ]
        }
      ]
    },
    {
      "cell_type": "code",
      "source": [
        "import logging\n",
        "import os\n",
        "from pathlib import Path\n",
        "from io import StringIO\n",
        "import pickle\n",
        "\n",
        "class WordsEmbeddings(object):\n",
        "    logger = logging.getLogger(__name__)\n",
        "\n",
        "    def __init__(self):\n",
        "        # load the embeddings\n",
        "        words_embedding_pkl = Path(self.PKL_PATH)\n",
        "        if not words_embedding_pkl.is_file():\n",
        "            words_embedding_txt = Path(self.WORD_TO_VEC_MODEL_TXT_PATH)\n",
        "            assert words_embedding_txt.is_file(), 'Words embedding not available'\n",
        "            embeddings = self.convert_model_to_pickle()\n",
        "        else:\n",
        "            embeddings = self.load_model_from_pickle()\n",
        "        self.embeddings = embeddings\n",
        "        # build the vocabulary hashmap\n",
        "        index = np.arange(self.embeddings.shape[0])\n",
        "        # Dicctionarios para traducir de embedding a IDX de la palabra\n",
        "        self.word2idx = dict(zip(self.embeddings['word'], index))\n",
        "        self.idx2word = dict(zip(index, self.embeddings['word']))\n",
        "\n",
        "    def get_words_embeddings(self, words):\n",
        "        words_idxs = self.words2idxs(words)\n",
        "        return self.embeddings[words_idxs]['embedding']\n",
        "\n",
        "    def words2idxs(self, words):\n",
        "        return np.array([self.word2idx.get(word, -1) for word in words])\n",
        "\n",
        "    def idxs2words(self, idxs):\n",
        "        return np.array([self.idx2word.get(idx, '-1') for idx in idxs])\n",
        "\n",
        "    def load_model_from_pickle(self):\n",
        "        self.logger.debug(\n",
        "            'loading words embeddings from pickle {}'.format(\n",
        "                self.PKL_PATH\n",
        "            )\n",
        "        )\n",
        "        max_bytes = 2**28 - 1 # 256MB\n",
        "        bytes_in = bytearray(0)\n",
        "        input_size = os.path.getsize(self.PKL_PATH)\n",
        "        with open(self.PKL_PATH, 'rb') as f_in:\n",
        "            for _ in range(0, input_size, max_bytes):\n",
        "                bytes_in += f_in.read(max_bytes)\n",
        "        embeddings = pickle.loads(bytes_in)\n",
        "        self.logger.debug('words embeddings loaded')\n",
        "        return embeddings\n",
        "\n",
        "    def convert_model_to_pickle(self):\n",
        "        # create a numpy strctured array:\n",
        "        # word     embedding\n",
        "        # U50      np.float32[]\n",
        "        # word_1   a, b, c\n",
        "        # word_2   d, e, f\n",
        "        # ...\n",
        "        # word_n   g, h, i\n",
        "        self.logger.debug(\n",
        "            'converting and loading words embeddings from text file {}'.format(\n",
        "                self.WORD_TO_VEC_MODEL_TXT_PATH\n",
        "            )\n",
        "        )\n",
        "        structure = [('word', np.dtype('U' + str(self.WORD_MAX_SIZE))),\n",
        "                     ('embedding', np.float32, (self.N_FEATURES,))]\n",
        "        structure = np.dtype(structure)\n",
        "        # load numpy array from disk using a generator\n",
        "        with open(self.WORD_TO_VEC_MODEL_TXT_PATH, encoding=\"utf8\") as words_embeddings_txt:\n",
        "            embeddings_gen = (\n",
        "                (line.split()[0], line.split()[1:]) for line in words_embeddings_txt\n",
        "                if len(line.split()[1:]) == self.N_FEATURES\n",
        "            )\n",
        "            embeddings = np.fromiter(embeddings_gen, structure)\n",
        "        # add a null embedding\n",
        "        null_embedding = np.array(\n",
        "            [('null_embedding', np.zeros((self.N_FEATURES,), dtype=np.float32))],\n",
        "            dtype=structure\n",
        "        )\n",
        "        embeddings = np.concatenate([embeddings, null_embedding])\n",
        "        # dump numpy array to disk using pickle\n",
        "        max_bytes = 2**28 - 1 # # 256MB\n",
        "        bytes_out = pickle.dumps(embeddings, protocol=pickle.HIGHEST_PROTOCOL)\n",
        "        with open(self.PKL_PATH, 'wb') as f_out:\n",
        "            for idx in range(0, len(bytes_out), max_bytes):\n",
        "                f_out.write(bytes_out[idx:idx+max_bytes])\n",
        "        self.logger.debug('words embeddings loaded')\n",
        "        return embeddings\n",
        "\n",
        "\n",
        "class GloveEmbeddings(WordsEmbeddings):\n",
        "    WORD_TO_VEC_MODEL_TXT_PATH = 'glove.twitter.27B.50d.txt'\n",
        "    PKL_PATH = 'gloveembedding.pkl'\n",
        "    N_FEATURES = 50\n",
        "    WORD_MAX_SIZE = 60\n",
        "\n",
        "\n",
        "class FasttextEmbeddings(WordsEmbeddings):\n",
        "    WORD_TO_VEC_MODEL_TXT_PATH = 'cc.en.300.vec'\n",
        "    PKL_PATH = 'fasttext.pkl'\n",
        "    N_FEATURES = 50\n",
        "    #N_FEATURES = 300\n",
        "    WORD_MAX_SIZE = 60"
      ],
      "metadata": {
        "id": "8gOXu3eUPVlU"
      },
      "execution_count": null,
      "outputs": []
    },
    {
      "cell_type": "code",
      "source": [
        "model_fasttext = FasttextEmbeddings()\n",
        "#model_fasttext = GloveEmbeddings()"
      ],
      "metadata": {
        "id": "bjzY8AYHPevs"
      },
      "execution_count": null,
      "outputs": []
    },
    {
      "cell_type": "code",
      "source": [
        "# Crear la Embedding matrix\n",
        "\n",
        "print('preparing embedding matrix...')\n",
        "embed_dim = 300 # fasttext\n",
        "words_not_found = []\n",
        "\n",
        "# word_index provieen del tokenizer\n",
        "\n",
        "nb_words = min(num_words, len(word_index)) # vocab_size\n",
        "embedding_matrix = np.zeros((nb_words, embed_dim))\n",
        "for word, i in word_index.items():\n",
        "    if i >= nb_words:\n",
        "        continue\n",
        "    embedding_vector = model_fasttext.get_words_embeddings(word)[0]\n",
        "    if (embedding_vector is not None) and len(embedding_vector) > 0:\n",
        "        embedding_matrix[i] = embedding_vector\n",
        "    else:\n",
        "        # words not found in embedding index will be all-zeros.\n",
        "        words_not_found.append(word)\n",
        "        print(word)\n",
        "\n",
        "print('number of null word embeddings:', np.sum(np.sum(embedding_matrix, axis=1) == 0))"
      ],
      "metadata": {
        "colab": {
          "base_uri": "https://localhost:8080/"
        },
        "id": "M_LDF4e8PhcV",
        "outputId": "fcfd2a93-7a77-4e2e-801d-9ebd80ae4bb2"
      },
      "execution_count": null,
      "outputs": [
        {
          "output_type": "stream",
          "name": "stdout",
          "text": [
            "preparing embedding matrix...\n",
            "number of null word embeddings: 2\n"
          ]
        }
      ]
    },
    {
      "cell_type": "code",
      "source": [
        "Embedding(input_dim = vocab_size,         # definido en el Tokenizador\n",
        "          output_dim = embed_dim,         # dimensión de los embeddings utilizados\n",
        "          input_length = in_shape,        # máxima sentencia de entrada\n",
        "          weights = [embedding_matrix],   # matrix de embeddings\n",
        "          trainable = False)              # marcar como layer no entrenable"
      ],
      "metadata": {
        "colab": {
          "base_uri": "https://localhost:8080/"
        },
        "id": "vbld6BJRPlD-",
        "outputId": "af10dad1-4508-4a7a-dfc3-70569c5b0b99"
      },
      "execution_count": null,
      "outputs": [
        {
          "output_type": "execute_result",
          "data": {
            "text/plain": [
              "<keras.layers.embeddings.Embedding at 0x7fed79c41690>"
            ]
          },
          "metadata": {},
          "execution_count": 49
        }
      ]
    },
    {
      "cell_type": "code",
      "source": [
        "model2 = Sequential()\n",
        "# input_dim = vocab_size (max n_words)\n",
        "# input_length = setencias con padding a 200\n",
        "# output_dim = embed_dim (depende que embeddings pre entrenados utilizamos)\n",
        "model2.add(Embedding(input_dim=vocab_size, output_dim=embed_dim, input_length=in_shape,\n",
        "                     weights=[embedding_matrix], trainable=False))\n",
        "\n",
        "model2.add(LSTM(units=64, return_sequences=True))\n",
        "model2.add(Dropout(0.2))\n",
        "model2.add(LSTM(units=64)) # La última capa LSTM no lleva return_sequences\n",
        "\n",
        "model2.add(Dense(units=128, activation='relu'))\n",
        "model2.add(Dropout(rate=0.2))\n",
        "model2.add(Dense(units=out_shape, activation='softmax'))\n",
        "\n",
        "model2.compile(optimizer=\"adam\",\n",
        "              loss='categorical_crossentropy',\n",
        "              metrics=['accuracy'])\n",
        "\n",
        "model2.summary()"
      ],
      "metadata": {
        "colab": {
          "base_uri": "https://localhost:8080/"
        },
        "id": "HGikYzQtPoI9",
        "outputId": "d3861805-833c-44be-bca3-ce3091922049"
      },
      "execution_count": null,
      "outputs": [
        {
          "output_type": "stream",
          "name": "stdout",
          "text": [
            "Model: \"sequential_3\"\n",
            "_________________________________________________________________\n",
            " Layer (type)                Output Shape              Param #   \n",
            "=================================================================\n",
            " embedding_5 (Embedding)     (None, 115, 300)          600000    \n",
            "                                                                 \n",
            " lstm_6 (LSTM)               (None, 115, 64)           93440     \n",
            "                                                                 \n",
            " dropout_6 (Dropout)         (None, 115, 64)           0         \n",
            "                                                                 \n",
            " lstm_7 (LSTM)               (None, 64)                33024     \n",
            "                                                                 \n",
            " dense_6 (Dense)             (None, 128)               8320      \n",
            "                                                                 \n",
            " dropout_7 (Dropout)         (None, 128)               0         \n",
            "                                                                 \n",
            " dense_7 (Dense)             (None, 5)                 645       \n",
            "                                                                 \n",
            "=================================================================\n",
            "Total params: 735,429\n",
            "Trainable params: 135,429\n",
            "Non-trainable params: 600,000\n",
            "_________________________________________________________________\n"
          ]
        }
      ]
    },
    {
      "cell_type": "code",
      "source": [
        "hist2 = model2.fit(X_train, y_train, epochs=50, validation_split=0.2)"
      ],
      "metadata": {
        "colab": {
          "base_uri": "https://localhost:8080/"
        },
        "id": "wOkvDMaIPr__",
        "outputId": "abf845a3-ce70-4c0a-d562-0614e7df3daf"
      },
      "execution_count": null,
      "outputs": [
        {
          "output_type": "stream",
          "name": "stdout",
          "text": [
            "Epoch 1/50\n",
            "453/453 [==============================] - 95s 200ms/step - loss: 1.2286 - accuracy: 0.5523 - val_loss: 1.2006 - val_accuracy: 0.5471\n",
            "Epoch 2/50\n",
            "453/453 [==============================] - 89s 196ms/step - loss: 1.1867 - accuracy: 0.5536 - val_loss: 1.1496 - val_accuracy: 0.5476\n",
            "Epoch 3/50\n",
            "453/453 [==============================] - 88s 195ms/step - loss: 1.1511 - accuracy: 0.5569 - val_loss: 1.1385 - val_accuracy: 0.5540\n",
            "Epoch 4/50\n",
            "453/453 [==============================] - 90s 200ms/step - loss: 1.1275 - accuracy: 0.5606 - val_loss: 1.1231 - val_accuracy: 0.5589\n",
            "Epoch 5/50\n",
            "453/453 [==============================] - 90s 199ms/step - loss: 1.1091 - accuracy: 0.5644 - val_loss: 1.1152 - val_accuracy: 0.5575\n",
            "Epoch 6/50\n",
            "453/453 [==============================] - 89s 197ms/step - loss: 1.0931 - accuracy: 0.5697 - val_loss: 1.1110 - val_accuracy: 0.5589\n",
            "Epoch 7/50\n",
            "453/453 [==============================] - 93s 205ms/step - loss: 1.0719 - accuracy: 0.5755 - val_loss: 1.0881 - val_accuracy: 0.5711\n",
            "Epoch 8/50\n",
            "453/453 [==============================] - 88s 195ms/step - loss: 1.0564 - accuracy: 0.5786 - val_loss: 1.1198 - val_accuracy: 0.5631\n",
            "Epoch 9/50\n",
            "453/453 [==============================] - 89s 196ms/step - loss: 1.0308 - accuracy: 0.5832 - val_loss: 1.0858 - val_accuracy: 0.5620\n",
            "Epoch 10/50\n",
            "453/453 [==============================] - 89s 197ms/step - loss: 1.0093 - accuracy: 0.5885 - val_loss: 1.0774 - val_accuracy: 0.5719\n",
            "Epoch 11/50\n",
            "453/453 [==============================] - 89s 197ms/step - loss: 0.9920 - accuracy: 0.5961 - val_loss: 1.0774 - val_accuracy: 0.5713\n",
            "Epoch 12/50\n",
            "453/453 [==============================] - 89s 197ms/step - loss: 0.9656 - accuracy: 0.6036 - val_loss: 1.0815 - val_accuracy: 0.5766\n",
            "Epoch 13/50\n",
            "453/453 [==============================] - 90s 199ms/step - loss: 0.9409 - accuracy: 0.6138 - val_loss: 1.0976 - val_accuracy: 0.5769\n",
            "Epoch 14/50\n",
            "453/453 [==============================] - 89s 197ms/step - loss: 0.9139 - accuracy: 0.6277 - val_loss: 1.1159 - val_accuracy: 0.5644\n",
            "Epoch 15/50\n",
            "453/453 [==============================] - 90s 199ms/step - loss: 0.8911 - accuracy: 0.6379 - val_loss: 1.1330 - val_accuracy: 0.5551\n",
            "Epoch 16/50\n",
            "453/453 [==============================] - 92s 202ms/step - loss: 0.8617 - accuracy: 0.6469 - val_loss: 1.1802 - val_accuracy: 0.5587\n",
            "Epoch 17/50\n",
            "453/453 [==============================] - 91s 201ms/step - loss: 0.8324 - accuracy: 0.6553 - val_loss: 1.1831 - val_accuracy: 0.5589\n",
            "Epoch 18/50\n",
            "453/453 [==============================] - 89s 197ms/step - loss: 0.7999 - accuracy: 0.6706 - val_loss: 1.2612 - val_accuracy: 0.5531\n",
            "Epoch 19/50\n",
            "453/453 [==============================] - 91s 200ms/step - loss: 0.7724 - accuracy: 0.6802 - val_loss: 1.2435 - val_accuracy: 0.5258\n",
            "Epoch 20/50\n",
            "453/453 [==============================] - 90s 199ms/step - loss: 0.7436 - accuracy: 0.6939 - val_loss: 1.2744 - val_accuracy: 0.5435\n",
            "Epoch 21/50\n",
            "453/453 [==============================] - 91s 202ms/step - loss: 0.7098 - accuracy: 0.7096 - val_loss: 1.3933 - val_accuracy: 0.5457\n",
            "Epoch 22/50\n",
            "453/453 [==============================] - 91s 201ms/step - loss: 0.6821 - accuracy: 0.7232 - val_loss: 1.4046 - val_accuracy: 0.5443\n",
            "Epoch 23/50\n",
            "453/453 [==============================] - 91s 201ms/step - loss: 0.6497 - accuracy: 0.7339 - val_loss: 1.4871 - val_accuracy: 0.5449\n",
            "Epoch 24/50\n",
            "453/453 [==============================] - 92s 204ms/step - loss: 0.6333 - accuracy: 0.7402 - val_loss: 1.5027 - val_accuracy: 0.5407\n",
            "Epoch 25/50\n",
            "453/453 [==============================] - 92s 203ms/step - loss: 0.5993 - accuracy: 0.7597 - val_loss: 1.4858 - val_accuracy: 0.5335\n",
            "Epoch 26/50\n",
            "453/453 [==============================] - 89s 197ms/step - loss: 0.5884 - accuracy: 0.7598 - val_loss: 1.5972 - val_accuracy: 0.5275\n",
            "Epoch 27/50\n",
            "453/453 [==============================] - 92s 204ms/step - loss: 0.5550 - accuracy: 0.7774 - val_loss: 1.6559 - val_accuracy: 0.5377\n",
            "Epoch 28/50\n",
            "453/453 [==============================] - 93s 205ms/step - loss: 0.5370 - accuracy: 0.7838 - val_loss: 1.6963 - val_accuracy: 0.5266\n",
            "Epoch 29/50\n",
            "453/453 [==============================] - 90s 198ms/step - loss: 0.5097 - accuracy: 0.7919 - val_loss: 1.7873 - val_accuracy: 0.5043\n",
            "Epoch 30/50\n",
            "453/453 [==============================] - 91s 202ms/step - loss: 0.4842 - accuracy: 0.8034 - val_loss: 1.7745 - val_accuracy: 0.5178\n",
            "Epoch 31/50\n",
            "453/453 [==============================] - 90s 199ms/step - loss: 0.4688 - accuracy: 0.8120 - val_loss: 1.9100 - val_accuracy: 0.5363\n",
            "Epoch 32/50\n",
            "453/453 [==============================] - 91s 202ms/step - loss: 0.4600 - accuracy: 0.8169 - val_loss: 2.0363 - val_accuracy: 0.4896\n",
            "Epoch 33/50\n",
            "453/453 [==============================] - 92s 202ms/step - loss: 0.4335 - accuracy: 0.8249 - val_loss: 2.0201 - val_accuracy: 0.5145\n",
            "Epoch 34/50\n",
            "453/453 [==============================] - 91s 200ms/step - loss: 0.4246 - accuracy: 0.8336 - val_loss: 2.0528 - val_accuracy: 0.5079\n",
            "Epoch 35/50\n",
            "453/453 [==============================] - 93s 205ms/step - loss: 0.4059 - accuracy: 0.8411 - val_loss: 2.1877 - val_accuracy: 0.5206\n",
            "Epoch 36/50\n",
            "453/453 [==============================] - 92s 203ms/step - loss: 0.4003 - accuracy: 0.8412 - val_loss: 2.1459 - val_accuracy: 0.5186\n",
            "Epoch 37/50\n",
            "453/453 [==============================] - 91s 202ms/step - loss: 0.3733 - accuracy: 0.8527 - val_loss: 2.2090 - val_accuracy: 0.5217\n",
            "Epoch 38/50\n",
            "453/453 [==============================] - 92s 203ms/step - loss: 0.3669 - accuracy: 0.8555 - val_loss: 2.1982 - val_accuracy: 0.5164\n",
            "Epoch 39/50\n",
            "453/453 [==============================] - 91s 202ms/step - loss: 0.3484 - accuracy: 0.8640 - val_loss: 2.4233 - val_accuracy: 0.5040\n",
            "Epoch 40/50\n",
            "453/453 [==============================] - 94s 207ms/step - loss: 0.3481 - accuracy: 0.8631 - val_loss: 2.3241 - val_accuracy: 0.4935\n",
            "Epoch 41/50\n",
            "453/453 [==============================] - 93s 205ms/step - loss: 0.3382 - accuracy: 0.8701 - val_loss: 2.3741 - val_accuracy: 0.5023\n",
            "Epoch 42/50\n",
            "453/453 [==============================] - 92s 204ms/step - loss: 0.3383 - accuracy: 0.8691 - val_loss: 2.5486 - val_accuracy: 0.5195\n",
            "Epoch 43/50\n",
            "453/453 [==============================] - 91s 202ms/step - loss: 0.3122 - accuracy: 0.8785 - val_loss: 2.5463 - val_accuracy: 0.5294\n",
            "Epoch 44/50\n",
            "453/453 [==============================] - 93s 205ms/step - loss: 0.3179 - accuracy: 0.8782 - val_loss: 2.4474 - val_accuracy: 0.5203\n",
            "Epoch 45/50\n",
            "453/453 [==============================] - 91s 202ms/step - loss: 0.2838 - accuracy: 0.8903 - val_loss: 2.6952 - val_accuracy: 0.5242\n",
            "Epoch 46/50\n",
            "453/453 [==============================] - 100s 221ms/step - loss: 0.2943 - accuracy: 0.8844 - val_loss: 2.6233 - val_accuracy: 0.5012\n",
            "Epoch 47/50\n",
            "453/453 [==============================] - 123s 272ms/step - loss: 0.2791 - accuracy: 0.8927 - val_loss: 2.6769 - val_accuracy: 0.4990\n",
            "Epoch 48/50\n",
            "453/453 [==============================] - 106s 233ms/step - loss: 0.2699 - accuracy: 0.8953 - val_loss: 2.7671 - val_accuracy: 0.5051\n",
            "Epoch 49/50\n",
            "453/453 [==============================] - 90s 199ms/step - loss: 0.2792 - accuracy: 0.8925 - val_loss: 2.7823 - val_accuracy: 0.4861\n",
            "Epoch 50/50\n",
            "453/453 [==============================] - 91s 200ms/step - loss: 0.2637 - accuracy: 0.8998 - val_loss: 2.7037 - val_accuracy: 0.4927\n"
          ]
        }
      ]
    },
    {
      "cell_type": "code",
      "source": [
        "epoch_count = range(1, len(hist2.history['accuracy']) + 1)\n",
        "sns.lineplot(x=epoch_count,  y=hist2.history['accuracy'], label='train')\n",
        "sns.lineplot(x=epoch_count,  y=hist2.history['val_accuracy'], label='valid')\n",
        "plt.show()"
      ],
      "metadata": {
        "colab": {
          "base_uri": "https://localhost:8080/",
          "height": 264
        },
        "id": "iBnJQ4UjPwMY",
        "outputId": "ad266e53-c1df-4306-e442-546af6997114"
      },
      "execution_count": null,
      "outputs": [
        {
          "output_type": "display_data",
          "data": {
            "text/plain": [
              "<Figure size 432x288 with 1 Axes>"
            ],
            "image/png": "[encoded data removed]"
          },
          "metadata": {
            "needs_background": "light"
          }
        }
      ]
    },
    {
      "cell_type": "markdown",
      "source": [
        "### 4 - Entrenar el modelo con Embeddings Fasttext + LSTM y class weight (balance de clases)"
      ],
      "metadata": {
        "id": "ZgjfFO2EJ5dF"
      }
    },
    {
      "cell_type": "code",
      "source": [
        "model3 = Sequential()\n",
        "\n",
        "model3.add(Embedding(input_dim=vocab_size, output_dim=embed_dim, input_length=in_shape,\n",
        "                     weights=[embedding_matrix], trainable=False))\n",
        "\n",
        "model3.add(LSTM(units=64, return_sequences=True))\n",
        "model3.add(Dropout(0.2))\n",
        "model3.add(LSTM(units=64)) # La última capa LSTM no lleva return_sequences\n",
        "\n",
        "model3.add(Dense(units=128, activation='relu'))\n",
        "model3.add(Dropout(rate=0.2))\n",
        "model3.add(Dense(units=out_shape, activation='softmax'))\n",
        "\n",
        "model3.compile(optimizer=\"adam\",\n",
        "              loss='categorical_crossentropy',\n",
        "              metrics=['accuracy'])\n",
        "\n",
        "model3.summary()"
      ],
      "metadata": {
        "colab": {
          "base_uri": "https://localhost:8080/"
        },
        "id": "DNH0i514KlOP",
        "outputId": "9d7c3803-da57-4dc0-97ef-ae5df52c9b37"
      },
      "execution_count": null,
      "outputs": [
        {
          "output_type": "stream",
          "name": "stdout",
          "text": [
            "Model: \"sequential_5\"\n",
            "_________________________________________________________________\n",
            " Layer (type)                Output Shape              Param #   \n",
            "=================================================================\n",
            " embedding_8 (Embedding)     (None, 115, 300)          600000    \n",
            "                                                                 \n",
            " lstm_10 (LSTM)              (None, 115, 64)           93440     \n",
            "                                                                 \n",
            " dropout_10 (Dropout)        (None, 115, 64)           0         \n",
            "                                                                 \n",
            " lstm_11 (LSTM)              (None, 64)                33024     \n",
            "                                                                 \n",
            " dense_10 (Dense)            (None, 128)               8320      \n",
            "                                                                 \n",
            " dropout_11 (Dropout)        (None, 128)               0         \n",
            "                                                                 \n",
            " dense_11 (Dense)            (None, 5)                 645       \n",
            "                                                                 \n",
            "=================================================================\n",
            "Total params: 735,429\n",
            "Trainable params: 135,429\n",
            "Non-trainable params: 600,000\n",
            "_________________________________________________________________\n"
          ]
        }
      ]
    },
    {
      "cell_type": "code",
      "source": [
        "from sklearn.utils.class_weight import compute_class_weight\n",
        "\n",
        "y_integers = np.argmax(y, axis = 0)\n",
        "class_weights = compute_class_weight(class_weight = 'balanced', classes = np.unique(y_integers), y = y_integers)\n",
        "d_class_weights = dict(enumerate(class_weights))"
      ],
      "metadata": {
        "id": "BfgQlmXJaE4U"
      },
      "execution_count": null,
      "outputs": []
    },
    {
      "cell_type": "code",
      "source": [
        "hist3 = model3.fit(X_train, y_train, epochs = 50, validation_split = 0.2, class_weight = d_class_weights)"
      ],
      "metadata": {
        "colab": {
          "base_uri": "https://localhost:8080/"
        },
        "id": "TwmvJgiYJ-Xz",
        "outputId": "117f9273-cede-4c32-b5dd-15e71efc3acc"
      },
      "execution_count": null,
      "outputs": [
        {
          "output_type": "stream",
          "name": "stdout",
          "text": [
            "Epoch 1/50\n",
            "453/453 [==============================] - 95s 200ms/step - loss: 1.2259 - accuracy: 0.5518 - val_loss: 1.2123 - val_accuracy: 0.5471\n",
            "Epoch 2/50\n",
            "453/453 [==============================] - 89s 195ms/step - loss: 1.1781 - accuracy: 0.5526 - val_loss: 1.1600 - val_accuracy: 0.5482\n",
            "Epoch 3/50\n",
            "453/453 [==============================] - 89s 196ms/step - loss: 1.1469 - accuracy: 0.5572 - val_loss: 1.1385 - val_accuracy: 0.5553\n",
            "Epoch 4/50\n",
            "453/453 [==============================] - 91s 201ms/step - loss: 1.1255 - accuracy: 0.5613 - val_loss: 1.1233 - val_accuracy: 0.5515\n",
            "Epoch 5/50\n",
            "453/453 [==============================] - 88s 195ms/step - loss: 1.1052 - accuracy: 0.5679 - val_loss: 1.1096 - val_accuracy: 0.5553\n",
            "Epoch 6/50\n",
            "453/453 [==============================] - 90s 198ms/step - loss: 1.0842 - accuracy: 0.5719 - val_loss: 1.0960 - val_accuracy: 0.5656\n",
            "Epoch 7/50\n",
            "453/453 [==============================] - 88s 195ms/step - loss: 1.0628 - accuracy: 0.5780 - val_loss: 1.1163 - val_accuracy: 0.5683\n",
            "Epoch 8/50\n",
            "453/453 [==============================] - 88s 194ms/step - loss: 1.0380 - accuracy: 0.5818 - val_loss: 1.0978 - val_accuracy: 0.5697\n",
            "Epoch 9/50\n",
            "453/453 [==============================] - 88s 194ms/step - loss: 1.0169 - accuracy: 0.5907 - val_loss: 1.0901 - val_accuracy: 0.5702\n",
            "Epoch 10/50\n",
            "453/453 [==============================] - 88s 195ms/step - loss: 0.9968 - accuracy: 0.5987 - val_loss: 1.0974 - val_accuracy: 0.5584\n",
            "Epoch 11/50\n",
            "453/453 [==============================] - 89s 197ms/step - loss: 0.9723 - accuracy: 0.6046 - val_loss: 1.0869 - val_accuracy: 0.5694\n",
            "Epoch 12/50\n",
            "453/453 [==============================] - 89s 197ms/step - loss: 0.9462 - accuracy: 0.6170 - val_loss: 1.1090 - val_accuracy: 0.5680\n",
            "Epoch 13/50\n",
            "453/453 [==============================] - 89s 196ms/step - loss: 0.9209 - accuracy: 0.6228 - val_loss: 1.1006 - val_accuracy: 0.5589\n",
            "Epoch 14/50\n",
            "453/453 [==============================] - 87s 193ms/step - loss: 0.8969 - accuracy: 0.6325 - val_loss: 1.1080 - val_accuracy: 0.5581\n",
            "Epoch 15/50\n",
            "453/453 [==============================] - 89s 197ms/step - loss: 0.8648 - accuracy: 0.6470 - val_loss: 1.1864 - val_accuracy: 0.5600\n",
            "Epoch 16/50\n",
            "453/453 [==============================] - 88s 194ms/step - loss: 0.8344 - accuracy: 0.6549 - val_loss: 1.1719 - val_accuracy: 0.5498\n",
            "Epoch 17/50\n",
            "453/453 [==============================] - 88s 194ms/step - loss: 0.8102 - accuracy: 0.6710 - val_loss: 1.1897 - val_accuracy: 0.5540\n",
            "Epoch 18/50\n",
            "453/453 [==============================] - 90s 198ms/step - loss: 0.7790 - accuracy: 0.6803 - val_loss: 1.2298 - val_accuracy: 0.5512\n",
            "Epoch 19/50\n",
            "453/453 [==============================] - 88s 193ms/step - loss: 0.7506 - accuracy: 0.6914 - val_loss: 1.3044 - val_accuracy: 0.5440\n",
            "Epoch 20/50\n",
            "453/453 [==============================] - 88s 195ms/step - loss: 0.7187 - accuracy: 0.7063 - val_loss: 1.3403 - val_accuracy: 0.5319\n",
            "Epoch 21/50\n",
            "453/453 [==============================] - 89s 196ms/step - loss: 0.6922 - accuracy: 0.7172 - val_loss: 1.3560 - val_accuracy: 0.5454\n",
            "Epoch 22/50\n",
            "453/453 [==============================] - 89s 196ms/step - loss: 0.6505 - accuracy: 0.7325 - val_loss: 1.4758 - val_accuracy: 0.5512\n",
            "Epoch 23/50\n",
            "453/453 [==============================] - 88s 194ms/step - loss: 0.6394 - accuracy: 0.7421 - val_loss: 1.4752 - val_accuracy: 0.5385\n",
            "Epoch 24/50\n",
            "453/453 [==============================] - 88s 195ms/step - loss: 0.6074 - accuracy: 0.7526 - val_loss: 1.4827 - val_accuracy: 0.5239\n",
            "Epoch 25/50\n",
            "453/453 [==============================] - 92s 203ms/step - loss: 0.5770 - accuracy: 0.7665 - val_loss: 1.5853 - val_accuracy: 0.5286\n",
            "Epoch 26/50\n",
            "453/453 [==============================] - 88s 193ms/step - loss: 0.5602 - accuracy: 0.7721 - val_loss: 1.6450 - val_accuracy: 0.5415\n",
            "Epoch 27/50\n",
            "453/453 [==============================] - 88s 194ms/step - loss: 0.5272 - accuracy: 0.7880 - val_loss: 1.7756 - val_accuracy: 0.5288\n",
            "Epoch 28/50\n",
            "453/453 [==============================] - 89s 197ms/step - loss: 0.5143 - accuracy: 0.7912 - val_loss: 1.7916 - val_accuracy: 0.5272\n",
            "Epoch 29/50\n",
            "453/453 [==============================] - 90s 200ms/step - loss: 0.4895 - accuracy: 0.8027 - val_loss: 1.8910 - val_accuracy: 0.4990\n",
            "Epoch 30/50\n",
            "453/453 [==============================] - 87s 192ms/step - loss: 0.4773 - accuracy: 0.8077 - val_loss: 1.8253 - val_accuracy: 0.5128\n",
            "Epoch 31/50\n",
            "453/453 [==============================] - 89s 197ms/step - loss: 0.4496 - accuracy: 0.8203 - val_loss: 1.9357 - val_accuracy: 0.5283\n",
            "Epoch 32/50\n",
            "453/453 [==============================] - 89s 198ms/step - loss: 0.4511 - accuracy: 0.8210 - val_loss: 1.9843 - val_accuracy: 0.5415\n",
            "Epoch 33/50\n",
            "453/453 [==============================] - 87s 192ms/step - loss: 0.4218 - accuracy: 0.8315 - val_loss: 2.0298 - val_accuracy: 0.5065\n",
            "Epoch 34/50\n",
            "453/453 [==============================] - 89s 197ms/step - loss: 0.4111 - accuracy: 0.8342 - val_loss: 2.1026 - val_accuracy: 0.5203\n",
            "Epoch 35/50\n",
            "453/453 [==============================] - 90s 198ms/step - loss: 0.3939 - accuracy: 0.8460 - val_loss: 2.1309 - val_accuracy: 0.5225\n",
            "Epoch 36/50\n",
            "453/453 [==============================] - 88s 194ms/step - loss: 0.3898 - accuracy: 0.8478 - val_loss: 2.1897 - val_accuracy: 0.5266\n",
            "Epoch 37/50\n",
            "453/453 [==============================] - 89s 197ms/step - loss: 0.3684 - accuracy: 0.8545 - val_loss: 2.2557 - val_accuracy: 0.4943\n",
            "Epoch 38/50\n",
            "453/453 [==============================] - 89s 197ms/step - loss: 0.3632 - accuracy: 0.8575 - val_loss: 2.1905 - val_accuracy: 0.5142\n",
            "Epoch 39/50\n",
            "453/453 [==============================] - 88s 195ms/step - loss: 0.3434 - accuracy: 0.8662 - val_loss: 2.2881 - val_accuracy: 0.5175\n",
            "Epoch 40/50\n",
            "453/453 [==============================] - 88s 194ms/step - loss: 0.3388 - accuracy: 0.8705 - val_loss: 2.5024 - val_accuracy: 0.4902\n",
            "Epoch 41/50\n",
            "453/453 [==============================] - 89s 196ms/step - loss: 0.3238 - accuracy: 0.8760 - val_loss: 2.4691 - val_accuracy: 0.5054\n",
            "Epoch 42/50\n",
            "453/453 [==============================] - 90s 198ms/step - loss: 0.3186 - accuracy: 0.8789 - val_loss: 2.4408 - val_accuracy: 0.5004\n",
            "Epoch 43/50\n",
            "453/453 [==============================] - 87s 192ms/step - loss: 0.3057 - accuracy: 0.8832 - val_loss: 2.5654 - val_accuracy: 0.5280\n",
            "Epoch 44/50\n",
            "453/453 [==============================] - 89s 196ms/step - loss: 0.3052 - accuracy: 0.8785 - val_loss: 2.5393 - val_accuracy: 0.5101\n",
            "Epoch 45/50\n",
            "453/453 [==============================] - 87s 193ms/step - loss: 0.2938 - accuracy: 0.8881 - val_loss: 2.5744 - val_accuracy: 0.4863\n",
            "Epoch 46/50\n",
            "453/453 [==============================] - 88s 194ms/step - loss: 0.2903 - accuracy: 0.8913 - val_loss: 2.6765 - val_accuracy: 0.5126\n",
            "Epoch 47/50\n",
            "453/453 [==============================] - 89s 196ms/step - loss: 0.2811 - accuracy: 0.8905 - val_loss: 2.7371 - val_accuracy: 0.5087\n",
            "Epoch 48/50\n",
            "453/453 [==============================] - 89s 195ms/step - loss: 0.2746 - accuracy: 0.8938 - val_loss: 2.7366 - val_accuracy: 0.5065\n",
            "Epoch 49/50\n",
            "453/453 [==============================] - 88s 193ms/step - loss: 0.2785 - accuracy: 0.8932 - val_loss: 2.6274 - val_accuracy: 0.5161\n",
            "Epoch 50/50\n",
            "453/453 [==============================] - 88s 195ms/step - loss: 0.2627 - accuracy: 0.8990 - val_loss: 2.7115 - val_accuracy: 0.5079\n"
          ]
        }
      ]
    },
    {
      "cell_type": "code",
      "source": [
        "epoch_count = range(1, len(hist3.history['accuracy']) + 1)\n",
        "sns.lineplot(x=epoch_count,  y=hist3.history['accuracy'], label='train')\n",
        "sns.lineplot(x=epoch_count,  y=hist3.history['val_accuracy'], label='valid')\n",
        "plt.show()"
      ],
      "metadata": {
        "colab": {
          "base_uri": "https://localhost:8080/",
          "height": 264
        },
        "id": "MjStSem4rSyH",
        "outputId": "f4518959-b166-4be1-852a-6a26b6e0a60e"
      },
      "execution_count": null,
      "outputs": [
        {
          "output_type": "display_data",
          "data": {
            "text/plain": [
              "<Figure size 432x288 with 1 Axes>"
            ],
            "image/png": "[encoded data removed]"
          },
          "metadata": {
            "needs_background": "light"
          }
        }
      ]
    },
    {
      "cell_type": "markdown",
      "source": [
        "### 5 - Resumen\n",
        "\n",
        "Se empleó el dataset **clothing ecommerce reviews** para entrenar un modelo que utilice las críticas de los compradores de ropa y determine la evaluación del comprador y su crítica (de 1 a 5 estrellas).\n",
        "\n",
        "Como primer paso se realizó un EDA del dataset y el preprocesamiento habitual.\n",
        "\n",
        "Luego, se entrenaron los embeddings propios y una arquitectura LSTM. El train alcanzó una buena accuracy, sin embargo, el resultado de la validación indicó overfiting. \n",
        "\n",
        "A continuación, se aplicó transfer learning con embeddings de Fasttext y sobre la misma arquitectura LSTM con resultados similares al primer caso de estudio.\n",
        "\n",
        "Por último, se entrenó el modelo anterior pero haciendo un balance de clases (class weight) y no se observó niguna mejora."
      ],
      "metadata": {
        "id": "ig1vbFD4P0xe"
      }
    }
  ]
}