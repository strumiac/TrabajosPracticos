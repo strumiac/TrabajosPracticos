{
  "nbformat": 4,
  "nbformat_minor": 0,
  "metadata": {
    "colab": {
      "name": "3b - Custom embedding con Gensim.ipynb",
      "provenance": [],
      "collapsed_sections": []
    },
    "kernelspec": {
      "name": "python3",
      "display_name": "Python 3"
    }
  },
  "cells": [
    {
      "cell_type": "markdown",
      "metadata": {
        "id": "sZd5yLnnHOK0"
      },
      "source": [
        "<img src=\"https://github.com/hernancontigiani/ceia_memorias_especializacion/raw/master/Figures/logoFIUBA.jpg\" width=\"500\" align=\"center\">\n",
        "\n",
        "\n",
        "# Procesamiento de lenguaje natural\n",
        "## Custom embedddings con Gensim\n",
        "\n"
      ]
    },
    {
      "cell_type": "markdown",
      "metadata": {
        "id": "vA7nqkumo9z9"
      },
      "source": [
        "### Objetivo\n",
        "El objetivo es utilizar documentos / corpus para crear embeddings de palabras basado en ese contexto. Se utilizará canciones de bandas para generar los embeddings, es decir, que los vectores tendrán la forma en función de como esa banda haya utilizado las palabras en sus canciones."
      ]
    },
    {
      "cell_type": "code",
      "metadata": {
        "id": "lFToQs5FK5uZ"
      },
      "source": [
        "import pandas as pd\n",
        "import matplotlib.pyplot as plt\n",
        "import seaborn as sns\n",
        "\n",
        "import multiprocessing\n",
        "from gensim.models import Word2Vec"
      ],
      "execution_count": 1,
      "outputs": []
    },
    {
      "cell_type": "markdown",
      "metadata": {
        "id": "g07zJxG7H9vG"
      },
      "source": [
        "### Datos\n",
        "Utilizaremos como dataset canciones de bandas de habla inglés."
      ]
    },
    {
      "cell_type": "code",
      "metadata": {
        "id": "l7z4CSBfpR3X",
        "colab": {
          "base_uri": "https://localhost:8080/"
        },
        "outputId": "7794b022-a9ee-420a-a87e-017e94ca4c37"
      },
      "source": [
        "# Descargar la carpeta de dataset\n",
        "import os\n",
        "import platform\n",
        "if os.access('./songs_dataset', os.F_OK) is False:\n",
        "    if os.access('songs_dataset.zip', os.F_OK) is False:\n",
        "        if platform.system() == 'Windows':\n",
        "            !curl https://raw.githubusercontent.com/FIUBA-Posgrado-Inteligencia-Artificial/procesamiento_lenguaje_natural/main/datasets/songs_dataset.zip -o songs_dataset.zip\n",
        "        else:\n",
        "            !wget songs_dataset.zip https://github.com/FIUBA-Posgrado-Inteligencia-Artificial/procesamiento_lenguaje_natural/raw/main/datasets/songs_dataset.zip\n",
        "    !unzip -q songs_dataset.zip   \n",
        "else:\n",
        "    print(\"El dataset ya se encuentra descargado\")"
      ],
      "execution_count": 2,
      "outputs": [
        {
          "output_type": "stream",
          "name": "stdout",
          "text": [
            "--2022-07-21 20:53:02--  http://songs_dataset.zip/\n",
            "Resolving songs_dataset.zip (songs_dataset.zip)... failed: Name or service not known.\n",
            "wget: unable to resolve host address ‘songs_dataset.zip’\n",
            "--2022-07-21 20:53:02--  https://github.com/FIUBA-Posgrado-Inteligencia-Artificial/procesamiento_lenguaje_natural/raw/main/datasets/songs_dataset.zip\n",
            "Resolving github.com (github.com)... 140.82.114.3\n",
            "Connecting to github.com (github.com)|140.82.114.3|:443... connected.\n",
            "HTTP request sent, awaiting response... 302 Found\n",
            "Location: https://raw.githubusercontent.com/FIUBA-Posgrado-Inteligencia-Artificial/procesamiento_lenguaje_natural/main/datasets/songs_dataset.zip [following]\n",
            "--2022-07-21 20:53:02--  https://raw.githubusercontent.com/FIUBA-Posgrado-Inteligencia-Artificial/procesamiento_lenguaje_natural/main/datasets/songs_dataset.zip\n",
            "Resolving raw.githubusercontent.com (raw.githubusercontent.com)... 185.199.108.133, 185.199.109.133, 185.199.110.133, ...\n",
            "Connecting to raw.githubusercontent.com (raw.githubusercontent.com)|185.199.108.133|:443... connected.\n",
            "HTTP request sent, awaiting response... 200 OK\n",
            "Length: 2075036 (2.0M) [application/zip]\n",
            "Saving to: ‘songs_dataset.zip’\n",
            "\n",
            "songs_dataset.zip   100%[===================>]   1.98M  --.-KB/s    in 0.06s   \n",
            "\n",
            "2022-07-21 20:53:03 (33.4 MB/s) - ‘songs_dataset.zip’ saved [2075036/2075036]\n",
            "\n",
            "FINISHED --2022-07-21 20:53:03--\n",
            "Total wall clock time: 0.8s\n",
            "Downloaded: 1 files, 2.0M in 0.06s (33.4 MB/s)\n"
          ]
        }
      ]
    },
    {
      "cell_type": "code",
      "metadata": {
        "id": "mysGrIw9ljC2",
        "colab": {
          "base_uri": "https://localhost:8080/"
        },
        "outputId": "f53b2635-6449-4da7-887b-e54dc84f802b"
      },
      "source": [
        "# Posibles bandas\n",
        "os.listdir(\"./songs_dataset/\")"
      ],
      "execution_count": 3,
      "outputs": [
        {
          "output_type": "execute_result",
          "data": {
            "text/plain": [
              "['blink-182.txt',\n",
              " 'bruce-springsteen.txt',\n",
              " 'nickelback.txt',\n",
              " 'nicki-minaj.txt',\n",
              " 'bieber.txt',\n",
              " 'bjork.txt',\n",
              " 'lady-gaga.txt',\n",
              " 'Kanye_West.txt',\n",
              " 'bob-marley.txt',\n",
              " 'janisjoplin.txt',\n",
              " 'dickinson.txt',\n",
              " 'nursery_rhymes.txt',\n",
              " 'johnny-cash.txt',\n",
              " 'dj-khaled.txt',\n",
              " 'adele.txt',\n",
              " 'notorious_big.txt',\n",
              " 'ludacris.txt',\n",
              " 'paul-simon.txt',\n",
              " 'cake.txt',\n",
              " 'radiohead.txt',\n",
              " 'prince.txt',\n",
              " 'amy-winehouse.txt',\n",
              " 'beatles.txt',\n",
              " 'r-kelly.txt',\n",
              " 'Lil_Wayne.txt',\n",
              " 'lorde.txt',\n",
              " 'kanye.txt',\n",
              " 'dr-seuss.txt',\n",
              " 'drake.txt',\n",
              " 'lin-manuel-miranda.txt',\n",
              " 'al-green.txt',\n",
              " 'nirvana.txt',\n",
              " 'joni-mitchell.txt',\n",
              " 'patti-smith.txt',\n",
              " 'britney-spears.txt',\n",
              " 'kanye-west.txt',\n",
              " 'eminem.txt',\n",
              " 'disney.txt',\n",
              " 'bob-dylan.txt',\n",
              " 'bruno-mars.txt',\n",
              " 'michael-jackson.txt',\n",
              " 'alicia-keys.txt',\n",
              " 'missy-elliott.txt',\n",
              " 'rihanna.txt',\n",
              " 'leonard-cohen.txt',\n",
              " 'notorious-big.txt',\n",
              " 'jimi-hendrix.txt',\n",
              " 'lil-wayne.txt',\n",
              " 'dolly-parton.txt']"
            ]
          },
          "metadata": {},
          "execution_count": 3
        }
      ]
    },
    {
      "cell_type": "markdown",
      "source": [
        "Voy a elegir las canciones de Nirvana."
      ],
      "metadata": {
        "id": "yYMiSrOpib_G"
      }
    },
    {
      "cell_type": "code",
      "metadata": {
        "id": "ticoqYD1Z3I7",
        "colab": {
          "base_uri": "https://localhost:8080/"
        },
        "outputId": "3586fad6-bae0-4b05-e21c-fdc175e14fd5"
      },
      "source": [
        "# Armar el dataset utilizando salto de línea para separar las oraciones/docs\n",
        "df = pd.read_csv('songs_dataset/nirvana.txt', sep='/n', header=None)\n",
        "print(\"Cantidad de documentos:\", df.shape[0])"
      ],
      "execution_count": 4,
      "outputs": [
        {
          "output_type": "stream",
          "name": "stdout",
          "text": [
            "Cantidad de documentos: 1985\n"
          ]
        },
        {
          "output_type": "stream",
          "name": "stderr",
          "text": [
            "/usr/local/lib/python3.7/dist-packages/pandas/util/_decorators.py:311: ParserWarning: Falling back to the 'python' engine because the 'c' engine does not support regex separators (separators > 1 char and different from '\\s+' are interpreted as regex); you can avoid this warning by specifying engine='python'.\n",
            "  return func(*args, **kwargs)\n"
          ]
        }
      ]
    },
    {
      "cell_type": "markdown",
      "metadata": {
        "id": "ab94qaFlrA1G"
      },
      "source": [
        "### 1 - Preprocesamiento"
      ]
    },
    {
      "cell_type": "code",
      "metadata": {
        "id": "rIsmMWmjrDHd"
      },
      "source": [
        "from keras.preprocessing.text import text_to_word_sequence\n",
        "\n",
        "sentence_tokens = []\n",
        "# Recorrer todas las filas y transformar las oraciones\n",
        "# en una secuencia de palabras (esto podría realizarse con NLTK o spaCy también)\n",
        "for _, row in df[:None].iterrows():\n",
        "    sentence_tokens.append(text_to_word_sequence(row[0]))"
      ],
      "execution_count": 5,
      "outputs": []
    },
    {
      "cell_type": "code",
      "metadata": {
        "id": "CHepi_DGrbhq",
        "colab": {
          "base_uri": "https://localhost:8080/"
        },
        "outputId": "1f653669-7e23-42f0-ba40-ac171f39bc72"
      },
      "source": [
        "sentence_tokens[:5]"
      ],
      "execution_count": 6,
      "outputs": [
        {
          "output_type": "execute_result",
          "data": {
            "text/plain": [
              "[['load', 'up', 'on', 'guns', 'bring', 'your', 'friends'],\n",
              " [\"it's\", 'fun', 'to', 'lose', 'and', 'to', 'pretend'],\n",
              " [\"she's\", 'over', 'bored', 'and', 'self', 'assured'],\n",
              " ['oh',\n",
              "  'no',\n",
              "  'i',\n",
              "  'know',\n",
              "  'a',\n",
              "  'dirty',\n",
              "  'word',\n",
              "  'hello',\n",
              "  'hello',\n",
              "  'hello',\n",
              "  'how',\n",
              "  'low'],\n",
              " ['hello', 'hello', 'hello', 'how', 'low']]"
            ]
          },
          "metadata": {},
          "execution_count": 6
        }
      ]
    },
    {
      "cell_type": "markdown",
      "metadata": {
        "id": "BaXV6nlHr5Aa"
      },
      "source": [
        "### 2 - Crear los vectores (word2vec)"
      ]
    },
    {
      "cell_type": "code",
      "metadata": {
        "id": "OSb0v7h8r7hK"
      },
      "source": [
        "from gensim.models.callbacks import CallbackAny2Vec\n",
        "# Durante el entrenamiento gensim por defecto no informa el \"loss\" en cada época\n",
        "# Sobracargamos el callback para poder tener esta información\n",
        "class callback(CallbackAny2Vec):\n",
        "    \"\"\"\n",
        "    Callback to print loss after each epoch\n",
        "    \"\"\"\n",
        "    def __init__(self):\n",
        "        self.epoch = 0\n",
        "\n",
        "    def on_epoch_end(self, model):\n",
        "        loss = model.get_latest_training_loss()\n",
        "        if self.epoch == 0:\n",
        "            print('Loss after epoch {}: {}'.format(self.epoch, loss))\n",
        "        else:\n",
        "            print('Loss after epoch {}: {}'.format(self.epoch, loss- self.loss_previous_step))\n",
        "        self.epoch += 1\n",
        "        self.loss_previous_step = loss"
      ],
      "execution_count": 7,
      "outputs": []
    },
    {
      "cell_type": "code",
      "metadata": {
        "id": "i0wnDdv9sJ47"
      },
      "source": [
        "# Crearmos el modelo generador de vectoeres\n",
        "# En este caso utilizaremos la estructura modelo Skipgram\n",
        "w2v_model = Word2Vec(min_count=5,    # frecuencia mínima de palabra para incluirla en el vocabulario\n",
        "                     window=2,       # cant de palabras antes y desp de la predicha\n",
        "                     size=50,       # dimensionalidad de los vectores \n",
        "                     negative=5,    # cantidad de negative samples... 0 es no se usa\n",
        "                     workers=1,      # si tienen más cores pueden cambiar este valor\n",
        "                     sg=0)           # modelo 0:CBOW  1:skipgram"
      ],
      "execution_count": 20,
      "outputs": []
    },
    {
      "cell_type": "code",
      "metadata": {
        "id": "5lTt8wErsf17"
      },
      "source": [
        "# Buildear el vocabularui con los tokens\n",
        "w2v_model.build_vocab(sentence_tokens)"
      ],
      "execution_count": 23,
      "outputs": []
    },
    {
      "cell_type": "code",
      "metadata": {
        "id": "TNc9qt4os5AT",
        "colab": {
          "base_uri": "https://localhost:8080/"
        },
        "outputId": "0869f2e1-0bc7-4c04-efa7-01460ec19f67"
      },
      "source": [
        "# Cantidad de filas/docs encontradas en el corpus\n",
        "print(\"Cantidad de docs en el corpus:\", w2v_model.corpus_count)"
      ],
      "execution_count": 24,
      "outputs": [
        {
          "output_type": "stream",
          "name": "stdout",
          "text": [
            "Cantidad de docs en el corpus: 1985\n"
          ]
        }
      ]
    },
    {
      "cell_type": "code",
      "metadata": {
        "id": "idw9cHF3tSMl",
        "colab": {
          "base_uri": "https://localhost:8080/"
        },
        "outputId": "22c312ee-5784-466d-954b-1d5b571f078d"
      },
      "source": [
        "# Cantidad de words encontradas en el corpus\n",
        "print(\"Cantidad de words distintas en el corpus:\", len(w2v_model.wv.vocab))"
      ],
      "execution_count": 25,
      "outputs": [
        {
          "output_type": "stream",
          "name": "stdout",
          "text": [
            "Cantidad de words distintas en el corpus: 381\n"
          ]
        }
      ]
    },
    {
      "cell_type": "markdown",
      "metadata": {
        "id": "fC9mZ8DPk-UC"
      },
      "source": [
        "### 3 - Entrenar el modelo generador"
      ]
    },
    {
      "cell_type": "code",
      "metadata": {
        "id": "QSp-x0PAsq56",
        "colab": {
          "base_uri": "https://localhost:8080/"
        },
        "outputId": "a4857867-907d-4ddd-e3e8-2e8584e20b4a"
      },
      "source": [
        "# Entrenamos el modelo generador de vectores\n",
        "# Utilizamos nuestro callback\n",
        "w2v_model.train(sentence_tokens,\n",
        "                 total_examples=w2v_model.corpus_count,\n",
        "                 epochs=200,\n",
        "                 compute_loss = True,\n",
        "                 callbacks=[callback()]\n",
        "                 )"
      ],
      "execution_count": 26,
      "outputs": [
        {
          "output_type": "stream",
          "name": "stdout",
          "text": [
            "Loss after epoch 0: 27366.03515625\n",
            "Loss after epoch 1: 27527.46875\n",
            "Loss after epoch 2: 25029.73046875\n",
            "Loss after epoch 3: 20942.1484375\n",
            "Loss after epoch 4: 19335.3203125\n",
            "Loss after epoch 5: 18664.0\n",
            "Loss after epoch 6: 18523.21875\n",
            "Loss after epoch 7: 18212.515625\n",
            "Loss after epoch 8: 17969.15625\n",
            "Loss after epoch 9: 17914.578125\n",
            "Loss after epoch 10: 17554.96875\n",
            "Loss after epoch 11: 17204.046875\n",
            "Loss after epoch 12: 17085.34375\n",
            "Loss after epoch 13: 16574.96875\n",
            "Loss after epoch 14: 16379.96875\n",
            "Loss after epoch 15: 15874.6875\n",
            "Loss after epoch 16: 15304.28125\n",
            "Loss after epoch 17: 14939.1875\n",
            "Loss after epoch 18: 14471.3125\n",
            "Loss after epoch 19: 14188.96875\n",
            "Loss after epoch 20: 13608.84375\n",
            "Loss after epoch 21: 13210.5\n",
            "Loss after epoch 22: 12945.875\n",
            "Loss after epoch 23: 12531.84375\n",
            "Loss after epoch 24: 12178.3125\n",
            "Loss after epoch 25: 11895.15625\n",
            "Loss after epoch 26: 11771.28125\n",
            "Loss after epoch 27: 11398.40625\n",
            "Loss after epoch 28: 11001.0625\n",
            "Loss after epoch 29: 10791.34375\n",
            "Loss after epoch 30: 10617.46875\n",
            "Loss after epoch 31: 10331.65625\n",
            "Loss after epoch 32: 10268.46875\n",
            "Loss after epoch 33: 10081.1875\n",
            "Loss after epoch 34: 9965.75\n",
            "Loss after epoch 35: 9811.9375\n",
            "Loss after epoch 36: 9541.5\n",
            "Loss after epoch 37: 9329.6875\n",
            "Loss after epoch 38: 9390.8125\n",
            "Loss after epoch 39: 9194.625\n",
            "Loss after epoch 40: 9174.625\n",
            "Loss after epoch 41: 9019.5\n",
            "Loss after epoch 42: 9062.5625\n",
            "Loss after epoch 43: 8720.25\n",
            "Loss after epoch 44: 8866.8125\n",
            "Loss after epoch 45: 8592.875\n",
            "Loss after epoch 46: 8626.625\n",
            "Loss after epoch 47: 8409.6875\n",
            "Loss after epoch 48: 8374.6875\n",
            "Loss after epoch 49: 8341.5625\n",
            "Loss after epoch 50: 8254.0625\n",
            "Loss after epoch 51: 8219.4375\n",
            "Loss after epoch 52: 8083.5\n",
            "Loss after epoch 53: 8062.875\n",
            "Loss after epoch 54: 8096.5625\n",
            "Loss after epoch 55: 7918.8125\n",
            "Loss after epoch 56: 7972.0625\n",
            "Loss after epoch 57: 7925.0625\n",
            "Loss after epoch 58: 7921.5\n",
            "Loss after epoch 59: 7728.25\n",
            "Loss after epoch 60: 7727.9375\n",
            "Loss after epoch 61: 7741.625\n",
            "Loss after epoch 62: 7738.75\n",
            "Loss after epoch 63: 7622.75\n",
            "Loss after epoch 64: 7631.8125\n",
            "Loss after epoch 65: 7509.3125\n",
            "Loss after epoch 66: 7496.8125\n",
            "Loss after epoch 67: 7451.4375\n",
            "Loss after epoch 68: 7406.5\n",
            "Loss after epoch 69: 7439.5\n",
            "Loss after epoch 70: 7484.8125\n",
            "Loss after epoch 71: 7476.3125\n",
            "Loss after epoch 72: 7437.1875\n",
            "Loss after epoch 73: 7289.4375\n",
            "Loss after epoch 74: 7248.375\n",
            "Loss after epoch 75: 7313.375\n",
            "Loss after epoch 76: 7113.625\n",
            "Loss after epoch 77: 7156.5625\n",
            "Loss after epoch 78: 7133.125\n",
            "Loss after epoch 79: 7269.9375\n",
            "Loss after epoch 80: 7219.6875\n",
            "Loss after epoch 81: 7021.4375\n",
            "Loss after epoch 82: 7060.6875\n",
            "Loss after epoch 83: 7035.5\n",
            "Loss after epoch 84: 7061.125\n",
            "Loss after epoch 85: 6960.1875\n",
            "Loss after epoch 86: 7092.4375\n",
            "Loss after epoch 87: 6954.6875\n",
            "Loss after epoch 88: 6966.3125\n",
            "Loss after epoch 89: 7027.25\n",
            "Loss after epoch 90: 6918.75\n",
            "Loss after epoch 91: 6895.0625\n",
            "Loss after epoch 92: 6924.75\n",
            "Loss after epoch 93: 7014.25\n",
            "Loss after epoch 94: 6733.625\n",
            "Loss after epoch 95: 6771.6875\n",
            "Loss after epoch 96: 6765.5\n",
            "Loss after epoch 97: 6928.25\n",
            "Loss after epoch 98: 6767.4375\n",
            "Loss after epoch 99: 6877.9375\n",
            "Loss after epoch 100: 6741.0625\n",
            "Loss after epoch 101: 6841.875\n",
            "Loss after epoch 102: 6910.125\n",
            "Loss after epoch 103: 6864.625\n",
            "Loss after epoch 104: 6870.125\n",
            "Loss after epoch 105: 6681.25\n",
            "Loss after epoch 106: 6712.375\n",
            "Loss after epoch 107: 6820.0\n",
            "Loss after epoch 108: 6697.0\n",
            "Loss after epoch 109: 6588.25\n",
            "Loss after epoch 110: 6670.625\n",
            "Loss after epoch 111: 6710.875\n",
            "Loss after epoch 112: 6746.5\n",
            "Loss after epoch 113: 6713.125\n",
            "Loss after epoch 114: 6594.75\n",
            "Loss after epoch 115: 6608.0\n",
            "Loss after epoch 116: 6643.75\n",
            "Loss after epoch 117: 6685.0\n",
            "Loss after epoch 118: 6711.75\n",
            "Loss after epoch 119: 6459.875\n",
            "Loss after epoch 120: 6559.375\n",
            "Loss after epoch 121: 6537.375\n",
            "Loss after epoch 122: 6728.875\n",
            "Loss after epoch 123: 6670.375\n",
            "Loss after epoch 124: 6600.875\n",
            "Loss after epoch 125: 6649.625\n",
            "Loss after epoch 126: 6467.5\n",
            "Loss after epoch 127: 6723.875\n",
            "Loss after epoch 128: 6661.125\n",
            "Loss after epoch 129: 6410.25\n",
            "Loss after epoch 130: 6521.875\n",
            "Loss after epoch 131: 6597.25\n",
            "Loss after epoch 132: 6500.5\n",
            "Loss after epoch 133: 6676.875\n",
            "Loss after epoch 134: 6496.375\n",
            "Loss after epoch 135: 6379.875\n",
            "Loss after epoch 136: 6334.0\n",
            "Loss after epoch 137: 6420.625\n",
            "Loss after epoch 138: 6487.5\n",
            "Loss after epoch 139: 6639.125\n",
            "Loss after epoch 140: 6458.625\n",
            "Loss after epoch 141: 6293.875\n",
            "Loss after epoch 142: 6316.625\n",
            "Loss after epoch 143: 6523.75\n",
            "Loss after epoch 144: 6538.375\n",
            "Loss after epoch 145: 6580.125\n",
            "Loss after epoch 146: 6323.0\n",
            "Loss after epoch 147: 6444.125\n",
            "Loss after epoch 148: 6581.375\n",
            "Loss after epoch 149: 6457.75\n",
            "Loss after epoch 150: 6544.0\n",
            "Loss after epoch 151: 6554.375\n",
            "Loss after epoch 152: 6329.75\n",
            "Loss after epoch 153: 6405.25\n",
            "Loss after epoch 154: 6462.75\n",
            "Loss after epoch 155: 6470.75\n",
            "Loss after epoch 156: 6474.875\n",
            "Loss after epoch 157: 6643.375\n",
            "Loss after epoch 158: 6453.25\n",
            "Loss after epoch 159: 6420.125\n",
            "Loss after epoch 160: 6414.625\n",
            "Loss after epoch 161: 6451.25\n",
            "Loss after epoch 162: 6520.875\n",
            "Loss after epoch 163: 6236.875\n",
            "Loss after epoch 164: 6378.5\n",
            "Loss after epoch 165: 6294.75\n",
            "Loss after epoch 166: 6414.375\n",
            "Loss after epoch 167: 6349.875\n",
            "Loss after epoch 168: 6336.0\n",
            "Loss after epoch 169: 6376.75\n",
            "Loss after epoch 170: 6277.0\n",
            "Loss after epoch 171: 6441.125\n",
            "Loss after epoch 172: 6381.125\n",
            "Loss after epoch 173: 6397.5\n",
            "Loss after epoch 174: 6424.5\n",
            "Loss after epoch 175: 6403.875\n",
            "Loss after epoch 176: 6252.5\n",
            "Loss after epoch 177: 6231.75\n",
            "Loss after epoch 178: 6291.25\n",
            "Loss after epoch 179: 6215.375\n",
            "Loss after epoch 180: 6308.75\n",
            "Loss after epoch 181: 6302.75\n",
            "Loss after epoch 182: 6343.125\n",
            "Loss after epoch 183: 6228.375\n",
            "Loss after epoch 184: 6400.0\n",
            "Loss after epoch 185: 6223.375\n",
            "Loss after epoch 186: 6284.375\n",
            "Loss after epoch 187: 6254.375\n",
            "Loss after epoch 188: 6011.375\n",
            "Loss after epoch 189: 6382.5\n",
            "Loss after epoch 190: 6286.25\n",
            "Loss after epoch 191: 6317.5\n",
            "Loss after epoch 192: 6211.625\n",
            "Loss after epoch 193: 6246.875\n",
            "Loss after epoch 194: 6205.375\n",
            "Loss after epoch 195: 6331.125\n",
            "Loss after epoch 196: 6463.0\n",
            "Loss after epoch 197: 6331.0\n",
            "Loss after epoch 198: 6350.875\n",
            "Loss after epoch 199: 6360.875\n"
          ]
        },
        {
          "output_type": "execute_result",
          "data": {
            "text/plain": [
              "(1302614, 2469200)"
            ]
          },
          "metadata": {},
          "execution_count": 26
        }
      ]
    },
    {
      "cell_type": "markdown",
      "metadata": {
        "id": "ddT9NVuNlCAe"
      },
      "source": [
        "### 4 - Ensayar"
      ]
    },
    {
      "cell_type": "code",
      "metadata": {
        "id": "6cHN9xGLuPEm",
        "colab": {
          "base_uri": "https://localhost:8080/"
        },
        "outputId": "8da7e705-02b9-4466-ca35-c5dd8effd0b2"
      },
      "source": [
        "# Palabras que MÁS se relacionan con...:\n",
        "w2v_model.wv.most_similar(positive=[\"hello\"], topn=10)"
      ],
      "execution_count": 27,
      "outputs": [
        {
          "output_type": "execute_result",
          "data": {
            "text/plain": [
              "[('low', 0.8179157972335815),\n",
              " ('how', 0.7063069939613342),\n",
              " ('lights', 0.6345332264900208),\n",
              " ('end', 0.5473095178604126),\n",
              " ('mind', 0.5197376608848572),\n",
              " ('kind', 0.5143505334854126),\n",
              " ('old', 0.5040302872657776),\n",
              " ('ummmmm', 0.5021024942398071),\n",
              " ('hand', 0.49064821004867554),\n",
              " ('wounded', 0.488564133644104)]"
            ]
          },
          "metadata": {},
          "execution_count": 27
        }
      ]
    },
    {
      "cell_type": "code",
      "metadata": {
        "id": "47HiU5gdkdMq",
        "colab": {
          "base_uri": "https://localhost:8080/"
        },
        "outputId": "8de8ec1f-209b-4c84-d6cb-aa11ca2addba"
      },
      "source": [
        "# Palabras que MENOS se relacionan con...:\n",
        "w2v_model.wv.most_similar(negative=[\"love\"], topn=10)"
      ],
      "execution_count": 28,
      "outputs": [
        {
          "output_type": "execute_result",
          "data": {
            "text/plain": [
              "[('burlap', 0.343789279460907),\n",
              " ('cold', 0.27398481965065),\n",
              " ('help', 0.24288813769817352),\n",
              " ('died', 0.23086683452129364),\n",
              " ('little', 0.228784441947937),\n",
              " ('long', 0.22803987562656403),\n",
              " ('might', 0.22103741765022278),\n",
              " ('driftwood', 0.21550846099853516),\n",
              " ('hard', 0.2131664901971817),\n",
              " ('fun', 0.21242639422416687)]"
            ]
          },
          "metadata": {},
          "execution_count": 28
        }
      ]
    },
    {
      "cell_type": "code",
      "metadata": {
        "id": "DT4Rvno2mD65",
        "colab": {
          "base_uri": "https://localhost:8080/"
        },
        "outputId": "2279ff53-237b-449f-dae4-15fc895933b9"
      },
      "source": [
        "# Palabras que MÁS se relacionan con...:\n",
        "w2v_model.wv.most_similar(positive=[\"albino\"], topn=10)"
      ],
      "execution_count": 29,
      "outputs": [
        {
          "output_type": "execute_result",
          "data": {
            "text/plain": [
              "[('mosquito', 0.9298466444015503),\n",
              " ('mulatto', 0.917486846446991),\n",
              " ('libido', 0.6930466890335083),\n",
              " ('complaint', 0.5826694369316101),\n",
              " ('new', 0.5516958236694336),\n",
              " ('dream', 0.4894977807998657),\n",
              " ('luck', 0.46803462505340576),\n",
              " ('an', 0.4652242660522461),\n",
              " ('wounded', 0.4644226133823395),\n",
              " ('fish', 0.4494937062263489)]"
            ]
          },
          "metadata": {},
          "execution_count": 29
        }
      ]
    },
    {
      "cell_type": "code",
      "metadata": {
        "id": "XPLDPgzBmQXt",
        "colab": {
          "base_uri": "https://localhost:8080/"
        },
        "outputId": "8102fb6d-d61d-4b78-cb7a-76faed6e4d53"
      },
      "source": [
        "# Palabras que MÁS se relacionan con...:\n",
        "w2v_model.wv.most_similar(positive=[\"mama\"], topn=10)"
      ],
      "execution_count": 31,
      "outputs": [
        {
          "output_type": "execute_result",
          "data": {
            "text/plain": [
              "[('surely', 0.6836614012718201),\n",
              " ('getting', 0.5527291893959045),\n",
              " ('dream', 0.5176275372505188),\n",
              " ('yeah', 0.45885926485061646),\n",
              " ('leave', 0.4483659565448761),\n",
              " ('guess', 0.44214046001434326),\n",
              " ('complain', 0.4405381679534912),\n",
              " ('sound', 0.39311328530311584),\n",
              " ('this', 0.3926202356815338),\n",
              " ('off', 0.3814024031162262)]"
            ]
          },
          "metadata": {},
          "execution_count": 31
        }
      ]
    },
    {
      "cell_type": "code",
      "metadata": {
        "id": "L_UvHPMMklOr",
        "colab": {
          "base_uri": "https://localhost:8080/",
          "height": 331
        },
        "outputId": "84728367-462c-48ab-badf-0e65562ccf72"
      },
      "source": [
        "# Ensayar con una palabra que no está en el corpus (en vocab):\n",
        "w2v_model.wv.most_similar(negative=[\"box\"])"
      ],
      "execution_count": 36,
      "outputs": [
        {
          "output_type": "error",
          "ename": "KeyError",
          "evalue": "ignored",
          "traceback": [
            "\u001b[0;31m---------------------------------------------------------------------------\u001b[0m",
            "\u001b[0;31mKeyError\u001b[0m                                  Traceback (most recent call last)",
            "\u001b[0;32m<ipython-input-36-e4dcb3b01cfe>\u001b[0m in \u001b[0;36m<module>\u001b[0;34m()\u001b[0m\n\u001b[1;32m      1\u001b[0m \u001b[0;31m# Ensayar con una palabra que no está en el corpus (en vocab):\u001b[0m\u001b[0;34m\u001b[0m\u001b[0;34m\u001b[0m\u001b[0;34m\u001b[0m\u001b[0m\n\u001b[0;32m----> 2\u001b[0;31m \u001b[0mw2v_model\u001b[0m\u001b[0;34m.\u001b[0m\u001b[0mwv\u001b[0m\u001b[0;34m.\u001b[0m\u001b[0mmost_similar\u001b[0m\u001b[0;34m(\u001b[0m\u001b[0mnegative\u001b[0m\u001b[0;34m=\u001b[0m\u001b[0;34m[\u001b[0m\u001b[0;34m\"box\"\u001b[0m\u001b[0;34m]\u001b[0m\u001b[0;34m)\u001b[0m\u001b[0;34m\u001b[0m\u001b[0;34m\u001b[0m\u001b[0m\n\u001b[0m",
            "\u001b[0;32m/usr/local/lib/python3.7/dist-packages/gensim/models/keyedvectors.py\u001b[0m in \u001b[0;36mmost_similar\u001b[0;34m(self, positive, negative, topn, restrict_vocab, indexer)\u001b[0m\n\u001b[1;32m    529\u001b[0m                 \u001b[0mmean\u001b[0m\u001b[0;34m.\u001b[0m\u001b[0mappend\u001b[0m\u001b[0;34m(\u001b[0m\u001b[0mweight\u001b[0m \u001b[0;34m*\u001b[0m \u001b[0mword\u001b[0m\u001b[0;34m)\u001b[0m\u001b[0;34m\u001b[0m\u001b[0;34m\u001b[0m\u001b[0m\n\u001b[1;32m    530\u001b[0m             \u001b[0;32melse\u001b[0m\u001b[0;34m:\u001b[0m\u001b[0;34m\u001b[0m\u001b[0;34m\u001b[0m\u001b[0m\n\u001b[0;32m--> 531\u001b[0;31m                 \u001b[0mmean\u001b[0m\u001b[0;34m.\u001b[0m\u001b[0mappend\u001b[0m\u001b[0;34m(\u001b[0m\u001b[0mweight\u001b[0m \u001b[0;34m*\u001b[0m \u001b[0mself\u001b[0m\u001b[0;34m.\u001b[0m\u001b[0mword_vec\u001b[0m\u001b[0;34m(\u001b[0m\u001b[0mword\u001b[0m\u001b[0;34m,\u001b[0m \u001b[0muse_norm\u001b[0m\u001b[0;34m=\u001b[0m\u001b[0;32mTrue\u001b[0m\u001b[0;34m)\u001b[0m\u001b[0;34m)\u001b[0m\u001b[0;34m\u001b[0m\u001b[0;34m\u001b[0m\u001b[0m\n\u001b[0m\u001b[1;32m    532\u001b[0m                 \u001b[0;32mif\u001b[0m \u001b[0mword\u001b[0m \u001b[0;32min\u001b[0m \u001b[0mself\u001b[0m\u001b[0;34m.\u001b[0m\u001b[0mvocab\u001b[0m\u001b[0;34m:\u001b[0m\u001b[0;34m\u001b[0m\u001b[0;34m\u001b[0m\u001b[0m\n\u001b[1;32m    533\u001b[0m                     \u001b[0mall_words\u001b[0m\u001b[0;34m.\u001b[0m\u001b[0madd\u001b[0m\u001b[0;34m(\u001b[0m\u001b[0mself\u001b[0m\u001b[0;34m.\u001b[0m\u001b[0mvocab\u001b[0m\u001b[0;34m[\u001b[0m\u001b[0mword\u001b[0m\u001b[0;34m]\u001b[0m\u001b[0;34m.\u001b[0m\u001b[0mindex\u001b[0m\u001b[0;34m)\u001b[0m\u001b[0;34m\u001b[0m\u001b[0;34m\u001b[0m\u001b[0m\n",
            "\u001b[0;32m/usr/local/lib/python3.7/dist-packages/gensim/models/keyedvectors.py\u001b[0m in \u001b[0;36mword_vec\u001b[0;34m(self, word, use_norm)\u001b[0m\n\u001b[1;32m    450\u001b[0m             \u001b[0;32mreturn\u001b[0m \u001b[0mresult\u001b[0m\u001b[0;34m\u001b[0m\u001b[0;34m\u001b[0m\u001b[0m\n\u001b[1;32m    451\u001b[0m         \u001b[0;32melse\u001b[0m\u001b[0;34m:\u001b[0m\u001b[0;34m\u001b[0m\u001b[0;34m\u001b[0m\u001b[0m\n\u001b[0;32m--> 452\u001b[0;31m             \u001b[0;32mraise\u001b[0m \u001b[0mKeyError\u001b[0m\u001b[0;34m(\u001b[0m\u001b[0;34m\"word '%s' not in vocabulary\"\u001b[0m \u001b[0;34m%\u001b[0m \u001b[0mword\u001b[0m\u001b[0;34m)\u001b[0m\u001b[0;34m\u001b[0m\u001b[0;34m\u001b[0m\u001b[0m\n\u001b[0m\u001b[1;32m    453\u001b[0m \u001b[0;34m\u001b[0m\u001b[0m\n\u001b[1;32m    454\u001b[0m     \u001b[0;32mdef\u001b[0m \u001b[0mget_vector\u001b[0m\u001b[0;34m(\u001b[0m\u001b[0mself\u001b[0m\u001b[0;34m,\u001b[0m \u001b[0mword\u001b[0m\u001b[0;34m)\u001b[0m\u001b[0;34m:\u001b[0m\u001b[0;34m\u001b[0m\u001b[0;34m\u001b[0m\u001b[0m\n",
            "\u001b[0;31mKeyError\u001b[0m: \"word 'box' not in vocabulary\""
          ]
        }
      ]
    },
    {
      "cell_type": "markdown",
      "metadata": {
        "id": "_g8UVWe6lFmh"
      },
      "source": [
        "### 5 - Visualizar agrupación de vectores"
      ]
    },
    {
      "cell_type": "code",
      "metadata": {
        "id": "pDxEVXAivjr9"
      },
      "source": [
        "from sklearn.decomposition import IncrementalPCA    \n",
        "from sklearn.manifold import TSNE                   \n",
        "import numpy as np                                  \n",
        "\n",
        "def reduce_dimensions(model):\n",
        "    num_dimensions = 2  \n",
        "\n",
        "    vectors = np.asarray(model.wv.vectors)\n",
        "    labels = np.asarray(model.wv.index2word)  \n",
        "\n",
        "    tsne = TSNE(n_components=num_dimensions, random_state=0)\n",
        "    vectors = tsne.fit_transform(vectors)\n",
        "\n",
        "    x_vals = [v[0] for v in vectors]\n",
        "    y_vals = [v[1] for v in vectors]\n",
        "    return x_vals, y_vals, labels"
      ],
      "execution_count": 37,
      "outputs": []
    },
    {
      "cell_type": "code",
      "metadata": {
        "id": "NCCXtDpcugmd",
        "colab": {
          "base_uri": "https://localhost:8080/",
          "height": 681
        },
        "outputId": "8546a632-7306-41e5-af77-ec97b3c24274"
      },
      "source": [
        "# Graficar los embedddings en 2D\n",
        "import plotly.graph_objects as go\n",
        "import plotly.express as px\n",
        "\n",
        "x_vals, y_vals, labels = reduce_dimensions(w2v_model)\n",
        "\n",
        "MAX_WORDS=200\n",
        "fig = px.scatter(x=x_vals[:MAX_WORDS], y=y_vals[:MAX_WORDS], text=labels[:MAX_WORDS])\n",
        "fig.show(renderer=\"colab\") # esto para plotly en colab"
      ],
      "execution_count": 38,
      "outputs": [
        {
          "output_type": "stream",
          "name": "stderr",
          "text": [
            "/usr/local/lib/python3.7/dist-packages/sklearn/manifold/_t_sne.py:783: FutureWarning:\n",
            "\n",
            "The default initialization in TSNE will change from 'random' to 'pca' in 1.2.\n",
            "\n",
            "/usr/local/lib/python3.7/dist-packages/sklearn/manifold/_t_sne.py:793: FutureWarning:\n",
            "\n",
            "The default learning rate in TSNE will change from 200.0 to 'auto' in 1.2.\n",
            "\n"
          ]
        },
        {
          "output_type": "display_data",
          "data": {
            "text/html": [
              "<html>\n",
              "<head><meta charset=\"utf-8\" /></head>\n",
              "<body>\n",
              "    <div>            <script src=\"https://cdnjs.cloudflare.com/ajax/libs/mathjax/2.7.5/MathJax.js?config=TeX-AMS-MML_SVG\"></script><script type=\"text/javascript\">if (window.MathJax) {MathJax.Hub.Config({SVG: {font: \"STIX-Web\"}});}</script>                <script type=\"text/javascript\">window.PlotlyConfig = {MathJaxConfig: 'local'};</script>\n",
              "        <script src=\"https://cdn.plot.ly/plotly-2.8.3.min.js\"></script>                <div id=\"40401022-9e62-4e7e-8036-d6bab0b5f6cb\" class=\"plotly-graph-div\" style=\"height:525px; width:100%;\"></div>            <script type=\"text/javascript\">                                    window.PLOTLYENV=window.PLOTLYENV || {};                                    if (document.getElementById(\"40401022-9e62-4e7e-8036-d6bab0b5f6cb\")) {                    Plotly.newPlot(                        \"40401022-9e62-4e7e-8036-d6bab0b5f6cb\",                        [{\"hovertemplate\":\"x=%{x}<br>y=%{y}<br>text=%{text}<extra></extra>\",\"legendgroup\":\"\",\"marker\":{\"color\":\"#636efa\",\"symbol\":\"circle\"},\"mode\":\"markers+text\",\"name\":\"\",\"orientation\":\"v\",\"showlegend\":false,\"text\":[\"i\",\"the\",\"a\",\"you\",\"to\",\"me\",\"and\",\"don't\",\"in\",\"my\",\"i'm\",\"it\",\"of\",\"hello\",\"no\",\"is\",\"have\",\"your\",\"know\",\"you're\",\"for\",\"girl\",\"she\",\"what\",\"on\",\"they\",\"with\",\"like\",\"not\",\"way\",\"we\",\"was\",\"away\",\"it's\",\"when\",\"yeah\",\"this\",\"as\",\"expect\",\"do\",\"be\",\"never\",\"so\",\"if\",\"out\",\"love\",\"more\",\"all\",\"right\",\"think\",\"will\",\"just\",\"are\",\"said\",\"feel\",\"one\",\"gun\",\"can\",\"ain't\",\"dive\",\"find\",\"that\",\"sun\",\"had\",\"here\",\"now\",\"little\",\"her\",\"would\",\"night\",\"go\",\"up\",\"take\",\"gonna\",\"how\",\"hey\",\"i've\",\"he\",\"ah\",\"heart\",\"but\",\"some\",\"low\",\"where\",\"die\",\"him\",\"then\",\"want\",\"happy\",\"his\",\"at\",\"memoria\",\"got\",\"better\",\"there\",\"stay\",\"cry\",\"denial\",\"myself\",\"down\",\"see\",\"from\",\"ever\",\"daddy's\",\"you'll\",\"get\",\"than\",\"make\",\"been\",\"lie\",\"again\",\"an\",\"our\",\"i'll\",\"care\",\"always\",\"why\",\"could\",\"time\",\"friend\",\"can't\",\"man\",\"going\",\"oh\",\"us\",\"mind\",\"should\",\"pines\",\"only\",\"afraid\",\"come\",\"were\",\"entertain\",\"return\",\"rat\",\"well\",\"say\",\"crack\",\"pain\",\"enemy\",\"wait\",\"off\",\"cold\",\"day\",\"wrong\",\"he'll\",\"shit\",\"an'\",\"makes\",\"shame\",\"am\",\"help\",\"them\",\"something\",\"gotta\",\"hung\",\"advice\",\"who\",\"let\",\"won't\",\"every\",\"whole\",\"through\",\"kiss\",\"ummmmm\",\"wouldn't\",\"about\",\"inside\",\"cut\",\"made\",\"yourself\",\"please\",\"keep\",\"creep\",\"even\",\"recess\",\"life\",\"lights\",\"sit\",\"smell\",\"mama\",\"back\",\"need\",\"did\",\"likes\",\"baby\",\"negative\",\"room\",\"cross\",\"young\",\"less\",\"found\",\"hard\",\"else\",\"wish\",\"dream\",\"into\",\"turn\",\"sunday\",\"good\"],\"x\":[-1.2244206666946411,5.168216228485107,-0.4442385137081146,-1.2216620445251465,-1.2379302978515625,-2.914414644241333,-0.1036515086889267,-1.1613624095916748,5.019179821014404,1.6105252504348755,2.208719491958618,-0.8245840072631836,1.2093627452850342,-8.31798267364502,-0.6913659572601318,4.793432235717773,-3.973984956741333,1.7871991395950317,-3.486776351928711,3.369502544403076,-1.327152132987976,-1.9330295324325562,-0.7103360295295715,-5.165688991546631,2.1631546020507812,-1.0908657312393188,-0.983856737613678,-3.0136218070983887,3.887221574783325,2.972684383392334,-1.2772473096847534,1.6672699451446533,0.6566754579544067,-5.49799919128418,-1.5673329830169678,-7.113797187805176,-6.327868938446045,-2.308515787124634,-9.492671966552734,-2.624718427658081,-4.484706401824951,-3.39231276512146,-5.195134162902832,-2.0060458183288574,1.557207465171814,8.138290405273438,-0.20910237729549408,0.7162810564041138,0.8111464381217957,-2.569394588470459,8.27081298828125,-1.4508999586105347,6.10653018951416,1.3639981746673584,6.370095252990723,0.03231628239154816,-9.468913078308105,-3.1620936393737793,-5.719790458679199,5.1573052406311035,-6.700536251068115,-3.9433140754699707,7.372378349304199,-0.5823869109153748,2.2599661350250244,5.483406066894531,1.4669039249420166,4.184182643890381,-3.3401613235473633,8.741371154785156,-4.261653423309326,-4.453305721282959,-1.5422443151474,3.544018268585205,-8.389034271240234,-7.245724678039551,-3.713855504989624,-2.157226085662842,3.1407313346862793,5.253604888916016,-4.57805871963501,-0.9630652070045471,-8.348464012145996,-9.451746940612793,-9.536513328552246,3.185563564300537,-0.4296395778656006,-8.899320602416992,3.111358880996704,3.010636568069458,8.733144760131836,-9.58669376373291,-4.385517120361328,2.3543906211853027,0.055066682398319244,-5.086185455322266,-9.530704498291016,-4.530352592468262,1.3627345561981201,-3.812328815460205,-0.6539900898933411,-5.094287395477295,-2.626300096511841,1.1256834268569946,1.8121000528335571,-0.5498483180999756,4.666848659515381,-2.587458372116089,5.192702770233154,-9.355989456176758,-5.0767292976379395,0.9956649541854858,1.0191570520401,-2.044771432876587,-2.3203577995300293,4.502891540527344,-5.53297758102417,-7.306109428405762,-2.311044692993164,-5.957732677459717,-2.4858574867248535,3.765167236328125,-2.0535497665405273,-0.34801316261291504,6.8249640464782715,-4.3668389320373535,-1.0900392532348633,7.437812805175781,3.4662699699401855,2.054839611053467,1.4249547719955444,2.1959521770477295,7.027089595794678,6.085299015045166,6.099102973937988,6.417308807373047,-5.557427406311035,3.178255796432495,-0.10209505259990692,3.2676548957824707,2.4379475116729736,1.108722448348999,6.358675003051758,0.13056403398513794,-6.396762371063232,1.9699766635894775,4.509357452392578,2.1287620067596436,-5.471861839294434,-4.915030479431152,-4.790955066680908,-1.2318534851074219,1.6566883325576782,7.014954566955566,-6.294411659240723,4.228552341461182,6.358334541320801,0.05899330601096153,-2.916245698928833,-1.8066480159759521,8.150015830993652,8.65656852722168,-1.8595439195632935,5.158536911010742,-0.8234962224960327,-2.0977509021759033,-1.4248625040054321,-0.3363809883594513,-3.5880303382873535,7.058825492858887,-3.25578236579895,1.1033196449279785,2.461121082305908,0.7816550135612488,-2.261923313140869,-0.5620936751365662,4.6612396240234375,-6.774330139160156,-0.354605495929718,2.6223912239074707,-7.898078441619873,-7.970922946929932,-6.978464126586914,4.059439659118652,-6.719136714935303,-0.7359029054641724,0.773118257522583,3.8998866081237793,2.818812847137451,2.024346351623535,-6.438422203063965,1.969269871711731,-6.063604354858398,-5.628698825836182,-1.6226979494094849,-8.506453514099121,1.4262562990188599,6.124978542327881,2.9991233348846436,7.52266788482666],\"xaxis\":\"x\",\"y\":[1.8824303150177002,-2.9107160568237305,-0.1651928722858429,1.7597028017044067,0.3018636107444763,-0.9823570847511292,-0.7743567824363708,0.8252671957015991,-0.3723752796649933,1.334576964378357,-0.9260825514793396,-0.11851664632558823,-1.7079176902770996,6.510552883148193,7.442251205444336,7.009181976318359,0.3242749273777008,1.3675670623779297,0.6991462707519531,-5.882667541503906,0.4008535146713257,7.382184028625488,1.6914567947387695,2.32939076423645,-1.742677092552185,2.402761459350586,-2.079160451889038,0.9114462733268738,-0.8296818733215332,-2.875211715698242,2.4689176082611084,7.089485168457031,3.2480483055114746,7.176846981048584,4.309497356414795,2.0794155597686768,3.42334246635437,-3.769714593887329,-2.557751417160034,3.4112555980682373,2.3806569576263428,3.0649092197418213,3.773946523666382,-2.0625102519989014,-2.3826591968536377,-5.045837879180908,7.399450302124023,1.7984365224838257,0.32449424266815186,-0.3211919665336609,2.0724353790283203,-1.3071366548538208,4.926748275756836,6.742505073547363,-6.515904426574707,5.847383975982666,1.1637415885925293,-4.587674140930176,-5.656771183013916,-1.3973537683486938,-1.398210048675537,3.9728641510009766,-3.3289008140563965,-2.152730941772461,3.2616610527038574,2.394275665283203,-7.290400981903076,1.9928275346755981,1.4985047578811646,-1.2309075593948364,-2.5592024326324463,-5.317017078399658,-6.057170391082764,-1.1946967840194702,6.474769115447998,2.122743606567383,-7.6518235206604,2.728778600692749,6.425443172454834,2.3482303619384766,-1.452203631401062,-7.17998743057251,6.504643440246582,-1.1050267219543457,-2.3579413890838623,1.5709879398345947,-6.619959354400635,-4.8209147453308105,-7.56925106048584,4.309933185577393,0.2083762139081955,1.2260816097259521,-7.791264057159424,-4.400583267211914,4.644273281097412,-0.39316776394844055,-2.4636077880859375,-7.020547866821289,2.731722116470337,-5.182535171508789,-8.837323188781738,-0.5985470414161682,2.4501454830169678,-7.122434139251709,-0.05709439888596535,-5.9477009773254395,4.063017845153809,9.370739936828613,0.80153888463974,-1.338500738143921,4.962747573852539,-9.32310962677002,-2.6831679344177246,-5.289669513702393,-0.4580100476741791,-4.2727155685424805,0.11981979012489319,0.07595261931419373,-8.36939525604248,-7.203402996063232,3.8607027530670166,-1.8801109790802002,-6.6288886070251465,8.509359359741211,3.111846446990967,5.618438720703125,3.2632627487182617,-2.5010480880737305,-0.13112962245941162,-3.4365291595458984,4.85190486907959,8.541375160217285,3.4730875492095947,-4.987993240356445,-4.970648288726807,6.493492603302002,1.4296064376831055,-0.9494589567184448,0.4595530927181244,2.5515496730804443,-4.063971519470215,-5.011806964874268,-2.3303449153900146,6.104306221008301,4.432170391082764,-5.596498966217041,5.76368522644043,8.251729011535645,-2.886605978012085,-3.7716941833496094,1.6664268970489502,-2.707951784133911,3.805103063583374,-2.8656628131866455,-1.256121039390564,3.2694625854492188,-0.3089522421360016,2.1658647060394287,-2.3850929737091064,1.1391884088516235,-0.21645331382751465,-1.6481860876083374,7.355301856994629,-1.4634159803390503,0.3142402172088623,-2.760093927383423,-4.265411853790283,0.9186968207359314,-3.0518038272857666,4.346400260925293,-3.3567473888397217,2.913748264312744,-5.5946455001831055,-6.754815578460693,-2.2661337852478027,7.202649116516113,5.5360846519470215,6.700045108795166,-4.701162338256836,6.027280807495117,3.2260046005249023,1.2216582298278809,0.032164040952920914,-0.2768295109272003,-3.213136911392212,5.775062561035156,-6.702322959899902,-6.495546340942383,1.1907243728637695,7.815309524536133,6.682828903198242,7.75099515914917,-1.7561824321746826,1.4262571334838867,4.183249473571777,3.526416540145874,3.909301996231079,1.6892839670181274,1.038240671157837,0.5221704244613647],\"yaxis\":\"y\",\"type\":\"scatter\"}],                        {\"template\":{\"data\":{\"bar\":[{\"error_x\":{\"color\":\"#2a3f5f\"},\"error_y\":{\"color\":\"#2a3f5f\"},\"marker\":{\"line\":{\"color\":\"#E5ECF6\",\"width\":0.5},\"pattern\":{\"fillmode\":\"overlay\",\"size\":10,\"solidity\":0.2}},\"type\":\"bar\"}],\"barpolar\":[{\"marker\":{\"line\":{\"color\":\"#E5ECF6\",\"width\":0.5},\"pattern\":{\"fillmode\":\"overlay\",\"size\":10,\"solidity\":0.2}},\"type\":\"barpolar\"}],\"carpet\":[{\"aaxis\":{\"endlinecolor\":\"#2a3f5f\",\"gridcolor\":\"white\",\"linecolor\":\"white\",\"minorgridcolor\":\"white\",\"startlinecolor\":\"#2a3f5f\"},\"baxis\":{\"endlinecolor\":\"#2a3f5f\",\"gridcolor\":\"white\",\"linecolor\":\"white\",\"minorgridcolor\":\"white\",\"startlinecolor\":\"#2a3f5f\"},\"type\":\"carpet\"}],\"choropleth\":[{\"colorbar\":{\"outlinewidth\":0,\"ticks\":\"\"},\"type\":\"choropleth\"}],\"contour\":[{\"colorbar\":{\"outlinewidth\":0,\"ticks\":\"\"},\"colorscale\":[[0.0,\"#0d0887\"],[0.1111111111111111,\"#46039f\"],[0.2222222222222222,\"#7201a8\"],[0.3333333333333333,\"#9c179e\"],[0.4444444444444444,\"#bd3786\"],[0.5555555555555556,\"#d8576b\"],[0.6666666666666666,\"#ed7953\"],[0.7777777777777778,\"#fb9f3a\"],[0.8888888888888888,\"#fdca26\"],[1.0,\"#f0f921\"]],\"type\":\"contour\"}],\"contourcarpet\":[{\"colorbar\":{\"outlinewidth\":0,\"ticks\":\"\"},\"type\":\"contourcarpet\"}],\"heatmap\":[{\"colorbar\":{\"outlinewidth\":0,\"ticks\":\"\"},\"colorscale\":[[0.0,\"#0d0887\"],[0.1111111111111111,\"#46039f\"],[0.2222222222222222,\"#7201a8\"],[0.3333333333333333,\"#9c179e\"],[0.4444444444444444,\"#bd3786\"],[0.5555555555555556,\"#d8576b\"],[0.6666666666666666,\"#ed7953\"],[0.7777777777777778,\"#fb9f3a\"],[0.8888888888888888,\"#fdca26\"],[1.0,\"#f0f921\"]],\"type\":\"heatmap\"}],\"heatmapgl\":[{\"colorbar\":{\"outlinewidth\":0,\"ticks\":\"\"},\"colorscale\":[[0.0,\"#0d0887\"],[0.1111111111111111,\"#46039f\"],[0.2222222222222222,\"#7201a8\"],[0.3333333333333333,\"#9c179e\"],[0.4444444444444444,\"#bd3786\"],[0.5555555555555556,\"#d8576b\"],[0.6666666666666666,\"#ed7953\"],[0.7777777777777778,\"#fb9f3a\"],[0.8888888888888888,\"#fdca26\"],[1.0,\"#f0f921\"]],\"type\":\"heatmapgl\"}],\"histogram\":[{\"marker\":{\"pattern\":{\"fillmode\":\"overlay\",\"size\":10,\"solidity\":0.2}},\"type\":\"histogram\"}],\"histogram2d\":[{\"colorbar\":{\"outlinewidth\":0,\"ticks\":\"\"},\"colorscale\":[[0.0,\"#0d0887\"],[0.1111111111111111,\"#46039f\"],[0.2222222222222222,\"#7201a8\"],[0.3333333333333333,\"#9c179e\"],[0.4444444444444444,\"#bd3786\"],[0.5555555555555556,\"#d8576b\"],[0.6666666666666666,\"#ed7953\"],[0.7777777777777778,\"#fb9f3a\"],[0.8888888888888888,\"#fdca26\"],[1.0,\"#f0f921\"]],\"type\":\"histogram2d\"}],\"histogram2dcontour\":[{\"colorbar\":{\"outlinewidth\":0,\"ticks\":\"\"},\"colorscale\":[[0.0,\"#0d0887\"],[0.1111111111111111,\"#46039f\"],[0.2222222222222222,\"#7201a8\"],[0.3333333333333333,\"#9c179e\"],[0.4444444444444444,\"#bd3786\"],[0.5555555555555556,\"#d8576b\"],[0.6666666666666666,\"#ed7953\"],[0.7777777777777778,\"#fb9f3a\"],[0.8888888888888888,\"#fdca26\"],[1.0,\"#f0f921\"]],\"type\":\"histogram2dcontour\"}],\"mesh3d\":[{\"colorbar\":{\"outlinewidth\":0,\"ticks\":\"\"},\"type\":\"mesh3d\"}],\"parcoords\":[{\"line\":{\"colorbar\":{\"outlinewidth\":0,\"ticks\":\"\"}},\"type\":\"parcoords\"}],\"pie\":[{\"automargin\":true,\"type\":\"pie\"}],\"scatter\":[{\"marker\":{\"colorbar\":{\"outlinewidth\":0,\"ticks\":\"\"}},\"type\":\"scatter\"}],\"scatter3d\":[{\"line\":{\"colorbar\":{\"outlinewidth\":0,\"ticks\":\"\"}},\"marker\":{\"colorbar\":{\"outlinewidth\":0,\"ticks\":\"\"}},\"type\":\"scatter3d\"}],\"scattercarpet\":[{\"marker\":{\"colorbar\":{\"outlinewidth\":0,\"ticks\":\"\"}},\"type\":\"scattercarpet\"}],\"scattergeo\":[{\"marker\":{\"colorbar\":{\"outlinewidth\":0,\"ticks\":\"\"}},\"type\":\"scattergeo\"}],\"scattergl\":[{\"marker\":{\"colorbar\":{\"outlinewidth\":0,\"ticks\":\"\"}},\"type\":\"scattergl\"}],\"scattermapbox\":[{\"marker\":{\"colorbar\":{\"outlinewidth\":0,\"ticks\":\"\"}},\"type\":\"scattermapbox\"}],\"scatterpolar\":[{\"marker\":{\"colorbar\":{\"outlinewidth\":0,\"ticks\":\"\"}},\"type\":\"scatterpolar\"}],\"scatterpolargl\":[{\"marker\":{\"colorbar\":{\"outlinewidth\":0,\"ticks\":\"\"}},\"type\":\"scatterpolargl\"}],\"scatterternary\":[{\"marker\":{\"colorbar\":{\"outlinewidth\":0,\"ticks\":\"\"}},\"type\":\"scatterternary\"}],\"surface\":[{\"colorbar\":{\"outlinewidth\":0,\"ticks\":\"\"},\"colorscale\":[[0.0,\"#0d0887\"],[0.1111111111111111,\"#46039f\"],[0.2222222222222222,\"#7201a8\"],[0.3333333333333333,\"#9c179e\"],[0.4444444444444444,\"#bd3786\"],[0.5555555555555556,\"#d8576b\"],[0.6666666666666666,\"#ed7953\"],[0.7777777777777778,\"#fb9f3a\"],[0.8888888888888888,\"#fdca26\"],[1.0,\"#f0f921\"]],\"type\":\"surface\"}],\"table\":[{\"cells\":{\"fill\":{\"color\":\"#EBF0F8\"},\"line\":{\"color\":\"white\"}},\"header\":{\"fill\":{\"color\":\"#C8D4E3\"},\"line\":{\"color\":\"white\"}},\"type\":\"table\"}]},\"layout\":{\"annotationdefaults\":{\"arrowcolor\":\"#2a3f5f\",\"arrowhead\":0,\"arrowwidth\":1},\"autotypenumbers\":\"strict\",\"coloraxis\":{\"colorbar\":{\"outlinewidth\":0,\"ticks\":\"\"}},\"colorscale\":{\"diverging\":[[0,\"#8e0152\"],[0.1,\"#c51b7d\"],[0.2,\"#de77ae\"],[0.3,\"#f1b6da\"],[0.4,\"#fde0ef\"],[0.5,\"#f7f7f7\"],[0.6,\"#e6f5d0\"],[0.7,\"#b8e186\"],[0.8,\"#7fbc41\"],[0.9,\"#4d9221\"],[1,\"#276419\"]],\"sequential\":[[0.0,\"#0d0887\"],[0.1111111111111111,\"#46039f\"],[0.2222222222222222,\"#7201a8\"],[0.3333333333333333,\"#9c179e\"],[0.4444444444444444,\"#bd3786\"],[0.5555555555555556,\"#d8576b\"],[0.6666666666666666,\"#ed7953\"],[0.7777777777777778,\"#fb9f3a\"],[0.8888888888888888,\"#fdca26\"],[1.0,\"#f0f921\"]],\"sequentialminus\":[[0.0,\"#0d0887\"],[0.1111111111111111,\"#46039f\"],[0.2222222222222222,\"#7201a8\"],[0.3333333333333333,\"#9c179e\"],[0.4444444444444444,\"#bd3786\"],[0.5555555555555556,\"#d8576b\"],[0.6666666666666666,\"#ed7953\"],[0.7777777777777778,\"#fb9f3a\"],[0.8888888888888888,\"#fdca26\"],[1.0,\"#f0f921\"]]},\"colorway\":[\"#636efa\",\"#EF553B\",\"#00cc96\",\"#ab63fa\",\"#FFA15A\",\"#19d3f3\",\"#FF6692\",\"#B6E880\",\"#FF97FF\",\"#FECB52\"],\"font\":{\"color\":\"#2a3f5f\"},\"geo\":{\"bgcolor\":\"white\",\"lakecolor\":\"white\",\"landcolor\":\"#E5ECF6\",\"showlakes\":true,\"showland\":true,\"subunitcolor\":\"white\"},\"hoverlabel\":{\"align\":\"left\"},\"hovermode\":\"closest\",\"mapbox\":{\"style\":\"light\"},\"paper_bgcolor\":\"white\",\"plot_bgcolor\":\"#E5ECF6\",\"polar\":{\"angularaxis\":{\"gridcolor\":\"white\",\"linecolor\":\"white\",\"ticks\":\"\"},\"bgcolor\":\"#E5ECF6\",\"radialaxis\":{\"gridcolor\":\"white\",\"linecolor\":\"white\",\"ticks\":\"\"}},\"scene\":{\"xaxis\":{\"backgroundcolor\":\"#E5ECF6\",\"gridcolor\":\"white\",\"gridwidth\":2,\"linecolor\":\"white\",\"showbackground\":true,\"ticks\":\"\",\"zerolinecolor\":\"white\"},\"yaxis\":{\"backgroundcolor\":\"#E5ECF6\",\"gridcolor\":\"white\",\"gridwidth\":2,\"linecolor\":\"white\",\"showbackground\":true,\"ticks\":\"\",\"zerolinecolor\":\"white\"},\"zaxis\":{\"backgroundcolor\":\"#E5ECF6\",\"gridcolor\":\"white\",\"gridwidth\":2,\"linecolor\":\"white\",\"showbackground\":true,\"ticks\":\"\",\"zerolinecolor\":\"white\"}},\"shapedefaults\":{\"line\":{\"color\":\"#2a3f5f\"}},\"ternary\":{\"aaxis\":{\"gridcolor\":\"white\",\"linecolor\":\"white\",\"ticks\":\"\"},\"baxis\":{\"gridcolor\":\"white\",\"linecolor\":\"white\",\"ticks\":\"\"},\"bgcolor\":\"#E5ECF6\",\"caxis\":{\"gridcolor\":\"white\",\"linecolor\":\"white\",\"ticks\":\"\"}},\"title\":{\"x\":0.05},\"xaxis\":{\"automargin\":true,\"gridcolor\":\"white\",\"linecolor\":\"white\",\"ticks\":\"\",\"title\":{\"standoff\":15},\"zerolinecolor\":\"white\",\"zerolinewidth\":2},\"yaxis\":{\"automargin\":true,\"gridcolor\":\"white\",\"linecolor\":\"white\",\"ticks\":\"\",\"title\":{\"standoff\":15},\"zerolinecolor\":\"white\",\"zerolinewidth\":2}}},\"xaxis\":{\"anchor\":\"y\",\"domain\":[0.0,1.0],\"title\":{\"text\":\"x\"}},\"yaxis\":{\"anchor\":\"x\",\"domain\":[0.0,1.0],\"title\":{\"text\":\"y\"}},\"legend\":{\"tracegroupgap\":0},\"margin\":{\"t\":60}},                        {\"responsive\": true}                    ).then(function(){\n",
              "                            \n",
              "var gd = document.getElementById('40401022-9e62-4e7e-8036-d6bab0b5f6cb');\n",
              "var x = new MutationObserver(function (mutations, observer) {{\n",
              "        var display = window.getComputedStyle(gd).display;\n",
              "        if (!display || display === 'none') {{\n",
              "            console.log([gd, 'removed!']);\n",
              "            Plotly.purge(gd);\n",
              "            observer.disconnect();\n",
              "        }}\n",
              "}});\n",
              "\n",
              "// Listen for the removal of the full notebook cells\n",
              "var notebookContainer = gd.closest('#notebook-container');\n",
              "if (notebookContainer) {{\n",
              "    x.observe(notebookContainer, {childList: true});\n",
              "}}\n",
              "\n",
              "// Listen for the clearing of the current output cell\n",
              "var outputEl = gd.closest('.output');\n",
              "if (outputEl) {{\n",
              "    x.observe(outputEl, {childList: true});\n",
              "}}\n",
              "\n",
              "                        })                };                            </script>        </div>\n",
              "</body>\n",
              "</html>"
            ]
          },
          "metadata": {}
        }
      ]
    },
    {
      "cell_type": "markdown",
      "source": [
        "### 6 - Algunas conclusiones\n",
        "\n",
        "Con el script estudiado en clase se crean vectores con Gensim empleando el dataset de canciones de Nirvana (nirvana.txt).\n",
        "\n",
        "\n",
        "Se modifican algunos parámetros del modelo generador de vectores, por ejemplo, tamaño de embeddings de 50, modelo CBOW, frecuencia mínima de 5, etc. Con respecto a la frecuencia mínima, primero se ensayó con 10 pero dejaba afuera a muchas palabras, lo que impactaba negativamente al momento de ver las relaciones.\n",
        "\n",
        "Se entrenó el modelo con 200 epochs y se analizó la relación de ciertas palabras.\n",
        "\n",
        "Por ejemplo, la palabra \"*hello*\" se relaciona positiva y fuertemente con \"*how*\" y \"*low*\", como era de esperarse (canción \"*Smells like teen spirit*\"). De mismo modo, la palabra \"*albino*\" se relaciona con \"*mosquito*\", \"*mulatto*\" y \"*libido*\".\n",
        "\n",
        "Otro ensayo fue ver como se relaciona, de manera negativa, la palabra \"*love*\". Se observó relación negativa con \"*cold*\", \"*died*\", \"*hard*\" lo que es bastante acertado. No queda muy claro porque aparece \"*help*\", \"*fun*\" y \"*little*\".\n",
        "\n",
        "Se ve que cuando se prueba con alguna palabra que no existe en el vocabulario el script arroja error.\n",
        "\n",
        "Por último se graficó la agrupación de vectores donde se observan algunos grupos muy fuertemente relacionados (casi un vector arriba del otro), como es el caso de las palabras \"*hello*\", \"*how*\" y \"*low*\", entre otros ejemplos."
      ],
      "metadata": {
        "id": "6_CTZujNl5eX"
      }
    }
  ]
}