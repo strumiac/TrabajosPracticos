{
 "cells": [
  {
   "cell_type": "markdown",
   "id": "6edc496c",
   "metadata": {},
   "source": [
    "#1. Trabajo previo del dataset"
   ]
  },
  {
   "cell_type": "code",
   "execution_count": 1,
   "id": "594f2a39",
   "metadata": {},
   "outputs": [],
   "source": [
    "import pandas as pd\n",
    "import numpy as np\n",
    "import matplotlib.pyplot as plt\n",
    "#import seaborn as sns; sns.set()\n",
    "\n",
    "DATASET_PATH = \"dataset\""
   ]
  },
  {
   "cell_type": "code",
   "execution_count": 2,
   "id": "8fb22dfb",
   "metadata": {},
   "outputs": [],
   "source": [
    "#inv_sets = pd.read_csv(DATASET_PATH + \"/inventory_sets.csv\")\n",
    "#inv_sets.shape"
   ]
  },
  {
   "cell_type": "code",
   "execution_count": 3,
   "id": "2a4b2f1d",
   "metadata": {},
   "outputs": [
    {
     "data": {
      "text/plain": [
       "(11681, 3)"
      ]
     },
     "execution_count": 3,
     "metadata": {},
     "output_type": "execute_result"
    }
   ],
   "source": [
    "inv = pd.read_csv(DATASET_PATH + \"/inventories.csv\")\n",
    "inv.shape"
   ]
  },
  {
   "cell_type": "code",
   "execution_count": 4,
   "id": "213d83cb",
   "metadata": {},
   "outputs": [
    {
     "data": {
      "text/plain": [
       "(580251, 8)"
      ]
     },
     "execution_count": 4,
     "metadata": {},
     "output_type": "execute_result"
    }
   ],
   "source": [
    "inv_part = pd.read_csv(DATASET_PATH + \"/inventory_parts.csv\")\n",
    "#inv_part.head(10)\n",
    "colors = pd.read_csv(DATASET_PATH + \"/colors.csv\")\n",
    "colors.rename(columns = {'id':'color_id'}, inplace = True)\n",
    "\n",
    "ip_c = inv_part.merge(colors, on='color_id', how='left')\n",
    "ip_c.rename(columns = {'inventory_id':'id'}, inplace = True)\n",
    "ip_c.shape\n",
    "#inv_part_colors.head()"
   ]
  },
  {
   "cell_type": "code",
   "execution_count": 5,
   "id": "1efe438f",
   "metadata": {},
   "outputs": [
    {
     "data": {
      "text/plain": [
       "(580251, 10)"
      ]
     },
     "execution_count": 5,
     "metadata": {},
     "output_type": "execute_result"
    }
   ],
   "source": [
    "ip_c_i = ip_c.merge(inv, on='id', how='left')\n",
    "ip_c_i.shape\n",
    "#parts[pd.isna(parts['part_cat_id'])]\n"
   ]
  },
  {
   "cell_type": "code",
   "execution_count": 6,
   "id": "9f619619",
   "metadata": {},
   "outputs": [],
   "source": [
    "#part_cat = pd.read_csv(DATASET_PATH + \"/part_categories.csv\")\n",
    "#part_cat.rename(columns = {'id':'part_cat_id'}, inplace = True)\n",
    "#part_cat.head()"
   ]
  },
  {
   "cell_type": "code",
   "execution_count": 7,
   "id": "48da719a",
   "metadata": {},
   "outputs": [],
   "source": [
    "#parts_part_cat = parts.merge(part_cat, on='part_cat_id', how='outer')\n",
    "# Junto parts con parts-categories\n",
    "#parts_part_cat.shape"
   ]
  },
  {
   "cell_type": "code",
   "execution_count": 8,
   "id": "fc15c5ad",
   "metadata": {},
   "outputs": [
    {
     "data": {
      "text/html": [
       "<div>\n",
       "<style scoped>\n",
       "    .dataframe tbody tr th:only-of-type {\n",
       "        vertical-align: middle;\n",
       "    }\n",
       "\n",
       "    .dataframe tbody tr th {\n",
       "        vertical-align: top;\n",
       "    }\n",
       "\n",
       "    .dataframe thead th {\n",
       "        text-align: right;\n",
       "    }\n",
       "</style>\n",
       "<table border=\"1\" class=\"dataframe\">\n",
       "  <thead>\n",
       "    <tr style=\"text-align: right;\">\n",
       "      <th></th>\n",
       "      <th>set_num</th>\n",
       "      <th>set_name</th>\n",
       "      <th>year</th>\n",
       "      <th>theme_id</th>\n",
       "      <th>num_parts</th>\n",
       "      <th>theme_name</th>\n",
       "      <th>parent_id</th>\n",
       "    </tr>\n",
       "  </thead>\n",
       "  <tbody>\n",
       "    <tr>\n",
       "      <th>0</th>\n",
       "      <td>00-1</td>\n",
       "      <td>Weetabix Castle</td>\n",
       "      <td>1970</td>\n",
       "      <td>414</td>\n",
       "      <td>471</td>\n",
       "      <td>Castle</td>\n",
       "      <td>411.0</td>\n",
       "    </tr>\n",
       "    <tr>\n",
       "      <th>1</th>\n",
       "      <td>0011-2</td>\n",
       "      <td>Town Mini-Figures</td>\n",
       "      <td>1978</td>\n",
       "      <td>84</td>\n",
       "      <td>12</td>\n",
       "      <td>Supplemental</td>\n",
       "      <td>67.0</td>\n",
       "    </tr>\n",
       "    <tr>\n",
       "      <th>2</th>\n",
       "      <td>0011-3</td>\n",
       "      <td>Castle 2 for 1 Bonus Offer</td>\n",
       "      <td>1987</td>\n",
       "      <td>199</td>\n",
       "      <td>2</td>\n",
       "      <td>Lion Knights</td>\n",
       "      <td>186.0</td>\n",
       "    </tr>\n",
       "    <tr>\n",
       "      <th>3</th>\n",
       "      <td>0012-1</td>\n",
       "      <td>Space Mini-Figures</td>\n",
       "      <td>1979</td>\n",
       "      <td>143</td>\n",
       "      <td>12</td>\n",
       "      <td>Supplemental</td>\n",
       "      <td>126.0</td>\n",
       "    </tr>\n",
       "    <tr>\n",
       "      <th>4</th>\n",
       "      <td>0013-1</td>\n",
       "      <td>Space Mini-Figures</td>\n",
       "      <td>1979</td>\n",
       "      <td>143</td>\n",
       "      <td>12</td>\n",
       "      <td>Supplemental</td>\n",
       "      <td>126.0</td>\n",
       "    </tr>\n",
       "  </tbody>\n",
       "</table>\n",
       "</div>"
      ],
      "text/plain": [
       "  set_num                    set_name  year  theme_id  num_parts  \\\n",
       "0    00-1             Weetabix Castle  1970       414        471   \n",
       "1  0011-2           Town Mini-Figures  1978        84         12   \n",
       "2  0011-3  Castle 2 for 1 Bonus Offer  1987       199          2   \n",
       "3  0012-1          Space Mini-Figures  1979       143         12   \n",
       "4  0013-1          Space Mini-Figures  1979       143         12   \n",
       "\n",
       "     theme_name  parent_id  \n",
       "0        Castle      411.0  \n",
       "1  Supplemental       67.0  \n",
       "2  Lion Knights      186.0  \n",
       "3  Supplemental      126.0  \n",
       "4  Supplemental      126.0  "
      ]
     },
     "execution_count": 8,
     "metadata": {},
     "output_type": "execute_result"
    }
   ],
   "source": [
    "sets = pd.read_csv(DATASET_PATH + \"/sets.csv\")\n",
    "\n",
    "themes = pd.read_csv(DATASET_PATH + \"/themes.csv\")\n",
    "themes.rename(columns = {'id':'theme_id'}, inplace = True)\n",
    "\n",
    "s_t = sets.merge(themes, on='theme_id', how='left')\n",
    "s_t.rename(columns = {'name_x':'set_name','name_y':'theme_name'}, inplace = True)\n",
    "\n",
    "s_t.head()"
   ]
  },
  {
   "cell_type": "code",
   "execution_count": 9,
   "id": "ba20003e",
   "metadata": {},
   "outputs": [],
   "source": [
    "#sets_themes.isna()"
   ]
  },
  {
   "cell_type": "code",
   "execution_count": 10,
   "id": "9713da4b",
   "metadata": {},
   "outputs": [],
   "source": [
    "#inv_sets_themes['year'].isna().sum()"
   ]
  },
  {
   "cell_type": "code",
   "execution_count": 11,
   "id": "1a4308e0",
   "metadata": {},
   "outputs": [
    {
     "data": {
      "text/plain": [
       "(580251, 16)"
      ]
     },
     "execution_count": 11,
     "metadata": {},
     "output_type": "execute_result"
    }
   ],
   "source": [
    "df =ip_c_i.merge(s_t, on='set_num', how='left')\n",
    "df.shape"
   ]
  },
  {
   "cell_type": "code",
   "execution_count": 12,
   "id": "459e5c23",
   "metadata": {},
   "outputs": [
    {
     "data": {
      "text/plain": [
       "id                 0\n",
       "part_num           0\n",
       "color_id           0\n",
       "quantity           0\n",
       "is_spare           0\n",
       "name               0\n",
       "rgb                0\n",
       "is_trans           0\n",
       "version            0\n",
       "set_num            0\n",
       "set_name           0\n",
       "year               0\n",
       "theme_id           0\n",
       "num_parts          0\n",
       "theme_name         0\n",
       "parent_id     207693\n",
       "dtype: int64"
      ]
     },
     "execution_count": 12,
     "metadata": {},
     "output_type": "execute_result"
    }
   ],
   "source": [
    "df.isna().sum()"
   ]
  },
  {
   "cell_type": "code",
   "execution_count": 13,
   "id": "25ca7f30",
   "metadata": {},
   "outputs": [
    {
     "data": {
      "text/html": [
       "<div>\n",
       "<style scoped>\n",
       "    .dataframe tbody tr th:only-of-type {\n",
       "        vertical-align: middle;\n",
       "    }\n",
       "\n",
       "    .dataframe tbody tr th {\n",
       "        vertical-align: top;\n",
       "    }\n",
       "\n",
       "    .dataframe thead th {\n",
       "        text-align: right;\n",
       "    }\n",
       "</style>\n",
       "<table border=\"1\" class=\"dataframe\">\n",
       "  <thead>\n",
       "    <tr style=\"text-align: right;\">\n",
       "      <th></th>\n",
       "      <th>id</th>\n",
       "      <th>part_num</th>\n",
       "      <th>color_id</th>\n",
       "      <th>quantity</th>\n",
       "      <th>is_spare</th>\n",
       "      <th>name</th>\n",
       "      <th>rgb</th>\n",
       "      <th>is_trans</th>\n",
       "      <th>version</th>\n",
       "      <th>set_num</th>\n",
       "      <th>set_name</th>\n",
       "      <th>year</th>\n",
       "      <th>theme_id</th>\n",
       "      <th>num_parts</th>\n",
       "      <th>theme_name</th>\n",
       "      <th>parent_id</th>\n",
       "    </tr>\n",
       "  </thead>\n",
       "  <tbody>\n",
       "    <tr>\n",
       "      <th>0</th>\n",
       "      <td>1</td>\n",
       "      <td>48379c01</td>\n",
       "      <td>72</td>\n",
       "      <td>1</td>\n",
       "      <td>f</td>\n",
       "      <td>Dark Bluish Gray</td>\n",
       "      <td>6C6E68</td>\n",
       "      <td>f</td>\n",
       "      <td>1</td>\n",
       "      <td>7922-1</td>\n",
       "      <td>McDonald's Sports Set Number 6 - Orange Vest S...</td>\n",
       "      <td>2004</td>\n",
       "      <td>460</td>\n",
       "      <td>4</td>\n",
       "      <td>Gravity Games</td>\n",
       "      <td>458.0</td>\n",
       "    </tr>\n",
       "    <tr>\n",
       "      <th>1</th>\n",
       "      <td>1</td>\n",
       "      <td>48395</td>\n",
       "      <td>7</td>\n",
       "      <td>1</td>\n",
       "      <td>f</td>\n",
       "      <td>Light Gray</td>\n",
       "      <td>9BA19D</td>\n",
       "      <td>f</td>\n",
       "      <td>1</td>\n",
       "      <td>7922-1</td>\n",
       "      <td>McDonald's Sports Set Number 6 - Orange Vest S...</td>\n",
       "      <td>2004</td>\n",
       "      <td>460</td>\n",
       "      <td>4</td>\n",
       "      <td>Gravity Games</td>\n",
       "      <td>458.0</td>\n",
       "    </tr>\n",
       "    <tr>\n",
       "      <th>2</th>\n",
       "      <td>1</td>\n",
       "      <td>mcsport6</td>\n",
       "      <td>25</td>\n",
       "      <td>1</td>\n",
       "      <td>f</td>\n",
       "      <td>Orange</td>\n",
       "      <td>FE8A18</td>\n",
       "      <td>f</td>\n",
       "      <td>1</td>\n",
       "      <td>7922-1</td>\n",
       "      <td>McDonald's Sports Set Number 6 - Orange Vest S...</td>\n",
       "      <td>2004</td>\n",
       "      <td>460</td>\n",
       "      <td>4</td>\n",
       "      <td>Gravity Games</td>\n",
       "      <td>458.0</td>\n",
       "    </tr>\n",
       "    <tr>\n",
       "      <th>3</th>\n",
       "      <td>1</td>\n",
       "      <td>paddle</td>\n",
       "      <td>0</td>\n",
       "      <td>1</td>\n",
       "      <td>f</td>\n",
       "      <td>Black</td>\n",
       "      <td>05131D</td>\n",
       "      <td>f</td>\n",
       "      <td>1</td>\n",
       "      <td>7922-1</td>\n",
       "      <td>McDonald's Sports Set Number 6 - Orange Vest S...</td>\n",
       "      <td>2004</td>\n",
       "      <td>460</td>\n",
       "      <td>4</td>\n",
       "      <td>Gravity Games</td>\n",
       "      <td>458.0</td>\n",
       "    </tr>\n",
       "    <tr>\n",
       "      <th>4</th>\n",
       "      <td>3</td>\n",
       "      <td>11816pr0005</td>\n",
       "      <td>78</td>\n",
       "      <td>1</td>\n",
       "      <td>f</td>\n",
       "      <td>Light Flesh</td>\n",
       "      <td>F6D7B3</td>\n",
       "      <td>f</td>\n",
       "      <td>1</td>\n",
       "      <td>3931-1</td>\n",
       "      <td>Emma's Splash Pool</td>\n",
       "      <td>2012</td>\n",
       "      <td>494</td>\n",
       "      <td>43</td>\n",
       "      <td>Friends</td>\n",
       "      <td>NaN</td>\n",
       "    </tr>\n",
       "  </tbody>\n",
       "</table>\n",
       "</div>"
      ],
      "text/plain": [
       "   id     part_num  color_id  quantity is_spare              name     rgb  \\\n",
       "0   1     48379c01        72         1        f  Dark Bluish Gray  6C6E68   \n",
       "1   1        48395         7         1        f        Light Gray  9BA19D   \n",
       "2   1     mcsport6        25         1        f            Orange  FE8A18   \n",
       "3   1       paddle         0         1        f             Black  05131D   \n",
       "4   3  11816pr0005        78         1        f       Light Flesh  F6D7B3   \n",
       "\n",
       "  is_trans  version set_num  \\\n",
       "0        f        1  7922-1   \n",
       "1        f        1  7922-1   \n",
       "2        f        1  7922-1   \n",
       "3        f        1  7922-1   \n",
       "4        f        1  3931-1   \n",
       "\n",
       "                                            set_name  year  theme_id  \\\n",
       "0  McDonald's Sports Set Number 6 - Orange Vest S...  2004       460   \n",
       "1  McDonald's Sports Set Number 6 - Orange Vest S...  2004       460   \n",
       "2  McDonald's Sports Set Number 6 - Orange Vest S...  2004       460   \n",
       "3  McDonald's Sports Set Number 6 - Orange Vest S...  2004       460   \n",
       "4                                 Emma's Splash Pool  2012       494   \n",
       "\n",
       "   num_parts     theme_name  parent_id  \n",
       "0          4  Gravity Games      458.0  \n",
       "1          4  Gravity Games      458.0  \n",
       "2          4  Gravity Games      458.0  \n",
       "3          4  Gravity Games      458.0  \n",
       "4         43        Friends        NaN  "
      ]
     },
     "execution_count": 13,
     "metadata": {},
     "output_type": "execute_result"
    }
   ],
   "source": [
    "df.head()"
   ]
  },
  {
   "cell_type": "code",
   "execution_count": 15,
   "id": "aeb2894e",
   "metadata": {},
   "outputs": [
    {
     "data": {
      "text/plain": [
       "<pandas.core.groupby.generic.DataFrameGroupBy object at 0x7f280abaec40>"
      ]
     },
     "execution_count": 15,
     "metadata": {},
     "output_type": "execute_result"
    }
   ],
   "source": [
    "df.groupby('rgb')"
   ]
  },
  {
   "cell_type": "code",
   "execution_count": null,
   "id": "bc7b9c11",
   "metadata": {},
   "outputs": [],
   "source": []
  }
 ],
 "metadata": {
  "kernelspec": {
   "display_name": "Python 3 (ipykernel)",
   "language": "python",
   "name": "python3"
  },
  "language_info": {
   "codemirror_mode": {
    "name": "ipython",
    "version": 3
   },
   "file_extension": ".py",
   "mimetype": "text/x-python",
   "name": "python",
   "nbconvert_exporter": "python",
   "pygments_lexer": "ipython3",
   "version": "3.9.7"
  }
 },
 "nbformat": 4,
 "nbformat_minor": 5
}
