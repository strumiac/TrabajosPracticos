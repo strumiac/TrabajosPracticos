{
 "cells": [
  {
   "cell_type": "markdown",
   "id": "6edc496c",
   "metadata": {},
   "source": [
    "### 1. Trabajo previo del dataset"
   ]
  },
  {
   "cell_type": "code",
   "execution_count": 1,
   "id": "594f2a39",
   "metadata": {},
   "outputs": [],
   "source": [
    "import pandas as pd\n",
    "import numpy as np\n",
    "import matplotlib.pyplot as plt\n",
    "#import seaborn as sns; sns.set()\n",
    "\n",
    "DATASET_PATH = \"dataset\""
   ]
  },
  {
   "cell_type": "code",
   "execution_count": 2,
   "id": "8fb22dfb",
   "metadata": {},
   "outputs": [],
   "source": [
    "#inv_sets = pd.read_csv(DATASET_PATH + \"/inventory_sets.csv\")\n",
    "#inv_sets.shape"
   ]
  },
  {
   "cell_type": "code",
   "execution_count": 35,
   "id": "2a4b2f1d",
   "metadata": {},
   "outputs": [
    {
     "data": {
      "text/plain": [
       "11670"
      ]
     },
     "execution_count": 35,
     "metadata": {},
     "output_type": "execute_result"
    }
   ],
   "source": [
    "inv = pd.read_csv(DATASET_PATH + \"/inventories.csv\")\n",
    "inv.shape\n",
    "inv.set_num.nunique()"
   ]
  },
  {
   "cell_type": "code",
   "execution_count": 4,
   "id": "213d83cb",
   "metadata": {},
   "outputs": [
    {
     "data": {
      "text/plain": [
       "(580251, 8)"
      ]
     },
     "execution_count": 4,
     "metadata": {},
     "output_type": "execute_result"
    }
   ],
   "source": [
    "inv_part = pd.read_csv(DATASET_PATH + \"/inventory_parts.csv\")\n",
    "#inv_part.head(10)\n",
    "colors = pd.read_csv(DATASET_PATH + \"/colors.csv\")\n",
    "colors.rename(columns = {'id':'color_id'}, inplace = True)\n",
    "\n",
    "ip_c = inv_part.merge(colors, on='color_id', how='left')\n",
    "ip_c.rename(columns = {'inventory_id':'id'}, inplace = True)\n",
    "ip_c.shape\n",
    "#inv_part_colors.head()"
   ]
  },
  {
   "cell_type": "code",
   "execution_count": 5,
   "id": "1efe438f",
   "metadata": {},
   "outputs": [
    {
     "data": {
      "text/plain": [
       "(580251, 10)"
      ]
     },
     "execution_count": 5,
     "metadata": {},
     "output_type": "execute_result"
    }
   ],
   "source": [
    "ip_c_i = ip_c.merge(inv, on='id', how='left')\n",
    "ip_c_i.shape\n",
    "#parts[pd.isna(parts['part_cat_id'])]\n"
   ]
  },
  {
   "cell_type": "code",
   "execution_count": 6,
   "id": "9f619619",
   "metadata": {},
   "outputs": [],
   "source": [
    "#part_cat = pd.read_csv(DATASET_PATH + \"/part_categories.csv\")\n",
    "#part_cat.rename(columns = {'id':'part_cat_id'}, inplace = True)\n",
    "#part_cat.head()"
   ]
  },
  {
   "cell_type": "code",
   "execution_count": 7,
   "id": "48da719a",
   "metadata": {},
   "outputs": [],
   "source": [
    "#parts_part_cat = parts.merge(part_cat, on='part_cat_id', how='outer')\n",
    "# Junto parts con parts-categories\n",
    "#parts_part_cat.shape"
   ]
  },
  {
   "cell_type": "code",
   "execution_count": 33,
   "id": "fc15c5ad",
   "metadata": {},
   "outputs": [
    {
     "data": {
      "text/plain": [
       "11673"
      ]
     },
     "execution_count": 33,
     "metadata": {},
     "output_type": "execute_result"
    }
   ],
   "source": [
    "sets = pd.read_csv(DATASET_PATH + \"/sets.csv\")\n",
    "\n",
    "themes = pd.read_csv(DATASET_PATH + \"/themes.csv\")\n",
    "themes.rename(columns = {'id':'theme_id'}, inplace = True)\n",
    "\n",
    "s_t = sets.merge(themes, on='theme_id', how='left')\n",
    "s_t.rename(columns = {'name_x':'set_name','name_y':'theme_name'}, inplace = True)\n",
    "\n",
    "s_t.set_num.nunique()"
   ]
  },
  {
   "cell_type": "code",
   "execution_count": 9,
   "id": "ba20003e",
   "metadata": {},
   "outputs": [],
   "source": [
    "#sets_themes.isna()"
   ]
  },
  {
   "cell_type": "code",
   "execution_count": 10,
   "id": "9713da4b",
   "metadata": {},
   "outputs": [],
   "source": [
    "#inv_sets_themes['year'].isna().sum()"
   ]
  },
  {
   "cell_type": "code",
   "execution_count": 34,
   "id": "1a4308e0",
   "metadata": {},
   "outputs": [
    {
     "data": {
      "text/plain": [
       "10713"
      ]
     },
     "execution_count": 34,
     "metadata": {},
     "output_type": "execute_result"
    }
   ],
   "source": [
    "df =ip_c_i.merge(s_t, on='set_num', how='left')\n",
    "#df.shape\n",
    "df.set_num.nunique()"
   ]
  },
  {
   "cell_type": "code",
   "execution_count": 12,
   "id": "459e5c23",
   "metadata": {},
   "outputs": [
    {
     "data": {
      "text/plain": [
       "id                 0\n",
       "part_num           0\n",
       "color_id           0\n",
       "quantity           0\n",
       "is_spare           0\n",
       "name               0\n",
       "rgb                0\n",
       "is_trans           0\n",
       "version            0\n",
       "set_num            0\n",
       "set_name           0\n",
       "year               0\n",
       "theme_id           0\n",
       "num_parts          0\n",
       "theme_name         0\n",
       "parent_id     207693\n",
       "dtype: int64"
      ]
     },
     "execution_count": 12,
     "metadata": {},
     "output_type": "execute_result"
    }
   ],
   "source": [
    "# Cantidad de Nan\n",
    "\n",
    "df.isna().sum()"
   ]
  },
  {
   "cell_type": "code",
   "execution_count": 13,
   "id": "25ca7f30",
   "metadata": {},
   "outputs": [
    {
     "data": {
      "text/html": [
       "<div>\n",
       "<style scoped>\n",
       "    .dataframe tbody tr th:only-of-type {\n",
       "        vertical-align: middle;\n",
       "    }\n",
       "\n",
       "    .dataframe tbody tr th {\n",
       "        vertical-align: top;\n",
       "    }\n",
       "\n",
       "    .dataframe thead th {\n",
       "        text-align: right;\n",
       "    }\n",
       "</style>\n",
       "<table border=\"1\" class=\"dataframe\">\n",
       "  <thead>\n",
       "    <tr style=\"text-align: right;\">\n",
       "      <th></th>\n",
       "      <th>id</th>\n",
       "      <th>part_num</th>\n",
       "      <th>color_id</th>\n",
       "      <th>quantity</th>\n",
       "      <th>is_spare</th>\n",
       "      <th>name</th>\n",
       "      <th>rgb</th>\n",
       "      <th>is_trans</th>\n",
       "      <th>version</th>\n",
       "      <th>set_num</th>\n",
       "      <th>set_name</th>\n",
       "      <th>year</th>\n",
       "      <th>theme_id</th>\n",
       "      <th>num_parts</th>\n",
       "      <th>theme_name</th>\n",
       "      <th>parent_id</th>\n",
       "    </tr>\n",
       "  </thead>\n",
       "  <tbody>\n",
       "    <tr>\n",
       "      <th>0</th>\n",
       "      <td>1</td>\n",
       "      <td>48379c01</td>\n",
       "      <td>72</td>\n",
       "      <td>1</td>\n",
       "      <td>f</td>\n",
       "      <td>Dark Bluish Gray</td>\n",
       "      <td>6C6E68</td>\n",
       "      <td>f</td>\n",
       "      <td>1</td>\n",
       "      <td>7922-1</td>\n",
       "      <td>McDonald's Sports Set Number 6 - Orange Vest S...</td>\n",
       "      <td>2004</td>\n",
       "      <td>460</td>\n",
       "      <td>4</td>\n",
       "      <td>Gravity Games</td>\n",
       "      <td>458.0</td>\n",
       "    </tr>\n",
       "    <tr>\n",
       "      <th>1</th>\n",
       "      <td>1</td>\n",
       "      <td>48395</td>\n",
       "      <td>7</td>\n",
       "      <td>1</td>\n",
       "      <td>f</td>\n",
       "      <td>Light Gray</td>\n",
       "      <td>9BA19D</td>\n",
       "      <td>f</td>\n",
       "      <td>1</td>\n",
       "      <td>7922-1</td>\n",
       "      <td>McDonald's Sports Set Number 6 - Orange Vest S...</td>\n",
       "      <td>2004</td>\n",
       "      <td>460</td>\n",
       "      <td>4</td>\n",
       "      <td>Gravity Games</td>\n",
       "      <td>458.0</td>\n",
       "    </tr>\n",
       "    <tr>\n",
       "      <th>2</th>\n",
       "      <td>1</td>\n",
       "      <td>mcsport6</td>\n",
       "      <td>25</td>\n",
       "      <td>1</td>\n",
       "      <td>f</td>\n",
       "      <td>Orange</td>\n",
       "      <td>FE8A18</td>\n",
       "      <td>f</td>\n",
       "      <td>1</td>\n",
       "      <td>7922-1</td>\n",
       "      <td>McDonald's Sports Set Number 6 - Orange Vest S...</td>\n",
       "      <td>2004</td>\n",
       "      <td>460</td>\n",
       "      <td>4</td>\n",
       "      <td>Gravity Games</td>\n",
       "      <td>458.0</td>\n",
       "    </tr>\n",
       "    <tr>\n",
       "      <th>3</th>\n",
       "      <td>1</td>\n",
       "      <td>paddle</td>\n",
       "      <td>0</td>\n",
       "      <td>1</td>\n",
       "      <td>f</td>\n",
       "      <td>Black</td>\n",
       "      <td>05131D</td>\n",
       "      <td>f</td>\n",
       "      <td>1</td>\n",
       "      <td>7922-1</td>\n",
       "      <td>McDonald's Sports Set Number 6 - Orange Vest S...</td>\n",
       "      <td>2004</td>\n",
       "      <td>460</td>\n",
       "      <td>4</td>\n",
       "      <td>Gravity Games</td>\n",
       "      <td>458.0</td>\n",
       "    </tr>\n",
       "    <tr>\n",
       "      <th>4</th>\n",
       "      <td>3</td>\n",
       "      <td>11816pr0005</td>\n",
       "      <td>78</td>\n",
       "      <td>1</td>\n",
       "      <td>f</td>\n",
       "      <td>Light Flesh</td>\n",
       "      <td>F6D7B3</td>\n",
       "      <td>f</td>\n",
       "      <td>1</td>\n",
       "      <td>3931-1</td>\n",
       "      <td>Emma's Splash Pool</td>\n",
       "      <td>2012</td>\n",
       "      <td>494</td>\n",
       "      <td>43</td>\n",
       "      <td>Friends</td>\n",
       "      <td>NaN</td>\n",
       "    </tr>\n",
       "  </tbody>\n",
       "</table>\n",
       "</div>"
      ],
      "text/plain": [
       "   id     part_num  color_id  quantity is_spare              name     rgb  \\\n",
       "0   1     48379c01        72         1        f  Dark Bluish Gray  6C6E68   \n",
       "1   1        48395         7         1        f        Light Gray  9BA19D   \n",
       "2   1     mcsport6        25         1        f            Orange  FE8A18   \n",
       "3   1       paddle         0         1        f             Black  05131D   \n",
       "4   3  11816pr0005        78         1        f       Light Flesh  F6D7B3   \n",
       "\n",
       "  is_trans  version set_num  \\\n",
       "0        f        1  7922-1   \n",
       "1        f        1  7922-1   \n",
       "2        f        1  7922-1   \n",
       "3        f        1  7922-1   \n",
       "4        f        1  3931-1   \n",
       "\n",
       "                                            set_name  year  theme_id  \\\n",
       "0  McDonald's Sports Set Number 6 - Orange Vest S...  2004       460   \n",
       "1  McDonald's Sports Set Number 6 - Orange Vest S...  2004       460   \n",
       "2  McDonald's Sports Set Number 6 - Orange Vest S...  2004       460   \n",
       "3  McDonald's Sports Set Number 6 - Orange Vest S...  2004       460   \n",
       "4                                 Emma's Splash Pool  2012       494   \n",
       "\n",
       "   num_parts     theme_name  parent_id  \n",
       "0          4  Gravity Games      458.0  \n",
       "1          4  Gravity Games      458.0  \n",
       "2          4  Gravity Games      458.0  \n",
       "3          4  Gravity Games      458.0  \n",
       "4         43        Friends        NaN  "
      ]
     },
     "execution_count": 13,
     "metadata": {},
     "output_type": "execute_result"
    }
   ],
   "source": [
    "# Primeras filas\n",
    "\n",
    "df.head()"
   ]
  },
  {
   "cell_type": "code",
   "execution_count": 14,
   "id": "ee7f4081",
   "metadata": {},
   "outputs": [
    {
     "data": {
      "text/html": [
       "<div>\n",
       "<style scoped>\n",
       "    .dataframe tbody tr th:only-of-type {\n",
       "        vertical-align: middle;\n",
       "    }\n",
       "\n",
       "    .dataframe tbody tr th {\n",
       "        vertical-align: top;\n",
       "    }\n",
       "\n",
       "    .dataframe thead th {\n",
       "        text-align: right;\n",
       "    }\n",
       "</style>\n",
       "<table border=\"1\" class=\"dataframe\">\n",
       "  <thead>\n",
       "    <tr style=\"text-align: right;\">\n",
       "      <th></th>\n",
       "      <th>id</th>\n",
       "      <th>color_id</th>\n",
       "      <th>quantity</th>\n",
       "      <th>version</th>\n",
       "      <th>year</th>\n",
       "      <th>theme_id</th>\n",
       "      <th>num_parts</th>\n",
       "      <th>parent_id</th>\n",
       "    </tr>\n",
       "  </thead>\n",
       "  <tbody>\n",
       "    <tr>\n",
       "      <th>count</th>\n",
       "      <td>580251.000000</td>\n",
       "      <td>580251.000000</td>\n",
       "      <td>580251.000000</td>\n",
       "      <td>580251.000000</td>\n",
       "      <td>580251.000000</td>\n",
       "      <td>580251.000000</td>\n",
       "      <td>580251.000000</td>\n",
       "      <td>372558.000000</td>\n",
       "    </tr>\n",
       "    <tr>\n",
       "      <th>mean</th>\n",
       "      <td>8605.285444</td>\n",
       "      <td>78.472787</td>\n",
       "      <td>3.324730</td>\n",
       "      <td>1.001599</td>\n",
       "      <td>2005.695068</td>\n",
       "      <td>274.152367</td>\n",
       "      <td>506.805870</td>\n",
       "      <td>205.054547</td>\n",
       "    </tr>\n",
       "    <tr>\n",
       "      <th>std</th>\n",
       "      <td>4958.375522</td>\n",
       "      <td>622.238597</td>\n",
       "      <td>8.229816</td>\n",
       "      <td>0.043272</td>\n",
       "      <td>10.860828</td>\n",
       "      <td>190.329691</td>\n",
       "      <td>606.258946</td>\n",
       "      <td>168.480458</td>\n",
       "    </tr>\n",
       "    <tr>\n",
       "      <th>min</th>\n",
       "      <td>1.000000</td>\n",
       "      <td>-1.000000</td>\n",
       "      <td>1.000000</td>\n",
       "      <td>1.000000</td>\n",
       "      <td>1950.000000</td>\n",
       "      <td>1.000000</td>\n",
       "      <td>1.000000</td>\n",
       "      <td>1.000000</td>\n",
       "    </tr>\n",
       "    <tr>\n",
       "      <th>25%</th>\n",
       "      <td>4352.000000</td>\n",
       "      <td>1.000000</td>\n",
       "      <td>1.000000</td>\n",
       "      <td>1.000000</td>\n",
       "      <td>2000.000000</td>\n",
       "      <td>100.000000</td>\n",
       "      <td>134.000000</td>\n",
       "      <td>52.000000</td>\n",
       "    </tr>\n",
       "    <tr>\n",
       "      <th>50%</th>\n",
       "      <td>8635.000000</td>\n",
       "      <td>15.000000</td>\n",
       "      <td>2.000000</td>\n",
       "      <td>1.000000</td>\n",
       "      <td>2009.000000</td>\n",
       "      <td>236.000000</td>\n",
       "      <td>328.000000</td>\n",
       "      <td>158.000000</td>\n",
       "    </tr>\n",
       "    <tr>\n",
       "      <th>75%</th>\n",
       "      <td>12794.000000</td>\n",
       "      <td>71.000000</td>\n",
       "      <td>4.000000</td>\n",
       "      <td>1.000000</td>\n",
       "      <td>2014.000000</td>\n",
       "      <td>466.000000</td>\n",
       "      <td>665.000000</td>\n",
       "      <td>324.000000</td>\n",
       "    </tr>\n",
       "    <tr>\n",
       "      <th>max</th>\n",
       "      <td>18708.000000</td>\n",
       "      <td>9999.000000</td>\n",
       "      <td>1440.000000</td>\n",
       "      <td>5.000000</td>\n",
       "      <td>2017.000000</td>\n",
       "      <td>614.000000</td>\n",
       "      <td>5922.000000</td>\n",
       "      <td>580.000000</td>\n",
       "    </tr>\n",
       "  </tbody>\n",
       "</table>\n",
       "</div>"
      ],
      "text/plain": [
       "                  id       color_id       quantity        version  \\\n",
       "count  580251.000000  580251.000000  580251.000000  580251.000000   \n",
       "mean     8605.285444      78.472787       3.324730       1.001599   \n",
       "std      4958.375522     622.238597       8.229816       0.043272   \n",
       "min         1.000000      -1.000000       1.000000       1.000000   \n",
       "25%      4352.000000       1.000000       1.000000       1.000000   \n",
       "50%      8635.000000      15.000000       2.000000       1.000000   \n",
       "75%     12794.000000      71.000000       4.000000       1.000000   \n",
       "max     18708.000000    9999.000000    1440.000000       5.000000   \n",
       "\n",
       "                year       theme_id      num_parts      parent_id  \n",
       "count  580251.000000  580251.000000  580251.000000  372558.000000  \n",
       "mean     2005.695068     274.152367     506.805870     205.054547  \n",
       "std        10.860828     190.329691     606.258946     168.480458  \n",
       "min      1950.000000       1.000000       1.000000       1.000000  \n",
       "25%      2000.000000     100.000000     134.000000      52.000000  \n",
       "50%      2009.000000     236.000000     328.000000     158.000000  \n",
       "75%      2014.000000     466.000000     665.000000     324.000000  \n",
       "max      2017.000000     614.000000    5922.000000     580.000000  "
      ]
     },
     "execution_count": 14,
     "metadata": {},
     "output_type": "execute_result"
    }
   ],
   "source": [
    "df.describe()"
   ]
  },
  {
   "cell_type": "code",
   "execution_count": 15,
   "id": "aeb2894e",
   "metadata": {},
   "outputs": [
    {
     "data": {
      "text/plain": [
       "id              int64\n",
       "part_num       object\n",
       "color_id        int64\n",
       "quantity        int64\n",
       "is_spare       object\n",
       "name           object\n",
       "rgb            object\n",
       "is_trans       object\n",
       "version         int64\n",
       "set_num        object\n",
       "set_name       object\n",
       "year            int64\n",
       "theme_id        int64\n",
       "num_parts       int64\n",
       "theme_name     object\n",
       "parent_id     float64\n",
       "dtype: object"
      ]
     },
     "execution_count": 15,
     "metadata": {},
     "output_type": "execute_result"
    }
   ],
   "source": [
    "# Tipos de datos\n",
    "\n",
    "df.dtypes"
   ]
  },
  {
   "cell_type": "code",
   "execution_count": 52,
   "id": "bc7b9c11",
   "metadata": {},
   "outputs": [
    {
     "data": {
      "text/plain": [
       "'vwkit-1'"
      ]
     },
     "execution_count": 52,
     "metadata": {},
     "output_type": "execute_result"
    }
   ],
   "source": [
    "# Cantidad de sets por temática\n",
    "\n",
    "out = df.groupby('theme_name')['set_name'].nunique()\n",
    "out = out.reset_index()\n",
    "#out.sort_values(by = 'set_name', inplace = True)\n",
    "out\n",
    "out_max = df['set_num'].max()\n",
    "#theme_out_max = out[out.set_name.eq(out_max)]['theme_name']\n",
    "out_max\n",
    "#out.plot(kind = 'bar', figsize = (70,10))\n",
    "#plt.title(\"Cantidad de sets por temática\")\n",
    "#plt.xlabel(\"Año\")\n",
    "#plt.ylabel(\"#\")\n",
    "#plt.show()"
   ]
  },
  {
   "cell_type": "code",
   "execution_count": 37,
   "id": "c75e00a4",
   "metadata": {},
   "outputs": [
    {
     "data": {
      "text/html": [
       "<div>\n",
       "<style scoped>\n",
       "    .dataframe tbody tr th:only-of-type {\n",
       "        vertical-align: middle;\n",
       "    }\n",
       "\n",
       "    .dataframe tbody tr th {\n",
       "        vertical-align: top;\n",
       "    }\n",
       "\n",
       "    .dataframe thead th {\n",
       "        text-align: right;\n",
       "    }\n",
       "</style>\n",
       "<table border=\"1\" class=\"dataframe\">\n",
       "  <thead>\n",
       "    <tr style=\"text-align: right;\">\n",
       "      <th></th>\n",
       "      <th>name</th>\n",
       "      <th>rgb</th>\n",
       "      <th>set_num</th>\n",
       "      <th>set_name</th>\n",
       "      <th>num_parts</th>\n",
       "      <th>theme_name</th>\n",
       "    </tr>\n",
       "  </thead>\n",
       "  <tbody>\n",
       "    <tr>\n",
       "      <th>0</th>\n",
       "      <td>Dark Bluish Gray</td>\n",
       "      <td>6C6E68</td>\n",
       "      <td>7922-1</td>\n",
       "      <td>McDonald's Sports Set Number 6 - Orange Vest S...</td>\n",
       "      <td>4</td>\n",
       "      <td>Gravity Games</td>\n",
       "    </tr>\n",
       "    <tr>\n",
       "      <th>1</th>\n",
       "      <td>Light Gray</td>\n",
       "      <td>9BA19D</td>\n",
       "      <td>7922-1</td>\n",
       "      <td>McDonald's Sports Set Number 6 - Orange Vest S...</td>\n",
       "      <td>4</td>\n",
       "      <td>Gravity Games</td>\n",
       "    </tr>\n",
       "    <tr>\n",
       "      <th>2</th>\n",
       "      <td>Orange</td>\n",
       "      <td>FE8A18</td>\n",
       "      <td>7922-1</td>\n",
       "      <td>McDonald's Sports Set Number 6 - Orange Vest S...</td>\n",
       "      <td>4</td>\n",
       "      <td>Gravity Games</td>\n",
       "    </tr>\n",
       "    <tr>\n",
       "      <th>3</th>\n",
       "      <td>Black</td>\n",
       "      <td>05131D</td>\n",
       "      <td>7922-1</td>\n",
       "      <td>McDonald's Sports Set Number 6 - Orange Vest S...</td>\n",
       "      <td>4</td>\n",
       "      <td>Gravity Games</td>\n",
       "    </tr>\n",
       "    <tr>\n",
       "      <th>4</th>\n",
       "      <td>Light Flesh</td>\n",
       "      <td>F6D7B3</td>\n",
       "      <td>3931-1</td>\n",
       "      <td>Emma's Splash Pool</td>\n",
       "      <td>43</td>\n",
       "      <td>Friends</td>\n",
       "    </tr>\n",
       "    <tr>\n",
       "      <th>...</th>\n",
       "      <td>...</td>\n",
       "      <td>...</td>\n",
       "      <td>...</td>\n",
       "      <td>...</td>\n",
       "      <td>...</td>\n",
       "      <td>...</td>\n",
       "    </tr>\n",
       "    <tr>\n",
       "      <th>580246</th>\n",
       "      <td>Black</td>\n",
       "      <td>05131D</td>\n",
       "      <td>75090-2</td>\n",
       "      <td>Ezra's Speeder Bike</td>\n",
       "      <td>253</td>\n",
       "      <td>Star Wars Rebels</td>\n",
       "    </tr>\n",
       "    <tr>\n",
       "      <th>580247</th>\n",
       "      <td>Light Bluish Gray</td>\n",
       "      <td>A0A5A9</td>\n",
       "      <td>75090-2</td>\n",
       "      <td>Ezra's Speeder Bike</td>\n",
       "      <td>253</td>\n",
       "      <td>Star Wars Rebels</td>\n",
       "    </tr>\n",
       "    <tr>\n",
       "      <th>580248</th>\n",
       "      <td>White</td>\n",
       "      <td>FFFFFF</td>\n",
       "      <td>75090-2</td>\n",
       "      <td>Ezra's Speeder Bike</td>\n",
       "      <td>253</td>\n",
       "      <td>Star Wars Rebels</td>\n",
       "    </tr>\n",
       "    <tr>\n",
       "      <th>580249</th>\n",
       "      <td>Black</td>\n",
       "      <td>05131D</td>\n",
       "      <td>75090-2</td>\n",
       "      <td>Ezra's Speeder Bike</td>\n",
       "      <td>253</td>\n",
       "      <td>Star Wars Rebels</td>\n",
       "    </tr>\n",
       "    <tr>\n",
       "      <th>580250</th>\n",
       "      <td>Dark Bluish Gray</td>\n",
       "      <td>6C6E68</td>\n",
       "      <td>75090-2</td>\n",
       "      <td>Ezra's Speeder Bike</td>\n",
       "      <td>253</td>\n",
       "      <td>Star Wars Rebels</td>\n",
       "    </tr>\n",
       "  </tbody>\n",
       "</table>\n",
       "<p>580251 rows × 6 columns</p>\n",
       "</div>"
      ],
      "text/plain": [
       "                     name     rgb  set_num  \\\n",
       "0        Dark Bluish Gray  6C6E68   7922-1   \n",
       "1              Light Gray  9BA19D   7922-1   \n",
       "2                  Orange  FE8A18   7922-1   \n",
       "3                   Black  05131D   7922-1   \n",
       "4             Light Flesh  F6D7B3   3931-1   \n",
       "...                   ...     ...      ...   \n",
       "580246              Black  05131D  75090-2   \n",
       "580247  Light Bluish Gray  A0A5A9  75090-2   \n",
       "580248              White  FFFFFF  75090-2   \n",
       "580249              Black  05131D  75090-2   \n",
       "580250   Dark Bluish Gray  6C6E68  75090-2   \n",
       "\n",
       "                                                 set_name  num_parts  \\\n",
       "0       McDonald's Sports Set Number 6 - Orange Vest S...          4   \n",
       "1       McDonald's Sports Set Number 6 - Orange Vest S...          4   \n",
       "2       McDonald's Sports Set Number 6 - Orange Vest S...          4   \n",
       "3       McDonald's Sports Set Number 6 - Orange Vest S...          4   \n",
       "4                                      Emma's Splash Pool         43   \n",
       "...                                                   ...        ...   \n",
       "580246                                Ezra's Speeder Bike        253   \n",
       "580247                                Ezra's Speeder Bike        253   \n",
       "580248                                Ezra's Speeder Bike        253   \n",
       "580249                                Ezra's Speeder Bike        253   \n",
       "580250                                Ezra's Speeder Bike        253   \n",
       "\n",
       "              theme_name  \n",
       "0          Gravity Games  \n",
       "1          Gravity Games  \n",
       "2          Gravity Games  \n",
       "3          Gravity Games  \n",
       "4                Friends  \n",
       "...                  ...  \n",
       "580246  Star Wars Rebels  \n",
       "580247  Star Wars Rebels  \n",
       "580248  Star Wars Rebels  \n",
       "580249  Star Wars Rebels  \n",
       "580250  Star Wars Rebels  \n",
       "\n",
       "[580251 rows x 6 columns]"
      ]
     },
     "execution_count": 37,
     "metadata": {},
     "output_type": "execute_result"
    }
   ],
   "source": [
    "# duda de sacar (theme_id), (color_id) y código de (set_num) por una posterior codificacion de variables categoricas \n",
    "\n",
    "df_drop = df.drop(['parent_id', 'theme_id', 'year', 'version', 'is_trans', 'is_spare',  'quantity',\n",
    "                   'color_id',  'part_num',  'id'], axis = 'columns')\n",
    "df_drop"
   ]
  },
  {
   "cell_type": "code",
   "execution_count": 62,
   "id": "6773f2e6",
   "metadata": {},
   "outputs": [
    {
     "data": {
      "text/plain": [
       "316    Supplemental\n",
       "Name: theme_name, dtype: object"
      ]
     },
     "execution_count": 62,
     "metadata": {},
     "output_type": "execute_result"
    }
   ],
   "source": [
    "out = df_drop.groupby('theme_name')['set_num'].nunique()\n",
    "out = out.reset_index()\n",
    "#out.sort_values(by = 'set_name', inplace = True)\n",
    "out\n",
    "out_max = out['set_num'].max()\n",
    "theme_out_max = out[out.set_num.eq(out_max)]['theme_name']\n",
    "#out_max\n",
    "#out\n",
    "theme_out_max"
   ]
  },
  {
   "cell_type": "code",
   "execution_count": 68,
   "id": "1c7b6023",
   "metadata": {},
   "outputs": [
    {
     "data": {
      "text/plain": [
       "41"
      ]
     },
     "execution_count": 68,
     "metadata": {},
     "output_type": "execute_result"
    }
   ],
   "source": [
    "#f.loc[df['a'] > 10, ['a’, 'c']]\n",
    "tt=df_drop.loc[df_drop['theme_name'] == 'Supplemental', ['rgb', 'set_num']]\n",
    "xx=tt.groupby('set_num')['rgb'].nunique()\n",
    "xx = xx.reset_index()\n",
    "xx.rgb.max()"
   ]
  },
  {
   "cell_type": "code",
   "execution_count": 31,
   "id": "4d889d04",
   "metadata": {},
   "outputs": [
    {
     "data": {
      "text/plain": [
       "10713"
      ]
     },
     "execution_count": 31,
     "metadata": {},
     "output_type": "execute_result"
    }
   ],
   "source": [
    "#df.set_num.nunique()\n",
    "sets_borrar = pd.read_csv(DATASET_PATH + \"/sets.csv\")\n",
    "sets_borrar.head()"
   ]
  },
  {
   "cell_type": "code",
   "execution_count": 32,
   "id": "3e98c59e",
   "metadata": {},
   "outputs": [
    {
     "data": {
      "text/plain": [
       "11673"
      ]
     },
     "execution_count": 32,
     "metadata": {},
     "output_type": "execute_result"
    }
   ],
   "source": [
    "sets_borrar.set_num.nunique()"
   ]
  },
  {
   "cell_type": "markdown",
   "id": "962f1f69",
   "metadata": {},
   "source": [
    "### Tratamiento de variables"
   ]
  },
  {
   "cell_type": "code",
   "execution_count": 21,
   "id": "be2a258e",
   "metadata": {},
   "outputs": [
    {
     "data": {
      "text/plain": [
       "FFFFFF    62\n",
       "9BA19D    58\n",
       "05131D    41\n",
       "0055BF    41\n",
       "C91A09    38\n",
       "F2CD37    24\n",
       "6D6E5C    19\n",
       "237841    11\n",
       "E4CD9E     7\n",
       "5A93DB     5\n",
       "583927     4\n",
       "0A3463     4\n",
       "FFA70B     3\n",
       "958A73     2\n",
       "84B68D     2\n",
       "0020A0     2\n",
       "CFE2F7     1\n",
       "FCFCFC     1\n",
       "6C6E68     1\n",
       "9CA3A8     1\n",
       "A0A5A9     1\n",
       "A95500     1\n",
       "FE8A18     1\n",
       "BBE90B     1\n",
       "Name: rgb, dtype: int64"
      ]
     },
     "execution_count": 21,
     "metadata": {},
     "output_type": "execute_result"
    }
   ],
   "source": [
    "df.loc[df.theme_name == 'Gravity Games'].rgb.value_counts()"
   ]
  },
  {
   "cell_type": "code",
   "execution_count": null,
   "id": "2078775f",
   "metadata": {},
   "outputs": [],
   "source": []
  }
 ],
 "metadata": {
  "kernelspec": {
   "display_name": "Python 3 (ipykernel)",
   "language": "python",
   "name": "python3"
  },
  "language_info": {
   "codemirror_mode": {
    "name": "ipython",
    "version": 3
   },
   "file_extension": ".py",
   "mimetype": "text/x-python",
   "name": "python",
   "nbconvert_exporter": "python",
   "pygments_lexer": "ipython3",
   "version": "3.9.7"
  }
 },
 "nbformat": 4,
 "nbformat_minor": 5
}
