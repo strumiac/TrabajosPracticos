{
 "cells": [
  {
   "cell_type": "code",
   "execution_count": 1,
   "id": "8157274a",
   "metadata": {},
   "outputs": [
    {
     "name": "stdout",
     "output_type": "stream",
     "text": [
      "Using matplotlib backend: <object object at 0x7f14641f8b80>\n"
     ]
    }
   ],
   "source": [
    "#Si queremos que las imágenes sean mostradas en una ventana emergente quitar el inline\n",
    "# %matplotlib inline\n",
    "%matplotlib\n",
    "\n",
    "# OpenCV-Python utiliza NumPy para el manejo de imágenes\n",
    "import numpy as np\n",
    "# cv2 es el módulo python para acceder a OpenCV \n",
    "import cv2 as cv\n",
    "# Usamos las poderosas herramientas de graficación de matplotlib para mostrar imágenes, perfiles, histogramas, etc\n",
    "import matplotlib.pyplot as plt"
   ]
  },
  {
   "cell_type": "code",
   "execution_count": 2,
   "id": "591108c6",
   "metadata": {},
   "outputs": [],
   "source": [
    "# Leemos la imagen\n",
    "#=================\n",
    "#img = cv.imread('tapitas.jpg')\n",
    "img = cv.imread('eyes.jpg')\n",
    "gray = cv.cvtColor(img,cv.COLOR_BGR2GRAY)\n",
    "\n",
    "# Suavizamos la imagen\n",
    "#=====================\n",
    "gray = cv.medianBlur(gray,5)\n",
    "\n",
    "cv.imshow('eyes',gray)\n",
    "cv.waitKey(0)\n",
    "cv.destroyAllWindows()"
   ]
  },
  {
   "cell_type": "code",
   "execution_count": 3,
   "id": "c2c1c068",
   "metadata": {},
   "outputs": [],
   "source": [
    "# Obtenemos los círculos por la transformada de Hough\n",
    "# (imagen en grises, método, flag de resolución del acumulador, dist mín entre centros de círculos\n",
    "# umbral alto de Canny, umbral del acumulador, radio_min, radio_max)\n",
    "#===================================================================\n",
    "img_out = img.copy()\n",
    "#circles = cv.HoughCircles(gray,cv.HOUGH_GRADIENT,1,minDist=10,param1=120,param2=40,minRadius=10,maxRadius=50)\n",
    "circles = cv.HoughCircles(gray,cv.HOUGH_GRADIENT,1.25,minDist=45,param1=140,param2=25,minRadius=30,maxRadius=35)\n",
    "\n",
    "circles = np.uint16(np.around(circles))\n",
    "for i in circles[0,:]:\n",
    "    # Dibujamos el círculo externo\n",
    "    cv.circle(img_out,(i[0],i[1]),i[2],(0,255,0),2)\n",
    "    # Dibujamos el centro del círculo\n",
    "    cv.circle(img_out,(i[0],i[1]),2,(0,0,255),3)\n",
    "cv.imshow('detected circles',img_out)\n",
    "#cv.imwrite('iris_detection.png',img_out)\n",
    "cv.waitKey(0)\n",
    "cv.destroyAllWindows()"
   ]
  },
  {
   "cell_type": "code",
   "execution_count": 4,
   "id": "2ca804f7",
   "metadata": {},
   "outputs": [],
   "source": [
    "img_pupila_out = img.copy()\n",
    "circles_pupila = cv.HoughCircles(gray,cv.HOUGH_GRADIENT,1.25,minDist=80,param1=100,param2=25,minRadius=8,maxRadius=15)\n",
    "\n",
    "circles_pupila = np.uint16(np.around(circles_pupila))\n",
    "for i in circles_pupila[0,:]:\n",
    "    # Dibujamos el círculo externo\n",
    "    cv.circle(img_pupila_out,(i[0],i[1]),i[2],(0,255,0),1)\n",
    "    # Dibujamos el centro del círculo\n",
    "    cv.circle(img_pupila_out,(i[0],i[1]),2,(0,0,255),3)\n",
    "cv.imshow('detected circles',img_pupila_out)\n",
    "#cv.imwrite('pupila_detection.png',img_pupila_out)\n",
    "cv.waitKey(0)\n",
    "cv.destroyAllWindows()"
   ]
  },
  {
   "cell_type": "markdown",
   "id": "44af904d",
   "metadata": {},
   "source": [
    "### Distancia entre centro de pupilas"
   ]
  },
  {
   "cell_type": "code",
   "execution_count": 5,
   "id": "a888be5d",
   "metadata": {},
   "outputs": [
    {
     "name": "stdout",
     "output_type": "stream",
     "text": [
      "La distancia entre centros de pupilas de la imagen 1 es: 305 pixeles\n",
      "La distancia entre centros de pupilas de la imagen 2 es: 319 pixeles\n",
      "La distancia entre centros de pupilas de la imagen 3 es: 307 pixeles\n",
      "La distancia entre centros de pupilas de la imagen 4 es: 331 pixeles\n",
      "La distancia entre centros de pupilas de la imagen 5 es: 331 pixeles\n"
     ]
    }
   ],
   "source": [
    "circles_pupila = circles_pupila.reshape(10,3).astype('int')\n",
    "circles_ord=circles_pupila[circles_pupila[:, 1].argsort()]\n",
    "circles_ord=np.delete(circles_ord, 2, axis = 1)\n",
    "dist = []\n",
    "cont = 0\n",
    "for i in range(0, circles_ord.shape[0], 2):\n",
    "    dist.append(np.sqrt(np.sum((circles_ord[i+1] - circles_ord[i])**2)))\n",
    "    print('La distancia entre centros de pupilas de la imagen', cont + 1,'es:',dist[cont].astype('int'),'pixeles')\n",
    "    cont = cont + 1"
   ]
  },
  {
   "cell_type": "markdown",
   "id": "58b2b14d",
   "metadata": {},
   "source": [
    "### Distancia entre centro de iris"
   ]
  },
  {
   "cell_type": "code",
   "execution_count": 6,
   "id": "d3801017",
   "metadata": {},
   "outputs": [
    {
     "name": "stdout",
     "output_type": "stream",
     "text": [
      "La distancia entre centros de iris de la imagen 1 es: 308 pixeles\n",
      "La distancia entre centros de iris de la imagen 2 es: 317 pixeles\n",
      "La distancia entre centros de iris de la imagen 3 es: 309 pixeles\n",
      "La distancia entre centros de iris de la imagen 4 es: 330 pixeles\n",
      "La distancia entre centros de iris de la imagen 5 es: 332 pixeles\n"
     ]
    }
   ],
   "source": [
    "circles = circles.reshape(10,3).astype('int')\n",
    "circles_ord=circles[circles[:, 1].argsort()]\n",
    "circles_ord=np.delete(circles_ord, 2, axis = 1)\n",
    "dist = []\n",
    "cont = 0\n",
    "for i in range(0, circles_ord.shape[0], 2):\n",
    "    dist.append(np.sqrt(np.sum((circles_ord[i+1] - circles_ord[i])**2)))\n",
    "    print('La distancia entre centros de iris de la imagen', cont + 1,'es:',dist[cont].astype('int'),'pixeles')\n",
    "    cont = cont + 1"
   ]
  },
  {
   "cell_type": "code",
   "execution_count": 4,
   "id": "7876ff77",
   "metadata": {},
   "outputs": [
    {
     "data": {
      "text/plain": [
       "array([[[132, 506,  33],\n",
       "        [464, 514,  32],\n",
       "        [461, 182,  31],\n",
       "        [144, 189,  32],\n",
       "        [464, 417,  31],\n",
       "        [139, 294,  31],\n",
       "        [448, 293,  31],\n",
       "        [134, 413,  32],\n",
       "        [456,  78,  30],\n",
       "        [148,  78,  31]]], dtype=uint16)"
      ]
     },
     "execution_count": 4,
     "metadata": {},
     "output_type": "execute_result"
    }
   ],
   "source": [
    "circles"
   ]
  },
  {
   "cell_type": "code",
   "execution_count": 5,
   "id": "aee47ac6",
   "metadata": {},
   "outputs": [
    {
     "data": {
      "text/plain": [
       "array([[132, 506,  33],\n",
       "       [464, 514,  32],\n",
       "       [461, 182,  31],\n",
       "       [144, 189,  32],\n",
       "       [464, 417,  31],\n",
       "       [139, 294,  31],\n",
       "       [448, 293,  31],\n",
       "       [134, 413,  32],\n",
       "       [456,  78,  30],\n",
       "       [148,  78,  31]], dtype=uint16)"
      ]
     },
     "execution_count": 5,
     "metadata": {},
     "output_type": "execute_result"
    }
   ],
   "source": [
    "circles[0,:]"
   ]
  },
  {
   "cell_type": "code",
   "execution_count": null,
   "id": "2bc83c88",
   "metadata": {},
   "outputs": [],
   "source": []
  }
 ],
 "metadata": {
  "kernelspec": {
   "display_name": "Python 3 (ipykernel)",
   "language": "python",
   "name": "python3"
  },
  "language_info": {
   "codemirror_mode": {
    "name": "ipython",
    "version": 3
   },
   "file_extension": ".py",
   "mimetype": "text/x-python",
   "name": "python",
   "nbconvert_exporter": "python",
   "pygments_lexer": "ipython3",
   "version": "3.9.7"
  }
 },
 "nbformat": 4,
 "nbformat_minor": 5
}
