{
 "cells": [
  {
   "cell_type": "code",
   "execution_count": 5,
   "id": "f8ed5caf",
   "metadata": {},
   "outputs": [],
   "source": [
    "import cv2 as cv\n",
    "import numpy as np"
   ]
  },
  {
   "cell_type": "markdown",
   "id": "e0ad82d6",
   "metadata": {},
   "source": [
    "### Video original"
   ]
  },
  {
   "cell_type": "code",
   "execution_count": 13,
   "id": "0c930082",
   "metadata": {},
   "outputs": [],
   "source": [
    "filename = 'vtest.avi'\n",
    "#filename = \"slow_traffic_small.mp4\"\n",
    "capture = cv.VideoCapture(filename)\n",
    "\n",
    "if not capture.isOpened:\n",
    "    print('Falla al abrir el archivo: ' + filename)\n",
    "    exit(0)\n",
    "\n",
    "while True:\n",
    "\n",
    "    ret, frame = capture.read()  \n",
    "    if frame is None:\n",
    "        break\n",
    "  \n",
    "    cv.imshow('Frame', frame)\n",
    "    if cv.waitKey(10) & 0xFF == ord('q'):\n",
    "        break\n",
    "    \n",
    "cv.destroyAllWindows()\n",
    "capture.release()"
   ]
  },
  {
   "cell_type": "markdown",
   "id": "356ad874",
   "metadata": {},
   "source": [
    "### Video con extracción de fondo (mediana)"
   ]
  },
  {
   "cell_type": "code",
   "execution_count": 14,
   "id": "f6b46c6c",
   "metadata": {},
   "outputs": [],
   "source": [
    "filename = 'vtest.avi'\n",
    "#filename = \"slow_traffic_small.mp4\"\n",
    "capture = cv.VideoCapture(filename)\n",
    "\n",
    "if not capture.isOpened:\n",
    "    print('Falla al abrir el archivo: ' + filename)\n",
    "    exit(0)\n",
    "\n",
    "t = 5\n",
    "#size_median = 75\n",
    "size_median = 15\n",
    "count = 0\n",
    "aux = 1\n",
    "frames = []\n",
    "#t_update = t * int(capture.get(cv.CAP_PROP_FPS))\n",
    "t_update = t * 10\n",
    "\n",
    "while True:\n",
    "\n",
    "    ret, frame = capture.read()\n",
    "    frames.append(frame)\n",
    "    \n",
    "    if frame is None:\n",
    "        break\n",
    "    \n",
    "    \n",
    "    if (count % t_update) == 0 and (count > 1):\n",
    "        #frameIds = np.random.randint((aux - 1) * t_update, aux * t_update, size = size_median)\n",
    "        frameIds = np.random.randint(count, size = size_median)\n",
    "        frames_aux = []\n",
    "        for fid in frameIds:\n",
    "            frames_aux.append(frames[fid])\n",
    "        medianFrame = np.median(frames_aux, axis=0).astype(dtype=np.uint8)\n",
    "        grayMedianFrame = cv.cvtColor(medianFrame, cv.COLOR_BGR2GRAY)\n",
    "        aux = aux + 1\n",
    "\n",
    "    if aux > 1:\n",
    "        frame = cv.cvtColor(frame, cv.COLOR_BGR2GRAY)\n",
    "        dframe = cv.absdiff(frame, grayMedianFrame)\n",
    "        th, dframe = cv.threshold(dframe, 50, 255, cv.THRESH_BINARY)\n",
    "        cv.imshow('Frame', dframe)\n",
    "\n",
    "    # Corresmos hasta que termine o apriete q\n",
    "    if cv.waitKey(10) & 0xFF == ord('q'):\n",
    "        break\n",
    "       \n",
    "    count = count + 1\n",
    "\n",
    "cv.destroyAllWindows()\n",
    "capture.release()"
   ]
  },
  {
   "cell_type": "code",
   "execution_count": null,
   "id": "df96e1e0",
   "metadata": {},
   "outputs": [],
   "source": []
  },
  {
   "cell_type": "code",
   "execution_count": null,
   "id": "5a956ead",
   "metadata": {},
   "outputs": [],
   "source": []
  }
 ],
 "metadata": {
  "kernelspec": {
   "display_name": "Python 3 (ipykernel)",
   "language": "python",
   "name": "python3"
  },
  "language_info": {
   "codemirror_mode": {
    "name": "ipython",
    "version": 3
   },
   "file_extension": ".py",
   "mimetype": "text/x-python",
   "name": "python",
   "nbconvert_exporter": "python",
   "pygments_lexer": "ipython3",
   "version": "3.9.7"
  }
 },
 "nbformat": 4,
 "nbformat_minor": 5
}
