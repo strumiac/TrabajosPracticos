{
 "cells": [
  {
   "cell_type": "code",
   "execution_count": 2,
   "id": "8083bd33",
   "metadata": {},
   "outputs": [],
   "source": [
    "# cargo las librerías necesarias\n",
    "\n",
    "import numpy as np\n",
    "import cv2 as cv\n",
    "import time\n",
    "#from playsound import playsound"
   ]
  },
  {
   "cell_type": "code",
   "execution_count": 3,
   "id": "e1c312c5",
   "metadata": {},
   "outputs": [],
   "source": [
    "# cargo los detectores preentenados para caras de frente y para ojos\n",
    "\n",
    "face_cascade = cv.CascadeClassifier('haarcascade_frontalface_alt.xml')\n",
    "eye_cascade = cv.CascadeClassifier('haarcascade_eye.xml')"
   ]
  },
  {
   "cell_type": "code",
   "execution_count": 13,
   "id": "33adcc54",
   "metadata": {},
   "outputs": [],
   "source": [
    "out = cv.VideoWriter('output.avi',cv.VideoWriter_fourcc(*'XVID'),20.0,(640,480)) \n",
    "cap = cv.VideoCapture(0)\n",
    "\n",
    "aux = 0\n",
    "ret, frame = cap.read()\n",
    "\n",
    "\n",
    "while ret:\n",
    "    \n",
    "    out.write(frame)\n",
    "    ret, frame = cap.read()\n",
    "    grayImage = cv.cvtColor(frame, cv.COLOR_BGR2GRAY)\n",
    "    grayImage = cv.equalizeHist(grayImage)\n",
    "    cara = face_cascade.detectMultiScale(grayImage, 1.1, 4 ,minSize=(120,120))\n",
    "    \n",
    "    if len(cara) > 0:\n",
    "        \n",
    "        for (x,y,w,h) in cara:\n",
    "            frame = cv.rectangle(frame,(x,y), (x+w,y+h), (255,255,0), 3)\n",
    "            # ROI de la cara\n",
    "            roi_cara = grayImage[y:y+h, x:x+w]\n",
    "            roi_cara_color = frame[y:y+h, x:x+w]\n",
    "            ojos = eye_cascade.detectMultiScale(roi_cara,1.05,4,minSize=(25,25),maxSize=(50,50))\n",
    "            \n",
    "            if len(ojos) > 2:\n",
    "                ojos = np.zeros((2,4))\n",
    "            \n",
    "            else:\n",
    "                for (ex,ey,ew,eh) in ojos:\n",
    "                    ex = ex + x\n",
    "                    ey = ey + y\n",
    "                    cv.rectangle(frame, (ex, ey), (ex + ew, ey + eh), (255,0,255), 2)\n",
    "            \n",
    "            if len(ojos) == 2:\n",
    "                cv.putText(frame, \"Ojos abiertos\", (20,60), cv.FONT_ITALIC, 1, (0,255,0), 2)\n",
    "                aux = 1\n",
    "            \n",
    "            if len(ojos) == 0:\n",
    "                cv.putText(frame, \"Ojos cerrados\", (20,80), cv.FONT_ITALIC, 1, (0,0,255), 2)\n",
    "                if aux == 1:\n",
    "                    t0 = time.time()\n",
    "                    aux = 0\n",
    "                    \n",
    "                if (aux == 0) & (time.time() - t0 > 3):\n",
    "                    cv.putText(frame, \"Durmiendo\", (20,100),cv.FONT_ITALIC, 1,(255,0,0),2)\n",
    "                    #playsound('beep-06.wav')\n",
    "                                   \n",
    "    else:\n",
    "        cv.putText(frame,\"No hay cara\",(20,40),cv.FONT_ITALIC, 1,(255,0,0),2)\n",
    " \n",
    "    #Control de teclado\n",
    "    cv.imshow('Captura',frame)\n",
    "    a = cv.waitKey(1)\n",
    "    if(a==ord('s')):\n",
    "        break\n",
    "    elif(a==ord('c') and loop_1):\n",
    "    #Inicio la detección\n",
    "        loop_1 = False\n",
    "\n",
    "cap.release()\n",
    "out.release()\n",
    "cv.destroyAllWindows()"
   ]
  },
  {
   "cell_type": "code",
   "execution_count": null,
   "id": "638fb43d",
   "metadata": {},
   "outputs": [],
   "source": []
  },
  {
   "cell_type": "code",
   "execution_count": null,
   "id": "f6aee2de",
   "metadata": {},
   "outputs": [],
   "source": []
  }
 ],
 "metadata": {
  "kernelspec": {
   "display_name": "Python 3 (ipykernel)",
   "language": "python",
   "name": "python3"
  },
  "language_info": {
   "codemirror_mode": {
    "name": "ipython",
    "version": 3
   },
   "file_extension": ".py",
   "mimetype": "text/x-python",
   "name": "python",
   "nbconvert_exporter": "python",
   "pygments_lexer": "ipython3",
   "version": "3.9.7"
  }
 },
 "nbformat": 4,
 "nbformat_minor": 5
}
