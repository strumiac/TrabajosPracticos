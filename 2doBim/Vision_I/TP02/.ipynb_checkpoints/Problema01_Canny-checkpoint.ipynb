{
 "cells": [
  {
   "cell_type": "code",
   "execution_count": 1,
   "id": "78c76567",
   "metadata": {},
   "outputs": [],
   "source": [
    "#%matplotlib inline\n",
    "#%matplotlib\n",
    "\n",
    "import numpy as np\n",
    "import cv2 as cv\n",
    "import matplotlib.pyplot as plt"
   ]
  },
  {
   "cell_type": "code",
   "execution_count": 2,
   "id": "dc83e2be",
   "metadata": {},
   "outputs": [],
   "source": [
    "img = cv.imread('metalgrid.jpg')\n",
    "gray = cv.cvtColor(img, cv.COLOR_BGR2GRAY)\n",
    "\n",
    "#Sobelx\n",
    "blur = cv.GaussianBlur(gray,(5,5),0)\n",
    "sobelx_64 = cv.Sobel(blur,cv.CV_32F,1,0,ksize=3)\n",
    "absx_64 = np.absolute(sobelx_64)\n",
    "sobelx_8u1 = absx_64/absx_64.max()*255\n",
    "sobelx_8u = np.uint8(sobelx_8u1)\n",
    "\n",
    "#Sobely\n",
    "sobely_64 = cv.Sobel(blur,cv.CV_32F,0,1,ksize=3)\n",
    "absy_64 = np.absolute(sobely_64)\n",
    "sobely_8u1 = absy_64/absy_64.max()*255\n",
    "sobely_8u = np.uint8(sobely_8u1)\n",
    "\n",
    "#Magnitud\n",
    "mag = np.hypot(sobelx_8u, sobely_8u)\n",
    "mag = mag/mag.max()*255\n",
    "mag = np.uint8(mag)\n",
    "\n",
    "#Dirección\n",
    "theta = np.arctan2(sobely_64, sobelx_64)\n",
    "angle = np.rad2deg(theta)\n",
    "\n",
    "#Imagen magnitud\n",
    "cv.imshow(\"Magnitud\",mag)\n",
    "cv.waitKey(0)\n",
    "cv.destroyAllWindows()\n",
    "\n",
    "#Imagen angula\n",
    "cv.imshow(\"Angulo\",angle)\n",
    "cv.waitKey(0)\n",
    "cv.destroyAllWindows()"
   ]
  },
  {
   "cell_type": "code",
   "execution_count": 3,
   "id": "73cb5b75",
   "metadata": {},
   "outputs": [],
   "source": [
    "#x = np.argwhere(( (mag >= 201) & (mag <= 207) ) & ((angle >= -2) & (angle <= 2)))\n",
    "####x=np.argwhere((angle > -2) & (angle < 2))\n",
    "x = np.argwhere((mag >= 221) & (mag <= 225))"
   ]
  },
  {
   "cell_type": "code",
   "execution_count": 4,
   "id": "d00d9f4f",
   "metadata": {},
   "outputs": [],
   "source": [
    "for i in x:\n",
    "    cv.circle(img,(i[1],i[0]),1,(0,0,255),1)\n",
    "    #cv.line(img, (i[1],i[0]), (i[1],i[0]), (0,0,255), 1);\n",
    "\n",
    "cv.imshow('detected circles',img)\n",
    "cv.waitKey(0)\n",
    "cv.destroyAllWindows()"
   ]
  },
  {
   "cell_type": "code",
   "execution_count": null,
   "id": "124a4b87",
   "metadata": {},
   "outputs": [],
   "source": []
  }
 ],
 "metadata": {
  "kernelspec": {
   "display_name": "Python 3 (ipykernel)",
   "language": "python",
   "name": "python3"
  },
  "language_info": {
   "codemirror_mode": {
    "name": "ipython",
    "version": 3
   },
   "file_extension": ".py",
   "mimetype": "text/x-python",
   "name": "python",
   "nbconvert_exporter": "python",
   "pygments_lexer": "ipython3",
   "version": "3.9.7"
  }
 },
 "nbformat": 4,
 "nbformat_minor": 5
}
