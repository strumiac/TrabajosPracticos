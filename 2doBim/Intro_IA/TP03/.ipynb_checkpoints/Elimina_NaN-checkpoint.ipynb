{
 "cells": [
  {
   "cell_type": "code",
   "execution_count": 33,
   "id": "00ece1aa",
   "metadata": {},
   "outputs": [],
   "source": [
    "import numpy as np\n"
   ]
  },
  {
   "cell_type": "code",
   "execution_count": 34,
   "id": "718f10e5",
   "metadata": {},
   "outputs": [],
   "source": [
    "def drop_col_nan(X):\n",
    "    idx = np.argwhere(np.isnan(X))\n",
    "    return np.delete(X, idx[:,1], axis = 1)\n",
    "\n",
    "def drop_fil_nan(X):\n",
    "    idx = np.argwhere(np.isnan(X))\n",
    "    return np.delete(X, idx[:,0], axis = 0)"
   ]
  },
  {
   "cell_type": "code",
   "execution_count": 35,
   "id": "6d0b639e",
   "metadata": {},
   "outputs": [
    {
     "name": "stdout",
     "output_type": "stream",
     "text": [
      "Matriz de prueba:\n",
      " [[ 1.  2.  3.  0.]\n",
      " [ 4.  5.  6.  1.]\n",
      " [nan  7.  8.  2.]\n",
      " [ 9. 10. nan  3.]\n",
      " [11. 12. 13.  4.]]\n"
     ]
    }
   ],
   "source": [
    "X = np.array([[1,2,3,0],[4,5,6,1],[np.nan,7,8,2],[9,10,np.nan,3],[11,12,13,4]])\n",
    "print ('Matriz de prueba:\\n',X)"
   ]
  },
  {
   "cell_type": "code",
   "execution_count": 36,
   "id": "ab3dd92b",
   "metadata": {},
   "outputs": [
    {
     "name": "stdout",
     "output_type": "stream",
     "text": [
      "La matriz resultante luego de eliminar las columnas NaN es:\n",
      " [[ 2.  0.]\n",
      " [ 5.  1.]\n",
      " [ 7.  2.]\n",
      " [10.  3.]\n",
      " [12.  4.]]\n",
      "La matriz resultante luego de eliminar las filas NaN es:\n",
      " [[ 1.  2.  3.  0.]\n",
      " [ 4.  5.  6.  1.]\n",
      " [11. 12. 13.  4.]]\n"
     ]
    }
   ],
   "source": [
    "print('La matriz resultante luego de eliminar las columnas NaN es:\\n', drop_col_nan(X))\n",
    "print('La matriz resultante luego de eliminar las filas NaN es:\\n', drop_fil_nan(X))"
   ]
  },
  {
   "cell_type": "code",
   "execution_count": 37,
   "id": "8cb15cfd",
   "metadata": {},
   "outputs": [],
   "source": [
    "def z_score(X):\n",
    "    X_media = np.nanmean(X, axis = 0)\n",
    "    X_std = np.nanstd(X, axis = 0)\n",
    "    return (X - X_media)/X_std"
   ]
  },
  {
   "cell_type": "code",
   "execution_count": 38,
   "id": "ca05ea50",
   "metadata": {},
   "outputs": [
    {
     "data": {
      "text/plain": [
       "array([[-1.32550825, -1.46726488, -1.23624508, -1.41421356],\n",
       "       [-0.56807496, -0.62076591, -0.41208169, -0.70710678],\n",
       "       [        nan, -0.05643326,  0.13736056,  0.        ],\n",
       "       [ 0.69431384,  0.79006571,         nan,  0.70710678],\n",
       "       [ 1.19926937,  1.35439836,  1.5109662 ,  1.41421356]])"
      ]
     },
     "execution_count": 38,
     "metadata": {},
     "output_type": "execute_result"
    }
   ],
   "source": [
    "Z = z_score(X)\n",
    "Z"
   ]
  },
  {
   "cell_type": "code",
   "execution_count": 41,
   "id": "f952c03e",
   "metadata": {},
   "outputs": [],
   "source": [
    "def replace_nan_mean(X):\n",
    "    X_media = np.nanmean(X, axis = 0)\n",
    "    X_mask = X_media * (np.isnan(X).astype(int))\n",
    "    X_nan = np.where(np.isnan(X), 0, X) #reemplazo Nan por 0\n",
    "    return X_nan + X_mask"
   ]
  },
  {
   "cell_type": "code",
   "execution_count": 42,
   "id": "254732f6",
   "metadata": {},
   "outputs": [
    {
     "data": {
      "text/plain": [
       "array([[ 1.  ,  2.  ,  3.  ,  0.  ],\n",
       "       [ 4.  ,  5.  ,  6.  ,  1.  ],\n",
       "       [ 6.25,  7.  ,  8.  ,  2.  ],\n",
       "       [ 9.  , 10.  ,  7.5 ,  3.  ],\n",
       "       [11.  , 12.  , 13.  ,  4.  ]])"
      ]
     },
     "execution_count": 42,
     "metadata": {},
     "output_type": "execute_result"
    }
   ],
   "source": [
    "replace_nan_mean(X)"
   ]
  },
  {
   "cell_type": "code",
   "execution_count": null,
   "id": "c10f6631",
   "metadata": {},
   "outputs": [],
   "source": []
  }
 ],
 "metadata": {
  "kernelspec": {
   "display_name": "Python 3 (ipykernel)",
   "language": "python",
   "name": "python3"
  },
  "language_info": {
   "codemirror_mode": {
    "name": "ipython",
    "version": 3
   },
   "file_extension": ".py",
   "mimetype": "text/x-python",
   "name": "python",
   "nbconvert_exporter": "python",
   "pygments_lexer": "ipython3",
   "version": "3.9.7"
  }
 },
 "nbformat": 4,
 "nbformat_minor": 5
}
