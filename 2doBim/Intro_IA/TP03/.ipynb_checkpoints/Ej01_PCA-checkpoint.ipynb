{
 "cells": [
  {
   "cell_type": "code",
   "execution_count": 1,
   "id": "76275481",
   "metadata": {},
   "outputs": [
    {
     "name": "stdout",
     "output_type": "stream",
     "text": [
      "Proyeccion a la 1er componente (a mano):\n",
      " [[-0.53150729]\n",
      " [ 0.53150729]]\n",
      "Proyección a la 1er componente (scikit learn):\n",
      " [[-0.53150729]\n",
      " [ 0.53150729]]\n"
     ]
    }
   ],
   "source": [
    "import numpy as np\n",
    "from sklearn.decomposition import PCA\n",
    "\n",
    "X = np.array([[0.8,0.7],[0.1,-0.1]]) # R^(d x n)\n",
    "\n",
    "def pca_a_mano(X, n_comp = 1):\n",
    "    d = X.shape[0]\n",
    "    X_centered = X - np.mean(X, axis = 0)\n",
    "    S = np.cov(X_centered.T)\n",
    "    eigvalue, eigvector = np.linalg.eig(S)\n",
    "    idx = eigvalue.argsort()[::-1]\n",
    "    eigvalue = eigvalue[idx]\n",
    "    eigvector = eigvector[:,idx]\n",
    "    z = X_centered.dot(eigvector[:, :n_comp])\n",
    "    return z\n",
    "\n",
    "z_pca = pca_a_mano(X)\n",
    "print('Proyeccion a la 1er componente (a mano):\\n', z_pca)\n",
    "\n",
    "pca = PCA(n_components = 1)\n",
    "pca.fit(X)\n",
    "z_skl=pca.transform(X)\n",
    "print('Proyección a la 1er componente (scikit learn):\\n', z_skl)\n",
    "\n",
    "np.testing.assert_allclose(z_pca, z_skl)"
   ]
  },
  {
   "cell_type": "code",
   "execution_count": null,
   "id": "d87cdb05",
   "metadata": {},
   "outputs": [],
   "source": []
  }
 ],
 "metadata": {
  "kernelspec": {
   "display_name": "Python 3 (ipykernel)",
   "language": "python",
   "name": "python3"
  },
  "language_info": {
   "codemirror_mode": {
    "name": "ipython",
    "version": 3
   },
   "file_extension": ".py",
   "mimetype": "text/x-python",
   "name": "python",
   "nbconvert_exporter": "python",
   "pygments_lexer": "ipython3",
   "version": "3.9.7"
  }
 },
 "nbformat": 4,
 "nbformat_minor": 5
}
