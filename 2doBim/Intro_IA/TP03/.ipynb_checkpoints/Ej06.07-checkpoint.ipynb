{
 "cells": [
  {
   "cell_type": "code",
   "execution_count": 6,
   "id": "7b549a33",
   "metadata": {},
   "outputs": [],
   "source": [
    "import numpy as np\n",
    "\n",
    "X = np.array([[1,2,3],[4,5,6],[7,8,9]])\n",
    "C = np.array([[1,0,0],[0,1,1]])"
   ]
  },
  {
   "cell_type": "code",
   "execution_count": 7,
   "id": "ae4f504d",
   "metadata": {},
   "outputs": [],
   "source": [
    "C_broad=np.reshape(np.repeat(C, X.shape[0], axis = 0), (C.shape[0],X.shape[0],X.shape[1]))"
   ]
  },
  {
   "cell_type": "code",
   "execution_count": 8,
   "id": "104d6f9b",
   "metadata": {},
   "outputs": [],
   "source": [
    "dist_a_centroide = np.sqrt(np.sum((X-C_broad)**2, axis = 2)) #, keepdims = True)"
   ]
  },
  {
   "cell_type": "code",
   "execution_count": 9,
   "id": "a7229294",
   "metadata": {},
   "outputs": [
    {
     "data": {
      "text/plain": [
       "array([[ 3.60555128,  8.36660027, 13.45362405],\n",
       "       [ 2.44948974,  7.54983444, 12.72792206]])"
      ]
     },
     "execution_count": 9,
     "metadata": {},
     "output_type": "execute_result"
    }
   ],
   "source": [
    "dist_a_centroide"
   ]
  },
  {
   "cell_type": "code",
   "execution_count": 10,
   "id": "dfa99166",
   "metadata": {},
   "outputs": [
    {
     "data": {
      "text/plain": [
       "array([1, 1, 1])"
      ]
     },
     "execution_count": 10,
     "metadata": {},
     "output_type": "execute_result"
    }
   ],
   "source": [
    "np.argmin(dist_a_centroide, axis = 0)"
   ]
  },
  {
   "cell_type": "code",
   "execution_count": null,
   "id": "53d81798",
   "metadata": {},
   "outputs": [],
   "source": []
  }
 ],
 "metadata": {
  "kernelspec": {
   "display_name": "Python 3 (ipykernel)",
   "language": "python",
   "name": "python3"
  },
  "language_info": {
   "codemirror_mode": {
    "name": "ipython",
    "version": 3
   },
   "file_extension": ".py",
   "mimetype": "text/x-python",
   "name": "python",
   "nbconvert_exporter": "python",
   "pygments_lexer": "ipython3",
   "version": "3.9.7"
  }
 },
 "nbformat": 4,
 "nbformat_minor": 5
}
