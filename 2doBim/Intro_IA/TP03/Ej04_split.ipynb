{
 "cells": [
  {
   "cell_type": "code",
   "execution_count": 1,
   "id": "84dccaef",
   "metadata": {},
   "outputs": [],
   "source": [
    "import numpy as np"
   ]
  },
  {
   "cell_type": "code",
   "execution_count": 2,
   "id": "22d2a1f7",
   "metadata": {},
   "outputs": [],
   "source": [
    "def split(X, y, porc_test = 0.1, porc_val = 0.2):  \n",
    "    idx = np.random.permutation(X.shape[0])  \n",
    "    X_train = X[0:int((1 - (porc_test + porc_val)) * X.shape[0])]\n",
    "    y_train = y[0:int((1 - (porc_test + porc_val)) * X.shape[0])]\n",
    "    X_test  = X[int((1 - (porc_test + porc_val)) * X.shape[0]):int((1 - porc_val) * X.shape[0])]\n",
    "    y_test  = y[int((1 - (porc_test + porc_val)) * X.shape[0]):int((1 - porc_val) * X.shape[0])]\n",
    "    X_val  = X[int((1 - porc_val) * X.shape[0]):X.shape[0]]\n",
    "    y_val  = y[int((1 - porc_val) * X.shape[0]):X.shape[0]]\n",
    "    \n",
    "    return X_train, X_test, X_val, y_train, y_test, y_val"
   ]
  },
  {
   "cell_type": "code",
   "execution_count": 6,
   "id": "8c24ede9",
   "metadata": {},
   "outputs": [],
   "source": [
    "X = np.random.rand(20,4)\n",
    "y = np.random.rand(20,1)\n",
    "\n",
    "X_train, X_test, X_val, y_train, y_test, y_val = split(X,y)"
   ]
  },
  {
   "cell_type": "code",
   "execution_count": 11,
   "id": "14c67df7",
   "metadata": {},
   "outputs": [
    {
     "name": "stdout",
     "output_type": "stream",
     "text": [
      "X train shape (14, 4) \n",
      "X test shape (2, 4) \n",
      "X valid shape (4, 4)\n",
      "y train shape (14, 1) \n",
      "y test shape (2, 1) \n",
      "y valid shape (4, 1)\n"
     ]
    }
   ],
   "source": [
    "print ('X train shape', X_train.shape, '\\nX test shape', X_test.shape, '\\nX valid shape', X_val.shape)\n",
    "print ('y train shape', y_train.shape, '\\ny test shape', y_test.shape, '\\ny valid shape', y_val.shape)"
   ]
  },
  {
   "cell_type": "code",
   "execution_count": null,
   "id": "680650ed",
   "metadata": {},
   "outputs": [],
   "source": []
  }
 ],
 "metadata": {
  "kernelspec": {
   "display_name": "Python 3 (ipykernel)",
   "language": "python",
   "name": "python3"
  },
  "language_info": {
   "codemirror_mode": {
    "name": "ipython",
    "version": 3
   },
   "file_extension": ".py",
   "mimetype": "text/x-python",
   "name": "python",
   "nbconvert_exporter": "python",
   "pygments_lexer": "ipython3",
   "version": "3.9.7"
  }
 },
 "nbformat": 4,
 "nbformat_minor": 5
}
