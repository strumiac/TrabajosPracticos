{
 "cells": [
  {
   "cell_type": "markdown",
   "id": "8a7804b6",
   "metadata": {},
   "source": [
    "#### Cargo las librerías necesarias "
   ]
  },
  {
   "cell_type": "code",
   "execution_count": 20,
   "id": "8fd100b5",
   "metadata": {},
   "outputs": [],
   "source": [
    "import numpy as np\n",
    "from sklearn.decomposition import PCA\n",
    "from sklearn.experimental import enable_iterative_imputer\n",
    "from sklearn.impute import SimpleImputer\n",
    "from sklearn.impute import IterativeImputer\n",
    "from sklearn.linear_model import LinearRegression"
   ]
  },
  {
   "cell_type": "markdown",
   "id": "9731a377",
   "metadata": {},
   "source": [
    "#### Clase data para cargas el .csv "
   ]
  },
  {
   "cell_type": "code",
   "execution_count": 30,
   "id": "44083702",
   "metadata": {},
   "outputs": [],
   "source": [
    "class Data(object):\n",
    "\n",
    "    def __init__(self, path):\n",
    "        self.dataset = self.build_dataset(path)\n",
    "\n",
    "    @staticmethod\n",
    "    def build_dataset(path):\n",
    "        \n",
    "        structure = [('x1', float),('x2', float),('x3', float),('x4', float),\n",
    "                     ('x5', float),('x6', float),('y', float)]\n",
    "        \n",
    "        with open(path, encoding=\"utf8\") as data_csv:\n",
    "            data_gen = ( ( float(line.split(';')[0]), float(line.split(';')[1]), float(line.split(';')[2]), \n",
    "                           float(line.split(';')[3]), float(line.split(';')[4]), float(line.split(';')[5]), \n",
    "                           float(line.split(';')[6]) ) for i, line in enumerate(data_csv) )\n",
    "            data = np.fromiter(data_gen, structure)\n",
    "\n",
    "        return data\n",
    "\n",
    "    def split(self, porc):\n",
    "        X = np.column_stack((self.dataset['x1'],self.dataset['x2'],self.dataset['x3'],\n",
    "                             self.dataset['x4'],self.dataset['x5'],self.dataset['x6']))\n",
    "        y = self.dataset['y']\n",
    "        \n",
    "        idx = np.random.permutation(X.shape[0])\n",
    "        \n",
    "        X_train = X[0:int(porc * X.shape[0])]\n",
    "        y_train = y[0:int(porc * X.shape[0])]\n",
    "        X_test  = X[int(porc * X.shape[0]):X.shape[0]]\n",
    "        y_test  = y[int(porc * X.shape[0]):X.shape[0]]\n",
    "\n",
    "        return X_train, X_test, y_train, y_test\n",
    "\n",
    "class Imp_NaN(object):\n",
    "\n",
    "    def __init__(self, X):\n",
    "        self.X = X\n",
    "        \n",
    "    def nan_mice(self):\n",
    "        imp = IterativeImputer(estimator = LinearRegression(), missing_values = np.nan, max_iter = 10, random_state = 0)\n",
    "        return imp.fit_transform(self.X)\n",
    "    \n",
    "    def nan_mean(self):\n",
    "        imp = SimpleImputer(missing_values = np.nan, strategy = 'mean')\n",
    "        return imp.fit_transform(self.X)\n",
    "\n",
    "class pca_a_mano(object):\n",
    "    \n",
    "    def __init__(self, X, n_comp = 3):\n",
    "        self.X = X\n",
    "        self.components = n_comp\n",
    "    \n",
    "    def pca(self):\n",
    "        #d = self.X.T.shape[0]\n",
    "        X_centered = self.X - np.mean(self.X, axis = 0)\n",
    "        S = np.cov(X_centered.T)\n",
    "        eigvalue, eigvector = np.linalg.eig(S)\n",
    "        idx = eigvalue.argsort()[::-1]\n",
    "        eigvalue = eigvalue[idx]\n",
    "        eigvector = eigvector[:,idx]\n",
    "        z = X_centered.dot(eigvector[:, :self.components])\n",
    "        #return eigvector[:, :self.components]\n",
    "        return z"
   ]
  },
  {
   "cell_type": "code",
   "execution_count": 142,
   "id": "55c009d0",
   "metadata": {},
   "outputs": [],
   "source": [
    "class BaseModel(object):\n",
    "\n",
    "    def __init__(self):\n",
    "        self.model = None\n",
    "\n",
    "    def fit(self, X, Y):\n",
    "        return NotImplemented\n",
    "\n",
    "    def predict(self, X):\n",
    "        return NotImplemented\n",
    "\n",
    "class RegLineal(BaseModel):\n",
    "\n",
    "    def fit(self, X, y):\n",
    "        #X_expanded = np.vstack((X, np.ones(len(X)))).T\n",
    "        X_expanded = np.hstack((X, np.ones((len(X),1))))\n",
    "        W = np.linalg.inv(X_expanded.T.dot(X_expanded)).dot(X_expanded.T).dot(y)\n",
    "        self.model = W\n",
    "\n",
    "    def predict(self, X):\n",
    "        #X_expanded = np.vstack((X, np.ones(len(X)))).T\n",
    "        X_expanded = np.hstack((X, np.ones((len(X),1))))\n",
    "        return X_expanded.dot(self.model)"
   ]
  },
  {
   "cell_type": "code",
   "execution_count": 59,
   "id": "a101161d",
   "metadata": {},
   "outputs": [],
   "source": [
    "class Metric(object):\n",
    "    def __call__(self, target, prediction):\n",
    "        return NotImplemented\n",
    "\n",
    "\n",
    "class MSE(Metric):\n",
    "    def __init__(self):\n",
    "        Metric.__init__(self)\n",
    "\n",
    "    def __call__(self, target, prediction):\n",
    "        n = target.size\n",
    "        return np.sum((target - prediction) ** 2) / n"
   ]
  },
  {
   "cell_type": "markdown",
   "id": "d2e07d76",
   "metadata": {},
   "source": [
    "#### Cargo el archivo \"clase3v2.csv\""
   ]
  },
  {
   "cell_type": "code",
   "execution_count": 4,
   "id": "b23035cb",
   "metadata": {},
   "outputs": [],
   "source": [
    "path = 'clase3v2.csv'\n",
    "dataset = Data(path)"
   ]
  },
  {
   "cell_type": "markdown",
   "id": "8dc53ede",
   "metadata": {},
   "source": [
    "#### PCA\n",
    "\n",
    "Separo el dataset en train y test (80% y 20%, respectivamente). Imputo los NaN con dos técnicas, MICE y mean. Aplico PCA. "
   ]
  },
  {
   "cell_type": "code",
   "execution_count": 6,
   "id": "03bd90f9",
   "metadata": {},
   "outputs": [],
   "source": [
    "X_train, X_test, y_train, y_test = dataset.split(0.8)"
   ]
  },
  {
   "cell_type": "code",
   "execution_count": 7,
   "id": "cdba1b68",
   "metadata": {},
   "outputs": [
    {
     "data": {
      "text/plain": [
       "(80, 6)"
      ]
     },
     "execution_count": 7,
     "metadata": {},
     "output_type": "execute_result"
    }
   ],
   "source": [
    "X_train.shape\n",
    "X_train_mice=Imp_NaN(X_train).nan_mice()\n",
    "X_train_mice.shape"
   ]
  },
  {
   "cell_type": "code",
   "execution_count": 8,
   "id": "cf51001f",
   "metadata": {},
   "outputs": [
    {
     "data": {
      "text/plain": [
       "(80, 6)"
      ]
     },
     "execution_count": 8,
     "metadata": {},
     "output_type": "execute_result"
    }
   ],
   "source": [
    "X_train_mean=Imp_NaN(X_train).nan_mean()\n",
    "X_train_mean.shape"
   ]
  },
  {
   "cell_type": "code",
   "execution_count": 38,
   "id": "70642691",
   "metadata": {},
   "outputs": [
    {
     "name": "stdout",
     "output_type": "stream",
     "text": [
      "PCA mice (80, 3)\n",
      "PCA mean (80, 3)\n"
     ]
    }
   ],
   "source": [
    "pca_mice = pca_a_mano(X_train_mice).pca()\n",
    "pca_mean = pca_a_mano(X_train_mean).pca()\n",
    "\n",
    "print (\"PCA mice {}\".format(pca_mice.shape))\n",
    "print (\"PCA mean {}\".format(pca_mean.shape))"
   ]
  },
  {
   "cell_type": "code",
   "execution_count": 55,
   "id": "dd562682",
   "metadata": {},
   "outputs": [],
   "source": [
    "#Chequeo contra Scikit learn (por ejemplo, para el X_train imputado por media)\n",
    "\n",
    "X_train_mean_centered = X_train_mean - np.mean(X_train_mean, axis = 0)\n",
    "\n",
    "pca = PCA(n_components = 3)\n",
    "pca.fit(X_train_mean_centered)\n",
    "pca_mean_skl=pca.transform(X_train_mean_centered)\n",
    "\n",
    "\n",
    "np.testing.assert_allclose(pca_mean, pca_mean_skl)"
   ]
  },
  {
   "cell_type": "markdown",
   "id": "9602b365",
   "metadata": {},
   "source": [
    "#### Entreno con regresión lineal"
   ]
  },
  {
   "cell_type": "code",
   "execution_count": 160,
   "id": "3a501dc3",
   "metadata": {},
   "outputs": [],
   "source": [
    "reg_lineal = RegLineal()\n",
    "\n",
    "#Predicción para mice\n",
    "reg_lineal.fit(X_train_mice, y_train)\n",
    "mice_predict = reg_lineal.predict(X_test)\n",
    "#Predicción para mice\n",
    "reg_lineal.fit(X_train_mean, y_train)\n",
    "mean_predict = reg_lineal.predict(X_test)"
   ]
  },
  {
   "cell_type": "code",
   "execution_count": 161,
   "id": "a76453c2",
   "metadata": {},
   "outputs": [],
   "source": [
    "#metrica = Metric(y_test, mice_predict)\n",
    "#metrica = MSE()"
   ]
  },
  {
   "cell_type": "code",
   "execution_count": 162,
   "id": "cbeffb6b",
   "metadata": {},
   "outputs": [
    {
     "data": {
      "text/plain": [
       "116.73927033714362"
      ]
     },
     "execution_count": 162,
     "metadata": {},
     "output_type": "execute_result"
    }
   ],
   "source": [
    "mse_mice = np.sum((y_test - mice_predict) ** 2) / y_test.size\n",
    "mse_mice"
   ]
  },
  {
   "cell_type": "code",
   "execution_count": 163,
   "id": "9faab3e2",
   "metadata": {},
   "outputs": [
    {
     "data": {
      "text/plain": [
       "112.90701331922223"
      ]
     },
     "execution_count": 163,
     "metadata": {},
     "output_type": "execute_result"
    }
   ],
   "source": [
    "mse_mean = np.sum((y_test - mean_predict) ** 2) / y_test.size\n",
    "mse_mean"
   ]
  },
  {
   "cell_type": "code",
   "execution_count": null,
   "id": "61e02cfb",
   "metadata": {},
   "outputs": [],
   "source": []
  }
 ],
 "metadata": {
  "kernelspec": {
   "display_name": "Python 3 (ipykernel)",
   "language": "python",
   "name": "python3"
  },
  "language_info": {
   "codemirror_mode": {
    "name": "ipython",
    "version": 3
   },
   "file_extension": ".py",
   "mimetype": "text/x-python",
   "name": "python",
   "nbconvert_exporter": "python",
   "pygments_lexer": "ipython3",
   "version": "3.9.7"
  }
 },
 "nbformat": 4,
 "nbformat_minor": 5
}
