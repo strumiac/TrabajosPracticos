{
 "cells": [
  {
   "cell_type": "markdown",
   "id": "17775cc0",
   "metadata": {},
   "source": [
    "#### Importo biblioteca numpy y agrego algunos vectores para verificar resultados"
   ]
  },
  {
   "cell_type": "code",
   "execution_count": 6,
   "id": "65b42b21",
   "metadata": {},
   "outputs": [],
   "source": [
    "import numpy as np\n",
    "\n",
    "truth =      np.array([1,1,0,1,1,1,0,0,0,1]) \n",
    "prediction = np.array([1,1,1,1,0,0,1,1,0,0])"
   ]
  },
  {
   "cell_type": "markdown",
   "id": "67efdc29",
   "metadata": {},
   "source": [
    "#### Copia la clase Metrica del Ejercicio 04"
   ]
  },
  {
   "cell_type": "code",
   "execution_count": 5,
   "id": "1139895d",
   "metadata": {},
   "outputs": [],
   "source": [
    "class BaseMetrica(object):\n",
    "    def __init__(self, **kwargs):\n",
    "        self.param = kwargs\n",
    "\n",
    "class Precision(BaseMetrica):\n",
    "    def __init__(self, **kwargs):\n",
    "        BaseMetrica.__init__(self, **kwargs)\n",
    "        \n",
    "    def __call__(self):\n",
    "        predic = self.param[\"prediction\"]\n",
    "        truth = self.param[\"truth\"]\n",
    "        tp_mask = (predic == 1) & (truth == 1)\n",
    "        tp = tp_mask.sum()\n",
    "        fp_mask = (predic == 1) & (truth == 0)\n",
    "        fp = fp_mask.sum()\n",
    "        return tp/(tp+fp)\n",
    "\n",
    "\n",
    "class Recall(BaseMetrica):\n",
    "    \n",
    "    def __init__(self, **kwargs):\n",
    "        BaseMetrica.__init__(self, **kwargs)\n",
    "        \n",
    "    def __call__(self):\n",
    "        predic = self.param[\"prediction\"]\n",
    "        truth = self.param[\"truth\"]\n",
    "        tp_mask = (predic == 1) & (truth == 1)\n",
    "        tp = tp_mask.sum()\n",
    "        fn_mask = (predic == 0) & (truth == 1)\n",
    "        fn = fn_mask.sum()\n",
    "        return tp/(tp+fn)\n",
    "\n",
    "\n",
    "class Accuracy(BaseMetrica):\n",
    "    \n",
    "    def __init__(self, **kwargs):\n",
    "        BaseMetrica.__init__(self, **kwargs)\n",
    "        \n",
    "    def __call__(self):\n",
    "        predic = self.param[\"prediction\"]\n",
    "        truth = self.param[\"truth\"]\n",
    "        tp_mask = (predic == 1) & (truth == 1)\n",
    "        tp = tp_mask.sum()\n",
    "        tn_mask = (predic == 0) & (truth == 0)\n",
    "        tn = tn_mask.sum()\n",
    "        fp_mask = (predic == 1) & (truth == 0)\n",
    "        fp = fp_mask.sum()        \n",
    "        fn_mask = (predic == 0) & (truth == 1)\n",
    "        fn = fn_mask.sum()\n",
    "        return (tp+tn)/(tp+tn+fp+fn)"
   ]
  },
  {
   "cell_type": "markdown",
   "id": "70f7336b",
   "metadata": {},
   "source": [
    "#### Script para calcular las métricas mediante un \"for\""
   ]
  },
  {
   "cell_type": "code",
   "execution_count": 19,
   "id": "66361253",
   "metadata": {},
   "outputs": [],
   "source": [
    "class forMetrica(BaseMetrica):\n",
    "    def __init__(self, **kwargs):\n",
    "        self.datos = kwargs #almaceno los vectores que paso cuando instancio la clase\n",
    "        self.metrica = {} # inicializo un dict vacio\n",
    "\n",
    "    def metricas(self):\n",
    "        opcion = [Precision, Recall, Accuracy]\n",
    "        for i in opcion:\n",
    "            auxiliar = i(**self.datos)\n",
    "            self.metrica[i.__name__] = auxiliar()\n",
    "        return self.metrica"
   ]
  },
  {
   "cell_type": "code",
   "execution_count": 23,
   "id": "ecded9be",
   "metadata": {},
   "outputs": [
    {
     "data": {
      "text/plain": [
       "{'Precision': 0.5, 'Recall': 0.5, 'Accuracy': 0.4}"
      ]
     },
     "execution_count": 23,
     "metadata": {},
     "output_type": "execute_result"
    }
   ],
   "source": [
    "forMetrica(prediction = prediction, truth = truth).metricas()"
   ]
  },
  {
   "cell_type": "code",
   "execution_count": null,
   "id": "b7e39ebb",
   "metadata": {},
   "outputs": [],
   "source": []
  }
 ],
 "metadata": {
  "kernelspec": {
   "display_name": "Python 3 (ipykernel)",
   "language": "python",
   "name": "python3"
  },
  "language_info": {
   "codemirror_mode": {
    "name": "ipython",
    "version": 3
   },
   "file_extension": ".py",
   "mimetype": "text/x-python",
   "name": "python",
   "nbconvert_exporter": "python",
   "pygments_lexer": "ipython3",
   "version": "3.9.7"
  }
 },
 "nbformat": 4,
 "nbformat_minor": 5
}
