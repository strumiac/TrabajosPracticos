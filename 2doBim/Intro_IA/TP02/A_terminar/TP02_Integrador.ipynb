{
 "cells": [
  {
   "cell_type": "code",
   "execution_count": 146,
   "id": "44083702",
   "metadata": {},
   "outputs": [],
   "source": [
    "import numpy as np\n",
    "from sklearn.experimental import enable_iterative_imputer\n",
    "from sklearn.impute import SimpleImputer\n",
    "from sklearn.impute import IterativeImputer\n",
    "from sklearn.linear_model import LinearRegression\n",
    "\n",
    "\n",
    "\n",
    "class Data(object):\n",
    "\n",
    "    def __init__(self, path):\n",
    "        self.dataset = self.build_dataset(path)\n",
    "\n",
    "    @staticmethod\n",
    "    def build_dataset(path):\n",
    "        \n",
    "        structure = [('x1', float),('x2', float),('x3', float),('x4', float),\n",
    "                     ('x5', float),('x6', float),('y', float)]\n",
    "        \n",
    "        with open(path, encoding=\"utf8\") as data_csv:\n",
    "            data_gen = ( ( float(line.split(';')[0]), float(line.split(';')[1]), float(line.split(';')[2]), \n",
    "                           float(line.split(';')[3]), float(line.split(';')[4]), float(line.split(';')[5]), \n",
    "                           float(line.split(';')[6]) ) for i, line in enumerate(data_csv) )\n",
    "            data = np.fromiter(data_gen, structure)\n",
    "\n",
    "        return data\n",
    "\n",
    "    def split(self, porc):\n",
    "        X = np.column_stack((self.dataset['x1'],self.dataset['x2'],self.dataset['x3'],\n",
    "                             self.dataset['x4'],self.dataset['x5'],self.dataset['x6']))\n",
    "        y = self.dataset['y']\n",
    "        \n",
    "        idx = np.random.permutation(X.shape[0])\n",
    "        \n",
    "        X_train = X[0:int(porc * X.shape[0])]\n",
    "        y_train = y[0:int(porc * X.shape[0])]\n",
    "        X_test  = X[int(porc * X.shape[0]):X.shape[0]]\n",
    "        y_test  = y[int(porc * X.shape[0]):X.shape[0]]\n",
    "\n",
    "        return X_train, X_test, y_train, y_test\n",
    "\n",
    "class Imp_NaN(object):\n",
    "\n",
    "    def __init__(self, X):\n",
    "        self.X = X\n",
    "        \n",
    "    def nan_mice(self):\n",
    "        imp = IterativeImputer(estimator = LinearRegression(), missing_values = np.nan, max_iter = 10, random_state = 0)\n",
    "        return imp.fit_transform(self.X)\n",
    "    \n",
    "    def nan_mean(self):\n",
    "        imp = SimpleImputer(missing_values = np.nan, strategy = 'mean')\n",
    "        return imp.fit_transform(self.X)\n",
    "\n",
    "class pca_a_mano(object):\n",
    "    \n",
    "    def __init__(self, X, n_comp = 3):\n",
    "        self.X = X\n",
    "        self.components = n_comp\n",
    "    \n",
    "    def pca(self):\n",
    "        #d = self.X.T.shape[0]\n",
    "        X_centered = self.X- np.mean(self.X, axis = 0)\n",
    "        S = np.cov(X_centered.T)\n",
    "        eigvalue, eigvector = np.linalg.eig(S)\n",
    "        idx = eigvalue.argsort()[::-1]\n",
    "        eigvalue = eigvalue[idx]\n",
    "        eigvector = eigvector[:,idx]\n",
    "        #z = X_centered.dot(eigvector[:, :n_comp])\n",
    "        return eigvector[:, :self.components]\n",
    "\n",
    "#z_pca = pca_a_mano(X)\n",
    "#print('Proyeccion a la 1er componente (a mano):\\n', z_pca)"
   ]
  },
  {
   "cell_type": "code",
   "execution_count": 147,
   "id": "b23035cb",
   "metadata": {},
   "outputs": [],
   "source": [
    "path = 'clase3v2.csv'\n",
    "\n",
    "dataset = Data(path)"
   ]
  },
  {
   "cell_type": "code",
   "execution_count": 148,
   "id": "03bd90f9",
   "metadata": {},
   "outputs": [],
   "source": [
    "X_train, X_test, y_train, y_test = dataset.split(0.8)"
   ]
  },
  {
   "cell_type": "code",
   "execution_count": 149,
   "id": "cdba1b68",
   "metadata": {},
   "outputs": [
    {
     "data": {
      "text/plain": [
       "(80, 6)"
      ]
     },
     "execution_count": 149,
     "metadata": {},
     "output_type": "execute_result"
    }
   ],
   "source": [
    "X_train.shape\n",
    "X_train_mice=Imp_NaN(X_train).nan_mice()\n",
    "X_train_mice.shape"
   ]
  },
  {
   "cell_type": "code",
   "execution_count": 150,
   "id": "ba489c2d",
   "metadata": {},
   "outputs": [],
   "source": [
    "X_train_mean=Imp_NaN(X_train).nan_mean()"
   ]
  },
  {
   "cell_type": "code",
   "execution_count": 151,
   "id": "ba7d5ff7",
   "metadata": {},
   "outputs": [
    {
     "data": {
      "text/plain": [
       "(80, 6)"
      ]
     },
     "execution_count": 151,
     "metadata": {},
     "output_type": "execute_result"
    }
   ],
   "source": [
    "X_train_mean.shape"
   ]
  },
  {
   "cell_type": "code",
   "execution_count": 152,
   "id": "47ccff2e",
   "metadata": {},
   "outputs": [
    {
     "data": {
      "text/plain": [
       "(6, 3)"
      ]
     },
     "execution_count": 152,
     "metadata": {},
     "output_type": "execute_result"
    }
   ],
   "source": [
    "pca_a_mano(X_train_mean).pca().shape"
   ]
  },
  {
   "cell_type": "code",
   "execution_count": null,
   "id": "46289106",
   "metadata": {},
   "outputs": [],
   "source": []
  }
 ],
 "metadata": {
  "kernelspec": {
   "display_name": "Python 3 (ipykernel)",
   "language": "python",
   "name": "python3"
  },
  "language_info": {
   "codemirror_mode": {
    "name": "ipython",
    "version": 3
   },
   "file_extension": ".py",
   "mimetype": "text/x-python",
   "name": "python",
   "nbconvert_exporter": "python",
   "pygments_lexer": "ipython3",
   "version": "3.9.7"
  }
 },
 "nbformat": 4,
 "nbformat_minor": 5
}
