{
 "cells": [
  {
   "cell_type": "code",
   "execution_count": null,
   "id": "65b42b21",
   "metadata": {},
   "outputs": [],
   "source": [
    "import numpy as np\n",
    "\n",
    "truth =      np.array([1,1,0,1,1,1,0,0,0,1]) == 1 \n",
    "prediction = np.array([1,1,1,1,0,0,1,1,0,0]) == 1\n",
    "notruth = np.logical_not(truth)\n",
    "noprediction = np.logical_not(prediction)\n",
    "\n",
    "TP = np.sum(truth & prediction)\n",
    "TN = np.sum(notruth & noprediction)\n",
    "FP = np.sum(notruth & prediction)\n",
    "FN = np.sum(truth & noprediction)\n",
    "\n",
    "Precision = TP / (TP + FP)\n",
    "Recall = TP / (TP + FN)\n",
    "Accuracy = (TP + TN) / (TP + TN + FP + FN)\n",
    "\n",
    "print ('Las métricas son:\\nPrecisión =', Precision,'\\nRecall =', Recall,'\\nAccuracy =', Accuracy)"
   ]
  }
 ],
 "metadata": {
  "kernelspec": {
   "display_name": "Python 3 (ipykernel)",
   "language": "python",
   "name": "python3"
  },
  "language_info": {
   "codemirror_mode": {
    "name": "ipython",
    "version": 3
   },
   "file_extension": ".py",
   "mimetype": "text/x-python",
   "name": "python",
   "nbconvert_exporter": "python",
   "pygments_lexer": "ipython3",
   "version": "3.9.7"
  }
 },
 "nbformat": 4,
 "nbformat_minor": 5
}
