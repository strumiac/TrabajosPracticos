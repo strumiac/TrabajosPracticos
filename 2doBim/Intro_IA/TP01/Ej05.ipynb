{
 "cells": [
  {
   "cell_type": "code",
   "execution_count": 2,
   "id": "b0fc2c4a",
   "metadata": {},
   "outputs": [
    {
     "name": "stdout",
     "output_type": "stream",
     "text": [
      "La query id 1 tiene una precisión 0.5\n",
      "La query id 2 tiene una precisión 1.0\n",
      "La query id 3 tiene una precisión 0.0\n",
      "La query id 4 tiene una precisión 0.5\n",
      "La precisión promedio es 0.5\n"
     ]
    }
   ],
   "source": [
    "import numpy as np\n",
    "\n",
    "T=1\n",
    "F=0\n",
    "\n",
    "q_id           = np.array([1,1,1,1,2,2,2,3,3,3,3,3,4,4,4,4])\n",
    "predicted_rank = np.array([0,1,2,3,0,1,2,0,1,2,3,4,0,1,2,3])\n",
    "truth_relevance= np.array([T,F,T,F,T,T,T,F,F,F,F,F,T,F,F,T]) == 1\n",
    "\n",
    "\n",
    "q_id_num, q_id_cant= np.unique(q_id, return_counts = True)\n",
    "qp = np.zeros(len(q_id_num))\n",
    "\n",
    "for i, num, cant in zip(np.arange(len(q_id_num)), q_id_num, q_id_cant):\n",
    "    qp[i]= (np.sum((q_id == num) & (truth_relevance)))/cant\n",
    "    print ('La query id',num,'tiene una precisión', qp[i])\n",
    "\n",
    "print ('La precisión promedio es', np.mean(qp))"
   ]
  },
  {
   "cell_type": "code",
   "execution_count": null,
   "id": "0d4d2106",
   "metadata": {},
   "outputs": [],
   "source": []
  }
 ],
 "metadata": {
  "kernelspec": {
   "display_name": "Python 3 (ipykernel)",
   "language": "python",
   "name": "python3"
  },
  "language_info": {
   "codemirror_mode": {
    "name": "ipython",
    "version": 3
   },
   "file_extension": ".py",
   "mimetype": "text/x-python",
   "name": "python",
   "nbconvert_exporter": "python",
   "pygments_lexer": "ipython3",
   "version": "3.9.7"
  }
 },
 "nbformat": 4,
 "nbformat_minor": 5
}
