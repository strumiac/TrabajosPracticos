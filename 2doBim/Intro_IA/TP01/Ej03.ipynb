{
 "cells": [
  {
   "cell_type": "code",
   "execution_count": 65,
   "id": "02be9448",
   "metadata": {},
   "outputs": [],
   "source": [
    "import numpy as np\n",
    "\n",
    "class UsersID(object):\n",
    "\n",
    "  def __init__(self, users_id):\n",
    "    unique_id, unique_idx = np.unique(users_id, return_index=True)\n",
    "    \n",
    "    id2idx = -1*np.ones(unique_id.max() + 1, dtype = np.int64)\n",
    "    idx2id = -1*np.ones(unique_id.max() + 1, dtype = np.int64)\n",
    "    #idx2id = [unique_idx] = np.arange(unique_id.size)\n",
    "    id2idx[unique_id] = unique_idx\n",
    "    self.id2idx = id2idx\n",
    "    idx2id[unique_idx] = unique_id\n",
    "    self.idx2id = idx2id\n",
    "\n",
    "  def get_idx (self, u_id):\n",
    "    idx = self.id2idx[u_id]\n",
    "    return idx\n",
    "\n",
    "  def get_id (self, u_idx):\n",
    "    return self.idx2id[u_idx]\n",
    "\n",
    "\n",
    "users_id  = np.array([15,12,14,10,1,2,1])\n",
    "#users_idx = np.array([ 0, 1, 2, 3,4,5,4])\n",
    "usuario=UsersID(users_id)"
   ]
  },
  {
   "cell_type": "code",
   "execution_count": 70,
   "id": "dba9544b",
   "metadata": {},
   "outputs": [
    {
     "data": {
      "text/plain": [
       "3"
      ]
     },
     "execution_count": 70,
     "metadata": {},
     "output_type": "execute_result"
    }
   ],
   "source": [
    "#usuario.get_id(6)\n",
    "usuario.get_idx(10)\n",
    "\n"
   ]
  },
  {
   "cell_type": "code",
   "execution_count": null,
   "id": "f67f2dff",
   "metadata": {},
   "outputs": [],
   "source": []
  }
 ],
 "metadata": {
  "kernelspec": {
   "display_name": "Python 3 (ipykernel)",
   "language": "python",
   "name": "python3"
  },
  "language_info": {
   "codemirror_mode": {
    "name": "ipython",
    "version": 3
   },
   "file_extension": ".py",
   "mimetype": "text/x-python",
   "name": "python",
   "nbconvert_exporter": "python",
   "pygments_lexer": "ipython3",
   "version": "3.9.7"
  }
 },
 "nbformat": 4,
 "nbformat_minor": 5
}
