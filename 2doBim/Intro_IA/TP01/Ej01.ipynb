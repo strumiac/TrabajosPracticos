{
 "cells": [
  {
   "cell_type": "code",
   "execution_count": 4,
   "id": "ed27a66a",
   "metadata": {},
   "outputs": [
    {
     "name": "stdout",
     "output_type": "stream",
     "text": [
      "La norma L0 de a es:\n",
      " [2 1]\n",
      "La norma L1 de a es:\n",
      " [4 4]\n",
      "La norma L2 de a es:\n",
      " [3.16227766 4.        ]\n",
      "La norma Linf de a es:\n",
      " [3 4]\n"
     ]
    }
   ],
   "source": [
    "import numpy as np\n",
    "\n",
    "def norma_0(matriz):\n",
    "    norma = np.count_nonzero(matriz, axis = 1)\n",
    "    return norma\n",
    "\n",
    "def norma_1(matriz):\n",
    "    norma = np.sum(np.abs(matriz), axis = 1)\n",
    "    return norma\n",
    "\n",
    "def norma_2(matriz):\n",
    "    norma = np.sqrt(np.sum(np.power(matriz, 2), axis = 1))\n",
    "    return norma\n",
    "\n",
    "def norma_inf(matriz):\n",
    "    norma = np.max(np.abs(matriz), axis = 1)\n",
    "    return norma\n",
    "\n",
    "a = np.array([[1,3],[0,-4]])\n",
    "\n",
    "print('La norma L0 de a es:\\n',norma_0(a))\n",
    "print('La norma L1 de a es:\\n',norma_1(a))\n",
    "print('La norma L2 de a es:\\n',norma_2(a))\n",
    "print('La norma Linf de a es:\\n',norma_inf(a))"
   ]
  },
  {
   "cell_type": "code",
   "execution_count": 6,
   "id": "107d25dc",
   "metadata": {},
   "outputs": [
    {
     "data": {
      "text/plain": [
       "array([0, 1], dtype=int64)"
      ]
     },
     "execution_count": 6,
     "metadata": {},
     "output_type": "execute_result"
    }
   ],
   "source": [
    "np.argsort(norma_2(a))"
   ]
  },
  {
   "cell_type": "code",
   "execution_count": null,
   "id": "68c7a28f",
   "metadata": {},
   "outputs": [],
   "source": []
  }
 ],
 "metadata": {
  "kernelspec": {
   "display_name": "Python 3 (ipykernel)",
   "language": "python",
   "name": "python3"
  },
  "language_info": {
   "codemirror_mode": {
    "name": "ipython",
    "version": 3
   },
   "file_extension": ".py",
   "mimetype": "text/x-python",
   "name": "python",
   "nbconvert_exporter": "python",
   "pygments_lexer": "ipython3",
   "version": "3.9.7"
  }
 },
 "nbformat": 4,
 "nbformat_minor": 5
}
