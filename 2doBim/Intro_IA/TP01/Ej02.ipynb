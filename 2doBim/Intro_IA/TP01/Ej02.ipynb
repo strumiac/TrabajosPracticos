{
 "cells": [
  {
   "cell_type": "code",
   "execution_count": 7,
   "id": "cddfef5d",
   "metadata": {},
   "outputs": [
    {
     "name": "stdout",
     "output_type": "stream",
     "text": [
      "La matriz original es:\n",
      " [[ 0 -4]\n",
      " [ 1  3]\n",
      " [ 4 -5]]\n",
      "La matriz original ordenada según L2 es:\n",
      " [[ 4 -5]\n",
      " [ 0 -4]\n",
      " [ 1  3]]\n"
     ]
    }
   ],
   "source": [
    "import numpy as np\n",
    "#from clase_1.ejercicios.src.norm import vector_norm_l2\n",
    "#from intro_ia.Ej01 import norma_2\n",
    "\n",
    "def norma_2(matriz):\n",
    "    norma = np.sqrt(np.sum(np.power(matriz, 2), axis = 1))\n",
    "    return norma\n",
    "\n",
    "def sort_by_norma_2(matriz):\n",
    "    norma_l2 = norma_2(matriz)\n",
    "    arg_sort = np.argsort(norma_l2)[::-1]\n",
    "#    ind = norma[::-1]\n",
    "    return matriz[arg_sort,:]\n",
    "\n",
    "# matriz\n",
    "a = np.array([[0,-4],[1,3],[4,-5]])\n",
    "\n",
    "print('La matriz original es:\\n',a)\n",
    "print('La matriz original ordenada según L2 es:\\n',sort_by_norma_2(a))"
   ]
  },
  {
   "cell_type": "code",
   "execution_count": null,
   "id": "b887dfc7",
   "metadata": {},
   "outputs": [],
   "source": []
  }
 ],
 "metadata": {
  "kernelspec": {
   "display_name": "Python 3 (ipykernel)",
   "language": "python",
   "name": "python3"
  },
  "language_info": {
   "codemirror_mode": {
    "name": "ipython",
    "version": 3
   },
   "file_extension": ".py",
   "mimetype": "text/x-python",
   "name": "python",
   "nbconvert_exporter": "python",
   "pygments_lexer": "ipython3",
   "version": "3.9.7"
  }
 },
 "nbformat": 4,
 "nbformat_minor": 5
}
