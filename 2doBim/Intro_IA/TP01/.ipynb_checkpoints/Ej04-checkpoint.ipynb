{
 "cells": [
  {
   "cell_type": "code",
   "execution_count": 73,
   "id": "3aa406ba",
   "metadata": {},
   "outputs": [],
   "source": [
    "import numpy as np\n",
    "\n",
    "class BaseMetrica(object):\n",
    "    def __init__(self, **kwargs):\n",
    "        self.param = kwargs\n",
    "\n",
    "class Precision(BaseMetrica):\n",
    "    def __init__(self, **kwargs):\n",
    "        BaseMetrica.__init__(self, **kwargs)\n",
    "        \n",
    "    def __call__(self):\n",
    "        predic = self.param[\"prediction\"]\n",
    "        truth = self.param[\"truth\"]\n",
    "        tp_mask = (predic == 1) & (truth == 1)\n",
    "        tp = tp_mask.sum()\n",
    "        fp_mask = (predic == 1) & (truth == 0)\n",
    "        fp = fp_mask.sum()\n",
    "        return tp/(tp+fp)\n",
    "\n",
    "\n",
    "class Recall(BaseMetrica):\n",
    "    \n",
    "    def __init__(self, **kwargs):\n",
    "        BaseMetrica.__init__(self, **kwargs)\n",
    "        \n",
    "    def __call__(self):\n",
    "        predic = self.param[\"prediction\"]\n",
    "        truth = self.param[\"truth\"]\n",
    "        tp_mask = (predic == 1) & (truth == 1)\n",
    "        tp = tp_mask.sum()\n",
    "        fn_mask = (predic == 0) & (truth == 1)\n",
    "        fn = fn_mask.sum()\n",
    "        return tp/(tp+fn)\n",
    "\n",
    "\n",
    "class Accuracy(BaseMetrica):\n",
    "    \n",
    "    def __init__(self, **kwargs):\n",
    "        BaseMetrica.__init__(self, **kwargs)\n",
    "        \n",
    "    def __call__(self):\n",
    "        predic = self.param[\"prediction\"]\n",
    "        truth = self.param[\"truth\"]\n",
    "        tp_mask = (predic == 1) & (truth == 1)\n",
    "        tp = tp_mask.sum()\n",
    "        tn_mask = (predic == 0) & (truth == 0)\n",
    "        tn = tn_mask.sum()\n",
    "        fp_mask = (predic == 1) & (truth == 0)\n",
    "        fp = fp_mask.sum()        \n",
    "        fn_mask = (predic == 0) & (truth == 1)\n",
    "        fn = fn_mask.sum()\n",
    "        return (tp+tn)/(tp+tn+fp+fn)\n",
    "    \n",
    "    \n",
    "truth = np.array([1,1,0,1,1,1,0,0,0,1]) \n",
    "prediction = np.array([1,1,1,1,0,0,1,1,0,0])"
   ]
  },
  {
   "cell_type": "code",
   "execution_count": 74,
   "id": "086f3d53",
   "metadata": {},
   "outputs": [
    {
     "name": "stdout",
     "output_type": "stream",
     "text": [
      "Las métricas son:\n",
      "Precisión = 0.5 \n",
      "Recall = 0.5 \n",
      "Accuracy = 0.4\n"
     ]
    }
   ],
   "source": [
    "print ('Las métricas son:\\nPrecisión =', Precision(truth = truth, prediction = prediction)()\n",
    "                          ,'\\nRecall =', Recall(truth = truth, prediction = prediction)()\n",
    "                          ,'\\nAccuracy =', Accuracy(truth = truth, prediction = prediction)())"
   ]
  },
  {
   "cell_type": "code",
   "execution_count": null,
   "id": "7070702a",
   "metadata": {},
   "outputs": [],
   "source": []
  }
 ],
 "metadata": {
  "kernelspec": {
   "display_name": "Python 3 (ipykernel)",
   "language": "python",
   "name": "python3"
  },
  "language_info": {
   "codemirror_mode": {
    "name": "ipython",
    "version": 3
   },
   "file_extension": ".py",
   "mimetype": "text/x-python",
   "name": "python",
   "nbconvert_exporter": "python",
   "pygments_lexer": "ipython3",
   "version": "3.9.7"
  }
 },
 "nbformat": 4,
 "nbformat_minor": 5
}
