{
  "nbformat": 4,
  "nbformat_minor": 0,
  "metadata": {
    "colab": {
      "name": "Practico_AM1_Strumia.ipynb",
      "provenance": [],
      "collapsed_sections": []
    },
    "kernelspec": {
      "name": "python3",
      "display_name": "Python 3"
    },
    "language_info": {
      "name": "python"
    }
  },
  "cells": [
    {
      "cell_type": "markdown",
      "source": [
        "## Trabajo práctico N° 1\n",
        "\n",
        "Una plataforma de ventas online nos contrata para que realicemos un modelo que nos permita detectar un posible fraude dada cierta operación para ello contamos con un dataset que contiene las siguientes columnas:\n",
        "* Step: representa una unidad de tiempo donde 1 step equivale a 1 hora\n",
        "* type: tipo de transacción en línea\n",
        "* amount: el importe de la transacción\n",
        "* nameOrig: cliente que inicia la transacción\n",
        "* oldbalanceOrg: saldo antes de la transacción\n",
        "* newbalanceOrig: saldo después de la transacción\n",
        "* nameDest: destinatario de la transacción\n",
        "* oldbalanceDest: saldo inicial del destinatario antes de la transacción\n",
        "* newbalanceDest: el nuevo saldo del destinatario después de la transacción\n",
        "* isFraud: transacción fraudulenta\n",
        "\n",
        "Utilizando los modelos de clasificación vistos hasta el momento  generar un notebook que permita de ser posible resolver el problema que nos está planteando el cliente.\n",
        "\n",
        "\n",
        "https://www.kaggle.com/datasets/rupakroy/online-payments-fraud-detection-dataset"
      ],
      "metadata": {
        "id": "vd9EguQc0apB"
      }
    },
    {
      "cell_type": "markdown",
      "source": [
        "### Descarga del dataset\n",
        "\n",
        "Desde el link de arriba se descarga el .zip que contiene al dataset y se lo descomprime para comenzar a trabajar."
      ],
      "metadata": {
        "id": "eGZuCPB81yxz"
      }
    },
    {
      "cell_type": "code",
      "execution_count": 1,
      "metadata": {
        "colab": {
          "resources": {
            "http://localhost:8080/nbextensions/google.colab/files.js": {
              "data": "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",
              "ok": true,
              "headers": [
                [
                  "content-type",
                  "application/javascript"
                ]
              ],
              "status": 200,
              "status_text": "OK"
            }
          },
          "base_uri": "https://localhost:8080/",
          "height": 90
        },
        "id": "90J6vOfvaVLv",
        "outputId": "a827a776-aefd-4150-94b9-60292bf1bf5c"
      },
      "outputs": [
        {
          "output_type": "display_data",
          "data": {
            "text/plain": [
              "<IPython.core.display.HTML object>"
            ],
            "text/html": [
              "\n",
              "     <input type=\"file\" id=\"files-60fb2a70-79f3-4092-b31d-655ae024c2ce\" name=\"files[]\" multiple disabled\n",
              "        style=\"border:none\" />\n",
              "     <output id=\"result-60fb2a70-79f3-4092-b31d-655ae024c2ce\">\n",
              "      Upload widget is only available when the cell has been executed in the\n",
              "      current browser session. Please rerun this cell to enable.\n",
              "      </output>\n",
              "      <script src=\"/nbextensions/google.colab/files.js\"></script> "
            ]
          },
          "metadata": {}
        },
        {
          "output_type": "stream",
          "name": "stdout",
          "text": [
            "Saving kaggle.json to kaggle.json\n"
          ]
        },
        {
          "output_type": "execute_result",
          "data": {
            "text/plain": [
              "{'kaggle.json': b'{\"username\":\"carlosstrumia\",\"key\":\"695c611073be593638f529e915b857dc\"}'}"
            ]
          },
          "metadata": {},
          "execution_count": 1
        }
      ],
      "source": [
        "!pip install -U -q kaggle\n",
        "!mkdir -p ~/.kaggle\n",
        "from google.colab import files\n",
        "files.upload()"
      ]
    },
    {
      "cell_type": "code",
      "source": [
        "!cp kaggle.json ~/.kaggle/"
      ],
      "metadata": {
        "id": "26_SQsmfbpXz"
      },
      "execution_count": 2,
      "outputs": []
    },
    {
      "cell_type": "code",
      "source": [
        "!kaggle datasets download -d rupakroy/online-payments-fraud-detection-dataset"
      ],
      "metadata": {
        "colab": {
          "base_uri": "https://localhost:8080/"
        },
        "id": "HEYfDgT1dGjL",
        "outputId": "db664b67-d59c-4c4d-ce98-88a172af0228"
      },
      "execution_count": 3,
      "outputs": [
        {
          "output_type": "stream",
          "name": "stdout",
          "text": [
            "Warning: Your Kaggle API key is readable by other users on this system! To fix this, you can run 'chmod 600 /root/.kaggle/kaggle.json'\n",
            "Downloading online-payments-fraud-detection-dataset.zip to /content\n",
            " 97% 172M/178M [00:01<00:00, 85.5MB/s]\n",
            "100% 178M/178M [00:02<00:00, 92.5MB/s]\n"
          ]
        }
      ]
    },
    {
      "cell_type": "markdown",
      "source": [
        "Se extrae el archivo .zip que contiene el dataset."
      ],
      "metadata": {
        "id": "hDqivx0ffWXk"
      }
    },
    {
      "cell_type": "code",
      "source": [
        "from zipfile import ZipFile\n",
        "\n",
        "file_name=\"/content/online-payments-fraud-detection-dataset.zip\"\n",
        "\n",
        "with ZipFile(file_name,'r') as zip:\n",
        "  zip.extractall()\n",
        "  print(\"Hecho\")"
      ],
      "metadata": {
        "colab": {
          "base_uri": "https://localhost:8080/"
        },
        "id": "zhgoEqpydWab",
        "outputId": "2f5babde-c6e6-4cf5-944e-36e34f3f434f"
      },
      "execution_count": 4,
      "outputs": [
        {
          "output_type": "stream",
          "name": "stdout",
          "text": [
            "Hecho\n"
          ]
        }
      ]
    },
    {
      "cell_type": "markdown",
      "source": [
        "### Librerías de Python\n",
        "\n",
        "Se importan las librerías necesarias para trabajar con el dataset."
      ],
      "metadata": {
        "id": "JTPIFTJtfL-c"
      }
    },
    {
      "cell_type": "code",
      "source": [
        "import numpy as np\n",
        "import pandas as pd\n",
        "import seaborn as sns\n",
        "import matplotlib.pyplot as plt\n",
        "\n",
        "# Pipelines\n",
        "from sklearn.pipeline import Pipeline\n",
        "from sklearn.compose import ColumnTransformer\n",
        "\n",
        "# Partición de train-test set\n",
        "from sklearn.model_selection import train_test_split\n",
        "\n",
        "# Imputación y codificación\n",
        "#from sklearn.impute import SimpleImputer\n",
        "from sklearn.preprocessing import MinMaxScaler, StandardScaler, OneHotEncoder\n",
        "\n",
        "# Entrenamiento de modelos de prueba\n",
        "from sklearn import tree\n",
        "from sklearn.linear_model import LinearRegression\n",
        "from sklearn.linear_model import LogisticRegression\n",
        "from sklearn.ensemble import AdaBoostClassifier\n",
        "from sklearn.ensemble import RandomForestClassifier\n",
        "from sklearn.ensemble import GradientBoostingClassifier\n",
        "from sklearn.neighbors import KNeighborsClassifier\n",
        "from sklearn.svm import SVC, LinearSVC\n",
        "\n",
        "# Evaluación de modelos de prueba\n",
        "import sklearn.metrics as metrics\n",
        "from sklearn.metrics import confusion_matrix, classification_report\n",
        "\n",
        "# Desbalance de clases\n",
        "from imblearn.under_sampling import RandomUnderSampler\n",
        "from imblearn.over_sampling import RandomOverSampler"
      ],
      "metadata": {
        "id": "Wc-TqwbOd-tT"
      },
      "execution_count": 5,
      "outputs": []
    },
    {
      "cell_type": "markdown",
      "source": [
        "### Análisis exploratorio de datos\n",
        "\n",
        "Se carga el dataset a la variable dataframe **df** y se previsualiza el encabezado."
      ],
      "metadata": {
        "id": "6R5Y1VoEK3He"
      }
    },
    {
      "cell_type": "code",
      "source": [
        "df = pd.read_csv('PS_20174392719_1491204439457_log.csv')\n",
        "df.head()"
      ],
      "metadata": {
        "colab": {
          "base_uri": "https://localhost:8080/",
          "height": 206
        },
        "id": "3ZM6Y4Vrd36z",
        "outputId": "50ea8bbf-4223-4ce7-e536-ac14012584bc"
      },
      "execution_count": 6,
      "outputs": [
        {
          "output_type": "execute_result",
          "data": {
            "text/plain": [
              "   step      type    amount     nameOrig  oldbalanceOrg  newbalanceOrig  \\\n",
              "0     1   PAYMENT   9839.64  C1231006815       170136.0       160296.36   \n",
              "1     1   PAYMENT   1864.28  C1666544295        21249.0        19384.72   \n",
              "2     1  TRANSFER    181.00  C1305486145          181.0            0.00   \n",
              "3     1  CASH_OUT    181.00   C840083671          181.0            0.00   \n",
              "4     1   PAYMENT  11668.14  C2048537720        41554.0        29885.86   \n",
              "\n",
              "      nameDest  oldbalanceDest  newbalanceDest  isFraud  isFlaggedFraud  \n",
              "0  M1979787155             0.0             0.0        0               0  \n",
              "1  M2044282225             0.0             0.0        0               0  \n",
              "2   C553264065             0.0             0.0        1               0  \n",
              "3    C38997010         21182.0             0.0        1               0  \n",
              "4  M1230701703             0.0             0.0        0               0  "
            ],
            "text/html": [
              "\n",
              "  <div id=\"df-7f82a9f0-c8ad-435b-b902-79991df20c65\">\n",
              "    <div class=\"colab-df-container\">\n",
              "      <div>\n",
              "<style scoped>\n",
              "    .dataframe tbody tr th:only-of-type {\n",
              "        vertical-align: middle;\n",
              "    }\n",
              "\n",
              "    .dataframe tbody tr th {\n",
              "        vertical-align: top;\n",
              "    }\n",
              "\n",
              "    .dataframe thead th {\n",
              "        text-align: right;\n",
              "    }\n",
              "</style>\n",
              "<table border=\"1\" class=\"dataframe\">\n",
              "  <thead>\n",
              "    <tr style=\"text-align: right;\">\n",
              "      <th></th>\n",
              "      <th>step</th>\n",
              "      <th>type</th>\n",
              "      <th>amount</th>\n",
              "      <th>nameOrig</th>\n",
              "      <th>oldbalanceOrg</th>\n",
              "      <th>newbalanceOrig</th>\n",
              "      <th>nameDest</th>\n",
              "      <th>oldbalanceDest</th>\n",
              "      <th>newbalanceDest</th>\n",
              "      <th>isFraud</th>\n",
              "      <th>isFlaggedFraud</th>\n",
              "    </tr>\n",
              "  </thead>\n",
              "  <tbody>\n",
              "    <tr>\n",
              "      <th>0</th>\n",
              "      <td>1</td>\n",
              "      <td>PAYMENT</td>\n",
              "      <td>9839.64</td>\n",
              "      <td>C1231006815</td>\n",
              "      <td>170136.0</td>\n",
              "      <td>160296.36</td>\n",
              "      <td>M1979787155</td>\n",
              "      <td>0.0</td>\n",
              "      <td>0.0</td>\n",
              "      <td>0</td>\n",
              "      <td>0</td>\n",
              "    </tr>\n",
              "    <tr>\n",
              "      <th>1</th>\n",
              "      <td>1</td>\n",
              "      <td>PAYMENT</td>\n",
              "      <td>1864.28</td>\n",
              "      <td>C1666544295</td>\n",
              "      <td>21249.0</td>\n",
              "      <td>19384.72</td>\n",
              "      <td>M2044282225</td>\n",
              "      <td>0.0</td>\n",
              "      <td>0.0</td>\n",
              "      <td>0</td>\n",
              "      <td>0</td>\n",
              "    </tr>\n",
              "    <tr>\n",
              "      <th>2</th>\n",
              "      <td>1</td>\n",
              "      <td>TRANSFER</td>\n",
              "      <td>181.00</td>\n",
              "      <td>C1305486145</td>\n",
              "      <td>181.0</td>\n",
              "      <td>0.00</td>\n",
              "      <td>C553264065</td>\n",
              "      <td>0.0</td>\n",
              "      <td>0.0</td>\n",
              "      <td>1</td>\n",
              "      <td>0</td>\n",
              "    </tr>\n",
              "    <tr>\n",
              "      <th>3</th>\n",
              "      <td>1</td>\n",
              "      <td>CASH_OUT</td>\n",
              "      <td>181.00</td>\n",
              "      <td>C840083671</td>\n",
              "      <td>181.0</td>\n",
              "      <td>0.00</td>\n",
              "      <td>C38997010</td>\n",
              "      <td>21182.0</td>\n",
              "      <td>0.0</td>\n",
              "      <td>1</td>\n",
              "      <td>0</td>\n",
              "    </tr>\n",
              "    <tr>\n",
              "      <th>4</th>\n",
              "      <td>1</td>\n",
              "      <td>PAYMENT</td>\n",
              "      <td>11668.14</td>\n",
              "      <td>C2048537720</td>\n",
              "      <td>41554.0</td>\n",
              "      <td>29885.86</td>\n",
              "      <td>M1230701703</td>\n",
              "      <td>0.0</td>\n",
              "      <td>0.0</td>\n",
              "      <td>0</td>\n",
              "      <td>0</td>\n",
              "    </tr>\n",
              "  </tbody>\n",
              "</table>\n",
              "</div>\n",
              "      <button class=\"colab-df-convert\" onclick=\"convertToInteractive('df-7f82a9f0-c8ad-435b-b902-79991df20c65')\"\n",
              "              title=\"Convert this dataframe to an interactive table.\"\n",
              "              style=\"display:none;\">\n",
              "        \n",
              "  <svg xmlns=\"http://www.w3.org/2000/svg\" height=\"24px\"viewBox=\"0 0 24 24\"\n",
              "       width=\"24px\">\n",
              "    <path d=\"M0 0h24v24H0V0z\" fill=\"none\"/>\n",
              "    <path d=\"M18.56 5.44l.94 2.06.94-2.06 2.06-.94-2.06-.94-.94-2.06-.94 2.06-2.06.94zm-11 1L8.5 8.5l.94-2.06 2.06-.94-2.06-.94L8.5 2.5l-.94 2.06-2.06.94zm10 10l.94 2.06.94-2.06 2.06-.94-2.06-.94-.94-2.06-.94 2.06-2.06.94z\"/><path d=\"M17.41 7.96l-1.37-1.37c-.4-.4-.92-.59-1.43-.59-.52 0-1.04.2-1.43.59L10.3 9.45l-7.72 7.72c-.78.78-.78 2.05 0 2.83L4 21.41c.39.39.9.59 1.41.59.51 0 1.02-.2 1.41-.59l7.78-7.78 2.81-2.81c.8-.78.8-2.07 0-2.86zM5.41 20L4 18.59l7.72-7.72 1.47 1.35L5.41 20z\"/>\n",
              "  </svg>\n",
              "      </button>\n",
              "      \n",
              "  <style>\n",
              "    .colab-df-container {\n",
              "      display:flex;\n",
              "      flex-wrap:wrap;\n",
              "      gap: 12px;\n",
              "    }\n",
              "\n",
              "    .colab-df-convert {\n",
              "      background-color: #E8F0FE;\n",
              "      border: none;\n",
              "      border-radius: 50%;\n",
              "      cursor: pointer;\n",
              "      display: none;\n",
              "      fill: #1967D2;\n",
              "      height: 32px;\n",
              "      padding: 0 0 0 0;\n",
              "      width: 32px;\n",
              "    }\n",
              "\n",
              "    .colab-df-convert:hover {\n",
              "      background-color: #E2EBFA;\n",
              "      box-shadow: 0px 1px 2px rgba(60, 64, 67, 0.3), 0px 1px 3px 1px rgba(60, 64, 67, 0.15);\n",
              "      fill: #174EA6;\n",
              "    }\n",
              "\n",
              "    [theme=dark] .colab-df-convert {\n",
              "      background-color: #3B4455;\n",
              "      fill: #D2E3FC;\n",
              "    }\n",
              "\n",
              "    [theme=dark] .colab-df-convert:hover {\n",
              "      background-color: #434B5C;\n",
              "      box-shadow: 0px 1px 3px 1px rgba(0, 0, 0, 0.15);\n",
              "      filter: drop-shadow(0px 1px 2px rgba(0, 0, 0, 0.3));\n",
              "      fill: #FFFFFF;\n",
              "    }\n",
              "  </style>\n",
              "\n",
              "      <script>\n",
              "        const buttonEl =\n",
              "          document.querySelector('#df-7f82a9f0-c8ad-435b-b902-79991df20c65 button.colab-df-convert');\n",
              "        buttonEl.style.display =\n",
              "          google.colab.kernel.accessAllowed ? 'block' : 'none';\n",
              "\n",
              "        async function convertToInteractive(key) {\n",
              "          const element = document.querySelector('#df-7f82a9f0-c8ad-435b-b902-79991df20c65');\n",
              "          const dataTable =\n",
              "            await google.colab.kernel.invokeFunction('convertToInteractive',\n",
              "                                                     [key], {});\n",
              "          if (!dataTable) return;\n",
              "\n",
              "          const docLinkHtml = 'Like what you see? Visit the ' +\n",
              "            '<a target=\"_blank\" href=https://colab.research.google.com/notebooks/data_table.ipynb>data table notebook</a>'\n",
              "            + ' to learn more about interactive tables.';\n",
              "          element.innerHTML = '';\n",
              "          dataTable['output_type'] = 'display_data';\n",
              "          await google.colab.output.renderOutput(dataTable, element);\n",
              "          const docLink = document.createElement('div');\n",
              "          docLink.innerHTML = docLinkHtml;\n",
              "          element.appendChild(docLink);\n",
              "        }\n",
              "      </script>\n",
              "    </div>\n",
              "  </div>\n",
              "  "
            ]
          },
          "metadata": {},
          "execution_count": 6
        }
      ]
    },
    {
      "cell_type": "markdown",
      "source": [
        "Veamos un poco que tipo de variables hay en el dataset."
      ],
      "metadata": {
        "id": "BTXYEekoKXJs"
      }
    },
    {
      "cell_type": "code",
      "source": [
        "df.info()"
      ],
      "metadata": {
        "colab": {
          "base_uri": "https://localhost:8080/"
        },
        "id": "T8nAN_gZHX3V",
        "outputId": "c723b6ae-d52e-4e1d-9184-9d3f56ce9d38"
      },
      "execution_count": 7,
      "outputs": [
        {
          "output_type": "stream",
          "name": "stdout",
          "text": [
            "<class 'pandas.core.frame.DataFrame'>\n",
            "RangeIndex: 6362620 entries, 0 to 6362619\n",
            "Data columns (total 11 columns):\n",
            " #   Column          Dtype  \n",
            "---  ------          -----  \n",
            " 0   step            int64  \n",
            " 1   type            object \n",
            " 2   amount          float64\n",
            " 3   nameOrig        object \n",
            " 4   oldbalanceOrg   float64\n",
            " 5   newbalanceOrig  float64\n",
            " 6   nameDest        object \n",
            " 7   oldbalanceDest  float64\n",
            " 8   newbalanceDest  float64\n",
            " 9   isFraud         int64  \n",
            " 10  isFlaggedFraud  int64  \n",
            "dtypes: float64(5), int64(3), object(3)\n",
            "memory usage: 534.0+ MB\n"
          ]
        }
      ]
    },
    {
      "cell_type": "markdown",
      "source": [
        "Se chequea si existen datos faltantes (Nan) en el dataset para ver si es necesaria una imputación. El dataset no tiene datos faltantes en ninguna de sus features ni en la variable objetivo ('isFraud'), por lo tanto, no es necesario ningún tipo de imputación."
      ],
      "metadata": {
        "id": "RFxtlJeVJ9UF"
      }
    },
    {
      "cell_type": "code",
      "source": [
        "df.isna().sum()"
      ],
      "metadata": {
        "colab": {
          "base_uri": "https://localhost:8080/"
        },
        "id": "tbvJMdm1J2Rf",
        "outputId": "f71cf4b6-c9e9-442a-eccc-6dcc15a795e5"
      },
      "execution_count": 8,
      "outputs": [
        {
          "output_type": "execute_result",
          "data": {
            "text/plain": [
              "step              0\n",
              "type              0\n",
              "amount            0\n",
              "nameOrig          0\n",
              "oldbalanceOrg     0\n",
              "newbalanceOrig    0\n",
              "nameDest          0\n",
              "oldbalanceDest    0\n",
              "newbalanceDest    0\n",
              "isFraud           0\n",
              "isFlaggedFraud    0\n",
              "dtype: int64"
            ]
          },
          "metadata": {},
          "execution_count": 8
        }
      ]
    },
    {
      "cell_type": "markdown",
      "source": [
        "Se realiza un describe para tener un pantallazo general de los principales datos estadísticos de las variables numéricas."
      ],
      "metadata": {
        "id": "PtxZj00n3ZQb"
      }
    },
    {
      "cell_type": "code",
      "source": [
        "df.describe()"
      ],
      "metadata": {
        "colab": {
          "base_uri": "https://localhost:8080/",
          "height": 301
        },
        "id": "CR5wieABUS4R",
        "outputId": "b1b16af4-14f8-403b-df78-915c5e428f98"
      },
      "execution_count": 9,
      "outputs": [
        {
          "output_type": "execute_result",
          "data": {
            "text/plain": [
              "               step        amount  oldbalanceOrg  newbalanceOrig  \\\n",
              "count  6.362620e+06  6.362620e+06   6.362620e+06    6.362620e+06   \n",
              "mean   2.433972e+02  1.798619e+05   8.338831e+05    8.551137e+05   \n",
              "std    1.423320e+02  6.038582e+05   2.888243e+06    2.924049e+06   \n",
              "min    1.000000e+00  0.000000e+00   0.000000e+00    0.000000e+00   \n",
              "25%    1.560000e+02  1.338957e+04   0.000000e+00    0.000000e+00   \n",
              "50%    2.390000e+02  7.487194e+04   1.420800e+04    0.000000e+00   \n",
              "75%    3.350000e+02  2.087215e+05   1.073152e+05    1.442584e+05   \n",
              "max    7.430000e+02  9.244552e+07   5.958504e+07    4.958504e+07   \n",
              "\n",
              "       oldbalanceDest  newbalanceDest       isFraud  isFlaggedFraud  \n",
              "count    6.362620e+06    6.362620e+06  6.362620e+06    6.362620e+06  \n",
              "mean     1.100702e+06    1.224996e+06  1.290820e-03    2.514687e-06  \n",
              "std      3.399180e+06    3.674129e+06  3.590480e-02    1.585775e-03  \n",
              "min      0.000000e+00    0.000000e+00  0.000000e+00    0.000000e+00  \n",
              "25%      0.000000e+00    0.000000e+00  0.000000e+00    0.000000e+00  \n",
              "50%      1.327057e+05    2.146614e+05  0.000000e+00    0.000000e+00  \n",
              "75%      9.430367e+05    1.111909e+06  0.000000e+00    0.000000e+00  \n",
              "max      3.560159e+08    3.561793e+08  1.000000e+00    1.000000e+00  "
            ],
            "text/html": [
              "\n",
              "  <div id=\"df-ec5f3ecb-902b-4b1b-ad92-34d607764ad9\">\n",
              "    <div class=\"colab-df-container\">\n",
              "      <div>\n",
              "<style scoped>\n",
              "    .dataframe tbody tr th:only-of-type {\n",
              "        vertical-align: middle;\n",
              "    }\n",
              "\n",
              "    .dataframe tbody tr th {\n",
              "        vertical-align: top;\n",
              "    }\n",
              "\n",
              "    .dataframe thead th {\n",
              "        text-align: right;\n",
              "    }\n",
              "</style>\n",
              "<table border=\"1\" class=\"dataframe\">\n",
              "  <thead>\n",
              "    <tr style=\"text-align: right;\">\n",
              "      <th></th>\n",
              "      <th>step</th>\n",
              "      <th>amount</th>\n",
              "      <th>oldbalanceOrg</th>\n",
              "      <th>newbalanceOrig</th>\n",
              "      <th>oldbalanceDest</th>\n",
              "      <th>newbalanceDest</th>\n",
              "      <th>isFraud</th>\n",
              "      <th>isFlaggedFraud</th>\n",
              "    </tr>\n",
              "  </thead>\n",
              "  <tbody>\n",
              "    <tr>\n",
              "      <th>count</th>\n",
              "      <td>6.362620e+06</td>\n",
              "      <td>6.362620e+06</td>\n",
              "      <td>6.362620e+06</td>\n",
              "      <td>6.362620e+06</td>\n",
              "      <td>6.362620e+06</td>\n",
              "      <td>6.362620e+06</td>\n",
              "      <td>6.362620e+06</td>\n",
              "      <td>6.362620e+06</td>\n",
              "    </tr>\n",
              "    <tr>\n",
              "      <th>mean</th>\n",
              "      <td>2.433972e+02</td>\n",
              "      <td>1.798619e+05</td>\n",
              "      <td>8.338831e+05</td>\n",
              "      <td>8.551137e+05</td>\n",
              "      <td>1.100702e+06</td>\n",
              "      <td>1.224996e+06</td>\n",
              "      <td>1.290820e-03</td>\n",
              "      <td>2.514687e-06</td>\n",
              "    </tr>\n",
              "    <tr>\n",
              "      <th>std</th>\n",
              "      <td>1.423320e+02</td>\n",
              "      <td>6.038582e+05</td>\n",
              "      <td>2.888243e+06</td>\n",
              "      <td>2.924049e+06</td>\n",
              "      <td>3.399180e+06</td>\n",
              "      <td>3.674129e+06</td>\n",
              "      <td>3.590480e-02</td>\n",
              "      <td>1.585775e-03</td>\n",
              "    </tr>\n",
              "    <tr>\n",
              "      <th>min</th>\n",
              "      <td>1.000000e+00</td>\n",
              "      <td>0.000000e+00</td>\n",
              "      <td>0.000000e+00</td>\n",
              "      <td>0.000000e+00</td>\n",
              "      <td>0.000000e+00</td>\n",
              "      <td>0.000000e+00</td>\n",
              "      <td>0.000000e+00</td>\n",
              "      <td>0.000000e+00</td>\n",
              "    </tr>\n",
              "    <tr>\n",
              "      <th>25%</th>\n",
              "      <td>1.560000e+02</td>\n",
              "      <td>1.338957e+04</td>\n",
              "      <td>0.000000e+00</td>\n",
              "      <td>0.000000e+00</td>\n",
              "      <td>0.000000e+00</td>\n",
              "      <td>0.000000e+00</td>\n",
              "      <td>0.000000e+00</td>\n",
              "      <td>0.000000e+00</td>\n",
              "    </tr>\n",
              "    <tr>\n",
              "      <th>50%</th>\n",
              "      <td>2.390000e+02</td>\n",
              "      <td>7.487194e+04</td>\n",
              "      <td>1.420800e+04</td>\n",
              "      <td>0.000000e+00</td>\n",
              "      <td>1.327057e+05</td>\n",
              "      <td>2.146614e+05</td>\n",
              "      <td>0.000000e+00</td>\n",
              "      <td>0.000000e+00</td>\n",
              "    </tr>\n",
              "    <tr>\n",
              "      <th>75%</th>\n",
              "      <td>3.350000e+02</td>\n",
              "      <td>2.087215e+05</td>\n",
              "      <td>1.073152e+05</td>\n",
              "      <td>1.442584e+05</td>\n",
              "      <td>9.430367e+05</td>\n",
              "      <td>1.111909e+06</td>\n",
              "      <td>0.000000e+00</td>\n",
              "      <td>0.000000e+00</td>\n",
              "    </tr>\n",
              "    <tr>\n",
              "      <th>max</th>\n",
              "      <td>7.430000e+02</td>\n",
              "      <td>9.244552e+07</td>\n",
              "      <td>5.958504e+07</td>\n",
              "      <td>4.958504e+07</td>\n",
              "      <td>3.560159e+08</td>\n",
              "      <td>3.561793e+08</td>\n",
              "      <td>1.000000e+00</td>\n",
              "      <td>1.000000e+00</td>\n",
              "    </tr>\n",
              "  </tbody>\n",
              "</table>\n",
              "</div>\n",
              "      <button class=\"colab-df-convert\" onclick=\"convertToInteractive('df-ec5f3ecb-902b-4b1b-ad92-34d607764ad9')\"\n",
              "              title=\"Convert this dataframe to an interactive table.\"\n",
              "              style=\"display:none;\">\n",
              "        \n",
              "  <svg xmlns=\"http://www.w3.org/2000/svg\" height=\"24px\"viewBox=\"0 0 24 24\"\n",
              "       width=\"24px\">\n",
              "    <path d=\"M0 0h24v24H0V0z\" fill=\"none\"/>\n",
              "    <path d=\"M18.56 5.44l.94 2.06.94-2.06 2.06-.94-2.06-.94-.94-2.06-.94 2.06-2.06.94zm-11 1L8.5 8.5l.94-2.06 2.06-.94-2.06-.94L8.5 2.5l-.94 2.06-2.06.94zm10 10l.94 2.06.94-2.06 2.06-.94-2.06-.94-.94-2.06-.94 2.06-2.06.94z\"/><path d=\"M17.41 7.96l-1.37-1.37c-.4-.4-.92-.59-1.43-.59-.52 0-1.04.2-1.43.59L10.3 9.45l-7.72 7.72c-.78.78-.78 2.05 0 2.83L4 21.41c.39.39.9.59 1.41.59.51 0 1.02-.2 1.41-.59l7.78-7.78 2.81-2.81c.8-.78.8-2.07 0-2.86zM5.41 20L4 18.59l7.72-7.72 1.47 1.35L5.41 20z\"/>\n",
              "  </svg>\n",
              "      </button>\n",
              "      \n",
              "  <style>\n",
              "    .colab-df-container {\n",
              "      display:flex;\n",
              "      flex-wrap:wrap;\n",
              "      gap: 12px;\n",
              "    }\n",
              "\n",
              "    .colab-df-convert {\n",
              "      background-color: #E8F0FE;\n",
              "      border: none;\n",
              "      border-radius: 50%;\n",
              "      cursor: pointer;\n",
              "      display: none;\n",
              "      fill: #1967D2;\n",
              "      height: 32px;\n",
              "      padding: 0 0 0 0;\n",
              "      width: 32px;\n",
              "    }\n",
              "\n",
              "    .colab-df-convert:hover {\n",
              "      background-color: #E2EBFA;\n",
              "      box-shadow: 0px 1px 2px rgba(60, 64, 67, 0.3), 0px 1px 3px 1px rgba(60, 64, 67, 0.15);\n",
              "      fill: #174EA6;\n",
              "    }\n",
              "\n",
              "    [theme=dark] .colab-df-convert {\n",
              "      background-color: #3B4455;\n",
              "      fill: #D2E3FC;\n",
              "    }\n",
              "\n",
              "    [theme=dark] .colab-df-convert:hover {\n",
              "      background-color: #434B5C;\n",
              "      box-shadow: 0px 1px 3px 1px rgba(0, 0, 0, 0.15);\n",
              "      filter: drop-shadow(0px 1px 2px rgba(0, 0, 0, 0.3));\n",
              "      fill: #FFFFFF;\n",
              "    }\n",
              "  </style>\n",
              "\n",
              "      <script>\n",
              "        const buttonEl =\n",
              "          document.querySelector('#df-ec5f3ecb-902b-4b1b-ad92-34d607764ad9 button.colab-df-convert');\n",
              "        buttonEl.style.display =\n",
              "          google.colab.kernel.accessAllowed ? 'block' : 'none';\n",
              "\n",
              "        async function convertToInteractive(key) {\n",
              "          const element = document.querySelector('#df-ec5f3ecb-902b-4b1b-ad92-34d607764ad9');\n",
              "          const dataTable =\n",
              "            await google.colab.kernel.invokeFunction('convertToInteractive',\n",
              "                                                     [key], {});\n",
              "          if (!dataTable) return;\n",
              "\n",
              "          const docLinkHtml = 'Like what you see? Visit the ' +\n",
              "            '<a target=\"_blank\" href=https://colab.research.google.com/notebooks/data_table.ipynb>data table notebook</a>'\n",
              "            + ' to learn more about interactive tables.';\n",
              "          element.innerHTML = '';\n",
              "          dataTable['output_type'] = 'display_data';\n",
              "          await google.colab.output.renderOutput(dataTable, element);\n",
              "          const docLink = document.createElement('div');\n",
              "          docLink.innerHTML = docLinkHtml;\n",
              "          element.appendChild(docLink);\n",
              "        }\n",
              "      </script>\n",
              "    </div>\n",
              "  </div>\n",
              "  "
            ]
          },
          "metadata": {},
          "execution_count": 9
        }
      ]
    },
    {
      "cell_type": "markdown",
      "source": [
        "Funcion de utilería para mostrar distribuciones."
      ],
      "metadata": {
        "id": "xmFj_bFkdHF9"
      }
    },
    {
      "cell_type": "code",
      "source": [
        "def display_dataset_distributions(dataset):\n",
        "    fig = dataset.hist(xlabelsize=12, ylabelsize=12,figsize=(22,10))\n",
        "    [x.title.set_size(14) for x in fig.ravel()]\n",
        "    plt.tight_layout()\n",
        "    plt.show()"
      ],
      "metadata": {
        "id": "ooLuYLu-cuCI"
      },
      "execution_count": 10,
      "outputs": []
    },
    {
      "cell_type": "code",
      "source": [
        "display_dataset_distributions(df)"
      ],
      "metadata": {
        "colab": {
          "base_uri": "https://localhost:8080/",
          "height": 698
        },
        "id": "xtD-Lu2YcQcN",
        "outputId": "97baa233-13a1-48e0-9e07-31a5d7a8ec84"
      },
      "execution_count": 11,
      "outputs": [
        {
          "output_type": "display_data",
          "data": {
            "text/plain": [
              "<Figure size 1584x720 with 9 Axes>"
            ],
            "image/png": "[encoded data removed]"
          },
          "metadata": {
            "needs_background": "light"
          }
        }
      ]
    },
    {
      "cell_type": "markdown",
      "source": [
        "Se muestra en un gráfico la cantidad de operaciones según el tipo de transacción."
      ],
      "metadata": {
        "id": "Fl7hM_wE6Oyu"
      }
    },
    {
      "cell_type": "code",
      "source": [
        "sns.countplot(x = 'type',data = df)"
      ],
      "metadata": {
        "colab": {
          "base_uri": "https://localhost:8080/",
          "height": 308
        },
        "id": "77WYjXfeP-F_",
        "outputId": "2e12e9c6-bd6c-4e1b-8d9f-80d1cff2b169"
      },
      "execution_count": 12,
      "outputs": [
        {
          "output_type": "execute_result",
          "data": {
            "text/plain": [
              "<matplotlib.axes._subplots.AxesSubplot at 0x7f7bb8108dd0>"
            ]
          },
          "metadata": {},
          "execution_count": 12
        },
        {
          "output_type": "display_data",
          "data": {
            "text/plain": [
              "<Figure size 432x288 with 1 Axes>"
            ],
            "image/png": "[encoded data removed]"
          },
          "metadata": {
            "needs_background": "light"
          }
        }
      ]
    },
    {
      "cell_type": "markdown",
      "source": [
        "Veamos el balance de clases ('isFraud')."
      ],
      "metadata": {
        "id": "e0-YCMea6m0Z"
      }
    },
    {
      "cell_type": "code",
      "source": [
        "sns.countplot(x = 'isFraud', data = df)\n",
        "print(df['isFraud'].value_counts())"
      ],
      "metadata": {
        "colab": {
          "base_uri": "https://localhost:8080/",
          "height": 342
        },
        "id": "AIgqVYsPSVbJ",
        "outputId": "55937846-d303-4b40-9604-b43dfea86ff5"
      },
      "execution_count": 13,
      "outputs": [
        {
          "output_type": "stream",
          "name": "stdout",
          "text": [
            "0    6354407\n",
            "1       8213\n",
            "Name: isFraud, dtype: int64\n"
          ]
        },
        {
          "output_type": "display_data",
          "data": {
            "text/plain": [
              "<Figure size 432x288 with 1 Axes>"
            ],
            "image/png": "[encoded data removed]"
          },
          "metadata": {
            "needs_background": "light"
          }
        }
      ]
    },
    {
      "cell_type": "markdown",
      "source": [
        "Se observa que las clases del dataset están muy desbalanceadas.\n",
        "\n",
        "A continuación se muestra como se distribuyen las operaciones fraudulentas en función del tipo de transacción."
      ],
      "metadata": {
        "id": "aoCjLnYYSo6Z"
      }
    },
    {
      "cell_type": "code",
      "source": [
        "type_df = pd.DataFrame(df.groupby(by = df['type'])['isFraud'].sum())\n",
        "sns.barplot(data = type_df, x = type_df.index, y = 'isFraud')\n",
        "print(type_df)"
      ],
      "metadata": {
        "colab": {
          "base_uri": "https://localhost:8080/",
          "height": 402
        },
        "id": "Ea7Zw4zcLRB2",
        "outputId": "d25bf5d1-bc22-4958-e6a2-c93d67a8b554"
      },
      "execution_count": 14,
      "outputs": [
        {
          "output_type": "stream",
          "name": "stdout",
          "text": [
            "          isFraud\n",
            "type             \n",
            "CASH_IN         0\n",
            "CASH_OUT     4116\n",
            "DEBIT           0\n",
            "PAYMENT         0\n",
            "TRANSFER     4097\n"
          ]
        },
        {
          "output_type": "display_data",
          "data": {
            "text/plain": [
              "<Figure size 432x288 with 1 Axes>"
            ],
            "image/png": "[encoded data removed]"
          },
          "metadata": {
            "needs_background": "light"
          }
        }
      ]
    },
    {
      "cell_type": "markdown",
      "source": [
        "Se observa que solo las transacciones CASHOUT y TRANFER tienen operaciones fraudulentas. Esto motiva a eliminar el resto de las transacciones antes de comenzar con el aprendizaje de los modelos."
      ],
      "metadata": {
        "id": "5v2mZxho69Bh"
      }
    },
    {
      "cell_type": "code",
      "source": [
        "df_drop = df.drop(df[(df['type'] == 'CASH_IN') |\n",
        "                     (df['type'] == 'DEBIT') |\n",
        "                     (df['type'] == 'PAYMENT')].index)"
      ],
      "metadata": {
        "id": "cIAiNirN7yF1"
      },
      "execution_count": 15,
      "outputs": []
    },
    {
      "cell_type": "code",
      "source": [
        "sns.countplot(x = 'isFraud', data = df_drop)\n",
        "print(df_drop['isFraud'].value_counts())"
      ],
      "metadata": {
        "colab": {
          "base_uri": "https://localhost:8080/",
          "height": 342
        },
        "id": "VHl3lpbC-hKR",
        "outputId": "b7145989-a98f-4be9-c0fe-86fc3d992c5c"
      },
      "execution_count": 16,
      "outputs": [
        {
          "output_type": "stream",
          "name": "stdout",
          "text": [
            "0    2762196\n",
            "1       8213\n",
            "Name: isFraud, dtype: int64\n"
          ]
        },
        {
          "output_type": "display_data",
          "data": {
            "text/plain": [
              "<Figure size 432x288 with 1 Axes>"
            ],
            "image/png": "[encoded data removed]"
          },
          "metadata": {
            "needs_background": "light"
          }
        }
      ]
    },
    {
      "cell_type": "markdown",
      "source": [
        "Algo se redujo el desbalance de clases pero todavía es grande. Se van a adoptar estrategias vistas en clase para balancear.\n",
        "A continuación se divide el dataset en features 'X' y variable objetivo 'y'. Dentro de las features, no van a entrar en consideración 'nameOrig', 'nameDest' y step."
      ],
      "metadata": {
        "id": "a45H_ai2_Rfx"
      }
    },
    {
      "cell_type": "code",
      "source": [
        "X, y = df_drop[['type', 'amount', 'oldbalanceOrg', 'newbalanceOrig', 'oldbalanceDest', 'newbalanceDest']],df_drop.isFraud\n",
        "X.dtypes"
      ],
      "metadata": {
        "colab": {
          "base_uri": "https://localhost:8080/"
        },
        "id": "hiTF8oPqaQHJ",
        "outputId": "b92c15aa-d969-4072-935b-46736f0cc5da"
      },
      "execution_count": 17,
      "outputs": [
        {
          "output_type": "execute_result",
          "data": {
            "text/plain": [
              "type               object\n",
              "amount            float64\n",
              "oldbalanceOrg     float64\n",
              "newbalanceOrig    float64\n",
              "oldbalanceDest    float64\n",
              "newbalanceDest    float64\n",
              "dtype: object"
            ]
          },
          "metadata": {},
          "execution_count": 17
        }
      ]
    },
    {
      "cell_type": "markdown",
      "source": [
        "Se separan las features en numéricas y categóricas. A las numéricas se las escala y a las categóricas se las codifica."
      ],
      "metadata": {
        "id": "368tMY0EE-A8"
      }
    },
    {
      "cell_type": "code",
      "source": [
        "numeric_features = ['amount', 'oldbalanceOrg', 'newbalanceOrig', 'oldbalanceDest', 'newbalanceDest']\n",
        "categorical_features = ['type']"
      ],
      "metadata": {
        "id": "mfhRLrlFRJl2"
      },
      "execution_count": 18,
      "outputs": []
    },
    {
      "cell_type": "code",
      "source": [
        "#numeric_transformer = StandardScaler()\n",
        "numeric_transformer = MinMaxScaler()"
      ],
      "metadata": {
        "id": "-mqkyBvDRZvo"
      },
      "execution_count": 19,
      "outputs": []
    },
    {
      "cell_type": "code",
      "source": [
        "categorical_transformer = OneHotEncoder()"
      ],
      "metadata": {
        "id": "C33v6nPNSXdt"
      },
      "execution_count": 20,
      "outputs": []
    },
    {
      "cell_type": "code",
      "source": [
        "preprocessor = ColumnTransformer(transformers=[\n",
        "               ('num', numeric_transformer, numeric_features),\n",
        "               ('cat', categorical_transformer, categorical_features)])"
      ],
      "metadata": {
        "id": "VIrbKZwXSmqu"
      },
      "execution_count": 21,
      "outputs": []
    },
    {
      "cell_type": "markdown",
      "source": [
        "### Split del dataset y balanceo de clases\n",
        "\n",
        "Ahora se divide el dataset en train y test (0.8 y 0.2 respectivamente) y se estratifican las clases. Luego se van a definir diferentes técnicas para balancear las clases. "
      ],
      "metadata": {
        "id": "yoOOOf_3X_mn"
      }
    },
    {
      "cell_type": "code",
      "source": [
        "X_train, X_test, y_train, y_test = train_test_split(X, y, test_size=0.2, random_state=432, stratify = y)\n",
        "\n",
        "print('Entrenamiento:',X_train.shape)\n",
        "print('Testeo:',X_test.shape)\n",
        "print('\\nClases train:')\n",
        "print(y_train.value_counts(normalize=True))\n",
        "print('\\nClases test:')\n",
        "print(y_test.value_counts(normalize=True))"
      ],
      "metadata": {
        "colab": {
          "base_uri": "https://localhost:8080/"
        },
        "id": "J7inu3L-YDBt",
        "outputId": "582dd6a4-1236-4f22-864e-6c54e2cf77ca"
      },
      "execution_count": 22,
      "outputs": [
        {
          "output_type": "stream",
          "name": "stdout",
          "text": [
            "Entrenamiento: (2216327, 6)\n",
            "Testeo: (554082, 6)\n",
            "\n",
            "Clases train:\n",
            "0    0.997036\n",
            "1    0.002964\n",
            "Name: isFraud, dtype: float64\n",
            "\n",
            "Clases test:\n",
            "0    0.997035\n",
            "1    0.002965\n",
            "Name: isFraud, dtype: float64\n"
          ]
        }
      ]
    },
    {
      "cell_type": "markdown",
      "source": [
        "Como primer técnica de balanceo se utiliza Undersampling."
      ],
      "metadata": {
        "id": "PcgoUUyMJ5T6"
      }
    },
    {
      "cell_type": "code",
      "source": [
        "undersampler=RandomUnderSampler(sampling_strategy = 'majority');\n",
        "\n",
        "X_train_us,y_train_us=undersampler.fit_resample(X_train,y_train);\n",
        "\n",
        "print('Composición del training set:')\n",
        "print(y_train_us.value_counts())\n",
        "print('\\nComposición del test set:')\n",
        "print(y_test.value_counts())"
      ],
      "metadata": {
        "colab": {
          "base_uri": "https://localhost:8080/"
        },
        "id": "TN6BdnguJ284",
        "outputId": "ceaaee1a-0926-4cf0-a923-cce32d13dc6d"
      },
      "execution_count": 23,
      "outputs": [
        {
          "output_type": "stream",
          "name": "stdout",
          "text": [
            "Composición del training set:\n",
            "0    6570\n",
            "1    6570\n",
            "Name: isFraud, dtype: int64\n",
            "\n",
            "Composición del test set:\n",
            "0    552439\n",
            "1      1643\n",
            "Name: isFraud, dtype: int64\n"
          ]
        }
      ]
    },
    {
      "cell_type": "markdown",
      "source": [
        "Como segunda técnica de balanceo se utiliza Oversampling."
      ],
      "metadata": {
        "id": "GwuW_45nLviI"
      }
    },
    {
      "cell_type": "code",
      "source": [
        "oversampler=RandomOverSampler(sampling_strategy='minority');\n",
        "\n",
        "X_train_os,y_train_os=oversampler.fit_resample(X_train,y_train);\n",
        "\n",
        "print('Composición del training set:')\n",
        "print(y_train_os.value_counts())\n",
        "\n",
        "print('\\nComposición del test set:')\n",
        "print(y_test.value_counts())"
      ],
      "metadata": {
        "colab": {
          "base_uri": "https://localhost:8080/"
        },
        "id": "HJ97nhLlL3xg",
        "outputId": "a0e1faf5-dcd9-4d94-cbd4-14213ff70443"
      },
      "execution_count": 24,
      "outputs": [
        {
          "output_type": "stream",
          "name": "stdout",
          "text": [
            "Composición del training set:\n",
            "0    2209757\n",
            "1    2209757\n",
            "Name: isFraud, dtype: int64\n",
            "\n",
            "Composición del test set:\n",
            "0    552439\n",
            "1      1643\n",
            "Name: isFraud, dtype: int64\n"
          ]
        }
      ]
    },
    {
      "cell_type": "markdown",
      "source": [
        "### Entrenamiento y evaluación\n",
        "\n",
        "A continuación se entrenan diferentes modelos (estudiados en clase):\n",
        "\n",
        "* Random Forest\n",
        "* Tree decision\n",
        "* Regresión logística\n",
        "* SVM"
      ],
      "metadata": {
        "id": "jtt84KvFMlfh"
      }
    },
    {
      "cell_type": "markdown",
      "source": [
        "#### Random Forest"
      ],
      "metadata": {
        "id": "SadXEYBFOrjO"
      }
    },
    {
      "cell_type": "code",
      "source": [
        "model = Pipeline(steps=[('preprocessor', preprocessor),\n",
        "                        ('classifier', RandomForestClassifier(n_estimators= 100, random_state=432))])"
      ],
      "metadata": {
        "id": "llpad8kHPCpY"
      },
      "execution_count": 25,
      "outputs": []
    },
    {
      "cell_type": "code",
      "source": [
        "model.fit(X_train, y_train)\n",
        "y_pred = model.predict_proba(X_test)\n",
        "y_pred2 = model.predict(X_test)"
      ],
      "metadata": {
        "id": "nEyablGG8Ldv"
      },
      "execution_count": 26,
      "outputs": []
    },
    {
      "cell_type": "code",
      "source": [
        "print('Métricas alcanzadas con el dataset estratificado')\n",
        "print(classification_report(y_test,y_pred2))"
      ],
      "metadata": {
        "colab": {
          "base_uri": "https://localhost:8080/"
        },
        "id": "cxVQ8JfxHK2b",
        "outputId": "8b876719-5ec3-4923-c927-890ecddba960"
      },
      "execution_count": 27,
      "outputs": [
        {
          "output_type": "stream",
          "name": "stdout",
          "text": [
            "Métricas alcanzadas con el dataset estratificado\n",
            "              precision    recall  f1-score   support\n",
            "\n",
            "           0       1.00      1.00      1.00    552439\n",
            "           1       0.98      0.75      0.85      1643\n",
            "\n",
            "    accuracy                           1.00    554082\n",
            "   macro avg       0.99      0.88      0.92    554082\n",
            "weighted avg       1.00      1.00      1.00    554082\n",
            "\n"
          ]
        }
      ]
    },
    {
      "cell_type": "code",
      "source": [
        "model.fit(X_train_us, y_train_us)\n",
        "y_pred_us = model.predict_proba(X_test)\n",
        "y_pred2_us = model.predict(X_test)"
      ],
      "metadata": {
        "id": "Gsps8U4kX6XJ"
      },
      "execution_count": 28,
      "outputs": []
    },
    {
      "cell_type": "code",
      "source": [
        "print('Métricas alcanzadas con el dataset undersampleado')\n",
        "print(classification_report(y_test,y_pred2_us))"
      ],
      "metadata": {
        "colab": {
          "base_uri": "https://localhost:8080/"
        },
        "id": "PldZNZYwHb_R",
        "outputId": "f3b83404-47e3-46b9-e5d1-5ea52c8f026d"
      },
      "execution_count": 29,
      "outputs": [
        {
          "output_type": "stream",
          "name": "stdout",
          "text": [
            "Métricas alcanzadas con el dataset undersampleado\n",
            "              precision    recall  f1-score   support\n",
            "\n",
            "           0       1.00      0.98      0.99    552439\n",
            "           1       0.15      0.99      0.26      1643\n",
            "\n",
            "    accuracy                           0.98    554082\n",
            "   macro avg       0.57      0.99      0.63    554082\n",
            "weighted avg       1.00      0.98      0.99    554082\n",
            "\n"
          ]
        }
      ]
    },
    {
      "cell_type": "code",
      "source": [
        "model.fit(X_train_os, y_train_os)\n",
        "y_pred_os = model.predict_proba(X_test)\n",
        "y_pred2_os = model.predict(X_test)"
      ],
      "metadata": {
        "id": "7CkN75YuYhPP"
      },
      "execution_count": 30,
      "outputs": []
    },
    {
      "cell_type": "code",
      "source": [
        "print('Métricas alcanzadas con el dataset oversampleado')\n",
        "print(classification_report(y_test,y_pred2_os))"
      ],
      "metadata": {
        "colab": {
          "base_uri": "https://localhost:8080/"
        },
        "id": "o43m93hHHmia",
        "outputId": "3ba89cc7-c351-43d7-b76a-1784b3a2c86f"
      },
      "execution_count": 31,
      "outputs": [
        {
          "output_type": "stream",
          "name": "stdout",
          "text": [
            "Métricas alcanzadas con el dataset oversampleado\n",
            "              precision    recall  f1-score   support\n",
            "\n",
            "           0       1.00      1.00      1.00    552439\n",
            "           1       0.93      0.82      0.87      1643\n",
            "\n",
            "    accuracy                           1.00    554082\n",
            "   macro avg       0.96      0.91      0.93    554082\n",
            "weighted avg       1.00      1.00      1.00    554082\n",
            "\n"
          ]
        }
      ]
    },
    {
      "cell_type": "code",
      "source": [
        "model = Pipeline(steps=[('preprocessor', preprocessor),\n",
        "                        ('classifier', RandomForestClassifier(n_estimators= 100, class_weight = 'balanced', random_state=432))])\n",
        "\n",
        "model.fit(X_train, y_train)\n",
        "y_pred_c_wght = model.predict_proba(X_test)\n",
        "y_pred2_c_wght = model.predict(X_test)\n",
        "\n",
        "print('Métricas alcanzadas con el dataset con class weight')\n",
        "print(classification_report(y_test,y_pred2_c_wght))"
      ],
      "metadata": {
        "id": "A6I3fbQAhnTQ",
        "colab": {
          "base_uri": "https://localhost:8080/"
        },
        "outputId": "85e66304-8a60-401e-ee7b-ef795888e63e"
      },
      "execution_count": 32,
      "outputs": [
        {
          "output_type": "stream",
          "name": "stdout",
          "text": [
            "Métricas alcanzadas con el dataset con class weight\n",
            "              precision    recall  f1-score   support\n",
            "\n",
            "           0       1.00      1.00      1.00    552439\n",
            "           1       0.96      0.78      0.86      1643\n",
            "\n",
            "    accuracy                           1.00    554082\n",
            "   macro avg       0.98      0.89      0.93    554082\n",
            "weighted avg       1.00      1.00      1.00    554082\n",
            "\n"
          ]
        }
      ]
    },
    {
      "cell_type": "markdown",
      "source": [
        "##### Curva ROC/AUC\n",
        "\n",
        "La curva ROC y el área bajo la misma AUC interpreta que tan bueno es el modelo para distinguir entre dos cosas, en nuestro caso, si una transacción es fraudulenta o no."
      ],
      "metadata": {
        "id": "YB1r-0Qh6hBc"
      }
    },
    {
      "cell_type": "code",
      "source": [
        "fig,axes = plt.subplots(1,1,figsize=(12,8))\n",
        "\n",
        "axes.set_title('ROC')\n",
        "fpr, tpr, threshold = metrics.roc_curve(y_test, y_pred[:,1])\n",
        "roc_auc_estratif = metrics.auc(fpr, tpr)\n",
        "axes.plot(fpr, tpr, 'b', label = 'AUC_estr = %0.2f' % roc_auc_estratif)\n",
        "axes.legend(loc = 'lower right')\n",
        "fpr, tpr, threshold = metrics.roc_curve(y_test, y_pred_us[:,1])\n",
        "roc_auc_undersamp = metrics.auc(fpr, tpr)\n",
        "axes.plot(fpr, tpr, 'g', label = 'AUC_under = %0.2f' % roc_auc_undersamp)\n",
        "axes.legend(loc = 'lower right')\n",
        "fpr, tpr, threshold = metrics.roc_curve(y_test, y_pred_os[:,1])\n",
        "roc_auc_oversamp = metrics.auc(fpr, tpr)\n",
        "axes.plot(fpr, tpr, 'k', label = 'AUC_over = %0.2f' % roc_auc_oversamp)\n",
        "axes.legend(loc = 'lower right')\n",
        "fpr, tpr, threshold = metrics.roc_curve(y_test, y_pred_c_wght[:,1])\n",
        "roc_auc_class_wght = metrics.auc(fpr, tpr)\n",
        "axes.plot(fpr, tpr, 'r', label = 'AUC__class_wght = %0.2f' % roc_auc_class_wght)\n",
        "axes.legend(loc = 'lower right')\n",
        "\n",
        "axes.plot([0, 1], [0, 1],'r--')\n",
        "axes.set_xlim([0, 1])\n",
        "axes.set_ylim([0, 1])\n",
        "axes.set_ylabel('Verdaderos Positivos')\n",
        "axes.set_xlabel('Falsos Positivos');"
      ],
      "metadata": {
        "colab": {
          "base_uri": "https://localhost:8080/",
          "height": 513
        },
        "id": "VDLGkVNxdYD9",
        "outputId": "b562a177-2cc2-43a3-9da8-c5bd938cab03"
      },
      "execution_count": 33,
      "outputs": [
        {
          "output_type": "display_data",
          "data": {
            "text/plain": [
              "<Figure size 864x576 with 1 Axes>"
            ],
            "image/png": "[encoded data removed]"
          },
          "metadata": {
            "needs_background": "light"
          }
        }
      ]
    },
    {
      "cell_type": "markdown",
      "source": [
        "##### Matriz de confusión\n",
        "\n",
        "La matriz de confusión es una herramienta que nos muestra el desempeño del algoritmo de clasificación, describiendo cómo se distribuyen los valores reales y nuestras predicciones."
      ],
      "metadata": {
        "id": "YD1EDUK77kpT"
      }
    },
    {
      "cell_type": "code",
      "source": [
        "fig, ax =plt.subplots(1, 4, figsize=(18,4))\n",
        "\n",
        "confusion_matrix(y_test, y_pred2)\n",
        "sns.heatmap(confusion_matrix(y_test, y_pred2), annot=True, ax = ax[0], cbar = False)\n",
        "ax[0].set_title('Matriz confusión estratificado')\n",
        "ax[0].set_ylabel('Verdaderos')\n",
        "ax[0].set_xlabel('Predichos')\n",
        "\n",
        "confusion_matrix(y_test, y_pred2_us)\n",
        "sns.heatmap(confusion_matrix(y_test, y_pred2_us), annot=True, ax = ax[1], cbar = False)\n",
        "ax[1].set_title('Matriz confusión undersampling')\n",
        "ax[1].set_ylabel('Verdaderos')\n",
        "ax[1].set_xlabel('Predichos')\n",
        "\n",
        "confusion_matrix(y_test, y_pred2_os)\n",
        "sns.heatmap(confusion_matrix(y_test, y_pred2_os), annot=True, ax = ax[2], cbar = False)\n",
        "ax[2].set_title('Matriz confusión oversampling')\n",
        "ax[2].set_ylabel('Verdaderos')\n",
        "ax[2].set_xlabel('Predichos')\n",
        "\n",
        "confusion_matrix(y_test, y_pred2_c_wght)\n",
        "sns.heatmap(confusion_matrix(y_test, y_pred2_c_wght), annot=True, ax = ax[3])\n",
        "ax[3].set_title('Matriz confusión class weight')\n",
        "ax[3].set_ylabel('Verdaderos')\n",
        "ax[3].set_xlabel('Predichos')\n",
        "\n",
        "plt.show()"
      ],
      "metadata": {
        "colab": {
          "base_uri": "https://localhost:8080/",
          "height": 295
        },
        "id": "ns7uKufJd1gW",
        "outputId": "3f24d1ed-81bf-4c9c-8198-2c04a2f1304f"
      },
      "execution_count": 34,
      "outputs": [
        {
          "output_type": "display_data",
          "data": {
            "text/plain": [
              "<Figure size 1296x288 with 5 Axes>"
            ],
            "image/png": "[encoded data removed]"
          },
          "metadata": {
            "needs_background": "light"
          }
        }
      ]
    },
    {
      "cell_type": "markdown",
      "source": [
        "**El desempeño de Random Forest es muy bueno. Se observa que no hay una técnica de balance de clases que mejore el desempeño del modelo respecto a otra.**"
      ],
      "metadata": {
        "id": "VgI14hRp8oWq"
      }
    },
    {
      "cell_type": "markdown",
      "source": [
        "#### Tree decision classifier"
      ],
      "metadata": {
        "id": "MuAj0Lf_jxnM"
      }
    },
    {
      "cell_type": "code",
      "source": [
        "model = Pipeline(steps=[('preprocessor', preprocessor),\n",
        "                        ('classifier',tree.DecisionTreeClassifier(max_depth = 10, criterion = 'entropy', random_state=432))])"
      ],
      "metadata": {
        "id": "xGgQ9U-PMjQc"
      },
      "execution_count": 35,
      "outputs": []
    },
    {
      "cell_type": "code",
      "source": [
        "model.fit(X_train, y_train)\n",
        "y_pred = model.predict_proba(X_test)\n",
        "y_pred2 = model.predict(X_test)"
      ],
      "metadata": {
        "id": "cfYriXhEl4rt"
      },
      "execution_count": 36,
      "outputs": []
    },
    {
      "cell_type": "code",
      "source": [
        "print('Métricas alcanzadas con el dataset estratificado')\n",
        "print(classification_report(y_test,y_pred2))"
      ],
      "metadata": {
        "colab": {
          "base_uri": "https://localhost:8080/"
        },
        "id": "tRk7hxgMl-Tz",
        "outputId": "4885aea2-ee33-4296-ecbd-323511526335"
      },
      "execution_count": 37,
      "outputs": [
        {
          "output_type": "stream",
          "name": "stdout",
          "text": [
            "Métricas alcanzadas con el dataset estratificado\n",
            "              precision    recall  f1-score   support\n",
            "\n",
            "           0       1.00      1.00      1.00    552439\n",
            "           1       0.97      0.73      0.83      1643\n",
            "\n",
            "    accuracy                           1.00    554082\n",
            "   macro avg       0.98      0.87      0.92    554082\n",
            "weighted avg       1.00      1.00      1.00    554082\n",
            "\n"
          ]
        }
      ]
    },
    {
      "cell_type": "code",
      "source": [
        "model.fit(X_train_us, y_train_us)\n",
        "y_pred_us = model.predict_proba(X_test)\n",
        "y_pred2_us = model.predict(X_test)"
      ],
      "metadata": {
        "id": "MCxbGpBYmLm4"
      },
      "execution_count": 38,
      "outputs": []
    },
    {
      "cell_type": "code",
      "source": [
        "print('Métricas alcanzadas con el dataset undersampleado')\n",
        "print(classification_report(y_test,y_pred2_us))"
      ],
      "metadata": {
        "colab": {
          "base_uri": "https://localhost:8080/"
        },
        "id": "jMr-DWJomURp",
        "outputId": "faf8ef0b-f3a5-4203-8d92-d19dcc20f0aa"
      },
      "execution_count": 39,
      "outputs": [
        {
          "output_type": "stream",
          "name": "stdout",
          "text": [
            "Métricas alcanzadas con el dataset undersampleado\n",
            "              precision    recall  f1-score   support\n",
            "\n",
            "           0       1.00      0.98      0.99    552439\n",
            "           1       0.14      0.99      0.25      1643\n",
            "\n",
            "    accuracy                           0.98    554082\n",
            "   macro avg       0.57      0.99      0.62    554082\n",
            "weighted avg       1.00      0.98      0.99    554082\n",
            "\n"
          ]
        }
      ]
    },
    {
      "cell_type": "code",
      "source": [
        "model.fit(X_train_os, y_train_os)\n",
        "y_pred_os = model.predict_proba(X_test)\n",
        "y_pred2_os = model.predict(X_test)"
      ],
      "metadata": {
        "id": "fEqEpDvvmZIN"
      },
      "execution_count": 40,
      "outputs": []
    },
    {
      "cell_type": "code",
      "source": [
        "print('Métricas alcanzadas con el dataset oversampleado')\n",
        "print(classification_report(y_test,y_pred2_os))"
      ],
      "metadata": {
        "colab": {
          "base_uri": "https://localhost:8080/"
        },
        "id": "5YtdmxbUmgVJ",
        "outputId": "b9d8903c-f166-432f-c806-dfa97ce5a2a6"
      },
      "execution_count": 41,
      "outputs": [
        {
          "output_type": "stream",
          "name": "stdout",
          "text": [
            "Métricas alcanzadas con el dataset oversampleado\n",
            "              precision    recall  f1-score   support\n",
            "\n",
            "           0       1.00      0.99      1.00    552439\n",
            "           1       0.26      0.93      0.41      1643\n",
            "\n",
            "    accuracy                           0.99    554082\n",
            "   macro avg       0.63      0.96      0.70    554082\n",
            "weighted avg       1.00      0.99      0.99    554082\n",
            "\n"
          ]
        }
      ]
    },
    {
      "cell_type": "code",
      "source": [
        "model = Pipeline(steps=[('preprocessor', preprocessor),\n",
        "                        ('classifier',tree.DecisionTreeClassifier(max_depth = 2, class_weight = 'balanced', criterion = 'entropy', random_state=432))])\n",
        "\n",
        "model.fit(X_train, y_train)\n",
        "y_pred_c_wght = model.predict_proba(X_test)\n",
        "y_pred2_c_wght = model.predict(X_test)\n",
        "\n",
        "print('Métricas alcanzadas con el dataset con class weight')\n",
        "print(classification_report(y_test,y_pred2_c_wght))"
      ],
      "metadata": {
        "id": "tLbtSPcSmpon",
        "colab": {
          "base_uri": "https://localhost:8080/"
        },
        "outputId": "ffe05ca9-c61b-4439-b49c-1ef60e2c2009"
      },
      "execution_count": 42,
      "outputs": [
        {
          "output_type": "stream",
          "name": "stdout",
          "text": [
            "Métricas alcanzadas con el dataset con class weight\n",
            "              precision    recall  f1-score   support\n",
            "\n",
            "           0       1.00      0.92      0.96    552439\n",
            "           1       0.03      0.82      0.06      1643\n",
            "\n",
            "    accuracy                           0.92    554082\n",
            "   macro avg       0.52      0.87      0.51    554082\n",
            "weighted avg       1.00      0.92      0.96    554082\n",
            "\n"
          ]
        }
      ]
    },
    {
      "cell_type": "code",
      "source": [
        "fig,axes = plt.subplots(1,1,figsize=(12,8))\n",
        "\n",
        "axes.set_title('ROC')\n",
        "fpr, tpr, threshold = metrics.roc_curve(y_test, y_pred[:,1])\n",
        "roc_auc_estratif = metrics.auc(fpr, tpr)\n",
        "axes.plot(fpr, tpr, 'b', label = 'AUC_estr = %0.2f' % roc_auc_estratif)\n",
        "axes.legend(loc = 'lower right')\n",
        "fpr, tpr, threshold = metrics.roc_curve(y_test, y_pred_us[:,1])\n",
        "roc_auc_undersamp = metrics.auc(fpr, tpr)\n",
        "axes.plot(fpr, tpr, 'g', label = 'AUC_under = %0.2f' % roc_auc_undersamp)\n",
        "axes.legend(loc = 'lower right')\n",
        "fpr, tpr, threshold = metrics.roc_curve(y_test, y_pred_os[:,1])\n",
        "roc_auc_oversamp = metrics.auc(fpr, tpr)\n",
        "axes.plot(fpr, tpr, 'k', label = 'AUC_over = %0.2f' % roc_auc_oversamp)\n",
        "axes.legend(loc = 'lower right')\n",
        "fpr, tpr, threshold = metrics.roc_curve(y_test, y_pred_c_wght[:,1])\n",
        "roc_auc_class_wght = metrics.auc(fpr, tpr)\n",
        "axes.plot(fpr, tpr, 'r', label = 'AUC__class_wght = %0.2f' % roc_auc_class_wght)\n",
        "axes.legend(loc = 'lower right')\n",
        "\n",
        "axes.plot([0, 1], [0, 1],'r--')\n",
        "axes.set_xlim([0, 1])\n",
        "axes.set_ylim([0, 1])\n",
        "axes.set_ylabel('Verdaderos Positivos')\n",
        "axes.set_xlabel('Falsos Positivos');"
      ],
      "metadata": {
        "colab": {
          "base_uri": "https://localhost:8080/",
          "height": 513
        },
        "id": "cpX4KhUAnWbl",
        "outputId": "7081d77e-19f0-4365-81ea-7ea5a8c5a268"
      },
      "execution_count": 43,
      "outputs": [
        {
          "output_type": "display_data",
          "data": {
            "text/plain": [
              "<Figure size 864x576 with 1 Axes>"
            ],
            "image/png": "[encoded data removed]"
          },
          "metadata": {
            "needs_background": "light"
          }
        }
      ]
    },
    {
      "cell_type": "code",
      "source": [
        "fig, ax =plt.subplots(1, 4, figsize=(18,4))\n",
        "\n",
        "confusion_matrix(y_test, y_pred2)\n",
        "sns.heatmap(confusion_matrix(y_test, y_pred2), annot=True, ax = ax[0], cbar = False)\n",
        "ax[0].set_title('Matriz confusión estratificado')\n",
        "ax[0].set_ylabel('Verdaderos')\n",
        "ax[0].set_xlabel('Predichos')\n",
        "\n",
        "confusion_matrix(y_test, y_pred2_us)\n",
        "sns.heatmap(confusion_matrix(y_test, y_pred2_us), annot=True, ax = ax[1], cbar = False)\n",
        "ax[1].set_title('Matriz confusión undersampling')\n",
        "ax[1].set_ylabel('Verdaderos')\n",
        "ax[1].set_xlabel('Predichos')\n",
        "\n",
        "confusion_matrix(y_test, y_pred2_os)\n",
        "sns.heatmap(confusion_matrix(y_test, y_pred2_os), annot=True, ax = ax[2], cbar = False)\n",
        "ax[2].set_title('Matriz confusión oversampling')\n",
        "ax[2].set_ylabel('Verdaderos')\n",
        "ax[2].set_xlabel('Predichos')\n",
        "\n",
        "confusion_matrix(y_test, y_pred2_c_wght)\n",
        "sns.heatmap(confusion_matrix(y_test, y_pred2_c_wght), annot=True, ax = ax[3])\n",
        "ax[3].set_title('Matriz confusión class weight')\n",
        "ax[3].set_ylabel('Verdaderos')\n",
        "ax[3].set_xlabel('Predichos')\n",
        "\n",
        "plt.show()"
      ],
      "metadata": {
        "colab": {
          "base_uri": "https://localhost:8080/",
          "height": 295
        },
        "id": "GvEPGvXNnggr",
        "outputId": "f4bc2f14-c703-4255-e792-0403795047e7"
      },
      "execution_count": 44,
      "outputs": [
        {
          "output_type": "display_data",
          "data": {
            "text/plain": [
              "<Figure size 1296x288 with 5 Axes>"
            ],
            "image/png": "[encoded data removed]"
          },
          "metadata": {
            "needs_background": "light"
          }
        }
      ]
    },
    {
      "cell_type": "markdown",
      "source": [
        "**La técnica de balance de clases tiene influencia en el desempeño del modelo cuando se usa Tree Decision Classifier. Se observa que no es muy bueno cuando se emplea class weight. Sin embargo, undesampling mejora sustancialmente la performance.**"
      ],
      "metadata": {
        "id": "rWS8qSZr-Dvp"
      }
    },
    {
      "cell_type": "markdown",
      "source": [
        "#### Regresión logística"
      ],
      "metadata": {
        "id": "kYUkeJkEodl9"
      }
    },
    {
      "cell_type": "code",
      "source": [
        "model = Pipeline(steps=[('preprocessor', preprocessor),\n",
        "                        ('classifier', LogisticRegression(solver = 'lbfgs', random_state = 432))])"
      ],
      "metadata": {
        "id": "B-Wc_WF1ocu9"
      },
      "execution_count": 45,
      "outputs": []
    },
    {
      "cell_type": "code",
      "source": [
        "model.fit(X_train, y_train)\n",
        "y_pred = model.predict_proba(X_test)\n",
        "y_pred2 = model.predict(X_test)"
      ],
      "metadata": {
        "id": "mG_DJJXllWS6"
      },
      "execution_count": 46,
      "outputs": []
    },
    {
      "cell_type": "code",
      "source": [
        "print('Métricas alcanzadas con el dataset estratificado')\n",
        "print(classification_report(y_test,y_pred2))"
      ],
      "metadata": {
        "colab": {
          "base_uri": "https://localhost:8080/"
        },
        "id": "uKad0OB_qGbe",
        "outputId": "38f80039-b793-4b36-a8f8-fdb3f93e8d8d"
      },
      "execution_count": 47,
      "outputs": [
        {
          "output_type": "stream",
          "name": "stdout",
          "text": [
            "Métricas alcanzadas con el dataset estratificado\n",
            "              precision    recall  f1-score   support\n",
            "\n",
            "           0       1.00      1.00      1.00    552439\n",
            "           1       0.97      0.11      0.19      1643\n",
            "\n",
            "    accuracy                           1.00    554082\n",
            "   macro avg       0.98      0.55      0.60    554082\n",
            "weighted avg       1.00      1.00      1.00    554082\n",
            "\n"
          ]
        }
      ]
    },
    {
      "cell_type": "code",
      "source": [
        "model.fit(X_train_us, y_train_us)\n",
        "y_pred_us = model.predict_proba(X_test)\n",
        "y_pred2_us = model.predict(X_test)"
      ],
      "metadata": {
        "id": "Y3fgcUDIyxAh"
      },
      "execution_count": 48,
      "outputs": []
    },
    {
      "cell_type": "code",
      "source": [
        "print('Métricas alcanzadas con el dataset undersampleado')\n",
        "print(classification_report(y_test,y_pred2_us))"
      ],
      "metadata": {
        "colab": {
          "base_uri": "https://localhost:8080/"
        },
        "id": "F1foJyzNyzE1",
        "outputId": "4aac182d-ec35-4a67-f05d-f4455d03addd"
      },
      "execution_count": 49,
      "outputs": [
        {
          "output_type": "stream",
          "name": "stdout",
          "text": [
            "Métricas alcanzadas con el dataset undersampleado\n",
            "              precision    recall  f1-score   support\n",
            "\n",
            "           0       1.00      0.81      0.90    552439\n",
            "           1       0.01      0.66      0.02      1643\n",
            "\n",
            "    accuracy                           0.81    554082\n",
            "   macro avg       0.50      0.74      0.46    554082\n",
            "weighted avg       1.00      0.81      0.89    554082\n",
            "\n"
          ]
        }
      ]
    },
    {
      "cell_type": "code",
      "source": [
        "model.fit(X_train_os, y_train_os)\n",
        "y_pred_os = model.predict_proba(X_test)\n",
        "y_pred2_os = model.predict(X_test)"
      ],
      "metadata": {
        "id": "pifrQSsfy7ZZ"
      },
      "execution_count": 50,
      "outputs": []
    },
    {
      "cell_type": "code",
      "source": [
        "print('Métricas alcanzadas con el dataset oversampleado')\n",
        "print(classification_report(y_test,y_pred2_os))"
      ],
      "metadata": {
        "colab": {
          "base_uri": "https://localhost:8080/"
        },
        "id": "J65fl7R2zFeb",
        "outputId": "52e164e4-409d-4f59-fa92-287bbf20d59d"
      },
      "execution_count": 51,
      "outputs": [
        {
          "output_type": "stream",
          "name": "stdout",
          "text": [
            "Métricas alcanzadas con el dataset oversampleado\n",
            "              precision    recall  f1-score   support\n",
            "\n",
            "           0       1.00      0.93      0.97    552439\n",
            "           1       0.04      0.82      0.07      1643\n",
            "\n",
            "    accuracy                           0.93    554082\n",
            "   macro avg       0.52      0.88      0.52    554082\n",
            "weighted avg       1.00      0.93      0.96    554082\n",
            "\n"
          ]
        }
      ]
    },
    {
      "cell_type": "code",
      "source": [
        "model = Pipeline(steps=[('preprocessor', preprocessor),\n",
        "                        ('classifier', LogisticRegression(solver = 'lbfgs', class_weight = 'balanced', random_state = 432))])\n",
        "\n",
        "model.fit(X_train, y_train)\n",
        "y_pred_c_wght = model.predict_proba(X_test)\n",
        "y_pred2_c_wght = model.predict(X_test)\n",
        "\n",
        "print('Métricas alcanzadas con el dataset con class weight')\n",
        "print(classification_report(y_test,y_pred2_c_wght))"
      ],
      "metadata": {
        "id": "6zg-6uclzQNy",
        "colab": {
          "base_uri": "https://localhost:8080/"
        },
        "outputId": "78346032-e772-41f6-9d8a-d83ddd9696df"
      },
      "execution_count": 52,
      "outputs": [
        {
          "output_type": "stream",
          "name": "stdout",
          "text": [
            "Métricas alcanzadas con el dataset con class weight\n",
            "              precision    recall  f1-score   support\n",
            "\n",
            "           0       1.00      0.93      0.96    552439\n",
            "           1       0.03      0.81      0.06      1643\n",
            "\n",
            "    accuracy                           0.93    554082\n",
            "   macro avg       0.52      0.87      0.51    554082\n",
            "weighted avg       1.00      0.93      0.96    554082\n",
            "\n"
          ]
        }
      ]
    },
    {
      "cell_type": "code",
      "source": [
        "fig,axes = plt.subplots(1,1,figsize=(12,8))\n",
        "\n",
        "axes.set_title('ROC')\n",
        "fpr, tpr, threshold = metrics.roc_curve(y_test, y_pred[:,1])\n",
        "roc_auc_estratif = metrics.auc(fpr, tpr)\n",
        "axes.plot(fpr, tpr, 'b', label = 'AUC_estr = %0.2f' % roc_auc_estratif)\n",
        "axes.legend(loc = 'lower right')\n",
        "fpr, tpr, threshold = metrics.roc_curve(y_test, y_pred_us[:,1])\n",
        "roc_auc_undersamp = metrics.auc(fpr, tpr)\n",
        "axes.plot(fpr, tpr, 'g', label = 'AUC_under = %0.2f' % roc_auc_undersamp)\n",
        "axes.legend(loc = 'lower right')\n",
        "fpr, tpr, threshold = metrics.roc_curve(y_test, y_pred_os[:,1])\n",
        "roc_auc_oversamp = metrics.auc(fpr, tpr)\n",
        "axes.plot(fpr, tpr, 'k', label = 'AUC_over = %0.2f' % roc_auc_oversamp)\n",
        "axes.legend(loc = 'lower right')\n",
        "fpr, tpr, threshold = metrics.roc_curve(y_test, y_pred_c_wght[:,1])\n",
        "roc_auc_class_wght = metrics.auc(fpr, tpr)\n",
        "axes.plot(fpr, tpr, 'r', label = 'AUC__class_wght = %0.2f' % roc_auc_class_wght)\n",
        "axes.legend(loc = 'lower right')\n",
        "\n",
        "axes.plot([0, 1], [0, 1],'r--')\n",
        "axes.set_xlim([0, 1])\n",
        "axes.set_ylim([0, 1])\n",
        "axes.set_ylabel('Verdaderos Positivos')\n",
        "axes.set_xlabel('Falsos Positivos');"
      ],
      "metadata": {
        "colab": {
          "base_uri": "https://localhost:8080/",
          "height": 513
        },
        "id": "rXKHEW6hzpdr",
        "outputId": "9cb359df-af96-45bf-db39-5f9c6f1837d3"
      },
      "execution_count": 53,
      "outputs": [
        {
          "output_type": "display_data",
          "data": {
            "text/plain": [
              "<Figure size 864x576 with 1 Axes>"
            ],
            "image/png": "[encoded data removed]"
          },
          "metadata": {
            "needs_background": "light"
          }
        }
      ]
    },
    {
      "cell_type": "code",
      "source": [
        "fig, ax =plt.subplots(1, 4, figsize=(18,4))\n",
        "\n",
        "confusion_matrix(y_test, y_pred2)\n",
        "sns.heatmap(confusion_matrix(y_test, y_pred2), annot=True, ax = ax[0], cbar = False)\n",
        "ax[0].set_title('Matriz confusión estratificado')\n",
        "ax[0].set_ylabel('Verdaderos')\n",
        "ax[0].set_xlabel('Predichos')\n",
        "\n",
        "confusion_matrix(y_test, y_pred2_us)\n",
        "sns.heatmap(confusion_matrix(y_test, y_pred2_us), annot=True, ax = ax[1], cbar = False)\n",
        "ax[1].set_title('Matriz confusión undersampling')\n",
        "ax[1].set_ylabel('Verdaderos')\n",
        "ax[1].set_xlabel('Predichos')\n",
        "\n",
        "confusion_matrix(y_test, y_pred2_os)\n",
        "sns.heatmap(confusion_matrix(y_test, y_pred2_os), annot=True, ax = ax[2], cbar = False)\n",
        "ax[2].set_title('Matriz confusión oversampling')\n",
        "ax[2].set_ylabel('Verdaderos')\n",
        "ax[2].set_xlabel('Predichos')\n",
        "\n",
        "confusion_matrix(y_test, y_pred2_c_wght)\n",
        "sns.heatmap(confusion_matrix(y_test, y_pred2_c_wght), annot=True, ax = ax[3])\n",
        "ax[3].set_title('Matriz confusión class weight')\n",
        "ax[3].set_ylabel('Verdaderos')\n",
        "ax[3].set_xlabel('Predichos')\n",
        "\n",
        "plt.show()"
      ],
      "metadata": {
        "colab": {
          "base_uri": "https://localhost:8080/",
          "height": 295
        },
        "id": "-HQvMrcHz3fb",
        "outputId": "fad017f2-5fec-42c8-d3bc-4e895e8f52d9"
      },
      "execution_count": 54,
      "outputs": [
        {
          "output_type": "display_data",
          "data": {
            "text/plain": [
              "<Figure size 1296x288 with 5 Axes>"
            ],
            "image/png": "[encoded data removed]"
          },
          "metadata": {
            "needs_background": "light"
          }
        }
      ]
    },
    {
      "cell_type": "markdown",
      "source": [
        "**Hasta el momento la Regresión Logística es el modelo que tiene el peor desempeño, aunque es bueno. A diferencia del modelo Tree Decision Classifier, la técnica de undesampling empeora los resultados. El mejor desempeño se logra con oversampling.**"
      ],
      "metadata": {
        "id": "-0CwToTA_cuQ"
      }
    },
    {
      "cell_type": "markdown",
      "source": [
        "#### SVM (Support vector machine)"
      ],
      "metadata": {
        "id": "RtVb3NGc0WiE"
      }
    },
    {
      "cell_type": "code",
      "source": [
        "model = Pipeline(steps=[('preprocessor', preprocessor),\n",
        "                        ('classifier', LinearSVC(random_state = 432))])"
      ],
      "metadata": {
        "id": "v-XIztZL0dMc"
      },
      "execution_count": 55,
      "outputs": []
    },
    {
      "cell_type": "code",
      "source": [
        "model.fit(X_train, y_train)\n",
        "#y_pred = model.predict_proba(X_test)\n",
        "y_pred2 = model.predict(X_test)"
      ],
      "metadata": {
        "id": "LSysmBtB1hV1"
      },
      "execution_count": 56,
      "outputs": []
    },
    {
      "cell_type": "code",
      "source": [
        "print('Métricas alcanzadas con el dataset estratificado')\n",
        "print(classification_report(y_test,y_pred2))"
      ],
      "metadata": {
        "colab": {
          "base_uri": "https://localhost:8080/"
        },
        "id": "IUv17UkO1iir",
        "outputId": "8ad8c07c-f1a8-4394-cb64-8a289b51ddbd"
      },
      "execution_count": 57,
      "outputs": [
        {
          "output_type": "stream",
          "name": "stdout",
          "text": [
            "Métricas alcanzadas con el dataset estratificado\n",
            "              precision    recall  f1-score   support\n",
            "\n",
            "           0       1.00      1.00      1.00    552439\n",
            "           1       0.98      0.23      0.37      1643\n",
            "\n",
            "    accuracy                           1.00    554082\n",
            "   macro avg       0.99      0.62      0.69    554082\n",
            "weighted avg       1.00      1.00      1.00    554082\n",
            "\n"
          ]
        }
      ]
    },
    {
      "cell_type": "code",
      "source": [
        "model.fit(X_train_us, y_train_us)\n",
        "y_pred2_us = model.predict(X_test)"
      ],
      "metadata": {
        "id": "8YWRYW73FnVj"
      },
      "execution_count": 58,
      "outputs": []
    },
    {
      "cell_type": "code",
      "source": [
        "print('Métricas alcanzadas con el dataset undersampleado')\n",
        "print(classification_report(y_test,y_pred2_us))"
      ],
      "metadata": {
        "colab": {
          "base_uri": "https://localhost:8080/"
        },
        "id": "DiUh2NneFwm6",
        "outputId": "1f732bc8-55ca-49f7-86e3-088c20349af8"
      },
      "execution_count": 59,
      "outputs": [
        {
          "output_type": "stream",
          "name": "stdout",
          "text": [
            "Métricas alcanzadas con el dataset undersampleado\n",
            "              precision    recall  f1-score   support\n",
            "\n",
            "           0       1.00      0.84      0.91    552439\n",
            "           1       0.01      0.71      0.03      1643\n",
            "\n",
            "    accuracy                           0.84    554082\n",
            "   macro avg       0.51      0.78      0.47    554082\n",
            "weighted avg       1.00      0.84      0.91    554082\n",
            "\n"
          ]
        }
      ]
    },
    {
      "cell_type": "code",
      "source": [
        "model.fit(X_train_os, y_train_os)\n",
        "y_pred2_os = model.predict(X_test)"
      ],
      "metadata": {
        "id": "xnsg8rVeF4Gj"
      },
      "execution_count": 60,
      "outputs": []
    },
    {
      "cell_type": "code",
      "source": [
        "print('Métricas alcanzadas con el dataset oversampleado')\n",
        "print(classification_report(y_test,y_pred2_os))"
      ],
      "metadata": {
        "colab": {
          "base_uri": "https://localhost:8080/"
        },
        "id": "gZVUyeMeF7SE",
        "outputId": "e28fd977-0557-49ec-a595-48b2b433d37c"
      },
      "execution_count": 61,
      "outputs": [
        {
          "output_type": "stream",
          "name": "stdout",
          "text": [
            "Métricas alcanzadas con el dataset oversampleado\n",
            "              precision    recall  f1-score   support\n",
            "\n",
            "           0       1.00      0.93      0.97    552439\n",
            "           1       0.04      0.85      0.07      1643\n",
            "\n",
            "    accuracy                           0.93    554082\n",
            "   macro avg       0.52      0.89      0.52    554082\n",
            "weighted avg       1.00      0.93      0.96    554082\n",
            "\n"
          ]
        }
      ]
    },
    {
      "cell_type": "code",
      "source": [
        "model = Pipeline(steps=[('preprocessor', preprocessor),\n",
        "                        ('classifier', LinearSVC(class_weight = 'balanced', random_state = 432))])\n",
        "\n",
        "model.fit(X_train, y_train)\n",
        "y_pred2_c_wght = model.predict(X_test)"
      ],
      "metadata": {
        "colab": {
          "base_uri": "https://localhost:8080/"
        },
        "id": "kVAADoK5GDxB",
        "outputId": "53ebe392-fc0e-4ff2-d033-412ea3f3ffb6"
      },
      "execution_count": 62,
      "outputs": [
        {
          "output_type": "stream",
          "name": "stderr",
          "text": [
            "/usr/local/lib/python3.7/dist-packages/sklearn/svm/_base.py:1208: ConvergenceWarning: Liblinear failed to converge, increase the number of iterations.\n",
            "  ConvergenceWarning,\n"
          ]
        }
      ]
    },
    {
      "cell_type": "code",
      "source": [
        "print('Métricas alcanzadas con el dataset con class weight')\n",
        "print(classification_report(y_test,y_pred2_c_wght))"
      ],
      "metadata": {
        "colab": {
          "base_uri": "https://localhost:8080/"
        },
        "id": "yXl1GxMkHGok",
        "outputId": "232c3295-9168-45a7-a928-c940acee8a0d"
      },
      "execution_count": 63,
      "outputs": [
        {
          "output_type": "stream",
          "name": "stdout",
          "text": [
            "Métricas alcanzadas con el dataset con class weight\n",
            "              precision    recall  f1-score   support\n",
            "\n",
            "           0       1.00      0.94      0.97    552439\n",
            "           1       0.04      0.84      0.08      1643\n",
            "\n",
            "    accuracy                           0.94    554082\n",
            "   macro avg       0.52      0.89      0.52    554082\n",
            "weighted avg       1.00      0.94      0.97    554082\n",
            "\n"
          ]
        }
      ]
    },
    {
      "cell_type": "code",
      "source": [
        "fig, ax =plt.subplots(1, 4, figsize=(18,4))\n",
        "\n",
        "confusion_matrix(y_test, y_pred2)\n",
        "sns.heatmap(confusion_matrix(y_test, y_pred2), annot=True, ax = ax[0], cbar = False)\n",
        "ax[0].set_title('Matriz confusión estratificado')\n",
        "ax[0].set_ylabel('Verdaderos')\n",
        "ax[0].set_xlabel('Predichos')\n",
        "\n",
        "confusion_matrix(y_test, y_pred2_us)\n",
        "sns.heatmap(confusion_matrix(y_test, y_pred2_us), annot=True, ax = ax[1], cbar = False)\n",
        "ax[1].set_title('Matriz confusión undersampling')\n",
        "ax[1].set_ylabel('Verdaderos')\n",
        "ax[1].set_xlabel('Predichos')\n",
        "\n",
        "confusion_matrix(y_test, y_pred2_os)\n",
        "sns.heatmap(confusion_matrix(y_test, y_pred2_os), annot=True, ax = ax[2], cbar = False)\n",
        "ax[2].set_title('Matriz confusión oversampling')\n",
        "ax[2].set_ylabel('Verdaderos')\n",
        "ax[2].set_xlabel('Predichos')\n",
        "\n",
        "confusion_matrix(y_test, y_pred2_c_wght)\n",
        "sns.heatmap(confusion_matrix(y_test, y_pred2_c_wght), annot=True, ax = ax[3])\n",
        "ax[3].set_title('Matriz confusión class weight')\n",
        "ax[3].set_ylabel('Verdaderos')\n",
        "ax[3].set_xlabel('Predichos')\n",
        "\n",
        "plt.show()"
      ],
      "metadata": {
        "colab": {
          "base_uri": "https://localhost:8080/",
          "height": 295
        },
        "id": "m1gvCJ74Gr6n",
        "outputId": "44cd0112-3841-429a-ae4a-b23d93cdfba4"
      },
      "execution_count": 64,
      "outputs": [
        {
          "output_type": "display_data",
          "data": {
            "text/plain": [
              "<Figure size 1296x288 with 5 Axes>"
            ],
            "image/png": "[encoded data removed]"
          },
          "metadata": {
            "needs_background": "light"
          }
        }
      ]
    },
    {
      "cell_type": "markdown",
      "source": [
        "**SVM no presenta una gran desempeño.**"
      ],
      "metadata": {
        "id": "b2dT_HnYAxrf"
      }
    },
    {
      "cell_type": "markdown",
      "source": [
        "### Resumen\n",
        "\n",
        "Se realizó una análisis previo de los datos contenidos en el dataset.\n",
        "\n",
        "Algunas columnas como *step*, *nameOrig* y *nameDest* no fueron tenidas en cuenta debido a que no aportan información significativa.\n",
        "\n",
        "No fue necesario implementar ninguna técnica de imputación de datos faltantes Nan.\n",
        "\n",
        "Se observó que *isFraud* estaba muy desbalanceada, sin embargo, se hizo un filtrado previo de los tipos de operaciones que eran fraudulentas, encontrando solo 2 tipos *cashout* y *transfer*. Este filtrado redujo el desbalance pero no muy significativamente.\n",
        "\n",
        "A la feature categórica *type* se la codificó con OHE y a las features numéricas se las normalizó.\n",
        "\n",
        "Previo al comienzo del entrenamiento de los diferentes modelos aprendidos en clase, se balanceó el dataset con diferentes técnicas, tales como, *estratificación*, *undersampling*, etc.\n",
        "\n",
        "Por último, se entrenaron 4 modelos distintos de clasificación. Se observó que ningún desempeño fue tan malo si se tiene en cuenta el desbalance propio del dataset. Se puede concluir que ***Random Forest*** arrojó las mejores métricas."
      ],
      "metadata": {
        "id": "lJA5yuKnX9aZ"
      }
    }
  ]
}