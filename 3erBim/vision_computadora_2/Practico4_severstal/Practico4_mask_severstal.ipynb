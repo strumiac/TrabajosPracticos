{
 "cells": [
  {
   "cell_type": "code",
   "execution_count": 1,
   "metadata": {
    "execution": {
     "iopub.execute_input": "2020-09-28T02:47:39.025680Z",
     "iopub.status.busy": "2020-09-28T02:47:39.024899Z",
     "iopub.status.idle": "2020-09-28T02:47:42.375603Z",
     "shell.execute_reply": "2020-09-28T02:47:42.374344Z"
    },
    "id": "v_zY9Cq5jl8v",
    "papermill": {
     "duration": 3.383861,
     "end_time": "2020-09-28T02:47:42.375734",
     "exception": false,
     "start_time": "2020-09-28T02:47:38.991873",
     "status": "completed"
    },
    "tags": []
   },
   "outputs": [],
   "source": [
    "import os\n",
    "import shutil\n",
    "\n",
    "import numpy as np\n",
    "import pandas as pd\n",
    "\n",
    "import cv2 as cv\n",
    "\n",
    "import matplotlib.pyplot as plt\n",
    "%matplotlib inline"
   ]
  },
  {
   "cell_type": "code",
   "execution_count": 2,
   "metadata": {},
   "outputs": [
    {
     "name": "stdout",
     "output_type": "stream",
     "text": [
      "Cantidad de imágenes en Train\t: 12568\n",
      "Cantidad de imágenes en Test\t: 5506\n"
     ]
    }
   ],
   "source": [
    "DATA_DIR = \"/home/carlos/Documentos/datasets/severstal\"\n",
    "\n",
    "x_train_dir = os.path.join(DATA_DIR,\"train_images\")\n",
    "x_test_dir = os.path.join(DATA_DIR,\"test_images\")\n",
    "\n",
    "# Creo este directorio para guardar las imágenes segmentadas a partir de los encoded pixels\n",
    "y_train_dir = os.path.join(DATA_DIR,\"train_images_label\")\n",
    "\n",
    "# Creo este directorio para guardar solo las imágenes que tienen defectos, esto es para corroborar el OHE\n",
    "x_train_aux_dir = os.path.join(DATA_DIR,\"train_images_aux\")\n",
    "\n",
    "print(\"Cantidad de imágenes en Train\\t:\", len(os.listdir(x_train_dir)))\n",
    "print(\"Cantidad de imágenes en Test\\t:\", len(os.listdir(x_test_dir)))"
   ]
  },
  {
   "cell_type": "code",
   "execution_count": 12,
   "metadata": {},
   "outputs": [
    {
     "name": "stdout",
     "output_type": "stream",
     "text": [
      "Cantidad de imágenes con defecto (train): 7095\n"
     ]
    },
    {
     "data": {
      "text/html": [
       "<div>\n",
       "<style scoped>\n",
       "    .dataframe tbody tr th:only-of-type {\n",
       "        vertical-align: middle;\n",
       "    }\n",
       "\n",
       "    .dataframe tbody tr th {\n",
       "        vertical-align: top;\n",
       "    }\n",
       "\n",
       "    .dataframe thead th {\n",
       "        text-align: right;\n",
       "    }\n",
       "</style>\n",
       "<table border=\"1\" class=\"dataframe\">\n",
       "  <thead>\n",
       "    <tr style=\"text-align: right;\">\n",
       "      <th></th>\n",
       "      <th>ImageId</th>\n",
       "      <th>ClassId</th>\n",
       "      <th>EncodedPixels</th>\n",
       "    </tr>\n",
       "  </thead>\n",
       "  <tbody>\n",
       "    <tr>\n",
       "      <th>0</th>\n",
       "      <td>0002cc93b.jpg</td>\n",
       "      <td>1</td>\n",
       "      <td>29102 12 29346 24 29602 24 29858 24 30114 24 3...</td>\n",
       "    </tr>\n",
       "    <tr>\n",
       "      <th>1</th>\n",
       "      <td>0007a71bf.jpg</td>\n",
       "      <td>3</td>\n",
       "      <td>18661 28 18863 82 19091 110 19347 110 19603 11...</td>\n",
       "    </tr>\n",
       "    <tr>\n",
       "      <th>2</th>\n",
       "      <td>000a4bcdd.jpg</td>\n",
       "      <td>1</td>\n",
       "      <td>37607 3 37858 8 38108 14 38359 20 38610 25 388...</td>\n",
       "    </tr>\n",
       "    <tr>\n",
       "      <th>3</th>\n",
       "      <td>000f6bf48.jpg</td>\n",
       "      <td>4</td>\n",
       "      <td>131973 1 132228 4 132483 6 132738 8 132993 11 ...</td>\n",
       "    </tr>\n",
       "    <tr>\n",
       "      <th>4</th>\n",
       "      <td>0014fce06.jpg</td>\n",
       "      <td>3</td>\n",
       "      <td>229501 11 229741 33 229981 55 230221 77 230468...</td>\n",
       "    </tr>\n",
       "  </tbody>\n",
       "</table>\n",
       "</div>"
      ],
      "text/plain": [
       "         ImageId  ClassId                                      EncodedPixels\n",
       "0  0002cc93b.jpg        1  29102 12 29346 24 29602 24 29858 24 30114 24 3...\n",
       "1  0007a71bf.jpg        3  18661 28 18863 82 19091 110 19347 110 19603 11...\n",
       "2  000a4bcdd.jpg        1  37607 3 37858 8 38108 14 38359 20 38610 25 388...\n",
       "3  000f6bf48.jpg        4  131973 1 132228 4 132483 6 132738 8 132993 11 ...\n",
       "4  0014fce06.jpg        3  229501 11 229741 33 229981 55 230221 77 230468..."
      ]
     },
     "execution_count": 12,
     "metadata": {},
     "output_type": "execute_result"
    }
   ],
   "source": [
    "df_train = pd.read_csv(os.path.join(DATA_DIR, \"train.csv\"))\n",
    "print(\"Cantidad de imágenes con defecto (train):\", df_train.shape[0])\n",
    "df_train.head()"
   ]
  },
  {
   "cell_type": "code",
   "execution_count": 13,
   "metadata": {},
   "outputs": [
    {
     "data": {
      "text/html": [
       "<div>\n",
       "<style scoped>\n",
       "    .dataframe tbody tr th:only-of-type {\n",
       "        vertical-align: middle;\n",
       "    }\n",
       "\n",
       "    .dataframe tbody tr th {\n",
       "        vertical-align: top;\n",
       "    }\n",
       "\n",
       "    .dataframe thead th {\n",
       "        text-align: right;\n",
       "    }\n",
       "</style>\n",
       "<table border=\"1\" class=\"dataframe\">\n",
       "  <thead>\n",
       "    <tr style=\"text-align: right;\">\n",
       "      <th>cls</th>\n",
       "      <th>1</th>\n",
       "      <th>2</th>\n",
       "      <th>3</th>\n",
       "      <th>4</th>\n",
       "      <th>defects</th>\n",
       "    </tr>\n",
       "    <tr>\n",
       "      <th>fname</th>\n",
       "      <th></th>\n",
       "      <th></th>\n",
       "      <th></th>\n",
       "      <th></th>\n",
       "      <th></th>\n",
       "    </tr>\n",
       "  </thead>\n",
       "  <tbody>\n",
       "    <tr>\n",
       "      <th>0002cc93b.jpg</th>\n",
       "      <td>29102 12 29346 24 29602 24 29858 24 30114 24 3...</td>\n",
       "      <td>NaN</td>\n",
       "      <td>NaN</td>\n",
       "      <td>NaN</td>\n",
       "      <td>1</td>\n",
       "    </tr>\n",
       "    <tr>\n",
       "      <th>0007a71bf.jpg</th>\n",
       "      <td>NaN</td>\n",
       "      <td>NaN</td>\n",
       "      <td>18661 28 18863 82 19091 110 19347 110 19603 11...</td>\n",
       "      <td>NaN</td>\n",
       "      <td>1</td>\n",
       "    </tr>\n",
       "    <tr>\n",
       "      <th>000a4bcdd.jpg</th>\n",
       "      <td>37607 3 37858 8 38108 14 38359 20 38610 25 388...</td>\n",
       "      <td>NaN</td>\n",
       "      <td>NaN</td>\n",
       "      <td>NaN</td>\n",
       "      <td>1</td>\n",
       "    </tr>\n",
       "    <tr>\n",
       "      <th>000f6bf48.jpg</th>\n",
       "      <td>NaN</td>\n",
       "      <td>NaN</td>\n",
       "      <td>NaN</td>\n",
       "      <td>131973 1 132228 4 132483 6 132738 8 132993 11 ...</td>\n",
       "      <td>1</td>\n",
       "    </tr>\n",
       "    <tr>\n",
       "      <th>0014fce06.jpg</th>\n",
       "      <td>NaN</td>\n",
       "      <td>NaN</td>\n",
       "      <td>229501 11 229741 33 229981 55 230221 77 230468...</td>\n",
       "      <td>NaN</td>\n",
       "      <td>1</td>\n",
       "    </tr>\n",
       "  </tbody>\n",
       "</table>\n",
       "</div>"
      ],
      "text/plain": [
       "cls                                                            1    2  \\\n",
       "fname                                                                   \n",
       "0002cc93b.jpg  29102 12 29346 24 29602 24 29858 24 30114 24 3...  NaN   \n",
       "0007a71bf.jpg                                                NaN  NaN   \n",
       "000a4bcdd.jpg  37607 3 37858 8 38108 14 38359 20 38610 25 388...  NaN   \n",
       "000f6bf48.jpg                                                NaN  NaN   \n",
       "0014fce06.jpg                                                NaN  NaN   \n",
       "\n",
       "cls                                                            3  \\\n",
       "fname                                                              \n",
       "0002cc93b.jpg                                                NaN   \n",
       "0007a71bf.jpg  18661 28 18863 82 19091 110 19347 110 19603 11...   \n",
       "000a4bcdd.jpg                                                NaN   \n",
       "000f6bf48.jpg                                                NaN   \n",
       "0014fce06.jpg  229501 11 229741 33 229981 55 230221 77 230468...   \n",
       "\n",
       "cls                                                            4  defects  \n",
       "fname                                                                      \n",
       "0002cc93b.jpg                                                NaN        1  \n",
       "0007a71bf.jpg                                                NaN        1  \n",
       "000a4bcdd.jpg                                                NaN        1  \n",
       "000f6bf48.jpg  131973 1 132228 4 132483 6 132738 8 132993 11 ...        1  \n",
       "0014fce06.jpg                                                NaN        1  "
      ]
     },
     "execution_count": 13,
     "metadata": {},
     "output_type": "execute_result"
    }
   ],
   "source": [
    "df_train['fname'], df_train['cls'] = df_train['ImageId'], df_train['ClassId']\n",
    "df_train['cls'] = df_train['cls'].astype(int)\n",
    "\n",
    "df_train = df_train.pivot(index = 'fname', columns = 'cls', values = 'EncodedPixels')\n",
    "df_train['defects'] = df_train.count(axis = 1)\n",
    "\n",
    "df_train.head()"
   ]
  },
  {
   "cell_type": "markdown",
   "metadata": {},
   "source": [
    "Función rle_to_mask para pasar a pixel y segmentar de acuerdo al color asignado a la clase"
   ]
  },
  {
   "cell_type": "code",
   "execution_count": 15,
   "metadata": {},
   "outputs": [],
   "source": [
    "def rle_to_mask(row_id):\n",
    "\n",
    "    palette = np.array([[0, 0, 0],         # black\n",
    "                        [255, 0, 0],       # red\n",
    "                        [0, 255, 0],       # green\n",
    "                        [0, 0, 255],       # blue\n",
    "                        [255, 255, 255]])  # white\n",
    "\n",
    "    fname = df_train.iloc[row_id].name\n",
    "    labels = df_train.iloc[row_id][:4]\n",
    "    mask = np.zeros((256, 1600, 4), dtype = np.uint8)\n",
    "\n",
    "    for idx, label in enumerate(labels.values):\n",
    "        if label is not np.nan:\n",
    "            label = label.split(\" \")\n",
    "            positions = map(int, label[0::2])\n",
    "            length = map(int, label[1::2])\n",
    "            mask_aux = np.zeros(256 * 1600, dtype = np.uint8)\n",
    "            for pos, le in zip(positions, length):\n",
    "                mask_aux[pos:(pos + le)] = idx + 1\n",
    "            mask[:, :, idx] = mask_aux.reshape(256, 1600, order='F')\n",
    "\n",
    "    return fname, palette[np.sum(mask, axis = -1)]"
   ]
  },
  {
   "cell_type": "markdown",
   "metadata": {},
   "source": [
    "Guardo la imágen segmentada en la carpeta *train_images_label* y su respectiva imagen en *x_train_aux* (NO VOLVER A CORRER) "
   ]
  },
  {
   "cell_type": "code",
   "execution_count": 28,
   "metadata": {},
   "outputs": [],
   "source": [
    "for i in range(len(df_train)): \n",
    "    name_jpg, mask_rgb_jpg = rle_to_mask(i)\n",
    "    cv.imwrite(os.path.join(y_train_dir, name_jpg[:-4]+'.png'), mask_rgb_jpg)\n",
    "    src = os.path.join(x_train_dir, name_jpg) # origen\n",
    "    dst = os.path.join(x_train_aux_dir, name_jpg[:-4]+'.png') # destino\n",
    "    shutil.copy(src, dst)"
   ]
  },
  {
   "cell_type": "markdown",
   "metadata": {},
   "source": [
    "Función para ver las imágenes segmentadas"
   ]
  },
  {
   "cell_type": "code",
   "execution_count": 29,
   "metadata": {},
   "outputs": [
    {
     "name": "stdout",
     "output_type": "stream",
     "text": [
      "(256, 1600, 3)\n",
      "(256, 1600, 3)\n",
      "(256, 1600, 3)\n",
      "(256, 1600, 3)\n",
      "(256, 1600, 3)\n"
     ]
    },
    {
     "data": {
      "image/png": "[encoded data removed]",
      "text/plain": [
       "<Figure size 1440x360 with 1 Axes>"
      ]
     },
     "metadata": {
      "needs_background": "light"
     },
     "output_type": "display_data"
    },
    {
     "data": {
      "image/png": "[encoded data removed]",
      "text/plain": [
       "<Figure size 1440x360 with 1 Axes>"
      ]
     },
     "metadata": {
      "needs_background": "light"
     },
     "output_type": "display_data"
    },
    {
     "data": {
      "image/png": "[encoded data removed]",
      "text/plain": [
       "<Figure size 1440x360 with 1 Axes>"
      ]
     },
     "metadata": {
      "needs_background": "light"
     },
     "output_type": "display_data"
    },
    {
     "data": {
      "image/png": "[encoded data removed]",
      "text/plain": [
       "<Figure size 1440x360 with 1 Axes>"
      ]
     },
     "metadata": {
      "needs_background": "light"
     },
     "output_type": "display_data"
    },
    {
     "data": {
      "image/png": "[encoded data removed]",
      "text/plain": [
       "<Figure size 1440x360 with 1 Axes>"
      ]
     },
     "metadata": {
      "needs_background": "light"
     },
     "output_type": "display_data"
    }
   ],
   "source": [
    "cant = 5\n",
    "n = 0\n",
    "for image in sorted(os.listdir(y_train_dir)):\n",
    "    if n < cant:\n",
    "        n = n + 1\n",
    "        plt.figure(figsize=(20, 5))\n",
    "        img_prueba = cv.cvtColor(cv.imread(os.path.join(y_train_dir, image)), cv.COLOR_BGR2RGB)\n",
    "        print(img_prueba.shape)\n",
    "        plt.imshow(img_prueba)\n",
    "    else:\n",
    "        break"
   ]
  },
  {
   "cell_type": "markdown",
   "metadata": {},
   "source": [
    "#### Resumen\n",
    "\n",
    "Este script auxiliar sirve para convertir los encoded pixels de las etiquetas (.csv) en imágenes .png (mask). "
   ]
  }
 ],
 "metadata": {
  "colab": {
   "name": "deeplabv3-resnet101-for-segmentation-pytorch.ipynb",
   "provenance": []
  },
  "kernelspec": {
   "display_name": "Python 3.9.7 ('base')",
   "language": "python",
   "name": "python3"
  },
  "language_info": {
   "codemirror_mode": {
    "name": "ipython",
    "version": 3
   },
   "file_extension": ".py",
   "mimetype": "text/x-python",
   "name": "python",
   "nbconvert_exporter": "python",
   "pygments_lexer": "ipython3",
   "version": "3.9.7"
  },
  "papermill": {
   "duration": 1985.903623,
   "end_time": "2020-09-28T03:20:40.657923",
   "environment_variables": {},
   "exception": null,
   "input_path": "__notebook__.ipynb",
   "output_path": "__notebook__.ipynb",
   "parameters": {},
   "start_time": "2020-09-28T02:47:34.754300",
   "version": "2.1.0"
  },
  "vscode": {
   "interpreter": {
    "hash": "9fc49859b85be25ca2e791477caec8ccb443dd43544835b8b986b33eb3af4014"
   }
  },
  "widgets": {
   "application/vnd.jupyter.widget-state+json": {}
  }
 },
 "nbformat": 4,
 "nbformat_minor": 1
}
